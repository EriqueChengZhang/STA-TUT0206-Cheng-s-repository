{
 "cells": [
  {
   "cell_type": "code",
   "execution_count": 5,
   "id": "ef0f3987-0d3a-41c9-b916-c2444aaedd51",
   "metadata": {},
   "outputs": [],
   "source": [
    "#1.\n",
    "#Key factor for testable ideas: The key factor is whether the idea can be quantified and measured using data.\n",
    "#Statistical tests require variables that can be observed and analyzed to determine relationships, so abstract\n",
    "#or unmeasurable concepts cannot be examined statistically.\n",
    "\n",
    "#Criteria for a good null hypothesis: A good null hypothesis is one that is specific, testable, and falsifiable. \n",
    "#It should state that there is no effect or no difference between groups or variables, allowing the researcher to test\n",
    "#if the data provide evidence to reject this assumption.\n",
    "\n",
    "#Difference between null and alternative hypotheses:\n",
    "#The null hypothesis (H₀) asserts that there is no relationship or effect, and it is the default assumption\n",
    "#that researchers seek to challenge.\n",
    "#The alternative hypothesis (H₁) proposes that there is a relationship or effect, suggesting\n",
    "#an outcome different from the null hypothesis."
   ]
  },
  {
   "cell_type": "code",
   "execution_count": 4,
   "id": "8183e74a-3fb6-4f1f-b579-2bfe1eedcb94",
   "metadata": {},
   "outputs": [],
   "source": [
    "#2.\n",
    "#x̄ (Sample Mean): This is the average value from the sample, the small group we actually measure. \n",
    "#It's a statistic representing just the sample.\n",
    "\n",
    "#μ (Population Mean): This is the true average of the entire population, \n",
    "#the large group we’re really interested in. Since we can't measure everyone, we estimate this based on the sample.\n",
    "\n",
    "#μ₀ (Hypothesized Population Mean): This is a specific value we believe the population mean might be,\n",
    "#based on previous research or assumptions. We test whether our data supports this hypothesis."
   ]
  },
  {
   "cell_type": "code",
   "execution_count": null,
   "id": "05b01133-5f95-42e0-b81c-aecc6dd26049",
   "metadata": {},
   "outputs": [],
   "source": [
    "#3.\n",
    "#When calculating a p-value, we assume that the null hypothesis is true.\n",
    "#if the null hypothesis (which usually states that there is no effect or difference) is true, then any differences we see in the data \n",
    "#are due to random variation. The p-value helps us measure how unusual our results are under this \"null world.\"\n",
    "#A very small p-value means our data is unlikely to occur if the null hypothesis is true, \n",
    "#which gives us reason to doubt the null hypothesis."
   ]
  },
  {
   "cell_type": "code",
   "execution_count": null,
   "id": "940b7e90-eb81-40c0-9195-6df43c06c4d9",
   "metadata": {},
   "outputs": [],
   "source": [
    "#4.\n",
    "#A smaller p-value makes the null hypothesis seem less believable because it shows that the observed data is very unlikely \n",
    "#if the null hypothesis were true.\n",
    "\n",
    "#In hypothesis testing, the null hypothesis usually states that there is no effect or difference. The p-value measures the chance \n",
    "#of getting a result as extreme as (or more extreme than) the one from your sample, assuming the null hypothesis is true.\n",
    "#A smaller p-value means your result is rare if the null hypothesis is correct."
   ]
  },
  {
   "cell_type": "code",
   "execution_count": 34,
   "id": "8e0116c7-960a-4c12-9908-99cad0e3b2dd",
   "metadata": {},
   "outputs": [],
   "source": [
    "#5.\n",
    "#Null Hypothesis (H0): Couples have no head tilt preference (50% right, 50% left).\n",
    "#Observed Data: 80 out of 124 couples (64.5%) tilted their heads to the right.\n",
    "#Simulation: Perform a large number of simulated trials (e.g., 10,000) where each trial represents flipping a fair coin 124 times (simulating 124 couples). Each trial counts how many couples tilt their heads right (i.e., heads in a coin flip).\n",
    "#Calculate the p-value: The p-value is the proportion of simulated trials that result in 80 or more \"heads\" (right tilts) out of 124 flips.\n"
   ]
  },
  {
   "cell_type": "code",
   "execution_count": 35,
   "id": "9bfc31a7-5e64-4b22-8e0a-1269f8182c07",
   "metadata": {},
   "outputs": [],
   "source": [
    "#6.\n",
    "A smaller p-value does not definitively prove that the null hypothesis (H0) is false. It simply indicates stronger evidence against (H0)\n",
    "A p-value quantifies the probability of observing the test results, or something more extreme, under the assumption that H0 is true. \n",
    "A very small p-value (e.g., 𝑝<0.05) suggests that the null hypothesis is unlikely, but it does not \"prove\" anything with certainty [5].\n",
    "\n",
    "Regarding Fido’s innocence or guilt:\n",
    "\n",
    "A p-value cannot definitively prove Fido’s innocence or guilt. Even if the p-value is very low or very high, statistical evidence only provides degrees of confidence, not absolute proof.\n",
    "P-values only inform us about the likelihood of the evidence under the assumption of innocence (null hypothesis), but they cannot prove it outright [6].\n",
    "Thus, p-values help guide decisions, but they do not definitively prove hypotheses."
   ]
  },
  {
   "cell_type": "code",
   "execution_count": null,
   "id": "35e379c2-939d-434d-b874-5afcfaa8c921",
   "metadata": {},
   "outputs": [],
   "source": [
    "#7.\n",
    "Code Changes:\n",
    "\n",
    "Identify the part of the code that computes the p-value for the two-tailed test. This typically involves a function call like stats.ttest_ind() or similar.\n",
    "For a one-tailed test, modify this to compute the p-value based on the specific direction of interest. For example, if you are testing whether one group has a significantly higher mean than another, you would use:\n",
    "\n",
    "p_value = 1 - stats.t.cdf(t_statistic, df)  # for upper tail\n",
    "Here, t_statistic is your test statistic and df is the degrees of freedom.\n",
    "Interpretation Changes:\n",
    "\n",
    "In a one-tailed test, you are testing for the possibility of the relationship in one direction only (e.g., whether the treatment is greater than control), which typically gives more statistical power compared to a two-tailed test that considers both directions.\n",
    "The null hypothesis (H0) remains the same, but the alternative hypothesis (H1) is now directional (H1: mean treatment > mean control, for example).\n",
    "Expectations on p-value:\n",
    "\n",
    "The p-value for a one-tailed test is expected to be smaller than that for a two-tailed test when the effect is in the specified direction. This is because the one-tailed test allocates all of the alpha level (significance level) to one side of the distribution, thus increasing the likelihood of observing a statistically significant result if the effect exists [3].\n",
    "This adjustment in the approach allows for a more focused test, enhancing the power to detect an effect when one is expected in a specific direction."
   ]
  },
  {
   "cell_type": "code",
   "execution_count": 37,
   "id": "289f17da-a85b-41bf-8918-c50bbbe06d8e",
   "metadata": {},
   "outputs": [
    {
     "name": "stdout",
     "output_type": "stream",
     "text": [
      "Z-test statistic: 2.0124611797498115, P-value: 0.044171344908442434\n"
     ]
    }
   ],
   "source": [
    "import numpy as np\n",
    "import scipy.stats as stats\n",
    "\n",
    "# Set random seed for reproducibility\n",
    "np.random.seed(42)\n",
    "\n",
    "# Parameters\n",
    "n = 80  # sample size\n",
    "p_observed = 49 / n  # observed proportion\n",
    "p_null = 0.5  # null hypothesis proportion\n",
    "\n",
    "# Calculate the test statistic\n",
    "z = (p_observed - p_null) / np.sqrt((p_null * (1 - p_null)) / n)\n",
    "\n",
    "# Calculate the p-value for a two-tailed test\n",
    "p_value = 2 * (1 - stats.norm.cdf(abs(z)))\n",
    "print(f\"Z-test statistic: {z}, P-value: {p_value}\")\n"
   ]
  },
  {
   "cell_type": "code",
   "execution_count": 38,
   "id": "45886106-daa1-4715-b706-58c79567f54f",
   "metadata": {},
   "outputs": [],
   "source": [
    "#Here is the chatbot record: https://chatgpt.com/share/670e07f0-e3cc-800e-83e5-f17549029867"
   ]
  },
  {
   "cell_type": "code",
   "execution_count": null,
   "id": "e7a2bd28-7f98-49f4-a2f2-14841794e184",
   "metadata": {},
   "outputs": [],
   "source": []
  }
 ],
 "metadata": {
  "kernelspec": {
   "display_name": "Python 3 (ipykernel)",
   "language": "python",
   "name": "python3"
  },
  "language_info": {
   "codemirror_mode": {
    "name": "ipython",
    "version": 3
   },
   "file_extension": ".py",
   "mimetype": "text/x-python",
   "name": "python",
   "nbconvert_exporter": "python",
   "pygments_lexer": "ipython3",
   "version": "3.11.6"
  }
 },
 "nbformat": 4,
 "nbformat_minor": 5
}
