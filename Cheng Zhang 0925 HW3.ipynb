{
 "cells": [
  {
   "cell_type": "code",
   "execution_count": 16,
   "id": "0042bd84-fd71-4baf-bf41-ad60aba79c27",
   "metadata": {},
   "outputs": [],
   "source": [
    "#Here is chatbot link for pre-lec HW: https://chatgpt.com/share/66f4de29-de80-800b-af83-b3fa447779d9"
   ]
  },
  {
   "cell_type": "code",
   "execution_count": 5,
   "id": "c862fdef-e1eb-4244-9c95-774bf6d14036",
   "metadata": {},
   "outputs": [
    {
     "data": {
      "application/vnd.plotly.v1+json": {
       "config": {
        "plotlyServerURL": "https://plot.ly"
       },
       "data": [
        {
         "alignmentgroup": "True",
         "bingroup": "x",
         "hovertemplate": "flipper_length_mm=%{x}<br>count=%{y}<extra></extra>",
         "legendgroup": "",
         "marker": {
          "color": "#636efa",
          "pattern": {
           "shape": ""
          }
         },
         "name": "",
         "offsetgroup": "",
         "orientation": "v",
         "showlegend": false,
         "type": "histogram",
         "x": [
          181,
          186,
          195,
          null,
          193,
          190,
          181,
          195,
          193,
          190,
          186,
          180,
          182,
          191,
          198,
          185,
          195,
          197,
          184,
          194,
          174,
          180,
          189,
          185,
          180,
          187,
          183,
          187,
          172,
          180,
          178,
          178,
          188,
          184,
          195,
          196,
          190,
          180,
          181,
          184,
          182,
          195,
          186,
          196,
          185,
          190,
          182,
          179,
          190,
          191,
          186,
          188,
          190,
          200,
          187,
          191,
          186,
          193,
          181,
          194,
          185,
          195,
          185,
          192,
          184,
          192,
          195,
          188,
          190,
          198,
          190,
          190,
          196,
          197,
          190,
          195,
          191,
          184,
          187,
          195,
          189,
          196,
          187,
          193,
          191,
          194,
          190,
          189,
          189,
          190,
          202,
          205,
          185,
          186,
          187,
          208,
          190,
          196,
          178,
          192,
          192,
          203,
          183,
          190,
          193,
          184,
          199,
          190,
          181,
          197,
          198,
          191,
          193,
          197,
          191,
          196,
          188,
          199,
          189,
          189,
          187,
          198,
          176,
          202,
          186,
          199,
          191,
          195,
          191,
          210,
          190,
          197,
          193,
          199,
          187,
          190,
          191,
          200,
          185,
          193,
          193,
          187,
          188,
          190,
          192,
          185,
          190,
          184,
          195,
          193,
          187,
          201
         ],
         "xaxis": "x",
         "yaxis": "y"
        }
       ],
       "layout": {
        "annotations": [
         {
          "showarrow": false,
          "text": "Mean",
          "x": 189.95364238410596,
          "xanchor": "right",
          "xref": "x",
          "y": 1,
          "yanchor": "top",
          "yref": "y domain"
         },
         {
          "showarrow": false,
          "text": "Median",
          "x": 190,
          "xanchor": "left",
          "xref": "x",
          "y": 1,
          "yanchor": "top",
          "yref": "y domain"
         },
         {
          "showarrow": false,
          "text": "IQR",
          "x": 195,
          "xanchor": "right",
          "xref": "x",
          "y": 1,
          "yanchor": "top",
          "yref": "y domain"
         },
         {
          "showarrow": false,
          "text": "±2 Std Dev",
          "x": 203.03255721848856,
          "xanchor": "right",
          "xref": "x",
          "y": 1,
          "yanchor": "top",
          "yref": "y domain"
         },
         {
          "showarrow": false,
          "text": "Range",
          "x": 210,
          "xanchor": "right",
          "xref": "x",
          "y": 1,
          "yanchor": "top",
          "yref": "y domain"
         }
        ],
        "autosize": true,
        "barmode": "relative",
        "legend": {
         "tracegroupgap": 0
        },
        "shapes": [
         {
          "line": {
           "color": "blue",
           "dash": "dash"
          },
          "type": "line",
          "x0": 189.95364238410596,
          "x1": 189.95364238410596,
          "xref": "x",
          "y0": 0,
          "y1": 1,
          "yref": "y domain"
         },
         {
          "line": {
           "color": "green",
           "dash": "dot"
          },
          "type": "line",
          "x0": 190,
          "x1": 190,
          "xref": "x",
          "y0": 0,
          "y1": 1,
          "yref": "y domain"
         },
         {
          "fillcolor": "red",
          "line": {
           "width": 0
          },
          "opacity": 0.2,
          "type": "rect",
          "x0": 186,
          "x1": 195,
          "xref": "x",
          "y0": 0,
          "y1": 1,
          "yref": "y domain"
         },
         {
          "fillcolor": "yellow",
          "line": {
           "width": 0
          },
          "opacity": 0.1,
          "type": "rect",
          "x0": 176.87472754972336,
          "x1": 203.03255721848856,
          "xref": "x",
          "y0": 0,
          "y1": 1,
          "yref": "y domain"
         },
         {
          "fillcolor": "purple",
          "line": {
           "dash": "dot",
           "width": 1
          },
          "opacity": 0.05,
          "type": "rect",
          "x0": 172,
          "x1": 210,
          "xref": "x",
          "y0": 0,
          "y1": 1,
          "yref": "y domain"
         }
        ],
        "showlegend": false,
        "template": {
         "data": {
          "bar": [
           {
            "error_x": {
             "color": "#2a3f5f"
            },
            "error_y": {
             "color": "#2a3f5f"
            },
            "marker": {
             "line": {
              "color": "#E5ECF6",
              "width": 0.5
             },
             "pattern": {
              "fillmode": "overlay",
              "size": 10,
              "solidity": 0.2
             }
            },
            "type": "bar"
           }
          ],
          "barpolar": [
           {
            "marker": {
             "line": {
              "color": "#E5ECF6",
              "width": 0.5
             },
             "pattern": {
              "fillmode": "overlay",
              "size": 10,
              "solidity": 0.2
             }
            },
            "type": "barpolar"
           }
          ],
          "carpet": [
           {
            "aaxis": {
             "endlinecolor": "#2a3f5f",
             "gridcolor": "white",
             "linecolor": "white",
             "minorgridcolor": "white",
             "startlinecolor": "#2a3f5f"
            },
            "baxis": {
             "endlinecolor": "#2a3f5f",
             "gridcolor": "white",
             "linecolor": "white",
             "minorgridcolor": "white",
             "startlinecolor": "#2a3f5f"
            },
            "type": "carpet"
           }
          ],
          "choropleth": [
           {
            "colorbar": {
             "outlinewidth": 0,
             "ticks": ""
            },
            "type": "choropleth"
           }
          ],
          "contour": [
           {
            "colorbar": {
             "outlinewidth": 0,
             "ticks": ""
            },
            "colorscale": [
             [
              0,
              "#0d0887"
             ],
             [
              0.1111111111111111,
              "#46039f"
             ],
             [
              0.2222222222222222,
              "#7201a8"
             ],
             [
              0.3333333333333333,
              "#9c179e"
             ],
             [
              0.4444444444444444,
              "#bd3786"
             ],
             [
              0.5555555555555556,
              "#d8576b"
             ],
             [
              0.6666666666666666,
              "#ed7953"
             ],
             [
              0.7777777777777778,
              "#fb9f3a"
             ],
             [
              0.8888888888888888,
              "#fdca26"
             ],
             [
              1,
              "#f0f921"
             ]
            ],
            "type": "contour"
           }
          ],
          "contourcarpet": [
           {
            "colorbar": {
             "outlinewidth": 0,
             "ticks": ""
            },
            "type": "contourcarpet"
           }
          ],
          "heatmap": [
           {
            "colorbar": {
             "outlinewidth": 0,
             "ticks": ""
            },
            "colorscale": [
             [
              0,
              "#0d0887"
             ],
             [
              0.1111111111111111,
              "#46039f"
             ],
             [
              0.2222222222222222,
              "#7201a8"
             ],
             [
              0.3333333333333333,
              "#9c179e"
             ],
             [
              0.4444444444444444,
              "#bd3786"
             ],
             [
              0.5555555555555556,
              "#d8576b"
             ],
             [
              0.6666666666666666,
              "#ed7953"
             ],
             [
              0.7777777777777778,
              "#fb9f3a"
             ],
             [
              0.8888888888888888,
              "#fdca26"
             ],
             [
              1,
              "#f0f921"
             ]
            ],
            "type": "heatmap"
           }
          ],
          "heatmapgl": [
           {
            "colorbar": {
             "outlinewidth": 0,
             "ticks": ""
            },
            "colorscale": [
             [
              0,
              "#0d0887"
             ],
             [
              0.1111111111111111,
              "#46039f"
             ],
             [
              0.2222222222222222,
              "#7201a8"
             ],
             [
              0.3333333333333333,
              "#9c179e"
             ],
             [
              0.4444444444444444,
              "#bd3786"
             ],
             [
              0.5555555555555556,
              "#d8576b"
             ],
             [
              0.6666666666666666,
              "#ed7953"
             ],
             [
              0.7777777777777778,
              "#fb9f3a"
             ],
             [
              0.8888888888888888,
              "#fdca26"
             ],
             [
              1,
              "#f0f921"
             ]
            ],
            "type": "heatmapgl"
           }
          ],
          "histogram": [
           {
            "marker": {
             "pattern": {
              "fillmode": "overlay",
              "size": 10,
              "solidity": 0.2
             }
            },
            "type": "histogram"
           }
          ],
          "histogram2d": [
           {
            "colorbar": {
             "outlinewidth": 0,
             "ticks": ""
            },
            "colorscale": [
             [
              0,
              "#0d0887"
             ],
             [
              0.1111111111111111,
              "#46039f"
             ],
             [
              0.2222222222222222,
              "#7201a8"
             ],
             [
              0.3333333333333333,
              "#9c179e"
             ],
             [
              0.4444444444444444,
              "#bd3786"
             ],
             [
              0.5555555555555556,
              "#d8576b"
             ],
             [
              0.6666666666666666,
              "#ed7953"
             ],
             [
              0.7777777777777778,
              "#fb9f3a"
             ],
             [
              0.8888888888888888,
              "#fdca26"
             ],
             [
              1,
              "#f0f921"
             ]
            ],
            "type": "histogram2d"
           }
          ],
          "histogram2dcontour": [
           {
            "colorbar": {
             "outlinewidth": 0,
             "ticks": ""
            },
            "colorscale": [
             [
              0,
              "#0d0887"
             ],
             [
              0.1111111111111111,
              "#46039f"
             ],
             [
              0.2222222222222222,
              "#7201a8"
             ],
             [
              0.3333333333333333,
              "#9c179e"
             ],
             [
              0.4444444444444444,
              "#bd3786"
             ],
             [
              0.5555555555555556,
              "#d8576b"
             ],
             [
              0.6666666666666666,
              "#ed7953"
             ],
             [
              0.7777777777777778,
              "#fb9f3a"
             ],
             [
              0.8888888888888888,
              "#fdca26"
             ],
             [
              1,
              "#f0f921"
             ]
            ],
            "type": "histogram2dcontour"
           }
          ],
          "mesh3d": [
           {
            "colorbar": {
             "outlinewidth": 0,
             "ticks": ""
            },
            "type": "mesh3d"
           }
          ],
          "parcoords": [
           {
            "line": {
             "colorbar": {
              "outlinewidth": 0,
              "ticks": ""
             }
            },
            "type": "parcoords"
           }
          ],
          "pie": [
           {
            "automargin": true,
            "type": "pie"
           }
          ],
          "scatter": [
           {
            "fillpattern": {
             "fillmode": "overlay",
             "size": 10,
             "solidity": 0.2
            },
            "type": "scatter"
           }
          ],
          "scatter3d": [
           {
            "line": {
             "colorbar": {
              "outlinewidth": 0,
              "ticks": ""
             }
            },
            "marker": {
             "colorbar": {
              "outlinewidth": 0,
              "ticks": ""
             }
            },
            "type": "scatter3d"
           }
          ],
          "scattercarpet": [
           {
            "marker": {
             "colorbar": {
              "outlinewidth": 0,
              "ticks": ""
             }
            },
            "type": "scattercarpet"
           }
          ],
          "scattergeo": [
           {
            "marker": {
             "colorbar": {
              "outlinewidth": 0,
              "ticks": ""
             }
            },
            "type": "scattergeo"
           }
          ],
          "scattergl": [
           {
            "marker": {
             "colorbar": {
              "outlinewidth": 0,
              "ticks": ""
             }
            },
            "type": "scattergl"
           }
          ],
          "scattermapbox": [
           {
            "marker": {
             "colorbar": {
              "outlinewidth": 0,
              "ticks": ""
             }
            },
            "type": "scattermapbox"
           }
          ],
          "scatterpolar": [
           {
            "marker": {
             "colorbar": {
              "outlinewidth": 0,
              "ticks": ""
             }
            },
            "type": "scatterpolar"
           }
          ],
          "scatterpolargl": [
           {
            "marker": {
             "colorbar": {
              "outlinewidth": 0,
              "ticks": ""
             }
            },
            "type": "scatterpolargl"
           }
          ],
          "scatterternary": [
           {
            "marker": {
             "colorbar": {
              "outlinewidth": 0,
              "ticks": ""
             }
            },
            "type": "scatterternary"
           }
          ],
          "surface": [
           {
            "colorbar": {
             "outlinewidth": 0,
             "ticks": ""
            },
            "colorscale": [
             [
              0,
              "#0d0887"
             ],
             [
              0.1111111111111111,
              "#46039f"
             ],
             [
              0.2222222222222222,
              "#7201a8"
             ],
             [
              0.3333333333333333,
              "#9c179e"
             ],
             [
              0.4444444444444444,
              "#bd3786"
             ],
             [
              0.5555555555555556,
              "#d8576b"
             ],
             [
              0.6666666666666666,
              "#ed7953"
             ],
             [
              0.7777777777777778,
              "#fb9f3a"
             ],
             [
              0.8888888888888888,
              "#fdca26"
             ],
             [
              1,
              "#f0f921"
             ]
            ],
            "type": "surface"
           }
          ],
          "table": [
           {
            "cells": {
             "fill": {
              "color": "#EBF0F8"
             },
             "line": {
              "color": "white"
             }
            },
            "header": {
             "fill": {
              "color": "#C8D4E3"
             },
             "line": {
              "color": "white"
             }
            },
            "type": "table"
           }
          ]
         },
         "layout": {
          "annotationdefaults": {
           "arrowcolor": "#2a3f5f",
           "arrowhead": 0,
           "arrowwidth": 1
          },
          "autotypenumbers": "strict",
          "coloraxis": {
           "colorbar": {
            "outlinewidth": 0,
            "ticks": ""
           }
          },
          "colorscale": {
           "diverging": [
            [
             0,
             "#8e0152"
            ],
            [
             0.1,
             "#c51b7d"
            ],
            [
             0.2,
             "#de77ae"
            ],
            [
             0.3,
             "#f1b6da"
            ],
            [
             0.4,
             "#fde0ef"
            ],
            [
             0.5,
             "#f7f7f7"
            ],
            [
             0.6,
             "#e6f5d0"
            ],
            [
             0.7,
             "#b8e186"
            ],
            [
             0.8,
             "#7fbc41"
            ],
            [
             0.9,
             "#4d9221"
            ],
            [
             1,
             "#276419"
            ]
           ],
           "sequential": [
            [
             0,
             "#0d0887"
            ],
            [
             0.1111111111111111,
             "#46039f"
            ],
            [
             0.2222222222222222,
             "#7201a8"
            ],
            [
             0.3333333333333333,
             "#9c179e"
            ],
            [
             0.4444444444444444,
             "#bd3786"
            ],
            [
             0.5555555555555556,
             "#d8576b"
            ],
            [
             0.6666666666666666,
             "#ed7953"
            ],
            [
             0.7777777777777778,
             "#fb9f3a"
            ],
            [
             0.8888888888888888,
             "#fdca26"
            ],
            [
             1,
             "#f0f921"
            ]
           ],
           "sequentialminus": [
            [
             0,
             "#0d0887"
            ],
            [
             0.1111111111111111,
             "#46039f"
            ],
            [
             0.2222222222222222,
             "#7201a8"
            ],
            [
             0.3333333333333333,
             "#9c179e"
            ],
            [
             0.4444444444444444,
             "#bd3786"
            ],
            [
             0.5555555555555556,
             "#d8576b"
            ],
            [
             0.6666666666666666,
             "#ed7953"
            ],
            [
             0.7777777777777778,
             "#fb9f3a"
            ],
            [
             0.8888888888888888,
             "#fdca26"
            ],
            [
             1,
             "#f0f921"
            ]
           ]
          },
          "colorway": [
           "#636efa",
           "#EF553B",
           "#00cc96",
           "#ab63fa",
           "#FFA15A",
           "#19d3f3",
           "#FF6692",
           "#B6E880",
           "#FF97FF",
           "#FECB52"
          ],
          "font": {
           "color": "#2a3f5f"
          },
          "geo": {
           "bgcolor": "white",
           "lakecolor": "white",
           "landcolor": "#E5ECF6",
           "showlakes": true,
           "showland": true,
           "subunitcolor": "white"
          },
          "hoverlabel": {
           "align": "left"
          },
          "hovermode": "closest",
          "mapbox": {
           "style": "light"
          },
          "paper_bgcolor": "white",
          "plot_bgcolor": "#E5ECF6",
          "polar": {
           "angularaxis": {
            "gridcolor": "white",
            "linecolor": "white",
            "ticks": ""
           },
           "bgcolor": "#E5ECF6",
           "radialaxis": {
            "gridcolor": "white",
            "linecolor": "white",
            "ticks": ""
           }
          },
          "scene": {
           "xaxis": {
            "backgroundcolor": "#E5ECF6",
            "gridcolor": "white",
            "gridwidth": 2,
            "linecolor": "white",
            "showbackground": true,
            "ticks": "",
            "zerolinecolor": "white"
           },
           "yaxis": {
            "backgroundcolor": "#E5ECF6",
            "gridcolor": "white",
            "gridwidth": 2,
            "linecolor": "white",
            "showbackground": true,
            "ticks": "",
            "zerolinecolor": "white"
           },
           "zaxis": {
            "backgroundcolor": "#E5ECF6",
            "gridcolor": "white",
            "gridwidth": 2,
            "linecolor": "white",
            "showbackground": true,
            "ticks": "",
            "zerolinecolor": "white"
           }
          },
          "shapedefaults": {
           "line": {
            "color": "#2a3f5f"
           }
          },
          "ternary": {
           "aaxis": {
            "gridcolor": "white",
            "linecolor": "white",
            "ticks": ""
           },
           "baxis": {
            "gridcolor": "white",
            "linecolor": "white",
            "ticks": ""
           },
           "bgcolor": "#E5ECF6",
           "caxis": {
            "gridcolor": "white",
            "linecolor": "white",
            "ticks": ""
           }
          },
          "title": {
           "x": 0.05
          },
          "xaxis": {
           "automargin": true,
           "gridcolor": "white",
           "linecolor": "white",
           "ticks": "",
           "title": {
            "standoff": 15
           },
           "zerolinecolor": "white",
           "zerolinewidth": 2
          },
          "yaxis": {
           "automargin": true,
           "gridcolor": "white",
           "linecolor": "white",
           "ticks": "",
           "title": {
            "standoff": 15
           },
           "zerolinecolor": "white",
           "zerolinewidth": 2
          }
         }
        },
        "title": {
         "text": "Adelie Flipper Length"
        },
        "xaxis": {
         "anchor": "y",
         "autorange": true,
         "domain": [
          0,
          1
         ],
         "range": [
          171.5,
          211.5
         ],
         "title": {
          "text": "flipper_length_mm"
         },
         "type": "linear"
        },
        "yaxis": {
         "anchor": "x",
         "autorange": true,
         "domain": [
          0,
          1
         ],
         "range": [
          0,
          30.526315789473685
         ],
         "title": {
          "text": "count"
         }
        }
       }
      },
      "image/png": "[encoded data removed]",
      "text/html": [
       "<div>                            <div id=\"bf7d1e9a-c6da-45d9-b54b-9b1b7eb47bc6\" class=\"plotly-graph-div\" style=\"height:525px; width:100%;\"></div>            <script type=\"text/javascript\">                require([\"plotly\"], function(Plotly) {                    window.PLOTLYENV=window.PLOTLYENV || {};                                    if (document.getElementById(\"bf7d1e9a-c6da-45d9-b54b-9b1b7eb47bc6\")) {                    Plotly.newPlot(                        \"bf7d1e9a-c6da-45d9-b54b-9b1b7eb47bc6\",                        [{\"alignmentgroup\":\"True\",\"bingroup\":\"x\",\"hovertemplate\":\"flipper_length_mm=%{x}\\u003cbr\\u003ecount=%{y}\\u003cextra\\u003e\\u003c\\u002fextra\\u003e\",\"legendgroup\":\"\",\"marker\":{\"color\":\"#636efa\",\"pattern\":{\"shape\":\"\"}},\"name\":\"\",\"offsetgroup\":\"\",\"orientation\":\"v\",\"showlegend\":false,\"x\":[181.0,186.0,195.0,null,193.0,190.0,181.0,195.0,193.0,190.0,186.0,180.0,182.0,191.0,198.0,185.0,195.0,197.0,184.0,194.0,174.0,180.0,189.0,185.0,180.0,187.0,183.0,187.0,172.0,180.0,178.0,178.0,188.0,184.0,195.0,196.0,190.0,180.0,181.0,184.0,182.0,195.0,186.0,196.0,185.0,190.0,182.0,179.0,190.0,191.0,186.0,188.0,190.0,200.0,187.0,191.0,186.0,193.0,181.0,194.0,185.0,195.0,185.0,192.0,184.0,192.0,195.0,188.0,190.0,198.0,190.0,190.0,196.0,197.0,190.0,195.0,191.0,184.0,187.0,195.0,189.0,196.0,187.0,193.0,191.0,194.0,190.0,189.0,189.0,190.0,202.0,205.0,185.0,186.0,187.0,208.0,190.0,196.0,178.0,192.0,192.0,203.0,183.0,190.0,193.0,184.0,199.0,190.0,181.0,197.0,198.0,191.0,193.0,197.0,191.0,196.0,188.0,199.0,189.0,189.0,187.0,198.0,176.0,202.0,186.0,199.0,191.0,195.0,191.0,210.0,190.0,197.0,193.0,199.0,187.0,190.0,191.0,200.0,185.0,193.0,193.0,187.0,188.0,190.0,192.0,185.0,190.0,184.0,195.0,193.0,187.0,201.0],\"xaxis\":\"x\",\"yaxis\":\"y\",\"type\":\"histogram\"}],                        {\"template\":{\"data\":{\"histogram2dcontour\":[{\"type\":\"histogram2dcontour\",\"colorbar\":{\"outlinewidth\":0,\"ticks\":\"\"},\"colorscale\":[[0.0,\"#0d0887\"],[0.1111111111111111,\"#46039f\"],[0.2222222222222222,\"#7201a8\"],[0.3333333333333333,\"#9c179e\"],[0.4444444444444444,\"#bd3786\"],[0.5555555555555556,\"#d8576b\"],[0.6666666666666666,\"#ed7953\"],[0.7777777777777778,\"#fb9f3a\"],[0.8888888888888888,\"#fdca26\"],[1.0,\"#f0f921\"]]}],\"choropleth\":[{\"type\":\"choropleth\",\"colorbar\":{\"outlinewidth\":0,\"ticks\":\"\"}}],\"histogram2d\":[{\"type\":\"histogram2d\",\"colorbar\":{\"outlinewidth\":0,\"ticks\":\"\"},\"colorscale\":[[0.0,\"#0d0887\"],[0.1111111111111111,\"#46039f\"],[0.2222222222222222,\"#7201a8\"],[0.3333333333333333,\"#9c179e\"],[0.4444444444444444,\"#bd3786\"],[0.5555555555555556,\"#d8576b\"],[0.6666666666666666,\"#ed7953\"],[0.7777777777777778,\"#fb9f3a\"],[0.8888888888888888,\"#fdca26\"],[1.0,\"#f0f921\"]]}],\"heatmap\":[{\"type\":\"heatmap\",\"colorbar\":{\"outlinewidth\":0,\"ticks\":\"\"},\"colorscale\":[[0.0,\"#0d0887\"],[0.1111111111111111,\"#46039f\"],[0.2222222222222222,\"#7201a8\"],[0.3333333333333333,\"#9c179e\"],[0.4444444444444444,\"#bd3786\"],[0.5555555555555556,\"#d8576b\"],[0.6666666666666666,\"#ed7953\"],[0.7777777777777778,\"#fb9f3a\"],[0.8888888888888888,\"#fdca26\"],[1.0,\"#f0f921\"]]}],\"heatmapgl\":[{\"type\":\"heatmapgl\",\"colorbar\":{\"outlinewidth\":0,\"ticks\":\"\"},\"colorscale\":[[0.0,\"#0d0887\"],[0.1111111111111111,\"#46039f\"],[0.2222222222222222,\"#7201a8\"],[0.3333333333333333,\"#9c179e\"],[0.4444444444444444,\"#bd3786\"],[0.5555555555555556,\"#d8576b\"],[0.6666666666666666,\"#ed7953\"],[0.7777777777777778,\"#fb9f3a\"],[0.8888888888888888,\"#fdca26\"],[1.0,\"#f0f921\"]]}],\"contourcarpet\":[{\"type\":\"contourcarpet\",\"colorbar\":{\"outlinewidth\":0,\"ticks\":\"\"}}],\"contour\":[{\"type\":\"contour\",\"colorbar\":{\"outlinewidth\":0,\"ticks\":\"\"},\"colorscale\":[[0.0,\"#0d0887\"],[0.1111111111111111,\"#46039f\"],[0.2222222222222222,\"#7201a8\"],[0.3333333333333333,\"#9c179e\"],[0.4444444444444444,\"#bd3786\"],[0.5555555555555556,\"#d8576b\"],[0.6666666666666666,\"#ed7953\"],[0.7777777777777778,\"#fb9f3a\"],[0.8888888888888888,\"#fdca26\"],[1.0,\"#f0f921\"]]}],\"surface\":[{\"type\":\"surface\",\"colorbar\":{\"outlinewidth\":0,\"ticks\":\"\"},\"colorscale\":[[0.0,\"#0d0887\"],[0.1111111111111111,\"#46039f\"],[0.2222222222222222,\"#7201a8\"],[0.3333333333333333,\"#9c179e\"],[0.4444444444444444,\"#bd3786\"],[0.5555555555555556,\"#d8576b\"],[0.6666666666666666,\"#ed7953\"],[0.7777777777777778,\"#fb9f3a\"],[0.8888888888888888,\"#fdca26\"],[1.0,\"#f0f921\"]]}],\"mesh3d\":[{\"type\":\"mesh3d\",\"colorbar\":{\"outlinewidth\":0,\"ticks\":\"\"}}],\"scatter\":[{\"fillpattern\":{\"fillmode\":\"overlay\",\"size\":10,\"solidity\":0.2},\"type\":\"scatter\"}],\"parcoords\":[{\"type\":\"parcoords\",\"line\":{\"colorbar\":{\"outlinewidth\":0,\"ticks\":\"\"}}}],\"scatterpolargl\":[{\"type\":\"scatterpolargl\",\"marker\":{\"colorbar\":{\"outlinewidth\":0,\"ticks\":\"\"}}}],\"bar\":[{\"error_x\":{\"color\":\"#2a3f5f\"},\"error_y\":{\"color\":\"#2a3f5f\"},\"marker\":{\"line\":{\"color\":\"#E5ECF6\",\"width\":0.5},\"pattern\":{\"fillmode\":\"overlay\",\"size\":10,\"solidity\":0.2}},\"type\":\"bar\"}],\"scattergeo\":[{\"type\":\"scattergeo\",\"marker\":{\"colorbar\":{\"outlinewidth\":0,\"ticks\":\"\"}}}],\"scatterpolar\":[{\"type\":\"scatterpolar\",\"marker\":{\"colorbar\":{\"outlinewidth\":0,\"ticks\":\"\"}}}],\"histogram\":[{\"marker\":{\"pattern\":{\"fillmode\":\"overlay\",\"size\":10,\"solidity\":0.2}},\"type\":\"histogram\"}],\"scattergl\":[{\"type\":\"scattergl\",\"marker\":{\"colorbar\":{\"outlinewidth\":0,\"ticks\":\"\"}}}],\"scatter3d\":[{\"type\":\"scatter3d\",\"line\":{\"colorbar\":{\"outlinewidth\":0,\"ticks\":\"\"}},\"marker\":{\"colorbar\":{\"outlinewidth\":0,\"ticks\":\"\"}}}],\"scattermapbox\":[{\"type\":\"scattermapbox\",\"marker\":{\"colorbar\":{\"outlinewidth\":0,\"ticks\":\"\"}}}],\"scatterternary\":[{\"type\":\"scatterternary\",\"marker\":{\"colorbar\":{\"outlinewidth\":0,\"ticks\":\"\"}}}],\"scattercarpet\":[{\"type\":\"scattercarpet\",\"marker\":{\"colorbar\":{\"outlinewidth\":0,\"ticks\":\"\"}}}],\"carpet\":[{\"aaxis\":{\"endlinecolor\":\"#2a3f5f\",\"gridcolor\":\"white\",\"linecolor\":\"white\",\"minorgridcolor\":\"white\",\"startlinecolor\":\"#2a3f5f\"},\"baxis\":{\"endlinecolor\":\"#2a3f5f\",\"gridcolor\":\"white\",\"linecolor\":\"white\",\"minorgridcolor\":\"white\",\"startlinecolor\":\"#2a3f5f\"},\"type\":\"carpet\"}],\"table\":[{\"cells\":{\"fill\":{\"color\":\"#EBF0F8\"},\"line\":{\"color\":\"white\"}},\"header\":{\"fill\":{\"color\":\"#C8D4E3\"},\"line\":{\"color\":\"white\"}},\"type\":\"table\"}],\"barpolar\":[{\"marker\":{\"line\":{\"color\":\"#E5ECF6\",\"width\":0.5},\"pattern\":{\"fillmode\":\"overlay\",\"size\":10,\"solidity\":0.2}},\"type\":\"barpolar\"}],\"pie\":[{\"automargin\":true,\"type\":\"pie\"}]},\"layout\":{\"autotypenumbers\":\"strict\",\"colorway\":[\"#636efa\",\"#EF553B\",\"#00cc96\",\"#ab63fa\",\"#FFA15A\",\"#19d3f3\",\"#FF6692\",\"#B6E880\",\"#FF97FF\",\"#FECB52\"],\"font\":{\"color\":\"#2a3f5f\"},\"hovermode\":\"closest\",\"hoverlabel\":{\"align\":\"left\"},\"paper_bgcolor\":\"white\",\"plot_bgcolor\":\"#E5ECF6\",\"polar\":{\"bgcolor\":\"#E5ECF6\",\"angularaxis\":{\"gridcolor\":\"white\",\"linecolor\":\"white\",\"ticks\":\"\"},\"radialaxis\":{\"gridcolor\":\"white\",\"linecolor\":\"white\",\"ticks\":\"\"}},\"ternary\":{\"bgcolor\":\"#E5ECF6\",\"aaxis\":{\"gridcolor\":\"white\",\"linecolor\":\"white\",\"ticks\":\"\"},\"baxis\":{\"gridcolor\":\"white\",\"linecolor\":\"white\",\"ticks\":\"\"},\"caxis\":{\"gridcolor\":\"white\",\"linecolor\":\"white\",\"ticks\":\"\"}},\"coloraxis\":{\"colorbar\":{\"outlinewidth\":0,\"ticks\":\"\"}},\"colorscale\":{\"sequential\":[[0.0,\"#0d0887\"],[0.1111111111111111,\"#46039f\"],[0.2222222222222222,\"#7201a8\"],[0.3333333333333333,\"#9c179e\"],[0.4444444444444444,\"#bd3786\"],[0.5555555555555556,\"#d8576b\"],[0.6666666666666666,\"#ed7953\"],[0.7777777777777778,\"#fb9f3a\"],[0.8888888888888888,\"#fdca26\"],[1.0,\"#f0f921\"]],\"sequentialminus\":[[0.0,\"#0d0887\"],[0.1111111111111111,\"#46039f\"],[0.2222222222222222,\"#7201a8\"],[0.3333333333333333,\"#9c179e\"],[0.4444444444444444,\"#bd3786\"],[0.5555555555555556,\"#d8576b\"],[0.6666666666666666,\"#ed7953\"],[0.7777777777777778,\"#fb9f3a\"],[0.8888888888888888,\"#fdca26\"],[1.0,\"#f0f921\"]],\"diverging\":[[0,\"#8e0152\"],[0.1,\"#c51b7d\"],[0.2,\"#de77ae\"],[0.3,\"#f1b6da\"],[0.4,\"#fde0ef\"],[0.5,\"#f7f7f7\"],[0.6,\"#e6f5d0\"],[0.7,\"#b8e186\"],[0.8,\"#7fbc41\"],[0.9,\"#4d9221\"],[1,\"#276419\"]]},\"xaxis\":{\"gridcolor\":\"white\",\"linecolor\":\"white\",\"ticks\":\"\",\"title\":{\"standoff\":15},\"zerolinecolor\":\"white\",\"automargin\":true,\"zerolinewidth\":2},\"yaxis\":{\"gridcolor\":\"white\",\"linecolor\":\"white\",\"ticks\":\"\",\"title\":{\"standoff\":15},\"zerolinecolor\":\"white\",\"automargin\":true,\"zerolinewidth\":2},\"scene\":{\"xaxis\":{\"backgroundcolor\":\"#E5ECF6\",\"gridcolor\":\"white\",\"linecolor\":\"white\",\"showbackground\":true,\"ticks\":\"\",\"zerolinecolor\":\"white\",\"gridwidth\":2},\"yaxis\":{\"backgroundcolor\":\"#E5ECF6\",\"gridcolor\":\"white\",\"linecolor\":\"white\",\"showbackground\":true,\"ticks\":\"\",\"zerolinecolor\":\"white\",\"gridwidth\":2},\"zaxis\":{\"backgroundcolor\":\"#E5ECF6\",\"gridcolor\":\"white\",\"linecolor\":\"white\",\"showbackground\":true,\"ticks\":\"\",\"zerolinecolor\":\"white\",\"gridwidth\":2}},\"shapedefaults\":{\"line\":{\"color\":\"#2a3f5f\"}},\"annotationdefaults\":{\"arrowcolor\":\"#2a3f5f\",\"arrowhead\":0,\"arrowwidth\":1},\"geo\":{\"bgcolor\":\"white\",\"landcolor\":\"#E5ECF6\",\"subunitcolor\":\"white\",\"showland\":true,\"showlakes\":true,\"lakecolor\":\"white\"},\"title\":{\"x\":0.05},\"mapbox\":{\"style\":\"light\"}}},\"xaxis\":{\"anchor\":\"y\",\"domain\":[0.0,1.0],\"title\":{\"text\":\"flipper_length_mm\"}},\"yaxis\":{\"anchor\":\"x\",\"domain\":[0.0,1.0],\"title\":{\"text\":\"count\"}},\"legend\":{\"tracegroupgap\":0},\"title\":{\"text\":\"Adelie Flipper Length\"},\"barmode\":\"relative\",\"shapes\":[{\"line\":{\"color\":\"blue\",\"dash\":\"dash\"},\"type\":\"line\",\"x0\":189.95364238410596,\"x1\":189.95364238410596,\"xref\":\"x\",\"y0\":0,\"y1\":1,\"yref\":\"y domain\"},{\"line\":{\"color\":\"green\",\"dash\":\"dot\"},\"type\":\"line\",\"x0\":190.0,\"x1\":190.0,\"xref\":\"x\",\"y0\":0,\"y1\":1,\"yref\":\"y domain\"},{\"fillcolor\":\"red\",\"line\":{\"width\":0},\"opacity\":0.2,\"type\":\"rect\",\"x0\":186.0,\"x1\":195.0,\"xref\":\"x\",\"y0\":0,\"y1\":1,\"yref\":\"y domain\"},{\"fillcolor\":\"yellow\",\"line\":{\"width\":0},\"opacity\":0.1,\"type\":\"rect\",\"x0\":176.87472754972336,\"x1\":203.03255721848856,\"xref\":\"x\",\"y0\":0,\"y1\":1,\"yref\":\"y domain\"},{\"fillcolor\":\"purple\",\"line\":{\"dash\":\"dot\",\"width\":1},\"opacity\":0.05,\"type\":\"rect\",\"x0\":172.0,\"x1\":210.0,\"xref\":\"x\",\"y0\":0,\"y1\":1,\"yref\":\"y domain\"}],\"annotations\":[{\"showarrow\":false,\"text\":\"Mean\",\"x\":189.95364238410596,\"xanchor\":\"right\",\"xref\":\"x\",\"y\":1,\"yanchor\":\"top\",\"yref\":\"y domain\"},{\"showarrow\":false,\"text\":\"Median\",\"x\":190.0,\"xanchor\":\"left\",\"xref\":\"x\",\"y\":1,\"yanchor\":\"top\",\"yref\":\"y domain\"},{\"showarrow\":false,\"text\":\"IQR\",\"x\":195.0,\"xanchor\":\"right\",\"xref\":\"x\",\"y\":1,\"yanchor\":\"top\",\"yref\":\"y domain\"},{\"showarrow\":false,\"text\":\"\\u00b12 Std Dev\",\"x\":203.03255721848856,\"xanchor\":\"right\",\"xref\":\"x\",\"y\":1,\"yanchor\":\"top\",\"yref\":\"y domain\"},{\"showarrow\":false,\"text\":\"Range\",\"x\":210.0,\"xanchor\":\"right\",\"xref\":\"x\",\"y\":1,\"yanchor\":\"top\",\"yref\":\"y domain\"}],\"showlegend\":false},                        {\"responsive\": true}                    ).then(function(){\n",
       "                            \n",
       "var gd = document.getElementById('bf7d1e9a-c6da-45d9-b54b-9b1b7eb47bc6');\n",
       "var x = new MutationObserver(function (mutations, observer) {{\n",
       "        var display = window.getComputedStyle(gd).display;\n",
       "        if (!display || display === 'none') {{\n",
       "            console.log([gd, 'removed!']);\n",
       "            Plotly.purge(gd);\n",
       "            observer.disconnect();\n",
       "        }}\n",
       "}});\n",
       "\n",
       "// Listen for the removal of the full notebook cells\n",
       "var notebookContainer = gd.closest('#notebook-container');\n",
       "if (notebookContainer) {{\n",
       "    x.observe(notebookContainer, {childList: true});\n",
       "}}\n",
       "\n",
       "// Listen for the clearing of the current output cell\n",
       "var outputEl = gd.closest('.output');\n",
       "if (outputEl) {{\n",
       "    x.observe(outputEl, {childList: true});\n",
       "}}\n",
       "\n",
       "                        })                };                });            </script>        </div>"
      ]
     },
     "metadata": {},
     "output_type": "display_data"
    },
    {
     "data": {
      "application/vnd.plotly.v1+json": {
       "config": {
        "plotlyServerURL": "https://plot.ly"
       },
       "data": [
        {
         "alignmentgroup": "True",
         "bingroup": "x",
         "hovertemplate": "flipper_length_mm=%{x}<br>count=%{y}<extra></extra>",
         "legendgroup": "",
         "marker": {
          "color": "#636efa",
          "pattern": {
           "shape": ""
          }
         },
         "name": "",
         "offsetgroup": "",
         "orientation": "v",
         "showlegend": false,
         "type": "histogram",
         "x": [
          192,
          196,
          193,
          188,
          197,
          198,
          178,
          197,
          195,
          198,
          193,
          194,
          185,
          201,
          190,
          201,
          197,
          181,
          190,
          195,
          181,
          191,
          187,
          193,
          195,
          197,
          200,
          200,
          191,
          205,
          187,
          201,
          187,
          203,
          195,
          199,
          195,
          210,
          192,
          205,
          210,
          187,
          196,
          196,
          196,
          201,
          190,
          212,
          187,
          198,
          199,
          201,
          193,
          203,
          187,
          197,
          191,
          203,
          202,
          194,
          206,
          189,
          195,
          207,
          202,
          193,
          210,
          198
         ],
         "xaxis": "x",
         "yaxis": "y"
        }
       ],
       "layout": {
        "annotations": [
         {
          "showarrow": false,
          "text": "Mean",
          "x": 195.8235294117647,
          "xanchor": "right",
          "xref": "x",
          "y": 1,
          "yanchor": "top",
          "yref": "y domain"
         },
         {
          "showarrow": false,
          "text": "Median",
          "x": 196,
          "xanchor": "left",
          "xref": "x",
          "y": 1,
          "yanchor": "top",
          "yref": "y domain"
         },
         {
          "showarrow": false,
          "text": "IQR",
          "x": 201,
          "xanchor": "right",
          "xref": "x",
          "y": 1,
          "yanchor": "top",
          "yref": "y domain"
         },
         {
          "showarrow": false,
          "text": "±2 Std Dev",
          "x": 210.08731792892098,
          "xanchor": "right",
          "xref": "x",
          "y": 1,
          "yanchor": "top",
          "yref": "y domain"
         },
         {
          "showarrow": false,
          "text": "Range",
          "x": 212,
          "xanchor": "right",
          "xref": "x",
          "y": 1,
          "yanchor": "top",
          "yref": "y domain"
         }
        ],
        "autosize": true,
        "barmode": "relative",
        "legend": {
         "tracegroupgap": 0
        },
        "shapes": [
         {
          "line": {
           "color": "blue",
           "dash": "dash"
          },
          "type": "line",
          "x0": 195.8235294117647,
          "x1": 195.8235294117647,
          "xref": "x",
          "y0": 0,
          "y1": 1,
          "yref": "y domain"
         },
         {
          "line": {
           "color": "green",
           "dash": "dot"
          },
          "type": "line",
          "x0": 196,
          "x1": 196,
          "xref": "x",
          "y0": 0,
          "y1": 1,
          "yref": "y domain"
         },
         {
          "fillcolor": "red",
          "line": {
           "width": 0
          },
          "opacity": 0.2,
          "type": "rect",
          "x0": 191,
          "x1": 201,
          "xref": "x",
          "y0": 0,
          "y1": 1,
          "yref": "y domain"
         },
         {
          "fillcolor": "yellow",
          "line": {
           "width": 0
          },
          "opacity": 0.1,
          "type": "rect",
          "x0": 181.5597408946084,
          "x1": 210.08731792892098,
          "xref": "x",
          "y0": 0,
          "y1": 1,
          "yref": "y domain"
         },
         {
          "fillcolor": "purple",
          "line": {
           "dash": "dot",
           "width": 1
          },
          "opacity": 0.05,
          "type": "rect",
          "x0": 178,
          "x1": 212,
          "xref": "x",
          "y0": 0,
          "y1": 1,
          "yref": "y domain"
         }
        ],
        "showlegend": false,
        "template": {
         "data": {
          "bar": [
           {
            "error_x": {
             "color": "#2a3f5f"
            },
            "error_y": {
             "color": "#2a3f5f"
            },
            "marker": {
             "line": {
              "color": "#E5ECF6",
              "width": 0.5
             },
             "pattern": {
              "fillmode": "overlay",
              "size": 10,
              "solidity": 0.2
             }
            },
            "type": "bar"
           }
          ],
          "barpolar": [
           {
            "marker": {
             "line": {
              "color": "#E5ECF6",
              "width": 0.5
             },
             "pattern": {
              "fillmode": "overlay",
              "size": 10,
              "solidity": 0.2
             }
            },
            "type": "barpolar"
           }
          ],
          "carpet": [
           {
            "aaxis": {
             "endlinecolor": "#2a3f5f",
             "gridcolor": "white",
             "linecolor": "white",
             "minorgridcolor": "white",
             "startlinecolor": "#2a3f5f"
            },
            "baxis": {
             "endlinecolor": "#2a3f5f",
             "gridcolor": "white",
             "linecolor": "white",
             "minorgridcolor": "white",
             "startlinecolor": "#2a3f5f"
            },
            "type": "carpet"
           }
          ],
          "choropleth": [
           {
            "colorbar": {
             "outlinewidth": 0,
             "ticks": ""
            },
            "type": "choropleth"
           }
          ],
          "contour": [
           {
            "colorbar": {
             "outlinewidth": 0,
             "ticks": ""
            },
            "colorscale": [
             [
              0,
              "#0d0887"
             ],
             [
              0.1111111111111111,
              "#46039f"
             ],
             [
              0.2222222222222222,
              "#7201a8"
             ],
             [
              0.3333333333333333,
              "#9c179e"
             ],
             [
              0.4444444444444444,
              "#bd3786"
             ],
             [
              0.5555555555555556,
              "#d8576b"
             ],
             [
              0.6666666666666666,
              "#ed7953"
             ],
             [
              0.7777777777777778,
              "#fb9f3a"
             ],
             [
              0.8888888888888888,
              "#fdca26"
             ],
             [
              1,
              "#f0f921"
             ]
            ],
            "type": "contour"
           }
          ],
          "contourcarpet": [
           {
            "colorbar": {
             "outlinewidth": 0,
             "ticks": ""
            },
            "type": "contourcarpet"
           }
          ],
          "heatmap": [
           {
            "colorbar": {
             "outlinewidth": 0,
             "ticks": ""
            },
            "colorscale": [
             [
              0,
              "#0d0887"
             ],
             [
              0.1111111111111111,
              "#46039f"
             ],
             [
              0.2222222222222222,
              "#7201a8"
             ],
             [
              0.3333333333333333,
              "#9c179e"
             ],
             [
              0.4444444444444444,
              "#bd3786"
             ],
             [
              0.5555555555555556,
              "#d8576b"
             ],
             [
              0.6666666666666666,
              "#ed7953"
             ],
             [
              0.7777777777777778,
              "#fb9f3a"
             ],
             [
              0.8888888888888888,
              "#fdca26"
             ],
             [
              1,
              "#f0f921"
             ]
            ],
            "type": "heatmap"
           }
          ],
          "heatmapgl": [
           {
            "colorbar": {
             "outlinewidth": 0,
             "ticks": ""
            },
            "colorscale": [
             [
              0,
              "#0d0887"
             ],
             [
              0.1111111111111111,
              "#46039f"
             ],
             [
              0.2222222222222222,
              "#7201a8"
             ],
             [
              0.3333333333333333,
              "#9c179e"
             ],
             [
              0.4444444444444444,
              "#bd3786"
             ],
             [
              0.5555555555555556,
              "#d8576b"
             ],
             [
              0.6666666666666666,
              "#ed7953"
             ],
             [
              0.7777777777777778,
              "#fb9f3a"
             ],
             [
              0.8888888888888888,
              "#fdca26"
             ],
             [
              1,
              "#f0f921"
             ]
            ],
            "type": "heatmapgl"
           }
          ],
          "histogram": [
           {
            "marker": {
             "pattern": {
              "fillmode": "overlay",
              "size": 10,
              "solidity": 0.2
             }
            },
            "type": "histogram"
           }
          ],
          "histogram2d": [
           {
            "colorbar": {
             "outlinewidth": 0,
             "ticks": ""
            },
            "colorscale": [
             [
              0,
              "#0d0887"
             ],
             [
              0.1111111111111111,
              "#46039f"
             ],
             [
              0.2222222222222222,
              "#7201a8"
             ],
             [
              0.3333333333333333,
              "#9c179e"
             ],
             [
              0.4444444444444444,
              "#bd3786"
             ],
             [
              0.5555555555555556,
              "#d8576b"
             ],
             [
              0.6666666666666666,
              "#ed7953"
             ],
             [
              0.7777777777777778,
              "#fb9f3a"
             ],
             [
              0.8888888888888888,
              "#fdca26"
             ],
             [
              1,
              "#f0f921"
             ]
            ],
            "type": "histogram2d"
           }
          ],
          "histogram2dcontour": [
           {
            "colorbar": {
             "outlinewidth": 0,
             "ticks": ""
            },
            "colorscale": [
             [
              0,
              "#0d0887"
             ],
             [
              0.1111111111111111,
              "#46039f"
             ],
             [
              0.2222222222222222,
              "#7201a8"
             ],
             [
              0.3333333333333333,
              "#9c179e"
             ],
             [
              0.4444444444444444,
              "#bd3786"
             ],
             [
              0.5555555555555556,
              "#d8576b"
             ],
             [
              0.6666666666666666,
              "#ed7953"
             ],
             [
              0.7777777777777778,
              "#fb9f3a"
             ],
             [
              0.8888888888888888,
              "#fdca26"
             ],
             [
              1,
              "#f0f921"
             ]
            ],
            "type": "histogram2dcontour"
           }
          ],
          "mesh3d": [
           {
            "colorbar": {
             "outlinewidth": 0,
             "ticks": ""
            },
            "type": "mesh3d"
           }
          ],
          "parcoords": [
           {
            "line": {
             "colorbar": {
              "outlinewidth": 0,
              "ticks": ""
             }
            },
            "type": "parcoords"
           }
          ],
          "pie": [
           {
            "automargin": true,
            "type": "pie"
           }
          ],
          "scatter": [
           {
            "fillpattern": {
             "fillmode": "overlay",
             "size": 10,
             "solidity": 0.2
            },
            "type": "scatter"
           }
          ],
          "scatter3d": [
           {
            "line": {
             "colorbar": {
              "outlinewidth": 0,
              "ticks": ""
             }
            },
            "marker": {
             "colorbar": {
              "outlinewidth": 0,
              "ticks": ""
             }
            },
            "type": "scatter3d"
           }
          ],
          "scattercarpet": [
           {
            "marker": {
             "colorbar": {
              "outlinewidth": 0,
              "ticks": ""
             }
            },
            "type": "scattercarpet"
           }
          ],
          "scattergeo": [
           {
            "marker": {
             "colorbar": {
              "outlinewidth": 0,
              "ticks": ""
             }
            },
            "type": "scattergeo"
           }
          ],
          "scattergl": [
           {
            "marker": {
             "colorbar": {
              "outlinewidth": 0,
              "ticks": ""
             }
            },
            "type": "scattergl"
           }
          ],
          "scattermapbox": [
           {
            "marker": {
             "colorbar": {
              "outlinewidth": 0,
              "ticks": ""
             }
            },
            "type": "scattermapbox"
           }
          ],
          "scatterpolar": [
           {
            "marker": {
             "colorbar": {
              "outlinewidth": 0,
              "ticks": ""
             }
            },
            "type": "scatterpolar"
           }
          ],
          "scatterpolargl": [
           {
            "marker": {
             "colorbar": {
              "outlinewidth": 0,
              "ticks": ""
             }
            },
            "type": "scatterpolargl"
           }
          ],
          "scatterternary": [
           {
            "marker": {
             "colorbar": {
              "outlinewidth": 0,
              "ticks": ""
             }
            },
            "type": "scatterternary"
           }
          ],
          "surface": [
           {
            "colorbar": {
             "outlinewidth": 0,
             "ticks": ""
            },
            "colorscale": [
             [
              0,
              "#0d0887"
             ],
             [
              0.1111111111111111,
              "#46039f"
             ],
             [
              0.2222222222222222,
              "#7201a8"
             ],
             [
              0.3333333333333333,
              "#9c179e"
             ],
             [
              0.4444444444444444,
              "#bd3786"
             ],
             [
              0.5555555555555556,
              "#d8576b"
             ],
             [
              0.6666666666666666,
              "#ed7953"
             ],
             [
              0.7777777777777778,
              "#fb9f3a"
             ],
             [
              0.8888888888888888,
              "#fdca26"
             ],
             [
              1,
              "#f0f921"
             ]
            ],
            "type": "surface"
           }
          ],
          "table": [
           {
            "cells": {
             "fill": {
              "color": "#EBF0F8"
             },
             "line": {
              "color": "white"
             }
            },
            "header": {
             "fill": {
              "color": "#C8D4E3"
             },
             "line": {
              "color": "white"
             }
            },
            "type": "table"
           }
          ]
         },
         "layout": {
          "annotationdefaults": {
           "arrowcolor": "#2a3f5f",
           "arrowhead": 0,
           "arrowwidth": 1
          },
          "autotypenumbers": "strict",
          "coloraxis": {
           "colorbar": {
            "outlinewidth": 0,
            "ticks": ""
           }
          },
          "colorscale": {
           "diverging": [
            [
             0,
             "#8e0152"
            ],
            [
             0.1,
             "#c51b7d"
            ],
            [
             0.2,
             "#de77ae"
            ],
            [
             0.3,
             "#f1b6da"
            ],
            [
             0.4,
             "#fde0ef"
            ],
            [
             0.5,
             "#f7f7f7"
            ],
            [
             0.6,
             "#e6f5d0"
            ],
            [
             0.7,
             "#b8e186"
            ],
            [
             0.8,
             "#7fbc41"
            ],
            [
             0.9,
             "#4d9221"
            ],
            [
             1,
             "#276419"
            ]
           ],
           "sequential": [
            [
             0,
             "#0d0887"
            ],
            [
             0.1111111111111111,
             "#46039f"
            ],
            [
             0.2222222222222222,
             "#7201a8"
            ],
            [
             0.3333333333333333,
             "#9c179e"
            ],
            [
             0.4444444444444444,
             "#bd3786"
            ],
            [
             0.5555555555555556,
             "#d8576b"
            ],
            [
             0.6666666666666666,
             "#ed7953"
            ],
            [
             0.7777777777777778,
             "#fb9f3a"
            ],
            [
             0.8888888888888888,
             "#fdca26"
            ],
            [
             1,
             "#f0f921"
            ]
           ],
           "sequentialminus": [
            [
             0,
             "#0d0887"
            ],
            [
             0.1111111111111111,
             "#46039f"
            ],
            [
             0.2222222222222222,
             "#7201a8"
            ],
            [
             0.3333333333333333,
             "#9c179e"
            ],
            [
             0.4444444444444444,
             "#bd3786"
            ],
            [
             0.5555555555555556,
             "#d8576b"
            ],
            [
             0.6666666666666666,
             "#ed7953"
            ],
            [
             0.7777777777777778,
             "#fb9f3a"
            ],
            [
             0.8888888888888888,
             "#fdca26"
            ],
            [
             1,
             "#f0f921"
            ]
           ]
          },
          "colorway": [
           "#636efa",
           "#EF553B",
           "#00cc96",
           "#ab63fa",
           "#FFA15A",
           "#19d3f3",
           "#FF6692",
           "#B6E880",
           "#FF97FF",
           "#FECB52"
          ],
          "font": {
           "color": "#2a3f5f"
          },
          "geo": {
           "bgcolor": "white",
           "lakecolor": "white",
           "landcolor": "#E5ECF6",
           "showlakes": true,
           "showland": true,
           "subunitcolor": "white"
          },
          "hoverlabel": {
           "align": "left"
          },
          "hovermode": "closest",
          "mapbox": {
           "style": "light"
          },
          "paper_bgcolor": "white",
          "plot_bgcolor": "#E5ECF6",
          "polar": {
           "angularaxis": {
            "gridcolor": "white",
            "linecolor": "white",
            "ticks": ""
           },
           "bgcolor": "#E5ECF6",
           "radialaxis": {
            "gridcolor": "white",
            "linecolor": "white",
            "ticks": ""
           }
          },
          "scene": {
           "xaxis": {
            "backgroundcolor": "#E5ECF6",
            "gridcolor": "white",
            "gridwidth": 2,
            "linecolor": "white",
            "showbackground": true,
            "ticks": "",
            "zerolinecolor": "white"
           },
           "yaxis": {
            "backgroundcolor": "#E5ECF6",
            "gridcolor": "white",
            "gridwidth": 2,
            "linecolor": "white",
            "showbackground": true,
            "ticks": "",
            "zerolinecolor": "white"
           },
           "zaxis": {
            "backgroundcolor": "#E5ECF6",
            "gridcolor": "white",
            "gridwidth": 2,
            "linecolor": "white",
            "showbackground": true,
            "ticks": "",
            "zerolinecolor": "white"
           }
          },
          "shapedefaults": {
           "line": {
            "color": "#2a3f5f"
           }
          },
          "ternary": {
           "aaxis": {
            "gridcolor": "white",
            "linecolor": "white",
            "ticks": ""
           },
           "baxis": {
            "gridcolor": "white",
            "linecolor": "white",
            "ticks": ""
           },
           "bgcolor": "#E5ECF6",
           "caxis": {
            "gridcolor": "white",
            "linecolor": "white",
            "ticks": ""
           }
          },
          "title": {
           "x": 0.05
          },
          "xaxis": {
           "automargin": true,
           "gridcolor": "white",
           "linecolor": "white",
           "ticks": "",
           "title": {
            "standoff": 15
           },
           "zerolinecolor": "white",
           "zerolinewidth": 2
          },
          "yaxis": {
           "automargin": true,
           "gridcolor": "white",
           "linecolor": "white",
           "ticks": "",
           "title": {
            "standoff": 15
           },
           "zerolinecolor": "white",
           "zerolinewidth": 2
          }
         }
        },
        "title": {
         "text": "Chinstrap Flipper Length"
        },
        "xaxis": {
         "anchor": "y",
         "autorange": true,
         "domain": [
          0,
          1
         ],
         "range": [
          174.5,
          214.5
         ],
         "title": {
          "text": "flipper_length_mm"
         },
         "type": "linear"
        },
        "yaxis": {
         "anchor": "x",
         "autorange": true,
         "domain": [
          0,
          1
         ],
         "range": [
          0,
          22.105263157894736
         ],
         "title": {
          "text": "count"
         }
        }
       }
      },
      "image/png": "[encoded data removed]",
      "text/html": [
       "<div>                            <div id=\"8ef91e92-788e-4972-b921-72a3fe7867ee\" class=\"plotly-graph-div\" style=\"height:525px; width:100%;\"></div>            <script type=\"text/javascript\">                require([\"plotly\"], function(Plotly) {                    window.PLOTLYENV=window.PLOTLYENV || {};                                    if (document.getElementById(\"8ef91e92-788e-4972-b921-72a3fe7867ee\")) {                    Plotly.newPlot(                        \"8ef91e92-788e-4972-b921-72a3fe7867ee\",                        [{\"alignmentgroup\":\"True\",\"bingroup\":\"x\",\"hovertemplate\":\"flipper_length_mm=%{x}\\u003cbr\\u003ecount=%{y}\\u003cextra\\u003e\\u003c\\u002fextra\\u003e\",\"legendgroup\":\"\",\"marker\":{\"color\":\"#636efa\",\"pattern\":{\"shape\":\"\"}},\"name\":\"\",\"offsetgroup\":\"\",\"orientation\":\"v\",\"showlegend\":false,\"x\":[192.0,196.0,193.0,188.0,197.0,198.0,178.0,197.0,195.0,198.0,193.0,194.0,185.0,201.0,190.0,201.0,197.0,181.0,190.0,195.0,181.0,191.0,187.0,193.0,195.0,197.0,200.0,200.0,191.0,205.0,187.0,201.0,187.0,203.0,195.0,199.0,195.0,210.0,192.0,205.0,210.0,187.0,196.0,196.0,196.0,201.0,190.0,212.0,187.0,198.0,199.0,201.0,193.0,203.0,187.0,197.0,191.0,203.0,202.0,194.0,206.0,189.0,195.0,207.0,202.0,193.0,210.0,198.0],\"xaxis\":\"x\",\"yaxis\":\"y\",\"type\":\"histogram\"}],                        {\"template\":{\"data\":{\"histogram2dcontour\":[{\"type\":\"histogram2dcontour\",\"colorbar\":{\"outlinewidth\":0,\"ticks\":\"\"},\"colorscale\":[[0.0,\"#0d0887\"],[0.1111111111111111,\"#46039f\"],[0.2222222222222222,\"#7201a8\"],[0.3333333333333333,\"#9c179e\"],[0.4444444444444444,\"#bd3786\"],[0.5555555555555556,\"#d8576b\"],[0.6666666666666666,\"#ed7953\"],[0.7777777777777778,\"#fb9f3a\"],[0.8888888888888888,\"#fdca26\"],[1.0,\"#f0f921\"]]}],\"choropleth\":[{\"type\":\"choropleth\",\"colorbar\":{\"outlinewidth\":0,\"ticks\":\"\"}}],\"histogram2d\":[{\"type\":\"histogram2d\",\"colorbar\":{\"outlinewidth\":0,\"ticks\":\"\"},\"colorscale\":[[0.0,\"#0d0887\"],[0.1111111111111111,\"#46039f\"],[0.2222222222222222,\"#7201a8\"],[0.3333333333333333,\"#9c179e\"],[0.4444444444444444,\"#bd3786\"],[0.5555555555555556,\"#d8576b\"],[0.6666666666666666,\"#ed7953\"],[0.7777777777777778,\"#fb9f3a\"],[0.8888888888888888,\"#fdca26\"],[1.0,\"#f0f921\"]]}],\"heatmap\":[{\"type\":\"heatmap\",\"colorbar\":{\"outlinewidth\":0,\"ticks\":\"\"},\"colorscale\":[[0.0,\"#0d0887\"],[0.1111111111111111,\"#46039f\"],[0.2222222222222222,\"#7201a8\"],[0.3333333333333333,\"#9c179e\"],[0.4444444444444444,\"#bd3786\"],[0.5555555555555556,\"#d8576b\"],[0.6666666666666666,\"#ed7953\"],[0.7777777777777778,\"#fb9f3a\"],[0.8888888888888888,\"#fdca26\"],[1.0,\"#f0f921\"]]}],\"heatmapgl\":[{\"type\":\"heatmapgl\",\"colorbar\":{\"outlinewidth\":0,\"ticks\":\"\"},\"colorscale\":[[0.0,\"#0d0887\"],[0.1111111111111111,\"#46039f\"],[0.2222222222222222,\"#7201a8\"],[0.3333333333333333,\"#9c179e\"],[0.4444444444444444,\"#bd3786\"],[0.5555555555555556,\"#d8576b\"],[0.6666666666666666,\"#ed7953\"],[0.7777777777777778,\"#fb9f3a\"],[0.8888888888888888,\"#fdca26\"],[1.0,\"#f0f921\"]]}],\"contourcarpet\":[{\"type\":\"contourcarpet\",\"colorbar\":{\"outlinewidth\":0,\"ticks\":\"\"}}],\"contour\":[{\"type\":\"contour\",\"colorbar\":{\"outlinewidth\":0,\"ticks\":\"\"},\"colorscale\":[[0.0,\"#0d0887\"],[0.1111111111111111,\"#46039f\"],[0.2222222222222222,\"#7201a8\"],[0.3333333333333333,\"#9c179e\"],[0.4444444444444444,\"#bd3786\"],[0.5555555555555556,\"#d8576b\"],[0.6666666666666666,\"#ed7953\"],[0.7777777777777778,\"#fb9f3a\"],[0.8888888888888888,\"#fdca26\"],[1.0,\"#f0f921\"]]}],\"surface\":[{\"type\":\"surface\",\"colorbar\":{\"outlinewidth\":0,\"ticks\":\"\"},\"colorscale\":[[0.0,\"#0d0887\"],[0.1111111111111111,\"#46039f\"],[0.2222222222222222,\"#7201a8\"],[0.3333333333333333,\"#9c179e\"],[0.4444444444444444,\"#bd3786\"],[0.5555555555555556,\"#d8576b\"],[0.6666666666666666,\"#ed7953\"],[0.7777777777777778,\"#fb9f3a\"],[0.8888888888888888,\"#fdca26\"],[1.0,\"#f0f921\"]]}],\"mesh3d\":[{\"type\":\"mesh3d\",\"colorbar\":{\"outlinewidth\":0,\"ticks\":\"\"}}],\"scatter\":[{\"fillpattern\":{\"fillmode\":\"overlay\",\"size\":10,\"solidity\":0.2},\"type\":\"scatter\"}],\"parcoords\":[{\"type\":\"parcoords\",\"line\":{\"colorbar\":{\"outlinewidth\":0,\"ticks\":\"\"}}}],\"scatterpolargl\":[{\"type\":\"scatterpolargl\",\"marker\":{\"colorbar\":{\"outlinewidth\":0,\"ticks\":\"\"}}}],\"bar\":[{\"error_x\":{\"color\":\"#2a3f5f\"},\"error_y\":{\"color\":\"#2a3f5f\"},\"marker\":{\"line\":{\"color\":\"#E5ECF6\",\"width\":0.5},\"pattern\":{\"fillmode\":\"overlay\",\"size\":10,\"solidity\":0.2}},\"type\":\"bar\"}],\"scattergeo\":[{\"type\":\"scattergeo\",\"marker\":{\"colorbar\":{\"outlinewidth\":0,\"ticks\":\"\"}}}],\"scatterpolar\":[{\"type\":\"scatterpolar\",\"marker\":{\"colorbar\":{\"outlinewidth\":0,\"ticks\":\"\"}}}],\"histogram\":[{\"marker\":{\"pattern\":{\"fillmode\":\"overlay\",\"size\":10,\"solidity\":0.2}},\"type\":\"histogram\"}],\"scattergl\":[{\"type\":\"scattergl\",\"marker\":{\"colorbar\":{\"outlinewidth\":0,\"ticks\":\"\"}}}],\"scatter3d\":[{\"type\":\"scatter3d\",\"line\":{\"colorbar\":{\"outlinewidth\":0,\"ticks\":\"\"}},\"marker\":{\"colorbar\":{\"outlinewidth\":0,\"ticks\":\"\"}}}],\"scattermapbox\":[{\"type\":\"scattermapbox\",\"marker\":{\"colorbar\":{\"outlinewidth\":0,\"ticks\":\"\"}}}],\"scatterternary\":[{\"type\":\"scatterternary\",\"marker\":{\"colorbar\":{\"outlinewidth\":0,\"ticks\":\"\"}}}],\"scattercarpet\":[{\"type\":\"scattercarpet\",\"marker\":{\"colorbar\":{\"outlinewidth\":0,\"ticks\":\"\"}}}],\"carpet\":[{\"aaxis\":{\"endlinecolor\":\"#2a3f5f\",\"gridcolor\":\"white\",\"linecolor\":\"white\",\"minorgridcolor\":\"white\",\"startlinecolor\":\"#2a3f5f\"},\"baxis\":{\"endlinecolor\":\"#2a3f5f\",\"gridcolor\":\"white\",\"linecolor\":\"white\",\"minorgridcolor\":\"white\",\"startlinecolor\":\"#2a3f5f\"},\"type\":\"carpet\"}],\"table\":[{\"cells\":{\"fill\":{\"color\":\"#EBF0F8\"},\"line\":{\"color\":\"white\"}},\"header\":{\"fill\":{\"color\":\"#C8D4E3\"},\"line\":{\"color\":\"white\"}},\"type\":\"table\"}],\"barpolar\":[{\"marker\":{\"line\":{\"color\":\"#E5ECF6\",\"width\":0.5},\"pattern\":{\"fillmode\":\"overlay\",\"size\":10,\"solidity\":0.2}},\"type\":\"barpolar\"}],\"pie\":[{\"automargin\":true,\"type\":\"pie\"}]},\"layout\":{\"autotypenumbers\":\"strict\",\"colorway\":[\"#636efa\",\"#EF553B\",\"#00cc96\",\"#ab63fa\",\"#FFA15A\",\"#19d3f3\",\"#FF6692\",\"#B6E880\",\"#FF97FF\",\"#FECB52\"],\"font\":{\"color\":\"#2a3f5f\"},\"hovermode\":\"closest\",\"hoverlabel\":{\"align\":\"left\"},\"paper_bgcolor\":\"white\",\"plot_bgcolor\":\"#E5ECF6\",\"polar\":{\"bgcolor\":\"#E5ECF6\",\"angularaxis\":{\"gridcolor\":\"white\",\"linecolor\":\"white\",\"ticks\":\"\"},\"radialaxis\":{\"gridcolor\":\"white\",\"linecolor\":\"white\",\"ticks\":\"\"}},\"ternary\":{\"bgcolor\":\"#E5ECF6\",\"aaxis\":{\"gridcolor\":\"white\",\"linecolor\":\"white\",\"ticks\":\"\"},\"baxis\":{\"gridcolor\":\"white\",\"linecolor\":\"white\",\"ticks\":\"\"},\"caxis\":{\"gridcolor\":\"white\",\"linecolor\":\"white\",\"ticks\":\"\"}},\"coloraxis\":{\"colorbar\":{\"outlinewidth\":0,\"ticks\":\"\"}},\"colorscale\":{\"sequential\":[[0.0,\"#0d0887\"],[0.1111111111111111,\"#46039f\"],[0.2222222222222222,\"#7201a8\"],[0.3333333333333333,\"#9c179e\"],[0.4444444444444444,\"#bd3786\"],[0.5555555555555556,\"#d8576b\"],[0.6666666666666666,\"#ed7953\"],[0.7777777777777778,\"#fb9f3a\"],[0.8888888888888888,\"#fdca26\"],[1.0,\"#f0f921\"]],\"sequentialminus\":[[0.0,\"#0d0887\"],[0.1111111111111111,\"#46039f\"],[0.2222222222222222,\"#7201a8\"],[0.3333333333333333,\"#9c179e\"],[0.4444444444444444,\"#bd3786\"],[0.5555555555555556,\"#d8576b\"],[0.6666666666666666,\"#ed7953\"],[0.7777777777777778,\"#fb9f3a\"],[0.8888888888888888,\"#fdca26\"],[1.0,\"#f0f921\"]],\"diverging\":[[0,\"#8e0152\"],[0.1,\"#c51b7d\"],[0.2,\"#de77ae\"],[0.3,\"#f1b6da\"],[0.4,\"#fde0ef\"],[0.5,\"#f7f7f7\"],[0.6,\"#e6f5d0\"],[0.7,\"#b8e186\"],[0.8,\"#7fbc41\"],[0.9,\"#4d9221\"],[1,\"#276419\"]]},\"xaxis\":{\"gridcolor\":\"white\",\"linecolor\":\"white\",\"ticks\":\"\",\"title\":{\"standoff\":15},\"zerolinecolor\":\"white\",\"automargin\":true,\"zerolinewidth\":2},\"yaxis\":{\"gridcolor\":\"white\",\"linecolor\":\"white\",\"ticks\":\"\",\"title\":{\"standoff\":15},\"zerolinecolor\":\"white\",\"automargin\":true,\"zerolinewidth\":2},\"scene\":{\"xaxis\":{\"backgroundcolor\":\"#E5ECF6\",\"gridcolor\":\"white\",\"linecolor\":\"white\",\"showbackground\":true,\"ticks\":\"\",\"zerolinecolor\":\"white\",\"gridwidth\":2},\"yaxis\":{\"backgroundcolor\":\"#E5ECF6\",\"gridcolor\":\"white\",\"linecolor\":\"white\",\"showbackground\":true,\"ticks\":\"\",\"zerolinecolor\":\"white\",\"gridwidth\":2},\"zaxis\":{\"backgroundcolor\":\"#E5ECF6\",\"gridcolor\":\"white\",\"linecolor\":\"white\",\"showbackground\":true,\"ticks\":\"\",\"zerolinecolor\":\"white\",\"gridwidth\":2}},\"shapedefaults\":{\"line\":{\"color\":\"#2a3f5f\"}},\"annotationdefaults\":{\"arrowcolor\":\"#2a3f5f\",\"arrowhead\":0,\"arrowwidth\":1},\"geo\":{\"bgcolor\":\"white\",\"landcolor\":\"#E5ECF6\",\"subunitcolor\":\"white\",\"showland\":true,\"showlakes\":true,\"lakecolor\":\"white\"},\"title\":{\"x\":0.05},\"mapbox\":{\"style\":\"light\"}}},\"xaxis\":{\"anchor\":\"y\",\"domain\":[0.0,1.0],\"title\":{\"text\":\"flipper_length_mm\"}},\"yaxis\":{\"anchor\":\"x\",\"domain\":[0.0,1.0],\"title\":{\"text\":\"count\"}},\"legend\":{\"tracegroupgap\":0},\"title\":{\"text\":\"Chinstrap Flipper Length\"},\"barmode\":\"relative\",\"shapes\":[{\"line\":{\"color\":\"blue\",\"dash\":\"dash\"},\"type\":\"line\",\"x0\":195.8235294117647,\"x1\":195.8235294117647,\"xref\":\"x\",\"y0\":0,\"y1\":1,\"yref\":\"y domain\"},{\"line\":{\"color\":\"green\",\"dash\":\"dot\"},\"type\":\"line\",\"x0\":196.0,\"x1\":196.0,\"xref\":\"x\",\"y0\":0,\"y1\":1,\"yref\":\"y domain\"},{\"fillcolor\":\"red\",\"line\":{\"width\":0},\"opacity\":0.2,\"type\":\"rect\",\"x0\":191.0,\"x1\":201.0,\"xref\":\"x\",\"y0\":0,\"y1\":1,\"yref\":\"y domain\"},{\"fillcolor\":\"yellow\",\"line\":{\"width\":0},\"opacity\":0.1,\"type\":\"rect\",\"x0\":181.5597408946084,\"x1\":210.08731792892098,\"xref\":\"x\",\"y0\":0,\"y1\":1,\"yref\":\"y domain\"},{\"fillcolor\":\"purple\",\"line\":{\"dash\":\"dot\",\"width\":1},\"opacity\":0.05,\"type\":\"rect\",\"x0\":178.0,\"x1\":212.0,\"xref\":\"x\",\"y0\":0,\"y1\":1,\"yref\":\"y domain\"}],\"annotations\":[{\"showarrow\":false,\"text\":\"Mean\",\"x\":195.8235294117647,\"xanchor\":\"right\",\"xref\":\"x\",\"y\":1,\"yanchor\":\"top\",\"yref\":\"y domain\"},{\"showarrow\":false,\"text\":\"Median\",\"x\":196.0,\"xanchor\":\"left\",\"xref\":\"x\",\"y\":1,\"yanchor\":\"top\",\"yref\":\"y domain\"},{\"showarrow\":false,\"text\":\"IQR\",\"x\":201.0,\"xanchor\":\"right\",\"xref\":\"x\",\"y\":1,\"yanchor\":\"top\",\"yref\":\"y domain\"},{\"showarrow\":false,\"text\":\"\\u00b12 Std Dev\",\"x\":210.08731792892098,\"xanchor\":\"right\",\"xref\":\"x\",\"y\":1,\"yanchor\":\"top\",\"yref\":\"y domain\"},{\"showarrow\":false,\"text\":\"Range\",\"x\":212.0,\"xanchor\":\"right\",\"xref\":\"x\",\"y\":1,\"yanchor\":\"top\",\"yref\":\"y domain\"}],\"showlegend\":false},                        {\"responsive\": true}                    ).then(function(){\n",
       "                            \n",
       "var gd = document.getElementById('8ef91e92-788e-4972-b921-72a3fe7867ee');\n",
       "var x = new MutationObserver(function (mutations, observer) {{\n",
       "        var display = window.getComputedStyle(gd).display;\n",
       "        if (!display || display === 'none') {{\n",
       "            console.log([gd, 'removed!']);\n",
       "            Plotly.purge(gd);\n",
       "            observer.disconnect();\n",
       "        }}\n",
       "}});\n",
       "\n",
       "// Listen for the removal of the full notebook cells\n",
       "var notebookContainer = gd.closest('#notebook-container');\n",
       "if (notebookContainer) {{\n",
       "    x.observe(notebookContainer, {childList: true});\n",
       "}}\n",
       "\n",
       "// Listen for the clearing of the current output cell\n",
       "var outputEl = gd.closest('.output');\n",
       "if (outputEl) {{\n",
       "    x.observe(outputEl, {childList: true});\n",
       "}}\n",
       "\n",
       "                        })                };                });            </script>        </div>"
      ]
     },
     "metadata": {},
     "output_type": "display_data"
    },
    {
     "data": {
      "application/vnd.plotly.v1+json": {
       "config": {
        "plotlyServerURL": "https://plot.ly"
       },
       "data": [
        {
         "alignmentgroup": "True",
         "bingroup": "x",
         "hovertemplate": "flipper_length_mm=%{x}<br>count=%{y}<extra></extra>",
         "legendgroup": "",
         "marker": {
          "color": "#636efa",
          "pattern": {
           "shape": ""
          }
         },
         "name": "",
         "offsetgroup": "",
         "orientation": "v",
         "showlegend": false,
         "type": "histogram",
         "x": [
          211,
          230,
          210,
          218,
          215,
          210,
          211,
          219,
          209,
          215,
          214,
          216,
          214,
          213,
          210,
          217,
          210,
          221,
          209,
          222,
          218,
          215,
          213,
          215,
          215,
          215,
          216,
          215,
          210,
          220,
          222,
          209,
          207,
          230,
          220,
          220,
          213,
          219,
          208,
          208,
          208,
          225,
          210,
          216,
          222,
          217,
          210,
          225,
          213,
          215,
          210,
          220,
          210,
          225,
          217,
          220,
          208,
          220,
          208,
          224,
          208,
          221,
          214,
          231,
          219,
          230,
          214,
          229,
          220,
          223,
          216,
          221,
          221,
          217,
          216,
          230,
          209,
          220,
          215,
          223,
          212,
          221,
          212,
          224,
          212,
          228,
          218,
          218,
          212,
          230,
          218,
          228,
          212,
          224,
          214,
          226,
          216,
          222,
          203,
          225,
          219,
          228,
          215,
          228,
          216,
          215,
          210,
          219,
          208,
          209,
          216,
          229,
          213,
          230,
          217,
          230,
          217,
          222,
          214,
          null,
          215,
          222,
          212,
          213
         ],
         "xaxis": "x",
         "yaxis": "y"
        }
       ],
       "layout": {
        "annotations": [
         {
          "showarrow": false,
          "text": "Mean",
          "x": 217.1869918699187,
          "xanchor": "right",
          "xref": "x",
          "y": 1,
          "yanchor": "top",
          "yref": "y domain"
         },
         {
          "showarrow": false,
          "text": "Median",
          "x": 216,
          "xanchor": "left",
          "xref": "x",
          "y": 1,
          "yanchor": "top",
          "yref": "y domain"
         },
         {
          "showarrow": false,
          "text": "IQR",
          "x": 221,
          "xanchor": "right",
          "xref": "x",
          "y": 1,
          "yanchor": "top",
          "yref": "y domain"
         },
         {
          "showarrow": false,
          "text": "±2 Std Dev",
          "x": 230.1569435072666,
          "xanchor": "right",
          "xref": "x",
          "y": 1,
          "yanchor": "top",
          "yref": "y domain"
         },
         {
          "showarrow": false,
          "text": "Range",
          "x": 231,
          "xanchor": "right",
          "xref": "x",
          "y": 1,
          "yanchor": "top",
          "yref": "y domain"
         }
        ],
        "autosize": true,
        "barmode": "relative",
        "legend": {
         "tracegroupgap": 0
        },
        "shapes": [
         {
          "line": {
           "color": "blue",
           "dash": "dash"
          },
          "type": "line",
          "x0": 217.1869918699187,
          "x1": 217.1869918699187,
          "xref": "x",
          "y0": 0,
          "y1": 1,
          "yref": "y domain"
         },
         {
          "line": {
           "color": "green",
           "dash": "dot"
          },
          "type": "line",
          "x0": 216,
          "x1": 216,
          "xref": "x",
          "y0": 0,
          "y1": 1,
          "yref": "y domain"
         },
         {
          "fillcolor": "red",
          "line": {
           "width": 0
          },
          "opacity": 0.2,
          "type": "rect",
          "x0": 212,
          "x1": 221,
          "xref": "x",
          "y0": 0,
          "y1": 1,
          "yref": "y domain"
         },
         {
          "fillcolor": "yellow",
          "line": {
           "width": 0
          },
          "opacity": 0.1,
          "type": "rect",
          "x0": 204.2170402325708,
          "x1": 230.1569435072666,
          "xref": "x",
          "y0": 0,
          "y1": 1,
          "yref": "y domain"
         },
         {
          "fillcolor": "purple",
          "line": {
           "dash": "dot",
           "width": 1
          },
          "opacity": 0.05,
          "type": "rect",
          "x0": 203,
          "x1": 231,
          "xref": "x",
          "y0": 0,
          "y1": 1,
          "yref": "y domain"
         }
        ],
        "showlegend": false,
        "template": {
         "data": {
          "bar": [
           {
            "error_x": {
             "color": "#2a3f5f"
            },
            "error_y": {
             "color": "#2a3f5f"
            },
            "marker": {
             "line": {
              "color": "#E5ECF6",
              "width": 0.5
             },
             "pattern": {
              "fillmode": "overlay",
              "size": 10,
              "solidity": 0.2
             }
            },
            "type": "bar"
           }
          ],
          "barpolar": [
           {
            "marker": {
             "line": {
              "color": "#E5ECF6",
              "width": 0.5
             },
             "pattern": {
              "fillmode": "overlay",
              "size": 10,
              "solidity": 0.2
             }
            },
            "type": "barpolar"
           }
          ],
          "carpet": [
           {
            "aaxis": {
             "endlinecolor": "#2a3f5f",
             "gridcolor": "white",
             "linecolor": "white",
             "minorgridcolor": "white",
             "startlinecolor": "#2a3f5f"
            },
            "baxis": {
             "endlinecolor": "#2a3f5f",
             "gridcolor": "white",
             "linecolor": "white",
             "minorgridcolor": "white",
             "startlinecolor": "#2a3f5f"
            },
            "type": "carpet"
           }
          ],
          "choropleth": [
           {
            "colorbar": {
             "outlinewidth": 0,
             "ticks": ""
            },
            "type": "choropleth"
           }
          ],
          "contour": [
           {
            "colorbar": {
             "outlinewidth": 0,
             "ticks": ""
            },
            "colorscale": [
             [
              0,
              "#0d0887"
             ],
             [
              0.1111111111111111,
              "#46039f"
             ],
             [
              0.2222222222222222,
              "#7201a8"
             ],
             [
              0.3333333333333333,
              "#9c179e"
             ],
             [
              0.4444444444444444,
              "#bd3786"
             ],
             [
              0.5555555555555556,
              "#d8576b"
             ],
             [
              0.6666666666666666,
              "#ed7953"
             ],
             [
              0.7777777777777778,
              "#fb9f3a"
             ],
             [
              0.8888888888888888,
              "#fdca26"
             ],
             [
              1,
              "#f0f921"
             ]
            ],
            "type": "contour"
           }
          ],
          "contourcarpet": [
           {
            "colorbar": {
             "outlinewidth": 0,
             "ticks": ""
            },
            "type": "contourcarpet"
           }
          ],
          "heatmap": [
           {
            "colorbar": {
             "outlinewidth": 0,
             "ticks": ""
            },
            "colorscale": [
             [
              0,
              "#0d0887"
             ],
             [
              0.1111111111111111,
              "#46039f"
             ],
             [
              0.2222222222222222,
              "#7201a8"
             ],
             [
              0.3333333333333333,
              "#9c179e"
             ],
             [
              0.4444444444444444,
              "#bd3786"
             ],
             [
              0.5555555555555556,
              "#d8576b"
             ],
             [
              0.6666666666666666,
              "#ed7953"
             ],
             [
              0.7777777777777778,
              "#fb9f3a"
             ],
             [
              0.8888888888888888,
              "#fdca26"
             ],
             [
              1,
              "#f0f921"
             ]
            ],
            "type": "heatmap"
           }
          ],
          "heatmapgl": [
           {
            "colorbar": {
             "outlinewidth": 0,
             "ticks": ""
            },
            "colorscale": [
             [
              0,
              "#0d0887"
             ],
             [
              0.1111111111111111,
              "#46039f"
             ],
             [
              0.2222222222222222,
              "#7201a8"
             ],
             [
              0.3333333333333333,
              "#9c179e"
             ],
             [
              0.4444444444444444,
              "#bd3786"
             ],
             [
              0.5555555555555556,
              "#d8576b"
             ],
             [
              0.6666666666666666,
              "#ed7953"
             ],
             [
              0.7777777777777778,
              "#fb9f3a"
             ],
             [
              0.8888888888888888,
              "#fdca26"
             ],
             [
              1,
              "#f0f921"
             ]
            ],
            "type": "heatmapgl"
           }
          ],
          "histogram": [
           {
            "marker": {
             "pattern": {
              "fillmode": "overlay",
              "size": 10,
              "solidity": 0.2
             }
            },
            "type": "histogram"
           }
          ],
          "histogram2d": [
           {
            "colorbar": {
             "outlinewidth": 0,
             "ticks": ""
            },
            "colorscale": [
             [
              0,
              "#0d0887"
             ],
             [
              0.1111111111111111,
              "#46039f"
             ],
             [
              0.2222222222222222,
              "#7201a8"
             ],
             [
              0.3333333333333333,
              "#9c179e"
             ],
             [
              0.4444444444444444,
              "#bd3786"
             ],
             [
              0.5555555555555556,
              "#d8576b"
             ],
             [
              0.6666666666666666,
              "#ed7953"
             ],
             [
              0.7777777777777778,
              "#fb9f3a"
             ],
             [
              0.8888888888888888,
              "#fdca26"
             ],
             [
              1,
              "#f0f921"
             ]
            ],
            "type": "histogram2d"
           }
          ],
          "histogram2dcontour": [
           {
            "colorbar": {
             "outlinewidth": 0,
             "ticks": ""
            },
            "colorscale": [
             [
              0,
              "#0d0887"
             ],
             [
              0.1111111111111111,
              "#46039f"
             ],
             [
              0.2222222222222222,
              "#7201a8"
             ],
             [
              0.3333333333333333,
              "#9c179e"
             ],
             [
              0.4444444444444444,
              "#bd3786"
             ],
             [
              0.5555555555555556,
              "#d8576b"
             ],
             [
              0.6666666666666666,
              "#ed7953"
             ],
             [
              0.7777777777777778,
              "#fb9f3a"
             ],
             [
              0.8888888888888888,
              "#fdca26"
             ],
             [
              1,
              "#f0f921"
             ]
            ],
            "type": "histogram2dcontour"
           }
          ],
          "mesh3d": [
           {
            "colorbar": {
             "outlinewidth": 0,
             "ticks": ""
            },
            "type": "mesh3d"
           }
          ],
          "parcoords": [
           {
            "line": {
             "colorbar": {
              "outlinewidth": 0,
              "ticks": ""
             }
            },
            "type": "parcoords"
           }
          ],
          "pie": [
           {
            "automargin": true,
            "type": "pie"
           }
          ],
          "scatter": [
           {
            "fillpattern": {
             "fillmode": "overlay",
             "size": 10,
             "solidity": 0.2
            },
            "type": "scatter"
           }
          ],
          "scatter3d": [
           {
            "line": {
             "colorbar": {
              "outlinewidth": 0,
              "ticks": ""
             }
            },
            "marker": {
             "colorbar": {
              "outlinewidth": 0,
              "ticks": ""
             }
            },
            "type": "scatter3d"
           }
          ],
          "scattercarpet": [
           {
            "marker": {
             "colorbar": {
              "outlinewidth": 0,
              "ticks": ""
             }
            },
            "type": "scattercarpet"
           }
          ],
          "scattergeo": [
           {
            "marker": {
             "colorbar": {
              "outlinewidth": 0,
              "ticks": ""
             }
            },
            "type": "scattergeo"
           }
          ],
          "scattergl": [
           {
            "marker": {
             "colorbar": {
              "outlinewidth": 0,
              "ticks": ""
             }
            },
            "type": "scattergl"
           }
          ],
          "scattermapbox": [
           {
            "marker": {
             "colorbar": {
              "outlinewidth": 0,
              "ticks": ""
             }
            },
            "type": "scattermapbox"
           }
          ],
          "scatterpolar": [
           {
            "marker": {
             "colorbar": {
              "outlinewidth": 0,
              "ticks": ""
             }
            },
            "type": "scatterpolar"
           }
          ],
          "scatterpolargl": [
           {
            "marker": {
             "colorbar": {
              "outlinewidth": 0,
              "ticks": ""
             }
            },
            "type": "scatterpolargl"
           }
          ],
          "scatterternary": [
           {
            "marker": {
             "colorbar": {
              "outlinewidth": 0,
              "ticks": ""
             }
            },
            "type": "scatterternary"
           }
          ],
          "surface": [
           {
            "colorbar": {
             "outlinewidth": 0,
             "ticks": ""
            },
            "colorscale": [
             [
              0,
              "#0d0887"
             ],
             [
              0.1111111111111111,
              "#46039f"
             ],
             [
              0.2222222222222222,
              "#7201a8"
             ],
             [
              0.3333333333333333,
              "#9c179e"
             ],
             [
              0.4444444444444444,
              "#bd3786"
             ],
             [
              0.5555555555555556,
              "#d8576b"
             ],
             [
              0.6666666666666666,
              "#ed7953"
             ],
             [
              0.7777777777777778,
              "#fb9f3a"
             ],
             [
              0.8888888888888888,
              "#fdca26"
             ],
             [
              1,
              "#f0f921"
             ]
            ],
            "type": "surface"
           }
          ],
          "table": [
           {
            "cells": {
             "fill": {
              "color": "#EBF0F8"
             },
             "line": {
              "color": "white"
             }
            },
            "header": {
             "fill": {
              "color": "#C8D4E3"
             },
             "line": {
              "color": "white"
             }
            },
            "type": "table"
           }
          ]
         },
         "layout": {
          "annotationdefaults": {
           "arrowcolor": "#2a3f5f",
           "arrowhead": 0,
           "arrowwidth": 1
          },
          "autotypenumbers": "strict",
          "coloraxis": {
           "colorbar": {
            "outlinewidth": 0,
            "ticks": ""
           }
          },
          "colorscale": {
           "diverging": [
            [
             0,
             "#8e0152"
            ],
            [
             0.1,
             "#c51b7d"
            ],
            [
             0.2,
             "#de77ae"
            ],
            [
             0.3,
             "#f1b6da"
            ],
            [
             0.4,
             "#fde0ef"
            ],
            [
             0.5,
             "#f7f7f7"
            ],
            [
             0.6,
             "#e6f5d0"
            ],
            [
             0.7,
             "#b8e186"
            ],
            [
             0.8,
             "#7fbc41"
            ],
            [
             0.9,
             "#4d9221"
            ],
            [
             1,
             "#276419"
            ]
           ],
           "sequential": [
            [
             0,
             "#0d0887"
            ],
            [
             0.1111111111111111,
             "#46039f"
            ],
            [
             0.2222222222222222,
             "#7201a8"
            ],
            [
             0.3333333333333333,
             "#9c179e"
            ],
            [
             0.4444444444444444,
             "#bd3786"
            ],
            [
             0.5555555555555556,
             "#d8576b"
            ],
            [
             0.6666666666666666,
             "#ed7953"
            ],
            [
             0.7777777777777778,
             "#fb9f3a"
            ],
            [
             0.8888888888888888,
             "#fdca26"
            ],
            [
             1,
             "#f0f921"
            ]
           ],
           "sequentialminus": [
            [
             0,
             "#0d0887"
            ],
            [
             0.1111111111111111,
             "#46039f"
            ],
            [
             0.2222222222222222,
             "#7201a8"
            ],
            [
             0.3333333333333333,
             "#9c179e"
            ],
            [
             0.4444444444444444,
             "#bd3786"
            ],
            [
             0.5555555555555556,
             "#d8576b"
            ],
            [
             0.6666666666666666,
             "#ed7953"
            ],
            [
             0.7777777777777778,
             "#fb9f3a"
            ],
            [
             0.8888888888888888,
             "#fdca26"
            ],
            [
             1,
             "#f0f921"
            ]
           ]
          },
          "colorway": [
           "#636efa",
           "#EF553B",
           "#00cc96",
           "#ab63fa",
           "#FFA15A",
           "#19d3f3",
           "#FF6692",
           "#B6E880",
           "#FF97FF",
           "#FECB52"
          ],
          "font": {
           "color": "#2a3f5f"
          },
          "geo": {
           "bgcolor": "white",
           "lakecolor": "white",
           "landcolor": "#E5ECF6",
           "showlakes": true,
           "showland": true,
           "subunitcolor": "white"
          },
          "hoverlabel": {
           "align": "left"
          },
          "hovermode": "closest",
          "mapbox": {
           "style": "light"
          },
          "paper_bgcolor": "white",
          "plot_bgcolor": "#E5ECF6",
          "polar": {
           "angularaxis": {
            "gridcolor": "white",
            "linecolor": "white",
            "ticks": ""
           },
           "bgcolor": "#E5ECF6",
           "radialaxis": {
            "gridcolor": "white",
            "linecolor": "white",
            "ticks": ""
           }
          },
          "scene": {
           "xaxis": {
            "backgroundcolor": "#E5ECF6",
            "gridcolor": "white",
            "gridwidth": 2,
            "linecolor": "white",
            "showbackground": true,
            "ticks": "",
            "zerolinecolor": "white"
           },
           "yaxis": {
            "backgroundcolor": "#E5ECF6",
            "gridcolor": "white",
            "gridwidth": 2,
            "linecolor": "white",
            "showbackground": true,
            "ticks": "",
            "zerolinecolor": "white"
           },
           "zaxis": {
            "backgroundcolor": "#E5ECF6",
            "gridcolor": "white",
            "gridwidth": 2,
            "linecolor": "white",
            "showbackground": true,
            "ticks": "",
            "zerolinecolor": "white"
           }
          },
          "shapedefaults": {
           "line": {
            "color": "#2a3f5f"
           }
          },
          "ternary": {
           "aaxis": {
            "gridcolor": "white",
            "linecolor": "white",
            "ticks": ""
           },
           "baxis": {
            "gridcolor": "white",
            "linecolor": "white",
            "ticks": ""
           },
           "bgcolor": "#E5ECF6",
           "caxis": {
            "gridcolor": "white",
            "linecolor": "white",
            "ticks": ""
           }
          },
          "title": {
           "x": 0.05
          },
          "xaxis": {
           "automargin": true,
           "gridcolor": "white",
           "linecolor": "white",
           "ticks": "",
           "title": {
            "standoff": 15
           },
           "zerolinecolor": "white",
           "zerolinewidth": 2
          },
          "yaxis": {
           "automargin": true,
           "gridcolor": "white",
           "linecolor": "white",
           "ticks": "",
           "title": {
            "standoff": 15
           },
           "zerolinecolor": "white",
           "zerolinewidth": 2
          }
         }
        },
        "title": {
         "text": "Gentoo Flipper Length"
        },
        "xaxis": {
         "anchor": "y",
         "autorange": true,
         "domain": [
          0,
          1
         ],
         "range": [
          201.5,
          231.5
         ],
         "title": {
          "text": "flipper_length_mm"
         },
         "type": "linear"
        },
        "yaxis": {
         "anchor": "x",
         "autorange": true,
         "domain": [
          0,
          1
         ],
         "range": [
          0,
          18.94736842105263
         ],
         "title": {
          "text": "count"
         }
        }
       }
      },
      "image/png": "[encoded data removed]",
      "text/html": [
       "<div>                            <div id=\"53863aef-35cf-4e89-82f2-fc301b8793cf\" class=\"plotly-graph-div\" style=\"height:525px; width:100%;\"></div>            <script type=\"text/javascript\">                require([\"plotly\"], function(Plotly) {                    window.PLOTLYENV=window.PLOTLYENV || {};                                    if (document.getElementById(\"53863aef-35cf-4e89-82f2-fc301b8793cf\")) {                    Plotly.newPlot(                        \"53863aef-35cf-4e89-82f2-fc301b8793cf\",                        [{\"alignmentgroup\":\"True\",\"bingroup\":\"x\",\"hovertemplate\":\"flipper_length_mm=%{x}\\u003cbr\\u003ecount=%{y}\\u003cextra\\u003e\\u003c\\u002fextra\\u003e\",\"legendgroup\":\"\",\"marker\":{\"color\":\"#636efa\",\"pattern\":{\"shape\":\"\"}},\"name\":\"\",\"offsetgroup\":\"\",\"orientation\":\"v\",\"showlegend\":false,\"x\":[211.0,230.0,210.0,218.0,215.0,210.0,211.0,219.0,209.0,215.0,214.0,216.0,214.0,213.0,210.0,217.0,210.0,221.0,209.0,222.0,218.0,215.0,213.0,215.0,215.0,215.0,216.0,215.0,210.0,220.0,222.0,209.0,207.0,230.0,220.0,220.0,213.0,219.0,208.0,208.0,208.0,225.0,210.0,216.0,222.0,217.0,210.0,225.0,213.0,215.0,210.0,220.0,210.0,225.0,217.0,220.0,208.0,220.0,208.0,224.0,208.0,221.0,214.0,231.0,219.0,230.0,214.0,229.0,220.0,223.0,216.0,221.0,221.0,217.0,216.0,230.0,209.0,220.0,215.0,223.0,212.0,221.0,212.0,224.0,212.0,228.0,218.0,218.0,212.0,230.0,218.0,228.0,212.0,224.0,214.0,226.0,216.0,222.0,203.0,225.0,219.0,228.0,215.0,228.0,216.0,215.0,210.0,219.0,208.0,209.0,216.0,229.0,213.0,230.0,217.0,230.0,217.0,222.0,214.0,null,215.0,222.0,212.0,213.0],\"xaxis\":\"x\",\"yaxis\":\"y\",\"type\":\"histogram\"}],                        {\"template\":{\"data\":{\"histogram2dcontour\":[{\"type\":\"histogram2dcontour\",\"colorbar\":{\"outlinewidth\":0,\"ticks\":\"\"},\"colorscale\":[[0.0,\"#0d0887\"],[0.1111111111111111,\"#46039f\"],[0.2222222222222222,\"#7201a8\"],[0.3333333333333333,\"#9c179e\"],[0.4444444444444444,\"#bd3786\"],[0.5555555555555556,\"#d8576b\"],[0.6666666666666666,\"#ed7953\"],[0.7777777777777778,\"#fb9f3a\"],[0.8888888888888888,\"#fdca26\"],[1.0,\"#f0f921\"]]}],\"choropleth\":[{\"type\":\"choropleth\",\"colorbar\":{\"outlinewidth\":0,\"ticks\":\"\"}}],\"histogram2d\":[{\"type\":\"histogram2d\",\"colorbar\":{\"outlinewidth\":0,\"ticks\":\"\"},\"colorscale\":[[0.0,\"#0d0887\"],[0.1111111111111111,\"#46039f\"],[0.2222222222222222,\"#7201a8\"],[0.3333333333333333,\"#9c179e\"],[0.4444444444444444,\"#bd3786\"],[0.5555555555555556,\"#d8576b\"],[0.6666666666666666,\"#ed7953\"],[0.7777777777777778,\"#fb9f3a\"],[0.8888888888888888,\"#fdca26\"],[1.0,\"#f0f921\"]]}],\"heatmap\":[{\"type\":\"heatmap\",\"colorbar\":{\"outlinewidth\":0,\"ticks\":\"\"},\"colorscale\":[[0.0,\"#0d0887\"],[0.1111111111111111,\"#46039f\"],[0.2222222222222222,\"#7201a8\"],[0.3333333333333333,\"#9c179e\"],[0.4444444444444444,\"#bd3786\"],[0.5555555555555556,\"#d8576b\"],[0.6666666666666666,\"#ed7953\"],[0.7777777777777778,\"#fb9f3a\"],[0.8888888888888888,\"#fdca26\"],[1.0,\"#f0f921\"]]}],\"heatmapgl\":[{\"type\":\"heatmapgl\",\"colorbar\":{\"outlinewidth\":0,\"ticks\":\"\"},\"colorscale\":[[0.0,\"#0d0887\"],[0.1111111111111111,\"#46039f\"],[0.2222222222222222,\"#7201a8\"],[0.3333333333333333,\"#9c179e\"],[0.4444444444444444,\"#bd3786\"],[0.5555555555555556,\"#d8576b\"],[0.6666666666666666,\"#ed7953\"],[0.7777777777777778,\"#fb9f3a\"],[0.8888888888888888,\"#fdca26\"],[1.0,\"#f0f921\"]]}],\"contourcarpet\":[{\"type\":\"contourcarpet\",\"colorbar\":{\"outlinewidth\":0,\"ticks\":\"\"}}],\"contour\":[{\"type\":\"contour\",\"colorbar\":{\"outlinewidth\":0,\"ticks\":\"\"},\"colorscale\":[[0.0,\"#0d0887\"],[0.1111111111111111,\"#46039f\"],[0.2222222222222222,\"#7201a8\"],[0.3333333333333333,\"#9c179e\"],[0.4444444444444444,\"#bd3786\"],[0.5555555555555556,\"#d8576b\"],[0.6666666666666666,\"#ed7953\"],[0.7777777777777778,\"#fb9f3a\"],[0.8888888888888888,\"#fdca26\"],[1.0,\"#f0f921\"]]}],\"surface\":[{\"type\":\"surface\",\"colorbar\":{\"outlinewidth\":0,\"ticks\":\"\"},\"colorscale\":[[0.0,\"#0d0887\"],[0.1111111111111111,\"#46039f\"],[0.2222222222222222,\"#7201a8\"],[0.3333333333333333,\"#9c179e\"],[0.4444444444444444,\"#bd3786\"],[0.5555555555555556,\"#d8576b\"],[0.6666666666666666,\"#ed7953\"],[0.7777777777777778,\"#fb9f3a\"],[0.8888888888888888,\"#fdca26\"],[1.0,\"#f0f921\"]]}],\"mesh3d\":[{\"type\":\"mesh3d\",\"colorbar\":{\"outlinewidth\":0,\"ticks\":\"\"}}],\"scatter\":[{\"fillpattern\":{\"fillmode\":\"overlay\",\"size\":10,\"solidity\":0.2},\"type\":\"scatter\"}],\"parcoords\":[{\"type\":\"parcoords\",\"line\":{\"colorbar\":{\"outlinewidth\":0,\"ticks\":\"\"}}}],\"scatterpolargl\":[{\"type\":\"scatterpolargl\",\"marker\":{\"colorbar\":{\"outlinewidth\":0,\"ticks\":\"\"}}}],\"bar\":[{\"error_x\":{\"color\":\"#2a3f5f\"},\"error_y\":{\"color\":\"#2a3f5f\"},\"marker\":{\"line\":{\"color\":\"#E5ECF6\",\"width\":0.5},\"pattern\":{\"fillmode\":\"overlay\",\"size\":10,\"solidity\":0.2}},\"type\":\"bar\"}],\"scattergeo\":[{\"type\":\"scattergeo\",\"marker\":{\"colorbar\":{\"outlinewidth\":0,\"ticks\":\"\"}}}],\"scatterpolar\":[{\"type\":\"scatterpolar\",\"marker\":{\"colorbar\":{\"outlinewidth\":0,\"ticks\":\"\"}}}],\"histogram\":[{\"marker\":{\"pattern\":{\"fillmode\":\"overlay\",\"size\":10,\"solidity\":0.2}},\"type\":\"histogram\"}],\"scattergl\":[{\"type\":\"scattergl\",\"marker\":{\"colorbar\":{\"outlinewidth\":0,\"ticks\":\"\"}}}],\"scatter3d\":[{\"type\":\"scatter3d\",\"line\":{\"colorbar\":{\"outlinewidth\":0,\"ticks\":\"\"}},\"marker\":{\"colorbar\":{\"outlinewidth\":0,\"ticks\":\"\"}}}],\"scattermapbox\":[{\"type\":\"scattermapbox\",\"marker\":{\"colorbar\":{\"outlinewidth\":0,\"ticks\":\"\"}}}],\"scatterternary\":[{\"type\":\"scatterternary\",\"marker\":{\"colorbar\":{\"outlinewidth\":0,\"ticks\":\"\"}}}],\"scattercarpet\":[{\"type\":\"scattercarpet\",\"marker\":{\"colorbar\":{\"outlinewidth\":0,\"ticks\":\"\"}}}],\"carpet\":[{\"aaxis\":{\"endlinecolor\":\"#2a3f5f\",\"gridcolor\":\"white\",\"linecolor\":\"white\",\"minorgridcolor\":\"white\",\"startlinecolor\":\"#2a3f5f\"},\"baxis\":{\"endlinecolor\":\"#2a3f5f\",\"gridcolor\":\"white\",\"linecolor\":\"white\",\"minorgridcolor\":\"white\",\"startlinecolor\":\"#2a3f5f\"},\"type\":\"carpet\"}],\"table\":[{\"cells\":{\"fill\":{\"color\":\"#EBF0F8\"},\"line\":{\"color\":\"white\"}},\"header\":{\"fill\":{\"color\":\"#C8D4E3\"},\"line\":{\"color\":\"white\"}},\"type\":\"table\"}],\"barpolar\":[{\"marker\":{\"line\":{\"color\":\"#E5ECF6\",\"width\":0.5},\"pattern\":{\"fillmode\":\"overlay\",\"size\":10,\"solidity\":0.2}},\"type\":\"barpolar\"}],\"pie\":[{\"automargin\":true,\"type\":\"pie\"}]},\"layout\":{\"autotypenumbers\":\"strict\",\"colorway\":[\"#636efa\",\"#EF553B\",\"#00cc96\",\"#ab63fa\",\"#FFA15A\",\"#19d3f3\",\"#FF6692\",\"#B6E880\",\"#FF97FF\",\"#FECB52\"],\"font\":{\"color\":\"#2a3f5f\"},\"hovermode\":\"closest\",\"hoverlabel\":{\"align\":\"left\"},\"paper_bgcolor\":\"white\",\"plot_bgcolor\":\"#E5ECF6\",\"polar\":{\"bgcolor\":\"#E5ECF6\",\"angularaxis\":{\"gridcolor\":\"white\",\"linecolor\":\"white\",\"ticks\":\"\"},\"radialaxis\":{\"gridcolor\":\"white\",\"linecolor\":\"white\",\"ticks\":\"\"}},\"ternary\":{\"bgcolor\":\"#E5ECF6\",\"aaxis\":{\"gridcolor\":\"white\",\"linecolor\":\"white\",\"ticks\":\"\"},\"baxis\":{\"gridcolor\":\"white\",\"linecolor\":\"white\",\"ticks\":\"\"},\"caxis\":{\"gridcolor\":\"white\",\"linecolor\":\"white\",\"ticks\":\"\"}},\"coloraxis\":{\"colorbar\":{\"outlinewidth\":0,\"ticks\":\"\"}},\"colorscale\":{\"sequential\":[[0.0,\"#0d0887\"],[0.1111111111111111,\"#46039f\"],[0.2222222222222222,\"#7201a8\"],[0.3333333333333333,\"#9c179e\"],[0.4444444444444444,\"#bd3786\"],[0.5555555555555556,\"#d8576b\"],[0.6666666666666666,\"#ed7953\"],[0.7777777777777778,\"#fb9f3a\"],[0.8888888888888888,\"#fdca26\"],[1.0,\"#f0f921\"]],\"sequentialminus\":[[0.0,\"#0d0887\"],[0.1111111111111111,\"#46039f\"],[0.2222222222222222,\"#7201a8\"],[0.3333333333333333,\"#9c179e\"],[0.4444444444444444,\"#bd3786\"],[0.5555555555555556,\"#d8576b\"],[0.6666666666666666,\"#ed7953\"],[0.7777777777777778,\"#fb9f3a\"],[0.8888888888888888,\"#fdca26\"],[1.0,\"#f0f921\"]],\"diverging\":[[0,\"#8e0152\"],[0.1,\"#c51b7d\"],[0.2,\"#de77ae\"],[0.3,\"#f1b6da\"],[0.4,\"#fde0ef\"],[0.5,\"#f7f7f7\"],[0.6,\"#e6f5d0\"],[0.7,\"#b8e186\"],[0.8,\"#7fbc41\"],[0.9,\"#4d9221\"],[1,\"#276419\"]]},\"xaxis\":{\"gridcolor\":\"white\",\"linecolor\":\"white\",\"ticks\":\"\",\"title\":{\"standoff\":15},\"zerolinecolor\":\"white\",\"automargin\":true,\"zerolinewidth\":2},\"yaxis\":{\"gridcolor\":\"white\",\"linecolor\":\"white\",\"ticks\":\"\",\"title\":{\"standoff\":15},\"zerolinecolor\":\"white\",\"automargin\":true,\"zerolinewidth\":2},\"scene\":{\"xaxis\":{\"backgroundcolor\":\"#E5ECF6\",\"gridcolor\":\"white\",\"linecolor\":\"white\",\"showbackground\":true,\"ticks\":\"\",\"zerolinecolor\":\"white\",\"gridwidth\":2},\"yaxis\":{\"backgroundcolor\":\"#E5ECF6\",\"gridcolor\":\"white\",\"linecolor\":\"white\",\"showbackground\":true,\"ticks\":\"\",\"zerolinecolor\":\"white\",\"gridwidth\":2},\"zaxis\":{\"backgroundcolor\":\"#E5ECF6\",\"gridcolor\":\"white\",\"linecolor\":\"white\",\"showbackground\":true,\"ticks\":\"\",\"zerolinecolor\":\"white\",\"gridwidth\":2}},\"shapedefaults\":{\"line\":{\"color\":\"#2a3f5f\"}},\"annotationdefaults\":{\"arrowcolor\":\"#2a3f5f\",\"arrowhead\":0,\"arrowwidth\":1},\"geo\":{\"bgcolor\":\"white\",\"landcolor\":\"#E5ECF6\",\"subunitcolor\":\"white\",\"showland\":true,\"showlakes\":true,\"lakecolor\":\"white\"},\"title\":{\"x\":0.05},\"mapbox\":{\"style\":\"light\"}}},\"xaxis\":{\"anchor\":\"y\",\"domain\":[0.0,1.0],\"title\":{\"text\":\"flipper_length_mm\"}},\"yaxis\":{\"anchor\":\"x\",\"domain\":[0.0,1.0],\"title\":{\"text\":\"count\"}},\"legend\":{\"tracegroupgap\":0},\"title\":{\"text\":\"Gentoo Flipper Length\"},\"barmode\":\"relative\",\"shapes\":[{\"line\":{\"color\":\"blue\",\"dash\":\"dash\"},\"type\":\"line\",\"x0\":217.1869918699187,\"x1\":217.1869918699187,\"xref\":\"x\",\"y0\":0,\"y1\":1,\"yref\":\"y domain\"},{\"line\":{\"color\":\"green\",\"dash\":\"dot\"},\"type\":\"line\",\"x0\":216.0,\"x1\":216.0,\"xref\":\"x\",\"y0\":0,\"y1\":1,\"yref\":\"y domain\"},{\"fillcolor\":\"red\",\"line\":{\"width\":0},\"opacity\":0.2,\"type\":\"rect\",\"x0\":212.0,\"x1\":221.0,\"xref\":\"x\",\"y0\":0,\"y1\":1,\"yref\":\"y domain\"},{\"fillcolor\":\"yellow\",\"line\":{\"width\":0},\"opacity\":0.1,\"type\":\"rect\",\"x0\":204.2170402325708,\"x1\":230.1569435072666,\"xref\":\"x\",\"y0\":0,\"y1\":1,\"yref\":\"y domain\"},{\"fillcolor\":\"purple\",\"line\":{\"dash\":\"dot\",\"width\":1},\"opacity\":0.05,\"type\":\"rect\",\"x0\":203.0,\"x1\":231.0,\"xref\":\"x\",\"y0\":0,\"y1\":1,\"yref\":\"y domain\"}],\"annotations\":[{\"showarrow\":false,\"text\":\"Mean\",\"x\":217.1869918699187,\"xanchor\":\"right\",\"xref\":\"x\",\"y\":1,\"yanchor\":\"top\",\"yref\":\"y domain\"},{\"showarrow\":false,\"text\":\"Median\",\"x\":216.0,\"xanchor\":\"left\",\"xref\":\"x\",\"y\":1,\"yanchor\":\"top\",\"yref\":\"y domain\"},{\"showarrow\":false,\"text\":\"IQR\",\"x\":221.0,\"xanchor\":\"right\",\"xref\":\"x\",\"y\":1,\"yanchor\":\"top\",\"yref\":\"y domain\"},{\"showarrow\":false,\"text\":\"\\u00b12 Std Dev\",\"x\":230.1569435072666,\"xanchor\":\"right\",\"xref\":\"x\",\"y\":1,\"yanchor\":\"top\",\"yref\":\"y domain\"},{\"showarrow\":false,\"text\":\"Range\",\"x\":231.0,\"xanchor\":\"right\",\"xref\":\"x\",\"y\":1,\"yanchor\":\"top\",\"yref\":\"y domain\"}],\"showlegend\":false},                        {\"responsive\": true}                    ).then(function(){\n",
       "                            \n",
       "var gd = document.getElementById('53863aef-35cf-4e89-82f2-fc301b8793cf');\n",
       "var x = new MutationObserver(function (mutations, observer) {{\n",
       "        var display = window.getComputedStyle(gd).display;\n",
       "        if (!display || display === 'none') {{\n",
       "            console.log([gd, 'removed!']);\n",
       "            Plotly.purge(gd);\n",
       "            observer.disconnect();\n",
       "        }}\n",
       "}});\n",
       "\n",
       "// Listen for the removal of the full notebook cells\n",
       "var notebookContainer = gd.closest('#notebook-container');\n",
       "if (notebookContainer) {{\n",
       "    x.observe(notebookContainer, {childList: true});\n",
       "}}\n",
       "\n",
       "// Listen for the clearing of the current output cell\n",
       "var outputEl = gd.closest('.output');\n",
       "if (outputEl) {{\n",
       "    x.observe(outputEl, {childList: true});\n",
       "}}\n",
       "\n",
       "                        })                };                });            </script>        </div>"
      ]
     },
     "metadata": {},
     "output_type": "display_data"
    }
   ],
   "source": [
    "1.# plotly histograms with penguins dataset\n",
    "import plotly.express as px\n",
    "import plotly.graph_objects as go\n",
    "import pandas as pd\n",
    "import seaborn as sns\n",
    "\n",
    "# Load dataset\n",
    "penguins = sns.load_dataset('penguins')\n",
    "\n",
    "# Define a function to create a histogram with annotations\n",
    "def create_histogram_with_annotations(species):\n",
    "    # Filter dataset by species\n",
    "    df = penguins[penguins['species'] == species]\n",
    "    \n",
    "    # Calculate necessary statistics\n",
    "    mean = df['flipper_length_mm'].mean()\n",
    "    median = df['flipper_length_mm'].median()\n",
    "    std = df['flipper_length_mm'].std()\n",
    "    q1 = df['flipper_length_mm'].quantile(0.25)\n",
    "    q3 = df['flipper_length_mm'].quantile(0.75)\n",
    "    flipper_min = df['flipper_length_mm'].min()\n",
    "    flipper_max = df['flipper_length_mm'].max()\n",
    "    \n",
    "    # Create histogram\n",
    "    fig = px.histogram(df, x='flipper_length_mm', title=f'{species} Flipper Length')\n",
    "    \n",
    "    # Add vertical lines for mean and median\n",
    "    fig.add_vline(x=mean, line=dict(color='blue', dash='dash'), annotation_text='Mean', annotation_position='top left')\n",
    "    fig.add_vline(x=median, line=dict(color='green', dash='dot'), annotation_text='Median', annotation_position='top right')\n",
    "    \n",
    "    # Add shaded rectangles for IQR and 2 standard deviations from the mean\n",
    "    fig.add_vrect(x0=q1, x1=q3, line_width=0, fillcolor='red', opacity=0.2, annotation_text='IQR')\n",
    "    fig.add_vrect(x0=mean - 2*std, x1=mean + 2*std, line_width=0, fillcolor='yellow', opacity=0.1, annotation_text='±2 Std Dev')\n",
    "    \n",
    "    # Add range lines\n",
    "    fig.add_vrect(x0=flipper_min, x1=flipper_max, line_width=1, line_dash=\"dot\", fillcolor='purple', opacity=0.05, annotation_text='Range')\n",
    "    \n",
    "    fig.update_layout(showlegend=False)\n",
    "    return fig\n",
    "\n",
    "# Create histograms for each species\n",
    "species_list = penguins['species'].unique()\n",
    "for species in species_list:\n",
    "    fig = create_histogram_with_annotations(species)\n",
    "    fig.show()\n"
   ]
  },
  {
   "cell_type": "code",
   "execution_count": 6,
   "id": "7b2d2a6f-eb97-4924-8bc2-4f823eb42fd4",
   "metadata": {},
   "outputs": [
    {
     "data": {
      "image/png": "[encoded data removed]",
      "text/plain": [
       "<Figure size 1800x500 with 3 Axes>"
      ]
     },
     "metadata": {},
     "output_type": "display_data"
    }
   ],
   "source": [
    "2.#seaborn kernel density estimation (KDE) plots \n",
    "import seaborn as sns\n",
    "import matplotlib.pyplot as plt\n",
    "import pandas as pd\n",
    "\n",
    "# Load the Penguins dataset\n",
    "penguins = sns.load_dataset('penguins')\n",
    "\n",
    "# Create a grid of KDE plots, one for each species\n",
    "species_list = penguins['species'].unique()\n",
    "\n",
    "# Set up the figure\n",
    "fig, axes = plt.subplots(1, 3, figsize=(18, 5), sharey=True)\n",
    "\n",
    "# Loop through species and create a KDE plot for each\n",
    "for i, species in enumerate(species_list):\n",
    "    sns.kdeplot(data=penguins[penguins['species'] == species], \n",
    "                x='flipper_length_mm', \n",
    "                fill=True, \n",
    "                ax=axes[i], \n",
    "                color='blue')\n",
    "    axes[i].set_title(f'Flipper Length KDE - {species}')\n",
    "\n",
    "# Adjust layout and show the plot\n",
    "plt.tight_layout()\n",
    "plt.show()\n"
   ]
  },
  {
   "cell_type": "code",
   "execution_count": 8,
   "id": "5095f6f9-169b-4bb3-b61f-b518291a1bd7",
   "metadata": {},
   "outputs": [
    {
     "data": {
      "application/vnd.plotly.v1+json": {
       "config": {
        "plotlyServerURL": "https://plot.ly"
       },
       "data": [
        {
         "marker": {
          "line": {
           "color": "black",
           "width": 1
          }
         },
         "name": "A",
         "nbinsx": 30,
         "type": "histogram",
         "x": [
          9.695408590839618,
          3.270926425959122,
          4.003185303904596,
          6.833541363128957,
          9.772568400686927,
          6.130149881826221,
          5.831849041816353,
          6.283693927047898,
          0.977454089107137,
          4.892892224342582,
          6.403891299923323,
          3.671602029616011,
          0.7789884847432116,
          0.2548454142178347,
          1.7237030874539683,
          8.938338636574958,
          9.053124607675628,
          1.6495633180681246,
          2.512572512097375,
          3.430057518261994,
          2.5653472485366047,
          8.152099979822264,
          7.689041163259082,
          3.7749728031771825,
          8.082940098524578,
          9.857738732148466,
          4.344679754937916,
          6.609568599640871,
          5.139946933403145,
          3.5071909344728738,
          6.542328064552475,
          0.1968060756388601,
          2.9103614372899536,
          0.8590610831837631,
          4.198934786090703,
          3.9422287906293,
          7.549390977402708,
          5.226185984486159,
          4.322007056583416,
          8.783588178893146,
          2.554565353335102,
          5.198230419535031,
          1.1040011695964613,
          3.0841521450321507,
          0.4563881993105967,
          5.841212582950045,
          7.559047162242081,
          6.482412711711229,
          2.638206903543976,
          8.574149089536087,
          5.867489132443834,
          4.646740885305604,
          3.5917722069828164,
          1.1917617839663563,
          3.7534529312008615,
          2.9314853237508967,
          2.648025644975589,
          6.622851233365768,
          2.9501715025896216,
          4.451228665281847,
          0.21507835314624635,
          9.02156274626543,
          1.0520057901776247,
          6.216122904613679,
          0.8152736610347733,
          4.708595419443936,
          2.5269826520947336,
          1.4641003260446095,
          5.60765700587936,
          3.14117804958752,
          8.188018076343177,
          7.557300633360752,
          1.6090475072058608,
          5.611976524735159,
          4.866151325855368,
          3.020717254917704,
          3.046529435000631,
          1.530555654945961,
          6.106956465800084,
          2.537575270658979,
          5.943278262480368,
          2.1947794816226907,
          0.1960365131980213,
          2.6133337043166085,
          9.600186294505718,
          8.692507207214653,
          9.476256391372196,
          4.757578493126181,
          2.2072116343788553,
          5.68781503404519,
          0.31499759423175844,
          7.7147054562288275,
          7.1002991413970316,
          6.937286395926787,
          9.131870373469571,
          8.412920734808694,
          6.363457991525779,
          2.380123947645625,
          2.523243972263928,
          5.372314731622136,
          3.00432431966674,
          1.7373109162008238,
          9.956862439835845,
          0.13564525618495527,
          6.650795057255693,
          6.855205849591009,
          5.890494579148484,
          8.37026806005694,
          9.311328787410794,
          3.8863066281936054,
          1.8177160861466468,
          5.870833838323221,
          8.985101236692248,
          9.632525009983876,
          8.199014554581606,
          8.748973180317133,
          6.8576404407680505,
          3.818692376504038,
          6.768037735480064,
          8.099101028510805,
          4.87188560386946,
          8.88761881999603,
          1.6486663460868323,
          4.0288853229752695,
          8.858214193549669,
          2.9741289007246854,
          8.397287629031736,
          5.527732745148496,
          1.5236906408206585,
          9.682273569304323,
          5.144425290367749,
          1.0690933648306955,
          9.353550064620075,
          7.79061428613506,
          2.690041605668206,
          8.074282345993426,
          8.50620300276806,
          0.7735482313645947,
          5.986563113801232,
          3.118101310441416,
          5.374658104114539,
          5.526270219329303,
          9.43210490475344,
          6.6684597571636655,
          1.8727252670680317,
          2.7651811616027535,
          5.5606945792666576,
          9.985471242014617,
          4.148562755247186,
          9.317088509295717,
          0.26942919649944663,
          5.919658309643324,
          4.890477913761792,
          9.346578507924058,
          8.521934833072018,
          4.798606663533539,
          5.076971311393707,
          7.213527311352631,
          7.562462084966946,
          1.8990989844403916,
          7.934631189035175,
          4.085965151921903,
          8.02233820530052,
          9.324351255346937,
          6.065327567365806,
          8.828742932897837,
          4.5628422197670915,
          0.8737213445286496,
          6.931285895887686,
          7.246300539956444,
          4.221828342349942,
          3.7272697375382413,
          1.4239402897964037,
          1.5878750150130927,
          8.29321975843645,
          1.2231126832565387,
          2.658571794315442,
          1.5249221945693059,
          1.1118952294242979,
          5.9651358860097305,
          7.300221498092423,
          1.6753732165807922,
          2.642948618770693,
          7.661967063104088,
          2.5215781400344595,
          1.0435676507955371,
          3.0682257920988762,
          7.02631092617231,
          2.1894805741402212,
          4.596110911774413,
          9.681170186074688,
          8.659857545185565,
          8.193284637630793,
          8.846182688743836,
          0.10940755326744878,
          8.486094792051976,
          5.134734817644309,
          6.794459862463861,
          4.895970439337819,
          7.872907504031704,
          7.030791455710758,
          5.36009559254664,
          1.2341048654181408,
          0.45847761776761864,
          5.426701278673604,
          5.924792420835702,
          4.573311628148012,
          6.455295008115879,
          2.3477004976030336,
          8.227995286051428,
          3.9675231008398337,
          2.8917975510344487,
          0.9859041302666793,
          9.481059510067599,
          0.18046148872382983,
          6.609388080063779,
          0.24455122752108815,
          8.440959951581382,
          7.638600336250136,
          6.9149644127951095,
          6.199900516825322,
          0.9219813150068967,
          6.888567857615398,
          8.876989841902157,
          7.573065927412345,
          6.1370786762915595,
          7.097311528853096,
          9.398641343900088,
          3.7258942027947994,
          8.658996014823142,
          9.752214649503092,
          4.515544288840707,
          7.724042869343616,
          9.435675965026242,
          1.1674576997740305,
          6.969356828622083,
          7.8540570399496215,
          0.6729094981958383,
          8.501488486639348,
          4.174357065511022,
          1.79805560752051,
          2.2803668589325055,
          7.064585220644631,
          6.135868843833661,
          0.12268546134231229,
          0.7731386293996556,
          5.49260178858681,
          4.25518549564595,
          2.473769027973577,
          4.471397649133635,
          5.593420379318969,
          5.9535529328883365,
          6.013949084148336,
          0.032292022348385796,
          1.3478079959394917,
          1.4718150880004388,
          7.615211196981227,
          4.50436198534664,
          7.9564922632926685,
          7.817033815456604,
          0.36213724885219456,
          3.7334350365602886,
          6.767325682209291,
          3.061111213450951,
          7.610718989300792,
          8.797398745521404,
          7.323669197124104,
          1.1455721966434118,
          3.587810342785959,
          4.05149048006392,
          6.686468253372986,
          1.7502678443460007,
          3.5948329146596567,
          7.556936464676949,
          7.107838501856789,
          3.4327780228402336,
          6.289823526774045,
          0.9140981662672443,
          4.186304626449898,
          7.873135980523935,
          9.608047031364936,
          5.217338800073636,
          5.301828045243977,
          3.30387051905469,
          6.695601888894039,
          5.142260727127735,
          3.7318478557267563,
          3.9089691656995837,
          1.2594833828296481,
          8.287936445707194,
          0.03443447144110934,
          6.552996676787197,
          1.7590603890400736,
          7.5536343934660755,
          8.458008787906374,
          0.013411552534214888,
          6.6837205035997425,
          9.880785183479784,
          2.919815397293596,
          6.905545782187642,
          5.8202944938601,
          2.8700169438858136,
          8.034351548058043,
          4.704926913326359,
          0.23974943439013852,
          0.22195026670144502,
          9.12164861111363,
          0.2075670710183275,
          3.001720611372215,
          6.796220558657944,
          0.07168763509398768,
          0.32004537756278095,
          1.7329028190016282,
          5.188276694081916,
          1.8966608610358182,
          3.002941672123548,
          4.57006481325088,
          0.5845512028877597,
          1.251280927230366,
          8.40081305389496,
          8.301962131986267,
          3.6493354633655075,
          4.988505949226331,
          6.875993129842089,
          2.265747522768896,
          0.10197494536796192,
          1.3279503261572245,
          1.0827921716641564,
          7.572446471089037,
          0.6581049065138878,
          3.731534451863767,
          2.878143336000062,
          7.192219929459056,
          8.239668929074385,
          1.9734629973084439,
          6.69175594778975,
          8.905755502453484,
          2.7945731780308836,
          4.700003130226474,
          9.332230887290228,
          8.088790367168116,
          4.204749660375416,
          1.8457492325675995,
          3.614595002160761,
          5.594706662318412,
          6.615160366421671,
          9.092038100090088,
          9.507096479636434,
          2.6317798320899923,
          0.9586087380723096,
          4.693595576873602,
          0.9485324135218631,
          3.039590839338832,
          6.079651642223088,
          6.401539128066619,
          7.245439719342968,
          9.93756674436186,
          9.577272317220235,
          5.063756274865501,
          3.2318531116840488,
          7.0804417047695845,
          7.30956989041179,
          0.9144486099663174,
          4.637125222002473,
          9.84195111286255,
          1.7610239219491564,
          4.080111210593457,
          5.462450258907379,
          5.359108381440743,
          3.3456084305385234,
          6.9110888527518375,
          7.324388702746088,
          8.140855353560475,
          6.491513923001984,
          2.9080857925652293,
          8.618981052250808,
          9.076292280535188,
          9.304830533143967,
          8.446178777781437,
          6.177680217517261,
          8.980253976829385,
          5.779976754809627,
          8.327656331274317,
          6.619593199019768,
          0.9504733096714957,
          3.7657897399884876,
          9.918677940667145,
          4.272094731171036,
          3.146638871444175,
          2.472947391772599,
          1.8871728948527822,
          3.828517661413011,
          9.594058562439194,
          1.6977234547559172,
          0.2589118197362583,
          1.2940726902263333,
          6.9612334428422145,
          5.017109249644502,
          5.858547814594763,
          2.302373134568314,
          8.892704910070965,
          3.3171098487811412,
          0.023783965275903096,
          1.0912791051476778,
          4.071790097617402,
          9.76266894556074,
          7.690242941902468,
          3.0169282579372414,
          0.038061354425700245,
          9.345494415728444,
          0.20992152711803547,
          0.27740847965125104,
          4.892276180287938,
          1.9562611515464878,
          2.730068862264823,
          6.075398310903969,
          4.143932591416112,
          0.709374195325797,
          1.6286107587891396,
          6.645580050672782,
          4.696189797740309,
          7.027614479936441,
          3.15200361339107,
          0.8191014577085587,
          9.225715163164864,
          6.145242719221406,
          9.356552217086149,
          0.4743962948624447,
          0.7115263849677789,
          9.310840121636168,
          2.258923384677336,
          1.1073213863567688,
          2.0384330550684524,
          1.2441352391765714,
          3.482705753355353,
          8.258891168951163,
          0.3917089982216593,
          0.21189533398163762,
          1.836491093426279,
          6.756512013332246,
          8.249787186702168,
          1.295548695419373,
          0.571538625812622,
          6.702261749947826,
          3.87414661880767,
          3.0160773310003286,
          7.537850815436238,
          6.33237358553899,
          1.4073305035926131,
          1.725299766246925,
          8.56821156131077,
          1.3629458788625337,
          9.396997941909575,
          9.359558696959708,
          9.13955732340375,
          3.203391664192373,
          0.4635868037907398,
          4.047094225038292,
          9.107028774291098,
          9.824712882947148,
          7.149056125773663,
          9.413497351817691,
          1.703860755892117,
          2.2102550912525287,
          3.9487634284521587,
          3.0645395323883626,
          2.236070248293809,
          7.081334488429823,
          6.4242905577555565,
          9.951927571681816,
          9.747836876585092,
          0.4963539042388887,
          2.4562023236636756,
          0.31041604742835016,
          0.9029223226616234,
          3.012007198711415,
          2.583925726644143,
          6.062409492698416,
          8.63887918255728,
          9.39630681720574,
          8.955340450096527,
          7.3562593943255985,
          2.462244159852145,
          4.518806665578819,
          0.3224935929827455,
          5.124514968026784,
          3.2553710590406535,
          6.155810938933231,
          3.4532893557502122,
          2.3482839118385113,
          4.78364653760559,
          0.3211998809526295,
          9.616995491498244,
          2.3409174337005787,
          1.9569354167776876,
          6.34118619702077,
          8.551411121875397,
          1.6436151801448473,
          1.2255410456158133,
          6.024634960322663,
          6.069390407784039,
          3.0417509540463517,
          9.540464430617103,
          1.6511410255314085,
          3.917026255115773,
          2.0490998860729093,
          3.1426962254101487,
          0.5906881513908147,
          8.47177612035205,
          8.00020430884855,
          4.340080627206502,
          0.8380549605874288,
          1.9603192165380179,
          1.854894957935409,
          2.2409574323057635,
          8.84506133704066,
          7.431057629710235,
          9.163794889356991,
          5.218065959314653,
          2.2451534954054897,
          7.380931623602761,
          5.885807574921236,
          8.062449305767739,
          7.996737446647884,
          0.6181319297187282,
          6.398373978602302,
          2.772149326581835,
          4.294349293615079,
          9.605239438636763,
          4.187057552705308,
          9.50345322840999,
          1.0147991059640504,
          4.919846594970483,
          9.911017138136986,
          6.4563275667346085,
          6.587678678006954,
          2.1856681411896197,
          3.2722587569045802,
          0.8056860402663768,
          1.3857051506065488,
          2.3562618474993235,
          5.97893566144567,
          2.4571379978849075,
          0.03136749158333174,
          3.9498115521977195,
          6.021081703863746,
          1.6178718465695618,
          7.661297467759408,
          2.3361354387311484,
          6.664405843387682,
          8.681376626676329,
          7.257965444050312,
          9.885729913509024,
          2.229070516931225,
          9.846944157987307,
          9.254262738913164,
          9.065647641091475,
          5.399023868335621,
          6.04357117350761,
          7.9293259229824535,
          4.763562901787014,
          5.323218194878386,
          9.929808211979456,
          7.210414971848461,
          3.69636687260547,
          4.231634418438594,
          2.4000725602763238,
          1.9565178043334652,
          4.891584936027513,
          4.265397018674467,
          2.438392169191358,
          3.7653366515939988,
          2.4850881759855605,
          7.819481558327194,
          4.854056177984534,
          8.773623951452793,
          2.0345511847321998,
          3.8952701093008493,
          4.346418406477232,
          1.1943941023525284,
          7.663793002288939,
          3.714114444894716,
          3.498212795842588,
          4.923482642975321,
          8.799041921519393,
          1.9258444171152467,
          7.127271480582957,
          3.7833485216221154,
          6.6649892464754,
          0.9469822267817418,
          1.7012274014680517,
          3.49929336665478,
          2.8057037663945685,
          1.0363158961688501,
          1.0532707081128367,
          7.976106873163466,
          7.209339025921482,
          0.08250084533760083,
          9.198481441162183,
          3.3002275965879924,
          9.805212211460514,
          5.788967317420328,
          1.8622080616991765,
          8.450160380849367,
          9.775638238545632,
          9.733294978205974,
          3.2137165834199086,
          2.5127910539356693,
          0.5299129697626592,
          5.2218704345685465,
          1.8889062150718794,
          1.0038427034074904,
          3.231498517600345,
          3.874540618232465,
          5.732339833131301,
          1.5080868315266416,
          4.269153747551666,
          5.243524147114563,
          6.929810560148906,
          6.053375679663552,
          6.750336412012082,
          3.6948928543553916,
          4.400636756189181,
          0.0007067854483977509,
          9.248833006732319,
          9.924507630544447,
          6.852522921943334,
          6.714489303688032,
          1.5047736928088595,
          4.854424378484418,
          6.99380302945907,
          7.259853189427938,
          1.5909369174090393,
          4.040263260733752,
          0.8209943950619358,
          4.357473114889738,
          2.504891772538201,
          3.665639892253126,
          1.5910437331502592,
          5.943880586324388,
          7.633369412658418,
          1.8306748948960871,
          0.7407828858797294,
          9.428716401180715,
          1.4616489621742756,
          2.7797592953078274,
          9.919899704097187,
          2.515817604117363,
          5.50366071643419,
          7.440810604979323,
          1.396946249653681,
          8.103021605096425,
          7.69214944376814,
          3.3063978894950607,
          6.8673035452176245,
          6.53617756909264,
          9.945247056730832,
          6.134058374509003,
          9.742544073034706,
          0.9799160596417889,
          6.499349360345727,
          4.262644514266399,
          0.8624739246175783,
          7.025502637510938,
          8.637239096621972,
          3.889684049070702,
          1.9192186235526731,
          6.006452531361153,
          4.7399859033484795,
          2.185443093253486,
          4.588603164229019,
          2.88928124483819,
          8.48478393270308,
          5.5909390198455275,
          3.0496772527259743,
          8.86828203016684,
          7.596893888838009,
          9.931989390678325,
          6.565460990258486,
          0.3370374176508517,
          5.338309097226035,
          9.760491130050946,
          8.581190164872762,
          2.415972049655025,
          3.9656358578031057,
          0.775636940194695,
          4.50172326013227,
          2.8413897924041844,
          7.691629474501105,
          6.60453504797482,
          8.46874515561494,
          3.6737577586911083,
          7.992656667588546,
          6.373063728401528,
          4.522551957188461,
          5.635174529037515,
          0.2294047471138838,
          2.269690079537421,
          3.8969471260316215,
          4.11705317334008,
          5.984623696486002,
          4.667294334624769,
          4.173847764547309,
          7.09034255862457,
          3.235750655232712,
          0.6204366044901188,
          3.7156945737233613,
          2.7583666075172264,
          7.003170012158182,
          6.970036588401131,
          8.061960475734226,
          2.70598617346662,
          7.458304711828622,
          6.768738462504141,
          4.14948327939725,
          6.509838702218575,
          2.151213598520588,
          5.342674357058698,
          2.885122370099692,
          0.8790548196634229,
          4.67799269127268,
          5.252809876759381,
          1.6506565360876768,
          8.890157215099745,
          8.18837693727579,
          8.198065866277151,
          7.269013535707019,
          5.778187559615048,
          7.256102443741488,
          5.243166539244774,
          0.7461796735438841,
          6.719406969309776,
          5.2553574288658425,
          8.720267978374451,
          4.640037704735278,
          4.294687888957419,
          5.192545461073312,
          5.197352649994872,
          4.397904241454319,
          7.428443667102497,
          4.75604059324265,
          8.963545501548799,
          4.575850292182557,
          6.046596137250391,
          4.9672422208898,
          4.778635485884394,
          5.644387448375175,
          6.423598422430802,
          4.585966863258484,
          4.318565184751744,
          3.035347921297614,
          8.474109377392569,
          5.6423710112764125,
          1.4937084589672323,
          1.5022588614566978,
          6.897274167400226,
          5.034846194944798,
          9.833312518053782,
          8.010456068233342,
          7.657976398845515,
          7.962411772574884,
          0.2010580265768791,
          1.906901220081213,
          9.78123275018539,
          5.899094184960112,
          6.525966093528219,
          8.743927687740154,
          3.27090145049844,
          0.15560155747941007,
          9.32775203242264,
          5.602620867549329,
          2.5756758208850536,
          0.040271287810726974,
          3.254602008659772,
          0.15696221392096255,
          2.1842677871906844,
          7.364386832967716,
          9.990173451829714,
          4.37628435167508,
          4.0549402532726315,
          5.003605627447887,
          6.164876514745295,
          3.410135081056888,
          4.614416703397422,
          3.342836611498222,
          0.39044685451028016,
          5.111843931010336,
          1.0202552009691068,
          5.599807309566552,
          9.898217365285621,
          6.4468002043069355,
          8.400400515109757,
          4.835498064098822,
          4.060635815254537,
          9.889040566865798,
          7.0533580600286,
          5.873161534221767,
          0.5480920013475565,
          9.591689749010813,
          0.6253868034707288,
          7.73131291641438,
          5.092354837073939,
          0.18047115428059368,
          4.596152855541686,
          1.815830979681169,
          0.7946451376200492,
          0.08836309252728825,
          7.675124243146586,
          0.21672209925724717,
          0.23278988687019164,
          5.500916869783684,
          0.3137920737966382,
          9.933821800977192,
          8.626045227693988,
          7.945394676486107,
          6.9492512675527776,
          6.429560286728549,
          5.652437575215194,
          5.015491902888708,
          9.656788364433032,
          0.21725413484333878,
          2.0684646936416664,
          9.065288487239906,
          2.554704747943993,
          0.5131216614288525,
          9.508020320859535,
          1.0664997269451937,
          4.583244921423094,
          0.3286081507667271,
          9.673040830863771,
          5.605688854972078,
          5.605312022111418,
          9.452771825021811,
          2.985506330589187,
          7.301576023066193,
          9.964243159615783,
          3.8524082185236583,
          9.738721665353122,
          6.479019267592485,
          1.079838360380585,
          1.8122527720468373,
          0.523495154951994,
          7.038495980072065,
          7.537233214138613,
          7.910902177410377,
          5.770390828383672,
          1.0748702760831563,
          3.4254884578971714,
          2.961569777515277,
          6.55056116923061,
          8.443020946452327,
          7.694763417039386,
          5.822548979844708,
          9.206731946705464,
          5.490762612913524,
          0.37090035547107436,
          6.805335355935503,
          5.6467083674225895,
          2.0636557445861117,
          0.7095753865145737,
          4.885786656318238,
          1.0426294931759206,
          0.7617806353045353,
          0.41247107229610114,
          5.690951359091096,
          0.05265819123772775,
          5.421039417992757,
          9.14327502517751,
          9.84346012114157,
          2.2871436998643127,
          1.1827658708657651,
          7.433545777652921,
          5.49548149798216,
          4.955926063193513,
          0.7864318217767585,
          0.8289955544388783,
          8.93663848446747,
          6.870475671106798,
          5.656664808181411,
          4.905268298885529,
          6.583002521653537,
          8.498033179118728,
          0.24664689996937716,
          8.97601894868339,
          4.471681966396904,
          9.949978044080014,
          0.2449030276247821,
          0.4972430702705577,
          6.449234001030638,
          7.500227646709213,
          5.5539691155287105,
          4.445100146568882,
          0.6246634872789636,
          6.616887701653945,
          9.31054990334288,
          5.344897752249761,
          4.608965749177429,
          0.2790314614762568,
          2.4980910238185174,
          2.9951775845564077,
          7.044099137750325,
          2.690132896350139,
          6.224166768454886,
          9.184075950589941,
          2.3010930047833,
          9.1355812479481,
          3.2400992905756274,
          3.693967194196551,
          6.539781523330043,
          3.4968649817467057,
          0.97801023167429,
          1.8027421126767262,
          1.409348641709316,
          8.34914311306947,
          9.190643915913872,
          1.0943876304030564,
          9.148504627720355,
          5.164156791580337,
          5.468904242286079,
          9.520834054699087,
          6.952354347476878,
          4.429090088027575,
          2.064174914313639,
          5.9542796717030715,
          3.48973016367758,
          6.65284683742575,
          9.945333890377498,
          8.007669115493432,
          2.9606853349996887,
          2.199598027078027,
          0.5024607906476508,
          0.5185387251594797,
          9.807442796100078,
          8.41398752645483,
          7.83410113361334,
          6.579185590693082,
          3.0654985123390954,
          1.8383792594207315,
          1.2666549221814793,
          1.7754771444863227,
          8.889754447268945,
          0.33368780799853837,
          8.617058869930215,
          8.90407343628805,
          9.417727652797295,
          5.327790655348982,
          0.5716783604932496,
          7.61661276181812,
          3.9694790546164116,
          1.2490180703960696,
          2.7564102374324895,
          1.1936707860647855,
          0.3370309213429912,
          0.7589251620094828,
          3.916474263615428,
          5.708868306629263,
          4.408530835139448,
          0.7130253860429059,
          5.881128227859612,
          1.011481825929098,
          9.168637882127026,
          6.409101968002382,
          3.4363965352551276,
          1.1422361826672733,
          4.268451257012346,
          2.575347165602996,
          2.7772315445940645,
          2.708270440073367,
          4.353527327376612,
          2.934788957894654,
          5.23492671458536,
          4.780528518500509,
          1.4267877019037722,
          1.7853286704322247,
          2.4621628871049683,
          4.740945421335404,
          0.7401434422642705,
          9.161425548575226,
          9.970291357856707,
          0.4631871642465202,
          4.503792634462971,
          7.186121830393878,
          8.874608723143494,
          4.455985501239432,
          2.7130648127137116,
          2.8400853939879243,
          6.7774857691839046,
          7.458145272483662,
          3.768410666442852,
          5.908914847064981,
          4.248217186528902,
          5.671132776502573,
          8.791752522180445,
          0.6061813901242163,
          1.8746478949451295,
          7.399647343680094,
          4.94518524303481,
          4.830162620076689,
          4.945587118490744,
          7.9946197443273626,
          5.284183144733091,
          1.953434187230353,
          5.815994654942747,
          3.8587468575807895,
          0.23157089094994143,
          9.973157348243566,
          3.9004456969749057,
          4.180649120644616,
          4.9535832039715535,
          3.693759049400791,
          6.453907138699311,
          6.1923269689034015,
          5.371602229262643,
          4.950022372881017,
          1.75008980112345,
          1.6572438927957434,
          7.298391406069654,
          7.425998748169418,
          1.7395939983914332,
          9.788646392914744,
          6.071187348742648,
          2.581793395366235,
          1.6110094590192137,
          2.239454035953546,
          2.475805536253354,
          1.249970144434528,
          7.676484325244997,
          2.8282076088656605,
          1.1596696329103406,
          2.251131184891919,
          5.9644423644847935,
          0.6603099610584773,
          8.652079952484591,
          2.913309955694958,
          7.305707133506475,
          0.0924094522469665,
          0.6605857825244532,
          6.905283745255586,
          9.38869223231023,
          0.5797354088166096,
          9.789814132260329,
          3.460436803678232,
          7.241863956401048,
          1.4019446170930927,
          3.5935097458641208,
          2.4252817898055348,
          5.2977262270875,
          0.9719844595161753,
          2.000791542382714,
          3.629405783757196,
          6.423253175058735,
          4.2788863525542,
          2.132319171772288,
          1.120754200739753,
          0.38263351164531056,
          3.931326119070916,
          7.903303538478701,
          6.889100462883175,
          2.5561267628155173,
          5.930281730561703,
          4.545811846401541,
          8.189074327747184,
          0.048573204756735544,
          5.539166811109839,
          2.4249902686472202,
          7.132732155946579,
          3.1314084955361974,
          7.490196948095961,
          6.994696010107707,
          7.045921774554198,
          4.582500422144661,
          4.827695066418696,
          1.8640590022163595,
          9.865317144100818,
          9.67815037250347,
          1.303705241658667,
          7.317195699991929,
          9.380174920401158,
          0.13666840162494864,
          9.035250644993793,
          9.637171658644064,
          9.589033191624193,
          2.543828539522246,
          9.031625569602493,
          2.901143316772632,
          7.421378561722863,
          8.45221077487515,
          7.316007214077448,
          6.64957156707909,
          0.4110205856142768,
          4.851415881039703,
          5.870154823813803,
          2.126182351752235,
          1.3056506264914358,
          6.106599042143648,
          6.110443828222708,
          1.2165921452170259,
          3.9584114367414145,
          3.86177664407004,
          0.42039395471144214,
          9.50363157641945,
          9.010500486619557,
          2.436183283938366,
          9.151356148226395,
          4.77317926905147,
          0.38323015332189403,
          7.670457998441169,
          6.119668380861521,
          1.1341477499111796,
          6.928195208183871,
          7.623078867248144,
          3.2561257393422216,
          4.987546885105951,
          8.116431116866881,
          2.9175179957141815,
          4.764538683385624,
          0.28584393464785696,
          3.0992497385195374,
          6.045416119884637,
          4.077132421910031,
          2.0330712952861263,
          4.905397280985442,
          5.161416514367599,
          5.310350884091671,
          0.4665654483886761,
          4.938802628165547,
          8.981203498872029,
          6.150707862803506,
          0.7780836026039872,
          3.5925614630377756,
          0.3899371403679641,
          9.844015811833602,
          9.537758792575723,
          7.401910909440938,
          4.221199813572422,
          1.316701880800497,
          5.424138229920904,
          9.409834307770568,
          0.13252886701174416,
          0.5452904620762111,
          0.38484990558828813,
          9.45283805210521,
          1.4458932089570342,
          2.305903123772376,
          1.4439996429417057,
          2.3110195592650884,
          3.397409688399491,
          5.465476837115642,
          8.377271791656485,
          6.481981331409258,
          2.4063217310503426,
          1.4395106502682442,
          6.976973695788277,
          2.7127455176257165,
          4.814267271526353,
          6.363323270409579,
          1.6240212525404907,
          6.139344273551869,
          4.939922467406107,
          0.878846924334622,
          5.9512221310640365,
          2.5425312508212308,
          4.100557192056334,
          8.688363412748748,
          8.548507846631061,
          2.5182608940005355,
          1.3482216351314102,
          5.53531410061894,
          8.732536536068185,
          2.2527772770456824,
          2.7481869778043566,
          3.6312851911005914,
          5.624508777486942,
          6.594080125958161,
          4.5420741838393095,
          3.956515639218512,
          9.582924334980138,
          9.275266544645875,
          2.221449094627749,
          9.228455170890202,
          1.7964513428985407,
          1.185581476566907,
          6.796688561714213,
          5.802273215909054,
          3.666948010362429,
          6.227453457241464,
          9.527501757922028,
          5.933338713340262,
          1.418200643244214,
          5.055500956057314,
          7.295263039345504,
          2.7591705145631518,
          2.063353656125625,
          1.9537505082685347,
          8.026270017846521,
          0.46475383830567374,
          7.1884471210814525,
          4.850748603848096,
          2.489594628896042,
          7.917301134025005,
          9.849001787058825,
          1.092025323928707,
          1.7666532375810529,
          6.453280584341893,
          9.628204099415084,
          6.359548772593083,
          7.016081706257616,
          1.6521574471579892,
          4.789547961154322,
          3.0252521197573334,
          4.8823934922292,
          3.5817176591781976,
          2.44587901270814,
          1.5445499709932076,
          6.862425373840008,
          6.685722477008797,
          3.7042904017144753,
          0.9724736820506119,
          0.12435895780336437,
          0.9716592640165422,
          3.9742442794762853,
          3.442610845062796,
          0.1352186021339541,
          1.5694058173791525,
          6.3084674415916595,
          3.344367603605083,
          0.7165160892193734,
          9.849777420418276,
          5.278232177546345,
          3.4951579055625723,
          7.046157956477686,
          4.203375702722985,
          4.085644663983958,
          7.184504992169995,
          5.948761552323701,
          3.373590962655031,
          2.9928045920063964,
          5.232712993080532,
          8.699730098840385,
          3.9799043746780027,
          5.723828159781679,
          6.064243181454758,
          4.341193473777563,
          0.5426803086285292,
          5.625104998847361,
          1.9196320848079629,
          6.737208281824643,
          6.281649204976192,
          8.33193178177032,
          6.046139538059364,
          2.334395999256528,
          8.81507399328944,
          3.7672291718142805,
          5.464196439938059,
          7.066550068660629,
          6.8933102103184085,
          2.260183803848216,
          7.819976988963715,
          5.440941347578564,
          2.578918409816209,
          2.588600573268268,
          2.6529401181165646,
          8.895349456049717,
          6.967814533910117,
          8.522048645518836,
          1.0066820049372127,
          0.6074597820505456,
          6.918415610751292,
          9.203867891272898,
          5.766878027770162,
          9.502035676647777,
          6.068100935112865,
          5.4592388144912265,
          6.775041287047406,
          6.641956158049252,
          6.321270544878183,
          3.2168663474470396,
          1.7053439109794755,
          3.0207202042960724,
          2.661826502128978,
          1.9253759616261434,
          8.86886329767632,
          0.6150036085936139,
          6.459580986075419,
          6.174560280174623,
          6.672652072196309,
          8.15073281813384,
          0.28567044562292976,
          6.046599982949069,
          5.624052878179039,
          7.142314724649047,
          5.337550543056998,
          5.994641319834987,
          0.6572067240976198,
          1.8398171568991895,
          8.45395091565713,
          3.3223980247848086,
          9.6196328114189,
          3.139233721914211,
          3.198818833655549,
          1.1110291959057372,
          7.621521143256609,
          9.165833433961755,
          4.071860172543173,
          8.467669561451661,
          8.889808473941711,
          3.8767051093310965,
          0.2504012411371781,
          2.920270317697079,
          7.971964206419919,
          8.274147936402098,
          0.4444538592774705,
          3.7403668588310692,
          2.0834310343521,
          9.051398298443878,
          8.494385909194882,
          0.8708998603448126,
          8.173664542529128,
          3.3505825656806754,
          4.468113403874794,
          3.3383947251903026,
          5.808169129962692,
          6.660088156682913,
          1.9432715168449677,
          5.478103653597249,
          0.8661501612150824,
          0.8554184310383206,
          5.536656764875021,
          2.6031624632010852,
          4.881218122883796,
          2.731959503064197,
          2.5663257956807173,
          5.298858044046958,
          2.778286546333697,
          6.837460253313429,
          1.874877933284953,
          2.489440283513391,
          9.147916648775315,
          0.3219853416169838,
          3.3366612584773203,
          5.170592385229213,
          2.1338804455451754,
          5.3942816821183985,
          3.689219387556922,
          5.229675103338289,
          7.676524686090583,
          7.887377153691732,
          6.421106506724307,
          4.013693870953561,
          8.111458074322503,
          7.776003527475224,
          9.302591873212204,
          1.562551525964937,
          5.934748740477172,
          2.2434954120872854,
          4.847274276329838,
          1.8345194880859006,
          7.954936277339119,
          4.450523786774925,
          3.0846983873247478,
          3.5919337173597454,
          6.837675939555009,
          8.364461681284839,
          5.878888350801242,
          0.46630646296768496,
          2.6005257376707624,
          4.856014352283586,
          9.48120744708663,
          3.1693470095271703,
          1.0144988846924574,
          6.038087340460523,
          9.279964215682106,
          4.459986121604454,
          3.3327234769416814,
          6.937321040086099,
          3.1208062533928205,
          1.1988396038881588,
          4.883819080852952,
          2.1296799191232196,
          6.822216458180071,
          6.3741651190927495,
          9.565925209240833,
          3.6609835609821673,
          0.49284766898281873,
          4.067575572546859,
          9.717732247684184,
          3.985829804922534,
          9.846943525444843,
          7.3915083297393185,
          7.229197054411458,
          9.447103517358922,
          6.377520739022907,
          7.091349176463824,
          1.6453537954234299,
          1.1011718232749013,
          7.902055797291913,
          0.39612303650160885,
          0.6472333815640152,
          1.670150918365969,
          4.461469879834493,
          9.19397088809914,
          3.9188709788493226,
          9.41804344480215,
          9.496044443007634,
          2.283937912572359,
          0.9805835959645504,
          3.521789017406236,
          3.6799662724279623,
          8.626978195935017,
          2.5928983381740833,
          3.901770043307179,
          6.223699242348925,
          6.373381002211634,
          5.973986191093974,
          9.934083889061139,
          2.3830631373943145,
          2.945274748595871,
          6.566177558397587,
          0.8622451002304443,
          4.966688646675665,
          7.450954124535132,
          0.06631279357202091,
          5.891847756583624,
          4.897987587077777,
          2.384812281127091,
          6.630176493278249,
          6.279954117508372,
          1.9632361488786942,
          2.292902886461058,
          3.7699742049156306,
          1.493588131242276,
          5.253554323885144,
          4.390011244496002,
          1.4481019462712685,
          2.064336565044924,
          1.0840751000448001,
          1.2943926122909954,
          4.838244106222174,
          5.75132594679419,
          1.4430178468648658,
          6.968847655110234,
          6.143187618267679,
          7.6289949097387595,
          7.138821305842843,
          8.263075660497526,
          3.9381360701825576,
          8.573893852041937,
          8.04322546953739,
          2.332620577729849,
          4.88517266484935,
          8.320469734701167,
          5.3485943570229155,
          8.508418655746851,
          8.425509305055453,
          5.494599937058876,
          9.959641667224634,
          1.145698787976852,
          3.6535180599667507,
          1.5321031823470754,
          0.6159184582167965,
          1.7292448193052956,
          1.3498805883009224,
          5.947869795609301,
          3.9101097722308795,
          1.4338056545062794,
          6.657452273951905,
          7.195514951940386,
          6.369056858547115,
          0.1822319464237987,
          7.43663892602987,
          0.6012465744616879,
          1.3926194438242712,
          2.2711525938755295,
          0.4958800000339225,
          6.620436613372895,
          6.653149613518202,
          1.914271320495371,
          8.047647017324653,
          3.9749475070417493,
          3.0947692135049785,
          7.98384613709715,
          6.947759429453635,
          4.82148378616939,
          5.4981584781666175,
          1.2203241380980168,
          2.103521758329702,
          1.4797798127595652,
          8.0697724841845,
          3.0851922591790357,
          0.3101727619151162,
          7.246709649216477,
          0.4380653649792021,
          3.0944314503361072,
          8.914661764477174,
          8.31169565036041,
          2.027752066216718,
          3.309211362221701,
          4.3899553909356435,
          1.2517919053995985,
          9.316204053418062
         ],
         "xaxis": "x",
         "xbins": {
          "end": 10,
          "start": 0
         },
         "yaxis": "y"
        },
        {
         "marker": {
          "line": {
           "color": "black",
           "width": 1
          }
         },
         "name": "B",
         "nbinsx": 15,
         "type": "histogram",
         "x": [
          7.6633549069497455,
          3.8582715437372825,
          0.7373341217062475,
          2.8268105996100594,
          6.815657836044176,
          4.328134263557325,
          7.206633692988058,
          5.845935087537253,
          5.810646803380008,
          5.565721128538526,
          5.436843410156472,
          2.747930464778093,
          5.241752016090361,
          4.027894027892757,
          5.720798010829416,
          1.6811186293554918,
          6.473981276060628,
          2.8483590951569693,
          3.867582524580901,
          5.185133596294128,
          4.422326155581773,
          6.739433434031962,
          4.024723426725437,
          4.97049738289866,
          3.470200417202318,
          5.174054320265065,
          6.88614886909121,
          5.0649349790606495,
          3.8393501528176968,
          2.6956149024880856,
          2.8547437509015023,
          3.7995973474869595,
          4.580430018974064,
          6.115178334035408,
          6.5763655417549725,
          4.5102877567271795,
          5.526167939767307,
          3.8252894063181153,
          5.732563637027301,
          4.265537218812765,
          5.431593625220581,
          8.098735664456555,
          5.189619553590465,
          6.477634461024664,
          3.942701068397502,
          4.3170610743208915,
          3.3224044360259377,
          4.337039794235251,
          5.933267939353096,
          5.045452725451556,
          4.878129053506676,
          4.775618482662911,
          6.784089677274093,
          5.640670490186368,
          4.8151403935152635,
          3.9816967586675256,
          3.387190565340192,
          5.232983264681987,
          5.559795531820361,
          3.41600880496819,
          5.056734919534719,
          1.8416586815591565,
          3.2640319473320263,
          6.788465456216735,
          7.390180040173148,
          7.885010772402809,
          2.72680564537585,
          3.934824083021275,
          2.7086056064459023,
          5.834769216628075,
          4.719837076044821,
          0.973765062579667,
          6.542404649830125,
          3.922103483403206,
          3.3220653515604806,
          6.519608381979886,
          1.6899864953536934,
          4.908192018513013,
          5.243651241578228,
          5.581976950650331,
          3.28713366455877,
          4.609549967639923,
          4.379725101665085,
          6.682397954875221,
          5.631761687510473,
          4.615196091631993,
          3.7756111697706,
          5.307534221767565,
          4.944844433890596,
          6.831141978163049,
          4.61126328039839,
          3.430271209880759,
          6.571479397095301,
          2.3357649699945853,
          3.1128608984795454,
          4.12981159979535,
          6.0611783881654295,
          7.589150481708042,
          3.9956453552352613,
          4.968569516661396,
          1.169259943688476,
          7.302778987957842,
          4.6886694854415545,
          4.522480801843084,
          5.292424170367374,
          4.266095791597973,
          3.444498795445841,
          5.0318555480931275,
          6.492180560564305,
          2.309912040886617,
          6.400678239619161,
          5.346863978453988,
          6.3221063254198455,
          4.551164283085893,
          7.217553441943979,
          3.816267440710363,
          4.024941458912823,
          3.155418810368905,
          5.84228979478506,
          2.92776988247651,
          3.0917204421504727,
          5.566480538143338,
          6.169515187086042,
          3.8487160099829674,
          6.160648721660795,
          5.695367612666366,
          4.261174924669086,
          3.437643319437382,
          3.3502031025280132,
          4.506679568852217,
          5.55535020854102,
          3.0174580792055226,
          4.413917032872192,
          3.2768263752744575,
          3.792456080617313,
          5.813011905100162,
          5.33272389790369,
          5.073777455800445,
          3.4591342942185612,
          3.3069571311075987,
          2.750659386679604,
          4.210182882664237,
          5.6372278724370855,
          3.03961192286024,
          5.144223855128818,
          5.474728244708987,
          6.140672436229633,
          5.1696453768840245,
          2.5708070876832374,
          7.2148149423138275,
          3.218179452465269,
          6.892749326988978,
          4.589389336636204,
          3.557282006663849,
          5.3970997693184,
          4.7939745928966175,
          3.7781211186061343,
          4.470777367426749,
          6.74901675210455,
          5.721705798684831,
          5.3180020541872155,
          3.123587493880525,
          2.4489145556313248,
          4.425218933606164,
          2.8408382530675995,
          5.848623939217557,
          3.4604406139518704,
          6.481459693352986,
          6.068635569011747,
          3.580891122858646,
          4.823704393311862,
          6.358947859076182,
          7.836735406248641,
          7.175156562959989,
          5.174510108996586,
          4.50672664042539,
          5.083027611735311,
          4.2206068130229015,
          5.910520179533851,
          4.32908353136486,
          3.8626452229931116,
          7.755619520758103,
          3.54153807843483,
          6.660572527886901,
          4.247617142875325,
          4.177708104842417,
          6.71205953869688,
          7.1293843300309225,
          3.449835854496234,
          5.794731225504837,
          4.363734962692266,
          7.091925872299393,
          7.210490586706049,
          6.187118066586264,
          5.099339148891543,
          4.626820301316581,
          4.339730499352672,
          4.086530498206116,
          4.419511090801066,
          4.628684876489229,
          5.449421252450617,
          7.828947443535977,
          5.3146579205096875,
          7.0357927281848776,
          4.173957020554962,
          6.736733930152309,
          5.667996869625324,
          5.719347072599279,
          4.972957633043482,
          2.730739360811596,
          4.07223099982544,
          2.9624452361782083,
          4.670406770698593,
          4.893737940073067,
          7.55983621991268,
          1.3671233545056358,
          4.637773627689545,
          7.119121477903647,
          1.5320223016989214,
          6.137353770864588,
          2.9914129189028946,
          3.511781904422662,
          2.391319688836114,
          7.037981874450372,
          4.989205639651166,
          5.957537950250054,
          4.660042595984351,
          6.513407878868251,
          3.1850681778316945,
          6.036787346286262,
          5.446590838233473,
          6.071786473369093,
          5.767713274365223,
          5.262968869955428,
          2.308204966153066,
          4.829915637367182,
          5.12314355137957,
          5.3129382035656585,
          7.108274907592358,
          4.675245863851353,
          6.702154608097229,
          6.057629747411479,
          5.147356504484673,
          3.922607426573852,
          7.008075175470109,
          4.538016439758764,
          4.7843878169508445,
          2.6376569877897116,
          4.407202631401039,
          6.451716623729342,
          2.3940568396681057,
          6.841164622153013,
          7.84291280202369,
          2.3244155850855153,
          3.378910621729145,
          2.62357864016852,
          5.388859190292517,
          3.6537406985708154,
          5.027500900665395,
          4.205295390275746,
          7.306002403945492,
          6.75576838653841,
          3.9605393319762037,
          5.589919605798808,
          2.1013920844992753,
          6.624833060280936,
          6.373668470433603,
          5.3396516306457595,
          6.586264479414311,
          10.077129159851811,
          4.519274951035447,
          7.794839904521457,
          3.827703140264149,
          6.060206802520029,
          5.506666036374602,
          5.591956138519754,
          5.840062933126385,
          3.405357604175759,
          1.4502127380851517,
          4.580167013759871,
          6.6276353343409,
          5.81226573756204,
          2.596430741543348,
          4.448939999383525,
          5.198263266210281,
          4.8987768765588005,
          4.9990756334289825,
          5.475856568452007,
          4.691481519234337,
          6.107129607063392,
          5.966574274936669,
          3.64279409468785,
          6.393951022480852,
          4.674955888819979,
          4.295180609808719,
          5.27995697269212,
          3.453190690200495,
          6.640953757372191,
          4.1717987394775955,
          4.410136973548245,
          6.348328715577937,
          4.349787441916489,
          5.688105943875031,
          5.881001188246185,
          5.680497546795498,
          4.794939450905607,
          3.9794179155021956,
          6.300082387748115,
          3.337969106125179,
          5.767819367577563,
          3.1332198164089218,
          6.254895593911267,
          5.755108720172943,
          5.642168603238637,
          5.065763611019335,
          5.98435825648622,
          2.1234872275245227,
          3.021103073610143,
          2.4321700813494775,
          5.777746497876211,
          4.299212733668433,
          5.319306183073439,
          3.803129577792112,
          3.636656532901795,
          6.023164515849014,
          4.753797541713935,
          5.395023807226935,
          4.289133767147314,
          6.08171379449019,
          4.655692713660868,
          4.473283480580421,
          6.259445231450591,
          4.87594419176583,
          5.390282469571563,
          3.4199106426897927,
          6.3957256175361845,
          5.738729475881259,
          7.0614818080969375,
          5.912847577287432,
          7.3489091129078625,
          6.379557260404635,
          4.944992454803594,
          8.23958157998834,
          7.231293773275775,
          4.845216383101097,
          1.2319892625606341,
          2.728019997897837,
          2.7212081687676832,
          1.9342565979108093,
          6.564767996846448,
          1.9501153791771628,
          4.652717183711639,
          2.4267183664702694,
          1.99466322175493,
          4.646760016104259,
          8.170319280186607,
          4.059538603651243,
          3.7344281390867198,
          4.371384952637087,
          2.768656618881761,
          5.8592855533310075,
          8.164647794939953,
          1.6860520042246288,
          4.485481148594627,
          6.418288019250966,
          5.101102779446212,
          5.068642273271872,
          2.6520716098743353,
          4.205096648383587,
          5.262859930955841,
          5.254333781033951,
          6.764911067113374,
          6.509856462552976,
          6.453519963137006,
          6.855214185400037,
          3.0287807261603485,
          2.51788010047348,
          5.532882443287653,
          3.164576569365565,
          6.008831518505828,
          4.669995869164283,
          4.606970727907972,
          2.8930363932592047,
          2.2594596402674267,
          6.151863744689448,
          5.130197936987358,
          2.5479588401742754,
          4.528712608495697,
          5.126614889969255,
          9.114505041604538,
          3.9301800336084507,
          3.795752740071305,
          5.214231684140787,
          8.161315179689145,
          3.0746143422837853,
          4.811013342296597,
          8.642892567719938,
          4.069461687744082,
          6.017459666425781,
          4.219392234838082,
          3.956525619640945,
          5.992435045575158,
          2.945844589606635,
          4.365908622147634,
          4.2145146577522805,
          3.8489537277870713,
          5.617232748506008,
          4.665079018581599,
          5.947850352016091,
          5.558070812272665,
          5.716199941513596,
          5.477482057946338,
          4.4847979810033225,
          6.858887583979324,
          5.83257787625453,
          5.5595723811265145,
          6.049111016215811,
          7.548912795206243,
          6.380391562538282,
          4.9295993712316095,
          4.789640278825128,
          5.488663715610472,
          2.4994867284696185,
          4.8258571038082625,
          5.106974884102191,
          4.898173532034775,
          3.8861689946344677,
          4.525419445367374,
          4.0991048427943095,
          5.113324899022871,
          6.297284822315385,
          3.9076171704315406,
          7.553876771214078,
          3.5859562652054526,
          6.118906430104847,
          3.279001860577484,
          5.029950347689849,
          8.078499094013381,
          4.517483710593421,
          9.091634720547775,
          6.444178516640688,
          5.390611800938726,
          5.295110935104739,
          7.031959853526515,
          5.335281445967883,
          6.013989817812789,
          3.580938756388217,
          2.441590351006953,
          4.758841435694769,
          6.419583863383379,
          3.77523180226225,
          7.220706515296303,
          4.826606296148741,
          4.942671631843465,
          4.183447570529666,
          5.724555276201824,
          4.249625614529228,
          4.313852686635454,
          5.389232848993274,
          5.225120654153867,
          6.841086898027408,
          4.615149899775398,
          4.891686266602681,
          4.265548289872473,
          6.6858102064120475,
          7.112657843344078,
          6.14760531962189,
          4.621321511879088,
          5.996980409365918,
          3.2624922034367048,
          6.601620695276697,
          5.690186582767645,
          3.481919547519233,
          5.006751191420047,
          4.206484266205307,
          2.606310727665462,
          5.724533255171655,
          3.8811676508222903,
          5.432197043829733,
          4.863610641777434,
          6.460229644223597,
          6.616244163407893,
          5.39670266416474,
          4.758088580151733,
          6.573593702536944,
          6.280063102085876,
          2.290908809586558,
          1.3971464240021927,
          3.2685675269272085,
          6.700804933710899,
          3.1231371501256247,
          7.2878474734980685,
          8.004868853874914,
          3.6906405255027823,
          4.63049258062054,
          4.88125597287327,
          4.521082579012508,
          3.662200901867825,
          6.102013948521602,
          5.336118434627709,
          5.485866987828403,
          3.077481221874924,
          6.03038899129784,
          4.960967704383971,
          2.0336154798081734,
          7.534293212155473,
          4.938872566343679,
          4.825913683610226,
          5.486135352571234,
          5.980383161691987,
          4.383086819618071,
          4.364208475001861,
          6.433380016596835,
          3.595790282278131,
          5.852800064605579,
          4.789201882540025,
          5.255710119507994,
          4.937649718588016,
          7.2350987486716765,
          3.867833048266871,
          6.531668129319591,
          4.162909746785781,
          5.196826275711108,
          6.542159140180488,
          3.725212808116659,
          2.223179598844502,
          6.927166857234679,
          5.275981801290791,
          6.746764133896752,
          2.8199498067289728,
          5.256906810096888,
          5.451283664100774,
          5.609665954658844,
          3.168408368210552,
          3.898381248089519,
          4.472185294338365,
          6.000654640453227,
          4.075442318635619,
          5.159628058577623,
          6.155079811900465,
          1.8634269351969097,
          2.3687651746634244,
          3.0268911556099427,
          5.022422380802208,
          3.8905398533687676,
          2.7718213444980835,
          4.820854781053807,
          5.445545565861403,
          6.638475331298537,
          4.712264585923567,
          7.400161115053433,
          4.4199238477098675,
          5.847047872152505,
          1.9295716844878816,
          3.218209565563474,
          2.75679198543646,
          1.7460478129037247,
          3.5784879434722168,
          4.089094551605402,
          6.187441280749027,
          2.673009648525369,
          7.6522607678078165,
          4.030741920412261,
          3.6350605527372526,
          2.4735932179456745,
          2.9867450237894815,
          4.20055933187234,
          4.872610522680961,
          6.556120531933489,
          1.9112086531468204,
          6.075319601727755,
          4.02337193449906,
          5.501970838588152,
          5.49918731940431,
          4.583640024618943,
          7.057849555799429,
          5.873719410083886,
          4.535595624883064,
          4.726116546959334,
          4.321617359322359,
          5.049335984308299,
          4.407764363871629,
          4.96102998095516,
          6.820823014232843,
          7.616927709133848,
          3.4565742668680053,
          7.239880748712226,
          4.627568714373523,
          8.27099296931595,
          5.022486912699949,
          3.6620695696825054,
          6.103784563595941,
          3.4957191155574305,
          7.657972089018909,
          5.693988557023672,
          3.957837453376775,
          8.579581702317503,
          6.970756330392674,
          4.098230347140524,
          6.362695013108845,
          2.126865853733885,
          8.063875725419132,
          6.381505472415824,
          5.814644678371703,
          2.3055864502006416,
          4.104517604957903,
          4.813093224428556,
          4.064480670171824,
          4.289001094244156,
          5.660756521949031,
          5.576767429881288,
          6.159247474389177,
          7.481049991323294,
          4.922635123059714,
          5.874234279140103,
          3.025283965844113,
          5.060530113431932,
          6.383493465729268,
          5.979178297535517,
          4.143836994147879,
          5.012341563280818,
          2.748378410797943,
          5.08767169120474,
          6.926065462544683,
          3.6894643822936564,
          3.5287625124377744,
          5.281653091551693,
          6.109263425957805,
          3.6430803510127476,
          5.114203817480763,
          6.700967663581683,
          7.065877274957362,
          3.74685560352857,
          3.2065025790742134,
          5.443443289784842,
          8.617666551867607,
          5.028753132000242,
          3.98846382614558,
          3.086877775729559,
          3.4167898747093273,
          4.118109025655842,
          5.1263050380632516,
          6.043342024046385,
          3.9278820308139735,
          4.76352553992807,
          3.337932375340802,
          4.961762578221996,
          4.961881917825196,
          5.674941863796603,
          4.4690008665907275,
          6.53622772111534,
          6.3682608965141885,
          5.589824047620318,
          5.776938014615969,
          6.3952046148261745,
          4.211063430931005,
          3.8066580895155173,
          6.4257903507662455,
          6.299449183191241,
          4.993227746919912,
          8.636828085878381,
          5.764822548377852,
          3.536233407384623,
          4.193803310096996,
          5.27229303183161,
          4.444238218942074,
          8.186175959303132,
          3.429888758715954,
          5.041520177095449,
          6.680660351714685,
          4.707052859839454,
          3.125201095493799,
          5.074910569833577,
          5.444429586286628,
          4.6010175205221415,
          5.588048201063839,
          1.5238301435421118,
          3.643316619981298,
          5.4053996339876615,
          3.5257041229702137,
          2.6016141478608232,
          4.944145804681137,
          6.9633339871528905,
          5.105714225631461,
          2.83978087175639,
          2.3687802109567118,
          4.373424934834448,
          2.2698877958340313,
          1.2376486300691951,
          5.888384413785319,
          5.514608661529568,
          4.932425776236257,
          5.408591515491046,
          3.9765111001776656,
          6.538513877220591,
          6.158154467977622,
          7.220408203244293,
          3.6084841302006057,
          3.975933967430147,
          8.687798161225539,
          4.439669964692024,
          5.207743980436845,
          4.614820906682752,
          5.574729996692079,
          6.625282046618091,
          4.914300902539844,
          3.596200091629659,
          5.6290043841386685,
          3.6949526794163305,
          2.8401659094634497,
          5.483624072993606,
          5.3759677030879764,
          4.003185702467615,
          3.9915339313190814,
          3.32229432343087,
          5.382703328600785,
          6.894395701016439,
          3.276025629332942,
          8.66478385017442,
          4.899720938153831,
          5.401582905305741,
          4.922035096840206,
          2.6101765347960937,
          2.5546793011116367,
          3.2095596448441452,
          5.670062850663347,
          2.9705858091184303,
          7.414272582815438,
          4.877922456771975,
          3.480656540291826,
          6.416234277405999,
          3.899117436128158,
          5.527539855314135,
          6.890470233687983,
          4.221374198614881,
          7.118004233804086,
          5.164022059267222,
          3.1453549465406323,
          3.8329742727497518,
          4.348127079054663,
          3.4237447751891454,
          5.293901310454345,
          3.215399250754119,
          7.2850105144333295,
          4.452235989473438,
          5.524108190601074,
          8.00808698551164,
          5.4680175654540735,
          2.9908341852025515,
          4.917405388838686,
          5.98457019372484,
          8.709914096576123,
          4.158588432277568,
          3.761828730643475,
          2.96344036130876,
          6.755562489049494,
          4.393724932618743,
          5.605880517422749,
          4.286404537563267,
          5.132315739096339,
          2.6374682985795594,
          5.0514472686306755,
          7.230856830337803,
          8.300208693407216,
          5.9548221381869535,
          5.085933027057884,
          5.121784103176216,
          6.392296621103751,
          6.5634413723256735,
          6.831829515647929,
          4.363930332044966,
          7.349127238044693,
          6.613737456205947,
          5.366938917369034,
          5.354164573147522,
          2.7523306405881205,
          4.825811347795425,
          7.706842055003334,
          4.4783804010115364,
          2.8474224056209816,
          5.86076561271193,
          5.512501697648583,
          5.52052291368066,
          2.925799507943757,
          4.826257212714042,
          6.59485875572984,
          5.235139182227068,
          6.005114922783892,
          5.24169304384886,
          9.521604761075228,
          5.988871410393347,
          5.089610866980477,
          2.074810169884559,
          4.608173765276323,
          2.9211824477498554,
          3.717233913181572,
          6.109187357174454,
          4.029366069442954,
          4.524234328620612,
          5.246357548054762,
          5.387961806305154,
          5.473234942448069,
          5.043734963622702,
          7.048882995574671,
          6.984348588081604,
          7.603621008417641,
          4.5122102776927475,
          5.851332080737832,
          5.60273557278692,
          5.509643792210806,
          7.185017150411541,
          4.509199532980897,
          8.476356565632678,
          5.404112816310683,
          4.390180518391536,
          6.552167439512579,
          5.114236844261536,
          7.166158199156903,
          6.931041147640593,
          5.036209954083299,
          2.645120723046337,
          5.848217304636639,
          5.101740022402827,
          4.532427127279787,
          7.517124731201128,
          3.531302750209964,
          5.263730790706293,
          4.209121759823304,
          4.194566106707471,
          0.7825444484836455,
          3.599716712112432,
          5.191659535002961,
          6.067127075146356,
          6.532870706957969,
          5.303729096762604,
          7.675355903805378,
          1.34462224174729,
          6.348264737639315,
          5.7185299163734795,
          0.7261630315607981,
          1.138447179837736,
          5.262161832019336,
          5.343581196590484,
          4.0392852800004535,
          4.63151056975289,
          6.028656368739087,
          5.8483353598232775,
          6.037394735813729,
          2.980973921791788,
          7.0780702759427445,
          4.765309560881317,
          5.7445540911247255,
          3.910877541265675,
          3.860998030904056,
          3.286531442196139,
          6.406855275222893,
          4.7902065691944244,
          4.659498325569269,
          4.6924891899377394,
          6.087629680519122,
          4.67419756669755,
          6.582482369881747,
          5.8086471343054455,
          4.3039193739603725,
          4.995762737282509,
          6.685275219965549,
          4.9504203096926265,
          5.235146586516934,
          4.981818840884203,
          5.971420604171441,
          5.204221212160741,
          5.108213813577457,
          3.82514667861535,
          3.3670642768184686,
          3.6288242798852783,
          1.727168817412804,
          3.910615964156699,
          4.160786266311242,
          5.71274889179133,
          7.001259405100011,
          4.577840665095862,
          5.4883729035344615,
          4.151779114353846,
          8.652769919435556,
          3.6274168178382777,
          5.820579827525135,
          4.312445500022372,
          6.8639247678937725,
          3.4488412721850206,
          6.250084562995685,
          3.7172994525111527,
          6.350162519103181,
          7.4040982279372205,
          6.174893932030582,
          4.9094982538299625,
          6.150378862233646,
          5.605290322765007,
          6.831637350504598,
          6.077483643765395,
          5.74188028113245,
          4.43466930265151,
          4.65213422624077,
          4.193268751854278,
          3.8046108728754633,
          5.028111356244746,
          4.144950899445412,
          4.903826613804494,
          7.309864815023722,
          8.693218417705046,
          4.157627387806868,
          8.830399695393236,
          5.733715031423876,
          4.896154739817704,
          6.1561073273712195,
          4.406211244852514,
          6.278470455137782,
          6.429816826072845,
          3.8456488036507954,
          3.979571607713736,
          4.978974849202619,
          7.048433394978252,
          2.0990812129068024,
          0.9707970962609096,
          6.128833526354752,
          4.386623678036393,
          4.704033591530221,
          5.307550919316226,
          7.55547520208758,
          4.2997563103891245,
          5.337140963400805,
          5.649740261359727,
          6.037154779026562,
          5.916192965191095,
          4.32784626484425,
          5.4681168597088465,
          3.1885304765832645,
          4.988761457871862,
          2.2656601434309853,
          3.50915551253357,
          4.423796051374813,
          3.5521411702125203,
          5.4032358642588,
          6.425226610293123,
          5.195717946296497,
          4.743428601024261,
          3.8509175109857505,
          6.9552620140932335,
          4.659795809344206,
          3.523105261850646,
          4.905965106082242,
          5.1512392811896435,
          4.517670577666861,
          2.7941980298571094,
          5.029299566496458,
          3.666332651418422,
          3.620839820972959,
          3.8473192521689343,
          3.1385237801228882,
          4.171126252484653,
          6.937068631585637,
          5.757259489594338,
          5.9202563603385325,
          5.279934606920438,
          2.460031353405532,
          5.360212987336328,
          5.359226177255274,
          3.5179140428736737,
          2.4816776556925406,
          4.6312066895260005,
          5.867691480061188,
          4.859681200815514,
          5.52664521456745,
          4.9079481556761975,
          5.8656495471739465,
          5.490824356291033,
          5.660892509920488,
          4.882821301239521,
          6.938797149571069,
          4.33114687991982,
          7.90173817456886,
          5.559609356380197,
          3.232085865959475,
          0.5343221995385061,
          6.942527201082768,
          2.903071723921942,
          4.059274690782628,
          3.7859938761103034,
          8.408054307013565,
          5.220293322584602,
          5.964632332669737,
          7.20147849191161,
          4.6203196117799035,
          4.150997402415337,
          4.998394473252353,
          5.30013438834128,
          6.27545945057348,
          4.6970501124354636,
          4.299278781884254,
          5.391571689134254,
          2.0924415159772245,
          6.976470613006857,
          3.8180738421047695,
          5.536111366484401,
          5.176517649329024,
          5.476976799556818,
          5.5831119181400455,
          4.692825965933119,
          7.152155038444478,
          6.547007424427062,
          5.6186229601161575,
          5.55538075988471,
          5.260784777871507,
          4.741773808629386,
          3.9860928684517702,
          3.7516740968151003,
          7.491350703313394,
          2.382557393371497,
          2.3260609016935567,
          4.586173840652625,
          5.822834181882488,
          4.345577126183753,
          3.2831633845296815,
          1.9968864320381137,
          5.508823379849289,
          5.955686038623707,
          6.231885085860414,
          5.1032085352683785,
          3.300464448349491,
          3.360504926491534,
          2.519180118034049,
          4.920088099324841,
          3.87977546919918,
          2.1003364295124056,
          2.6795351172275343,
          4.814438320748375,
          2.541881353966815,
          4.5801046487655475,
          3.020718935057942,
          3.6374373182218056,
          6.042954271043696,
          5.566653649962854,
          3.0705641673133837,
          5.6234340739712625,
          7.146898132310767,
          4.077771882475277,
          5.387027728074581,
          4.674262902291247,
          3.5695321781725387,
          4.025844166527573,
          8.47608698244879,
          5.776399016738738,
          6.77176382356682,
          5.522898505743953,
          2.9865771808495545,
          1.8962232759171496,
          4.393759113968337,
          4.632151334911628,
          6.106724973136626,
          4.319935097468413,
          4.132718510273448,
          4.487047022728214,
          5.215998009807699,
          5.546978958050226,
          6.403211654764277,
          4.598822122463196,
          4.135003592953258,
          6.945074695076089,
          4.2869637561613745,
          1.8634883366414137,
          5.5730393882947515,
          4.448915309152078,
          3.2467979208422517,
          3.7625291834306003,
          4.980626334355814,
          4.037499324698473,
          4.301009929998171,
          4.396348776914052,
          6.069450011290612,
          5.247316738777398,
          2.9399601339108736,
          5.957224785384124,
          6.184052500082943,
          7.019895655469594,
          5.089830953423059,
          4.710479542263419,
          7.3356710017850615,
          4.4587400195617635,
          6.04108244724153,
          3.6168071211543813,
          5.096550673624037,
          4.453967911693911,
          3.2577139247842766,
          6.234731988341054,
          3.7912132266299006,
          4.2581003596088,
          6.774440234506706,
          1.0729689721377538,
          6.0567933016458015,
          5.188318839804245,
          4.731949257208323,
          6.257579282768498,
          4.177668393687268,
          5.966164784036819,
          5.943932512868281,
          5.334321201987167,
          5.647667786417611,
          6.646077278713127,
          4.304631388055895,
          3.0318450691139613,
          6.052588798168634,
          3.7988344979200734,
          4.402931441176593,
          2.668067365333378,
          3.64042187504608,
          5.7969551653111475,
          4.03986264959677,
          7.593339622746498,
          7.455385287119572,
          2.4669035757529887,
          3.4958194472368502,
          1.28068103842807,
          5.871542631690245,
          4.218876374421182,
          5.638505317619919,
          5.719701976137518,
          3.57996913548852,
          3.500602730995701,
          5.9453960242785024,
          2.4435862481321475,
          6.235167022015971,
          6.975930195745665,
          5.149343776452882,
          5.212666529827972,
          4.115429783566464,
          6.371181821141382,
          3.002073282801412,
          5.8985667851619015,
          2.9821937955170323,
          2.668388675208575,
          4.676088812375773,
          4.082273074946011,
          4.984040874867805,
          6.49589215918011,
          3.9574425836795197,
          5.111600134503758,
          5.4738315539779725,
          3.9659226183807395,
          4.718840955594897,
          4.758793075864843,
          3.665032411931157,
          4.149985542917552,
          2.997249198610678,
          5.886589987529915,
          6.761350427315801,
          6.838763409934071,
          4.276736508046889,
          6.246403855080119,
          4.046517248791089,
          5.432875940925733,
          5.211148245201116,
          6.60956962842596,
          6.462145392837961,
          2.480101527362891,
          4.376404374802046,
          5.359486129996835,
          5.755846918458625,
          5.516895010002946,
          7.0860818099442175,
          5.093129929566792,
          3.7389967133837563,
          2.8895688815304794,
          4.709318349584124,
          7.563303593769242,
          5.243281682253084,
          6.308646110663615,
          4.6012073074576545,
          5.049396052006701,
          5.460955041887102,
          6.820626190291676,
          3.853406862051369,
          5.258458931075074,
          2.9046950203677344,
          7.794109441560528,
          6.797091287492323,
          4.880629490860683,
          2.2453115685544587,
          5.701741654917244,
          5.337917577395153,
          4.94463904080352,
          5.659807262385083,
          4.4626071513053445,
          4.591463364740823,
          6.535983740640072,
          4.48704220422623,
          5.238664655288707,
          7.470707834362445,
          6.411289110660785,
          1.9577228637557633,
          3.8910508296711313,
          3.027779336274339,
          6.251463398921565,
          8.317216299270205,
          6.902002147183839,
          6.6474805056618,
          4.681798145490517,
          4.940474616654102,
          5.557661351906971,
          7.348266093354351,
          2.591884763689022,
          5.123292642970318,
          3.773760478853225,
          4.667745642561732,
          4.131863277728874,
          6.510729612722538,
          3.5869534331902355,
          4.319067895705762,
          4.041318088440336,
          5.106592287109045,
          7.1133733632309335,
          5.89692033440976,
          4.4672847664606605,
          5.196895627006406,
          7.610631534636115,
          2.8526197074846387,
          3.742605269828458,
          4.220681373348302,
          6.502533488392297,
          6.805158312841964,
          8.18352912720389,
          6.1920967799269855,
          5.046911856265252,
          3.799667195237461,
          5.085908742256623,
          6.484146928484183,
          6.115456677980556,
          1.1554086006360267,
          7.177648834444583,
          3.329797793098011,
          4.732109568046614,
          4.781645917579098,
          4.8047184663381755,
          6.566428324969519,
          7.465829231176536,
          4.129879759260537,
          3.5245211057218913,
          6.12338286041327,
          3.838101203175998,
          3.2439782866160622,
          7.885524546145542,
          7.588763165159133,
          4.0452473169395615,
          3.3286423617305894,
          4.4381043922766095,
          4.765002061630221,
          3.715772387710331,
          3.1208742454108136,
          2.203790271339727,
          4.4411487552115965,
          6.376791375273344,
          5.467182763861896,
          2.4731874972181345,
          6.123025172855584,
          4.826262524674074,
          5.972389194130082,
          6.454406697784849,
          2.208950526359753,
          3.572835667843532,
          2.6220893662064446,
          2.8402698972522744,
          3.7404359547159984,
          3.4327775508252234,
          5.757224133629955,
          6.616192007085088,
          4.733565978389711,
          7.484433107358204,
          7.868678126091641,
          6.545436215872348,
          4.275654932841134,
          5.5113045988260065,
          6.483829936113944,
          6.240646159748216,
          5.292569671360836,
          4.277561293579653,
          6.861264487273679,
          5.143297539330447,
          4.69778870597666,
          3.104947962318221,
          4.4664515681552155,
          4.697387854566676,
          4.732127264393557,
          4.266135857541349,
          1.7811507908496975,
          7.8103329758021065,
          5.494989647840648,
          5.375754486710164,
          6.856309296574342,
          5.161514649174144,
          4.477234631745708,
          4.5467638836317334,
          6.530707665737294,
          3.0153216602581274,
          5.201701299358773,
          2.907416388995266,
          3.3104526203966933,
          5.733824280450493,
          1.4442978424638082,
          5.69240182634835,
          5.361804180256671,
          3.3554592283572555,
          6.08914253071292,
          7.091994547061398,
          6.146838329884524,
          3.9846612762082154,
          3.704679189960485,
          4.254630509685512,
          6.086729897738346,
          5.2708109137377095,
          4.075701089192339,
          4.825276928580442,
          6.590894578910714,
          5.9839402577788565,
          6.158322201457899,
          4.4343533682308705,
          5.876555186909613,
          4.885172398740517,
          6.682873936584688,
          3.861115990244273,
          5.483019749127658,
          5.131416503411692,
          5.468215620397244,
          5.568908345037935,
          5.231432873906931,
          7.239332923258328,
          8.190597733067982,
          5.661161555784869,
          5.759435596636245,
          9.839020430266407,
          3.493681987877273,
          5.146251980766889,
          5.8166566198626874,
          5.039243222397078,
          7.071713233404742,
          6.196829836364694,
          3.9185672213758265,
          3.3470728841381794,
          5.401769875989381,
          4.889539962381147,
          4.737563493643649,
          6.3599133539475545,
          4.400732089879808,
          2.756622784113047,
          3.135994700162854,
          4.471378404012018,
          7.564385745207106,
          5.049401471114811,
          4.5011493297226925,
          5.043412616275607,
          5.014055296173348,
          4.003956717540024,
          7.788878680262682,
          6.994719645325781,
          2.8829019176518673,
          2.6820028599622967,
          4.704295341922636,
          5.260466699710654,
          4.994852672913848,
          4.637994755330696,
          6.3074698022140305,
          5.229158590580601,
          4.068449162282725,
          5.590160032035847,
          3.6323421570856045,
          6.077351549553355,
          3.5979921465539313,
          5.752191768306606,
          1.9377588048288859,
          5.81470286129141,
          3.7518122302924386,
          4.742056979756242,
          5.6017897251011455,
          4.6315382315704365,
          3.8420585546642227,
          9.396253090387368,
          7.50566889111162,
          1.297716077730136,
          6.752926605446669,
          3.9782251805309725,
          3.7985049813555043,
          6.2815824577985255,
          1.4232197581077082,
          5.674089179431708,
          3.4981837073630655,
          5.955708139747807,
          3.7396883759265265,
          5.487414722289693,
          6.6501517633878375,
          4.216996660128339,
          4.337642308065675,
          5.698704790875872,
          7.288025834906118,
          5.20383321430447,
          6.381132193345627,
          4.2980204528763215,
          5.57022421987025,
          5.961432825677444,
          4.132925513724082,
          5.022248134803327,
          4.580516519778222,
          5.618772236149578,
          2.2155979894619624,
          5.5556090199751855,
          2.066275677980358,
          7.055344488811624,
          7.62574307299724,
          4.745855682210495,
          4.68008161762978,
          4.925613732631761,
          3.6773219509807387,
          3.6326253121241594,
          5.777818924151184,
          5.920766124245342,
          6.671515665802914,
          3.977837284296581,
          5.28584991654552,
          6.029719242202605,
          5.176761927433708,
          3.0517972236288036,
          5.510031898019904,
          4.9359599443459485,
          6.108535817109896,
          5.768187538361084,
          3.7048232433821235,
          3.7663141328717287,
          2.297607901405802,
          6.4395399872227985,
          5.52166533148341,
          4.227436507280014,
          4.120022195022147,
          2.895684045329056,
          3.623959182862123,
          4.840083744770017,
          5.398567113275889,
          2.7490944023687587,
          6.332405646823099,
          6.462288346937935,
          6.518126126181281,
          7.797067694842733,
          5.567907556088619,
          4.533987455113049,
          4.027162933493508,
          5.825973621563844,
          5.37715407676776,
          3.8800911539102354,
          7.44671786574562,
          4.9642424745844735,
          4.8431847940766,
          4.5107401594009815,
          7.004346230494356,
          5.032556899634754,
          5.760730832296985,
          5.085100253668099,
          7.282950330665945,
          3.770551332656795,
          6.175725032896344,
          6.432768633359423,
          3.203470035492601,
          5.582658416926278,
          5.960751188723133,
          3.8272136515170407,
          4.886736707266336,
          6.0727651246138965,
          6.595656346763925,
          5.684312729872481,
          8.326723391696326,
          4.586760367351157,
          4.51481829057097,
          6.4827703600319975,
          4.216681145675558,
          4.852670210304462,
          6.247988087962861,
          3.1131688213725934,
          3.8892020651727766,
          3.0664804968449397,
          5.536449253380737,
          5.322422408413877,
          7.031819872526902,
          3.4572133518245143,
          3.9255536859922606,
          3.699912012720876,
          6.096417048915802,
          5.82695727478203,
          6.650169544769492,
          5.747410478485542,
          4.544183867527215,
          4.910155207420431,
          3.852142018373302,
          3.4052755698569683,
          6.6930257413117324,
          3.435090947391772,
          5.851677846945675
         ],
         "xaxis": "x2",
         "xbins": {
          "end": 10,
          "start": 0
         },
         "yaxis": "y2"
        },
        {
         "marker": {
          "line": {
           "color": "black",
           "width": 1
          }
         },
         "name": "C",
         "nbinsx": 45,
         "type": "histogram",
         "x": [
          2.19971337847624,
          1.8014225855721053,
          1.528707766275435,
          1.9718238170144198,
          1.7958818921005524,
          1.817038596616714,
          2.0397767880135333,
          1.9644391903619298,
          1.814725663857559,
          1.876107174525829,
          1.7443985678050877,
          2.6421821817521014,
          2.0541410980918107,
          1.2965101820639728,
          2.2913449848760066,
          2.184874846305582,
          1.8847707840584231,
          1.9822207025353717,
          1.9966401472747626,
          1.9208643756312305,
          1.8689639685620334,
          2.046090396604277,
          1.3761248522716294,
          1.9750943836689545,
          1.7817324226556177,
          2.096371271888501,
          1.8987780007380035,
          2.0072411465114315,
          2.095843865977714,
          2.5314517882722956,
          1.8566342747147169,
          2.483736509709826,
          2.24495062259132,
          2.091628570085288,
          1.8309941817211715,
          1.8026562247103868,
          1.8509163145307992,
          2.0619570123816304,
          1.798427207451326,
          2.0880535885679024,
          1.5743852631187885,
          1.4425327255735905,
          1.7337502492633936,
          2.281225383752091,
          1.5245252746399385,
          1.8384875271495942,
          1.949312268975831,
          2.1469154133766577,
          2.04798791531709,
          2.460385817755519,
          2.071802623636947,
          2.1108447607364784,
          1.8643822916904207,
          2.4082311335996947,
          1.8230460951203409,
          1.6739968834640726,
          2.04447452283497,
          1.6550419021383918,
          2.281357660212796,
          1.9154129144846546,
          1.9138193659232166,
          1.775295241770183,
          2.140603994201339,
          2.306182321812049,
          2.100065538250484,
          2.088092534858399,
          1.9826393227077213,
          1.8686050770866514,
          2.097165965851614,
          1.8625620913743317,
          1.87291972741884,
          2.0662302987346575,
          2.078505853897506,
          1.9125954303770794,
          1.8236449280251747,
          2.3003489358489975,
          1.6531762147944797,
          1.6506933559406876,
          1.7560841270519019,
          2.002429887310612,
          1.9160257527596962,
          2.0029507910932636,
          2.093296929142352,
          1.740156542764937,
          1.8029479993621487,
          1.8434590160081832,
          2.035094450868457,
          1.8673526600076422,
          1.7549362531906318,
          2.1448850962408486,
          1.981358950598072,
          1.6652058707609627,
          1.9631332300951727,
          2.191032529874665,
          1.6212056891712947,
          1.717300200995472,
          1.6149255222741674,
          1.9606880168104752,
          2.096069781595839,
          2.3363771582254143,
          2.398814599098265,
          1.5635898972132778,
          1.904680839316074,
          2.018788580582949,
          2.0071162149647592,
          2.2081215866708064,
          2.280597231638249,
          1.735157796636746,
          1.8798997529260295,
          1.9057807045100992,
          1.9403703823174843,
          1.983389841285824,
          2.393491299936189,
          1.686645325377735,
          2.1537502717931107,
          2.2231794825341096,
          1.6847726839691817,
          1.8413428518355484,
          1.5661500568231388,
          2.009770503283439,
          2.0789407108683884,
          1.9258410606297929,
          2.228990281830954,
          2.04015100676912,
          1.8454707550082325,
          1.9669018363825705,
          2.2659364406053535,
          1.8821052599457628,
          2.2074937614126555,
          1.8619166040249187,
          1.9830779213882297,
          2.0836515412156733,
          1.9088397273953763,
          2.5149750359248135,
          2.1451873243667348,
          1.92139431309599,
          2.1638076119419924,
          2.0139274141494483,
          1.5394465117230887,
          2.1469337351784374,
          2.3468449826446203,
          1.7479996890072602,
          2.0506536983190533,
          1.4838713133525374,
          1.8345357859095865,
          2.2170305441843765,
          1.7507556753956082,
          1.7600834624519521,
          1.8531304817527332,
          2.3335318699263956,
          2.3570172637805573,
          2.3535251819406424,
          1.994983135171038,
          2.2881445029252094,
          2.0468814444754573,
          2.0943682887957973,
          2.3249665373093933,
          1.9063293736249314,
          1.7769629976801167,
          2.1754214233303912,
          1.9921879089455747,
          1.9330443308152019,
          2.051845591423849,
          2.0212808248053924,
          1.6955746566736298,
          2.2941083462225884,
          2.1015177656878876,
          1.7771266141334308,
          2.184281266392703,
          2.2720598761385102,
          2.0681089249397764,
          1.7681484087720107,
          2.069971012679285,
          2.2323294861205434,
          1.5798686079094568,
          2.003718433758708,
          1.9416335522985426,
          1.9711503917957998,
          1.9870116617185534,
          2.2329811482541824,
          1.9093295173773634,
          2.0530687081306143,
          2.256953224330318,
          2.089091818837223,
          1.6409200880178625,
          2.127408550771535,
          1.973728999085899,
          1.728540977355292,
          1.9050259992848095,
          1.7726569524531053,
          2.058074740748226,
          1.3666011977824906,
          1.7322688754280609,
          2.287911103127448,
          2.005924241808542,
          1.8118473833456847,
          2.2724915811199677,
          1.6494630594572657,
          2.093467328616274,
          2.0793383907293177,
          2.315077041986208,
          1.812136071476717,
          2.3849736156255323,
          2.2719487676370553,
          2.263607483545659,
          1.8326034090812824,
          1.9422606009509973,
          1.739700032650541,
          1.9384051252695498,
          2.4077761135785543,
          1.908281406061414,
          2.0386166113201143,
          1.8010857144452186,
          1.818999610949997,
          1.8333459807716204,
          1.7720640701874701,
          2.021284748016509,
          1.8298073565168238,
          2.3579896279154986,
          2.4984596207791006,
          2.3543639930435862,
          1.9299119508542104,
          1.6323744962054496,
          2.11951534759582,
          2.062513181335611,
          1.9947016911784565,
          1.5604399854645365,
          2.3091567375785678,
          2.086950743863881,
          2.222651305525489,
          1.9500851089009739,
          1.861150829760666,
          1.9850130810134148,
          2.346876267727612,
          2.1094671653477017,
          1.6571208886779885,
          2.209534573217698,
          1.7255931959466382,
          1.9704644585096711,
          2.1441224958075273,
          2.4267531894164485,
          2.041518373447549,
          1.9812309027823787,
          2.147659960865042,
          2.206055425359777,
          1.9960440685850185,
          2.0797712485722304,
          2.051437776247741,
          2.3378248315349297,
          1.8190953769747653,
          2.1095918160428146,
          1.7847229949681045,
          2.520333575867064,
          2.2580930182661176,
          2.1449202583502487,
          1.7939548747271052,
          2.0346821401798603,
          2.1584320231691723,
          2.078030520686691,
          1.8706929653531392,
          1.9668502276202129,
          1.9706786526806817,
          1.8645009124145355,
          1.4295359856203433,
          1.895843821193857,
          2.0567794080896062,
          2.2938047046061634,
          1.688207511622887,
          2.4437966341970307,
          2.0942537410825324,
          1.4571389150877234,
          2.070109270300912,
          1.815878095068317,
          2.5291782508183402,
          2.086908297929284,
          1.9463017603326165,
          1.7571051264247886,
          2.1268052585547705,
          2.3708593431464413,
          1.8236590949007867,
          2.5670565899138285,
          1.836299192995033,
          2.0807158335044713,
          1.9605537231687213,
          1.9109199369307153,
          1.7973666797008876,
          1.8788426106091312,
          1.6501896065874324,
          1.6819163252827212,
          2.2010232208610567,
          2.1730419438198774,
          2.3529764035565908,
          1.868724282265656,
          1.6576200414018896,
          1.945234714378395,
          1.8404053835651926,
          2.2562805611265895,
          2.37899660726804,
          1.8990427339438674,
          2.0435479898027205,
          2.0691842402200287,
          1.7327344297468084,
          1.6889854863589568,
          2.4294000798761104,
          1.98287924066695,
          2.0296788662125724,
          1.807476630123931,
          2.2023554584514375,
          2.145453705667609,
          2.1997107808069245,
          2.1006358238186196,
          1.957656930472609,
          2.2575105639245527,
          1.7678389235627747,
          1.7173908638204052,
          2.2983919437810254,
          2.1367132189277203,
          2.5141659192766346,
          2.4719801117019826,
          2.135823111036611,
          2.451003597308939,
          2.3143590974303816,
          2.055888444622665,
          2.116191365146355,
          2.0132607383339307,
          1.6397727860768945,
          2.3183262887703835,
          2.36216715289059,
          2.0970493617221138,
          1.5844249672379727,
          2.0853345210452443,
          2.099799508692584,
          2.465910402268019,
          2.243064714703882,
          2.1043707577688755,
          2.100925598120498,
          2.263189478833803,
          1.5366830273624728,
          2.009079124784193,
          2.2034765421655775,
          1.5041358622061078,
          1.783693086114606,
          2.493542559070814,
          2.1341218980084924,
          2.2787069317153574,
          2.4368133433220165,
          2.2798671581401564,
          1.873660280626602,
          1.5058964717628596,
          2.045587045203972,
          2.2390682910171633,
          1.8621654808979986,
          1.672380564920751,
          1.853494919429523,
          2.3301938420141237,
          1.907487144848741,
          2.381682804356778,
          1.8335471779494914,
          2.117909456338007,
          1.9418773480048972,
          1.8512911380309207,
          1.6724389324659796,
          2.114141279897038,
          1.6683598577631873,
          1.9295742536293243,
          2.0677694970780305,
          2.253494785339178,
          1.804689172250658,
          1.851970045964581,
          2.0872949251468653,
          2.088092407536515,
          2.1587393782373305,
          2.292214996896414,
          2.0959509443172046,
          2.4638070600564723,
          1.827652616541667,
          2.021540618829559,
          2.0184620663772463,
          1.9534857336624813,
          2.166799058631552,
          2.2319327617993587,
          2.3898374343512168,
          1.7863805835290643,
          2.0394113964881404,
          1.728289010579037,
          2.0611757449477768,
          1.8142405781839281,
          2.0379230573119678,
          2.2708901092296556,
          1.8538019688028395,
          2.0349279399772295,
          1.8563033063330923,
          2.2595033943931897,
          1.9221857074453388,
          2.1772933632743654,
          1.8816598590026385,
          1.6527554781340938,
          1.9406872150003909,
          2.3480621922891007,
          1.9779671897926725,
          1.9391857264818297,
          1.8946190945678152,
          2.2164236708301406,
          2.109660402151604,
          2.11858577606959,
          2.0128287754892042,
          1.8794469007244423,
          1.9564100353266796,
          2.1451358183589084,
          2.287238683791811,
          1.8828080261041162,
          1.5264861464661024,
          1.75972160612289,
          1.9787731696834983,
          1.8898415736213041,
          2.011049901392153,
          2.340746421181315,
          1.9559529211158797,
          1.821313408497305,
          2.128706382874386,
          2.0547425527752377,
          2.359003742198587,
          1.8987020167890896,
          2.481361763417368,
          1.7513838956672594,
          2.1647169186999586,
          1.9961106381741394,
          1.8478546712308375,
          1.7728594306659655,
          1.805561954621579,
          1.7774031537062849,
          1.8226611645082127,
          2.0843814436006802,
          1.7078529106611904,
          1.8917131522358348,
          2.3022502368118065,
          2.216220041584247,
          2.1561371078336387,
          1.9034082505708612,
          2.0841930895817344,
          2.0267374539860685,
          2.348193291177602,
          2.209612790309398,
          2.0115280751654367,
          2.243405321510915,
          1.7842389418483602,
          1.9476608027061444,
          2.103398625404748,
          1.7089599501818693,
          2.2033281641517375,
          1.9909671004923233,
          1.7675940573510642,
          1.949989761129352,
          2.1037600372944603,
          2.1300310022001634,
          2.2834355247265763,
          2.0787038241192173,
          1.8346999222609388,
          2.453281315805474,
          1.74416237337183,
          1.9897255257615474,
          2.095297504778518,
          2.356420211083989,
          2.395763401460254,
          1.8781561458738827,
          1.8679896850265902,
          1.7196147490594744,
          1.9368427947715758,
          2.222175869954658,
          1.7849364151836866,
          2.147778306193299,
          2.006191979079549,
          1.9380992980787566,
          2.202732713830918,
          2.1536142850833233,
          1.625471132392312,
          1.832228787571654,
          2.0907365970965013,
          2.4226045147694206,
          1.8190325242593848,
          2.1039213554886924,
          2.1318570899927733,
          1.7961208101016488,
          2.121069773847423,
          2.3672935888178737,
          2.1786033787804624,
          2.1749967065250564,
          1.7936092959060677,
          1.7884009348824546,
          1.6051027090496564,
          2.4897213536164085,
          1.7553196444250665,
          1.8929740410720415,
          1.9878204932921049,
          1.9098744497030478,
          2.089459739314176,
          2.0753624163953837,
          2.309492412276216,
          1.7180648118559838,
          2.186627143739641,
          2.0361215624265663,
          1.9471759301218525,
          2.156784417137687,
          1.6275760933188514,
          2.0359797752635367,
          2.1649328412961872,
          1.7849959691129695,
          2.253817331491488,
          1.6628800096048777,
          2.149201574424081,
          1.9632465550588267,
          2.233134704011354,
          1.7000732581515345,
          2.0872661701077875,
          2.579826253675362,
          1.9590945805752749,
          2.090260830601468,
          1.9716152977447075,
          2.058814293495702,
          1.671673364234292,
          2.1002120947112672,
          2.3609141240605926,
          1.9289318484850253,
          1.6285253739850254,
          1.8264708065982211,
          1.9643238890946075,
          1.9986642876808118,
          2.123295161762064,
          2.3248792148003767,
          1.6668416147774858,
          1.8794474627028892,
          2.233606356209718,
          1.4258096613942763,
          1.8782358777226578,
          1.8838646040647966,
          1.8197743254842973,
          1.8339617004288167,
          1.8293879436216764,
          2.4051995323814004,
          1.9260400438544862,
          1.8777256443615318,
          1.8732340271641934,
          2.037460280236987,
          2.188934447583988,
          2.0232355080571702,
          2.466237605438955,
          1.9145639524431122,
          2.0649360333040643,
          2.3849704253021735,
          2.375069952407772,
          2.4098076612584984,
          1.9357970958085877,
          2.185529236609921,
          1.7082019058517837,
          2.1431514620995444,
          2.253618813671375,
          1.9386193274446961,
          1.8547656882535233,
          1.941484440453053,
          2.2310651399714185,
          1.8613845211068132,
          1.734323121959491,
          1.6222387766919595,
          1.959339544758614,
          1.9258689077830855,
          1.695748784215885,
          2.049420119233197,
          1.7646350236370825,
          1.717883820254153,
          1.8901665516704063,
          1.8759304411590239,
          2.4664045126311835,
          1.5298781446278125,
          1.631904811136047,
          2.404048451679574,
          2.120044559330728,
          2.117336107457615,
          2.194059689672951,
          2.257196849710359,
          1.3077386917320513,
          1.7105711940892494,
          1.8454801688265596,
          2.303976065020687,
          1.710633924468463,
          2.222853040980707,
          1.7260510738400958,
          2.167378953779457,
          2.203460847951917,
          1.7907510347651558,
          1.9104032988360113,
          2.1613866753697635,
          1.7348709904560937,
          1.5648982074066864,
          2.0981126146201836,
          2.0850631783431464,
          2.332964877167564,
          2.3238211429341744,
          1.9183707957070526,
          2.1660310892268204,
          2.121401533826541,
          2.3047919490814257,
          2.132003462154172,
          2.108146546850121,
          1.9235929310101096,
          1.7331422912519556,
          1.7381901241710092,
          2.0799856350299177,
          2.183760988986686,
          1.821862421573565,
          1.8355973769541416,
          2.0985779973070686,
          1.9767413210864002,
          1.607644083412661,
          2.193077129701811,
          1.7283115504033113,
          2.024060011608271,
          2.2349686412989533,
          2.021768354331961,
          1.5298991811522251,
          1.9842802014715362,
          2.0743688818217154,
          2.1057135326152965,
          1.631878911374471,
          2.054831419011633,
          2.164105624290137,
          2.0881562218954306,
          2.612844083149311,
          1.7260878913928965,
          2.2326763417170348,
          2.1954611807363653,
          2.1542474441966672,
          2.0062233237746274,
          1.4726397972159484,
          1.3206830649885433,
          2.166310399391926,
          2.033594693153348,
          1.7574593603268966,
          2.083481892513543,
          2.129965753038908,
          1.6431723336671993,
          1.753520777349737,
          2.2625632122423256,
          1.9285383754907548,
          1.9473710727917697,
          2.0657813549383155,
          2.315995567938293,
          1.5930762348030374,
          1.976863252204949,
          1.715110890429,
          1.9800531034765911,
          1.6760840480652806,
          2.435665417230908,
          1.7465034376126012,
          1.8971373208023568,
          1.7670735130523294,
          2.216248956140749,
          1.8619897327635482,
          2.1910691625522305,
          2.134768529441802,
          2.1054048843378723,
          1.8456948143149767,
          2.363918640534772,
          1.9311945397288643,
          2.6102206633928144,
          2.090290168019848,
          2.135243773634788,
          1.9778416797109488,
          1.8874150760777375,
          2.0447866466621085,
          1.821051564466044,
          1.498539233288835,
          2.137128724460115,
          2.006665431132442,
          2.411364225685317,
          2.0763145952596944,
          2.2313144023795353,
          2.0748447708848605,
          1.4226762091501306,
          1.9671280909786002,
          2.2004593681695086,
          1.8539452728214199,
          1.7467389119061014,
          2.4648112828826605,
          1.9541094754415733,
          1.9132223400128399,
          1.7605645091984221,
          1.9868926310460713,
          2.1519792223452736,
          1.806118662321964,
          2.0948640772744342,
          1.73251717509327,
          1.7680130743827527,
          1.9296454085896249,
          2.5740680427102545,
          2.2360449128017934,
          2.0241897367358903,
          2.2819140762327614,
          1.616548198146418,
          2.5064787400760484,
          1.915983942451505,
          2.206832363559075,
          2.076104482701327,
          2.032797863083909,
          2.317129863315007,
          2.1499941704780525,
          1.955980045415714,
          2.0515938627797707,
          2.1830722283349084,
          2.046137623688282,
          1.7638222115839446,
          2.1964667936624434,
          1.902069978571769,
          1.752679909503591,
          2.341006019452338,
          1.8595317253709376,
          2.319515457794302,
          1.7920222567962045,
          1.7292336693064203,
          1.7482893488169107,
          1.9812004403629728,
          2.0457905673280834,
          1.7607567381610718,
          2.403644761809802,
          2.2977336761326503,
          2.0189851535096235,
          2.0061769259890583,
          2.251472278508827,
          1.7746637458195655,
          2.0040207266539487,
          1.730300225250068,
          1.7711510971273867,
          2.130421898187355,
          2.4638408080250356,
          2.1476938580433953,
          2.399233646417627,
          1.8091951627907388,
          1.7286759854556044,
          1.8351329094522701,
          2.0639228477926985,
          1.8882606923749476,
          1.6337100586372728,
          1.9090228725568192,
          1.883093864923812,
          1.4104264947103666,
          2.2800076242200817,
          1.8126366507239342,
          2.2121062502562427,
          2.26727340270962,
          1.5268796637259099,
          2.0553726687118323,
          8.005600642502834,
          8.01205465764607,
          7.909721864333842,
          8.257065891212589,
          7.907690354711727,
          7.4977635043527,
          8.168198125415772,
          8.060843107262949,
          8.331634659611975,
          7.836830370992281,
          8.525528064531867,
          8.12993480995014,
          7.890506280890979,
          8.301782533785115,
          7.723595755899724,
          8.18758711506081,
          7.9364836192488655,
          7.829425863795286,
          8.68664673001965,
          7.5959187567943705,
          8.166977381065776,
          7.839249905151047,
          8.752348394287052,
          8.451442594357093,
          7.195194160616511,
          7.877653363376656,
          7.424156477173326,
          8.238569809063954,
          7.912959040865501,
          7.710012815488486,
          8.626029282775509,
          8.561843447214327,
          8.19182948131062,
          8.75125844959355,
          7.456487488552771,
          7.340668683280219,
          8.172774687380628,
          7.909895280235033,
          9.027622378592929,
          7.676062191662096,
          9.049709598205785,
          8.62633409611763,
          8.078683291534883,
          8.088273707932363,
          8.04295338638624,
          8.179708408414264,
          8.924115903206454,
          7.315223277872339,
          8.04329610986948,
          8.0795228865432,
          8.162257309205827,
          7.124393909364189,
          7.119337235696845,
          7.389583516350559,
          8.150737085397594,
          7.9295295506930294,
          7.825762283753722,
          7.526631144402606,
          8.028408102615451,
          8.724543098301071,
          8.426749004680834,
          8.351899925379149,
          7.297822873257623,
          7.796671205648114,
          8.599134205054678,
          8.588911667788903,
          7.592011604994682,
          7.54530123945295,
          8.402227581735467,
          7.997609925116932,
          8.149999886206196,
          7.7378519113283035,
          7.164397088064981,
          8.56427238593757,
          8.74169950948915,
          7.870863539236657,
          8.085881987429863,
          7.135229603999273,
          8.064450365073116,
          7.770966747689776,
          7.670008005517703,
          8.650503504581845,
          8.353398485672981,
          6.951369395391385,
          8.029615452475287,
          8.477320469193348,
          8.115730264411033,
          7.318294712707725,
          7.789870515379019,
          7.86820252152137,
          8.305692336954554,
          8.560774735371918,
          7.680772129312875,
          7.384325366884408,
          7.275288214138954,
          7.955387631754996,
          8.296386472823913,
          7.997698736890081,
          7.314703393492171,
          8.608529790575867,
          7.703879145480641,
          7.4702496216942,
          7.775954414550778,
          8.618842650433708,
          7.791699023939897,
          7.8567709135833566,
          7.807565373377145,
          7.4552082552316,
          7.938332485845498,
          8.167871194470864,
          7.885508326696435,
          7.739158220632843,
          7.98549986268352,
          8.156961020859967,
          7.843666989825998,
          8.070464080469527,
          8.51965491559195,
          8.222653825499105,
          8.118874951800493,
          8.009712645434668,
          7.935386957983976,
          7.857750625579629,
          8.163260100597746,
          8.2726295374251,
          8.498187421328767,
          8.35216331524719,
          8.684109670071729,
          7.963071956614851,
          7.908375132756446,
          7.957195200903483,
          7.3334582162295625,
          7.261979106681024,
          7.042778997381667,
          7.373906298647085,
          8.143250979456937,
          8.511147804211918,
          8.682382230819812,
          8.39376764578416,
          7.549774423789944,
          8.25459724049627,
          7.060522009525067,
          7.476242312120677,
          7.789770302109809,
          8.016366860423355,
          8.341427176441481,
          7.935504491524306,
          7.737919508601029,
          7.760783452833516,
          8.122502022680308,
          8.397208290339947,
          7.726100885951549,
          8.424346911348326,
          7.121802517326731,
          7.392194358382404,
          7.725735606258518,
          8.175988748515055,
          7.732608582976544,
          8.299314478776518,
          7.822620519040471,
          7.478337219278056,
          7.3365617213216305,
          8.565964632348962,
          6.694003568251389,
          7.927762433763616,
          8.468206588244215,
          7.901113717934019,
          8.267373422244859,
          8.242374732854048,
          8.581081940617752,
          7.935420479581912,
          8.256572705196035,
          8.14706488657117,
          7.812591017123936,
          8.883842107013146,
          7.759752253702318,
          8.285137568817447,
          7.090707466545288,
          7.8705616281249995,
          8.165585163392478,
          7.634643278818487,
          7.633388929658024,
          7.456751327586636,
          7.917149653913666,
          8.400056649354873,
          8.197063910919548,
          8.729886658987727,
          8.772394252903958,
          7.772631364004437,
          7.667189068937235,
          7.1610389841829925,
          8.73803473813917,
          7.5140034325455325,
          7.745475798140204,
          8.06001280789267,
          7.745728942057506,
          8.316184132413682,
          8.120239738197554,
          8.182191344431148,
          8.51292173226652,
          8.006513227960586,
          8.648841908593347,
          7.453879315215812,
          7.879442879287197,
          8.794338984412338,
          7.994220584197559,
          6.792664461119632,
          7.5296421647046925,
          8.5957876250122,
          7.837571905965618,
          8.237550842795681,
          7.506007442930766,
          7.978145692558618,
          8.144001640438224,
          7.747224202342211,
          8.303115494876081,
          7.632824825051982,
          7.846479189635106,
          7.750466447480541,
          7.750028441493475,
          7.772555569373262,
          7.893295581777876,
          7.779519903471714,
          8.33259605426077,
          8.743062936722218,
          8.2650098236142,
          8.042678493921098,
          8.46893625649658,
          8.129855497475544,
          7.565849338999367,
          7.434993366439481,
          7.838011462085457,
          8.544940577987369,
          8.044117472368292,
          7.812222991041951,
          8.62363819023169,
          8.49922731478825,
          7.879602439943529,
          8.668392434193674,
          8.193928774167247,
          8.525147594992141,
          8.197432894938032,
          7.796800452525388,
          8.068277213068207,
          7.786139867015053,
          7.780417988588453,
          7.899489501052987,
          7.130977856166339,
          8.162606934456532,
          7.291582166632293,
          7.626614355417771,
          7.8673185065944855,
          8.055739913270546,
          8.128454966751566,
          7.9782282075622275,
          7.4860475393345345,
          7.918492716026458,
          8.179330838725923,
          7.880376461086626,
          8.717358520907293,
          7.961683157532377,
          7.2907663809916174,
          7.96004505385528,
          7.298886176505395,
          7.9839156279253904,
          7.879940975849531,
          8.445969503669742,
          7.245230221643267,
          8.322830033729199,
          7.726455141972291,
          7.476968753458442,
          8.328494345432182,
          8.537030702819148,
          7.8061462277367575,
          7.9300414903957295,
          7.6510794493073,
          8.451987511805758,
          7.439472724470996,
          7.70268023154829,
          8.165860690993842,
          7.359410005940967,
          7.713580260018981,
          7.443623212496659,
          8.43350855458751,
          8.064456265318581,
          7.4316218520075905,
          7.789309165668481,
          8.175942489739851,
          8.461669369596354,
          7.938728697101171,
          7.276198787285651,
          8.513947825803465,
          7.478800421825024,
          7.43631064307497,
          7.851017879355402,
          8.137036820895611,
          8.112756616728229,
          7.991132644730198,
          7.26832313739816,
          7.957285023704377,
          7.265278299118175,
          7.874870888595666,
          8.01943656728503,
          8.684067207280457,
          7.683980383033248,
          7.88341512816038,
          8.188248392869612,
          7.756079017533379,
          8.801341481301662,
          8.75689531288245,
          8.723427461697787,
          8.275472576743994,
          8.372425430340082,
          7.665844800533716,
          8.195167331085372,
          7.4614781476611505,
          8.285713142318144,
          8.955327640303553,
          8.094285136804592,
          7.7464361894977465,
          7.505019729418016,
          8.547369150403696,
          7.764694174396966,
          7.572836536935806,
          8.661283564238035,
          8.024549776376075,
          8.25863665912697,
          7.63542088015562,
          8.02572476765471,
          8.656774596118778,
          8.27678907754537,
          7.854295485769067,
          8.19989008813728,
          7.91598017075152,
          8.262032103071036,
          7.233112086913988,
          7.8496633236203746,
          7.161947490375896,
          7.772655700716974,
          8.05318770270502,
          7.224406472580053,
          7.370026653863589,
          7.823966495139615,
          7.893745445790121,
          7.550221806712142,
          8.073931887947403,
          8.63969178466351,
          7.9690101001288625,
          7.909570057984386,
          8.23312580979077,
          8.396853233073918,
          7.844835288433215,
          7.544671189304355,
          8.114890650077292,
          7.922099162278309,
          8.011957760100271,
          8.413479796029469,
          7.212626452593023,
          8.436423970456623,
          8.537225395647182,
          7.460349601083136,
          8.339477045124147,
          7.0927655060138655,
          7.59167253083017,
          8.606834432344217,
          8.075876463593762,
          8.205740358395506,
          8.563290335314711,
          7.8277173609009205,
          8.307953337679256,
          7.9794161477324685,
          8.457948510866531,
          8.275529568479348,
          8.010521809839126,
          7.621738634648702,
          8.535218248575667,
          7.741458340312907,
          8.647048156826914,
          6.83845556607794,
          8.119580287122842,
          8.345508155193809,
          7.940245378297138,
          7.510565130309648,
          7.6741288585358856,
          7.943815885074199,
          8.796966811619296,
          7.401599260676055,
          7.95165614418483,
          7.939731677788243,
          7.8668225459063805,
          7.926193939020797,
          8.639844758138864,
          7.527980683097917,
          8.88801868004604,
          8.550404448857137,
          6.822769411744616,
          7.9717308072348745,
          7.394189299869388,
          8.214823223297678,
          8.557748147624984,
          7.253856061737025,
          8.417851608018069,
          7.592025295326448,
          7.918994815601573,
          8.494808752979896,
          8.821543971578707,
          7.1423298360164065,
          8.215723329223513,
          8.634191293038947,
          7.581764494305981,
          8.339070848404475,
          7.9740378930426985,
          8.476837151963096,
          8.51062117280425,
          7.891315681569591,
          8.045923783050997,
          7.37334078989728,
          8.69945014029389,
          7.351918417250846,
          6.778788060525607,
          7.553618949799206,
          7.634574343925226,
          7.768030205399004,
          7.593713353094194,
          8.28408063109758,
          7.407793814582787,
          9.172547992139961,
          8.077288190409188,
          8.526419718573763,
          7.281035910544091,
          7.95792408958041,
          7.27448811460348,
          7.638018195984609,
          8.614240592989155,
          7.436133784503691,
          8.12023573749416,
          7.468839282851754,
          8.16579434338212,
          8.125078295812619,
          8.08504814252763,
          8.006987563443884,
          7.722986380312379,
          8.369317825493136,
          7.7846785314654765,
          8.679363699330313,
          8.489804844050573,
          7.9266028364440535,
          8.554173626703975,
          7.586000730388501,
          8.500312245795207,
          7.479914196246313,
          7.566091987413619,
          7.192424627388418,
          8.384314210051716,
          8.715077178313514,
          8.921387468353302,
          8.215641193861257,
          7.7202287403410805,
          8.3779386878526,
          8.644630992150898,
          8.31227299380062,
          8.379370997853794,
          7.710268316053378,
          7.952704589213508,
          7.810393878802563,
          8.93247887295738,
          8.367421839147312,
          8.085201711628416,
          7.581210072697679,
          7.542799947349461,
          8.573480012791956,
          7.467203192742616,
          6.829767749503544,
          6.6801465575259655,
          6.829249922184427,
          8.388620191602278,
          8.655388725940396,
          7.8738781044889725,
          8.246301858270073,
          7.727591149297905,
          7.893287065024424,
          7.131656774737594,
          7.300886772461558,
          8.507873324969895,
          7.36853098885276,
          8.026848529970684,
          8.649079508363629,
          7.521621634156707,
          8.726996717126811,
          8.367614469688641,
          7.942551556475023,
          8.180461781189598,
          7.477640964069224,
          7.974778169695455,
          8.102986978867285,
          8.225135194567816,
          8.38384510902001,
          7.343627452580097,
          9.139816380184113,
          8.069486370432951,
          8.243328762609224,
          7.9179819371756555,
          8.108876310073333,
          8.650218753066989,
          7.902948980237653,
          8.165055957526988,
          9.058013583469393,
          7.296405893240756,
          8.477997595150097,
          7.216107389982318,
          7.721496845989773,
          7.857422393782025,
          8.045716435282474,
          8.087806991804174,
          8.264990407733324,
          8.789267625711235,
          9.39096439290891,
          7.619603190368662,
          7.669214000172678,
          7.962726199303543,
          8.014981857156995,
          8.557472170923095,
          8.666059790907333,
          8.724877483475872,
          7.96449468743051,
          7.893548953202755,
          7.198105037185022,
          8.402981238373084,
          7.555937122243908,
          8.137858819862098,
          8.170545948923369,
          8.3881977665105,
          7.664437513307997,
          7.870411725691576,
          7.872872454532451,
          8.480190612837887,
          8.14075145651217,
          8.585948689360192,
          9.009076095707574,
          7.998564397040524,
          8.0116489428078,
          8.347082318744738,
          8.241506483013104,
          7.7437848233307465,
          7.322077164780501,
          7.442877066654231,
          8.316254059166196,
          8.490755506712192,
          8.132476414081863,
          7.682595386946781,
          8.302034947631471,
          7.0639549963231465,
          8.565373301124305,
          7.30200594997091,
          8.030820619185812,
          7.73397770784536,
          8.919136515556591,
          7.708458997809762,
          6.893775905465166,
          7.769151759057451,
          7.391057973368799,
          8.40803549416104,
          7.7657812855230555,
          7.472892840573761,
          7.676248434292409,
          8.322543164868232,
          8.164414373098019,
          8.202541751822448,
          8.502102065756056,
          8.214807323097377,
          8.581802069787013,
          7.853793870919558,
          8.023557910427382,
          8.393945347230602,
          8.323579003161633,
          7.951604360830012,
          7.715153076320079,
          8.696018358176461,
          7.583608732357187,
          7.7427067525822215,
          7.654334908498412,
          8.143987397247479,
          8.500772414409946,
          7.7720122195870385,
          7.256021428424921,
          8.29514008510072,
          8.374191534911667,
          7.435447078765215,
          7.850560911614108,
          7.602078424180945,
          7.227642663565597,
          7.963031735529402,
          8.471750041305938,
          8.900939838173048,
          8.335780063447363,
          7.60948146985394,
          8.507481874139405,
          8.413521817652914,
          7.577128562125702,
          7.586137509428838,
          6.595298752918553,
          7.789075846491773,
          7.6976998883257215,
          7.998669922514386,
          7.313401285798846,
          8.434810102694616,
          8.149745924535816,
          7.34449753510429,
          8.876191085352978,
          7.741159550567702,
          8.754224865049306,
          7.448540082795384,
          7.650419329302266,
          8.302912146973263,
          8.295845612333302,
          7.856698086704981,
          7.539344856523102,
          8.139730226883573,
          7.897906881498732,
          8.748287209760495,
          8.076760046599642,
          9.079787967079717,
          7.716648325048278,
          8.05602595037372,
          8.247389381995328,
          8.309770694956853,
          7.809917354548821,
          9.161464597895588,
          7.506070657929799,
          7.772973003520281,
          7.927010886084718,
          8.569492242142783,
          7.421487227968637,
          8.126613463309186,
          8.7220661981446,
          7.569950145139883,
          7.642899257148972,
          7.095500061382822,
          7.941877032268698,
          7.95281394190249,
          8.038857036503092,
          8.18313739364625,
          8.139317739351336,
          7.533308113717924,
          8.067794787573462,
          8.27547982118921,
          7.4164052750783656,
          8.204090517301804,
          8.678694093976558,
          8.481380346036056,
          7.847491319838737,
          8.625825311786945,
          8.39337641959191,
          7.937730442829112,
          8.499918163045336,
          8.121578183512806,
          7.607353127476312,
          8.136575216114478,
          7.358952521805965,
          8.757092723533932,
          8.026097837027834,
          7.7809176014972365,
          8.058402282373923,
          8.017439598937413,
          8.479955627178816,
          8.54505600491333,
          8.284977234083264,
          8.049902863676458,
          7.8414976317569485,
          8.379075275959599,
          7.621727216452452,
          8.136650906828434,
          8.585027285385443,
          8.127122210952585,
          8.159159142995696,
          7.562596455735514,
          7.842568616901028,
          7.840295569496004,
          8.306444036130006,
          7.692085133825654,
          7.432372877809659,
          8.026382707720526,
          8.700924154329194,
          8.250687300489261,
          8.790049158567953,
          7.605817468644552,
          7.915690690605947,
          6.62373145550532,
          8.443813990087975,
          8.25312534273749,
          8.509109984956371,
          7.962840524593376,
          8.20509444331407,
          7.413047142814794,
          8.438903035002967,
          8.081551930714356,
          8.002595349214811,
          8.977597511188863,
          7.540020643492816,
          8.311689731344948,
          7.51106014954631,
          8.347289302547289,
          7.839750190808108,
          8.146262710206706,
          8.009991913723145,
          8.901231451681817,
          7.381265007164918,
          7.863266510420915,
          7.51787218748439,
          8.045980132830417,
          7.122735344859275,
          9.067464997346502,
          7.995416611070857,
          7.627709704761799,
          7.630112016070827,
          7.742324069940521,
          7.328329767659414,
          8.20574542371965,
          7.386698438553072,
          8.893440028362543,
          8.545038336587693,
          8.307287869656333,
          7.703338897686294,
          7.884267011640354,
          7.281525202668257,
          8.246212088929376,
          7.873135885316948,
          8.093001540606863,
          7.510084122032764,
          8.13121859159203,
          8.914468198510027,
          7.688525824870981,
          7.439058942633569,
          8.004406054833026,
          8.076055640200888,
          8.705179329272914,
          8.203949293949758,
          7.191478122997136,
          8.449184811540722,
          8.345670141999676,
          6.847167456478895,
          8.394524155087645,
          7.74519950748181,
          7.960687615391994,
          8.592458581330128,
          8.032079256056319,
          7.900535780135422,
          8.957914063479187,
          7.71812777205061,
          7.536916981501362,
          7.37837511508876
         ],
         "xaxis": "x3",
         "xbins": {
          "end": 10,
          "start": 0
         },
         "yaxis": "y3"
        },
        {
         "marker": {
          "line": {
           "color": "black",
           "width": 1
          }
         },
         "name": "D",
         "nbinsx": 15,
         "type": "histogram",
         "x": [
          7.04175399969459,
          5.705006595664659,
          6.6650053303672925,
          5.620510309196487,
          4.7775647944211395,
          6.011549449618558,
          5.608132646743113,
          5.587909008540985,
          5.890400838953496,
          6.525651054931437,
          5.546362138392921,
          5.893609087750855,
          5.362757062343391,
          5.601000576098601,
          5.944537182943459,
          6.353327254581226,
          5.799075820533704,
          6.042040847023813,
          5.8907704127406335,
          6.159364700342728,
          5.880280960018386,
          6.301591040009124,
          7.000970360279042,
          5.589771508581522,
          6.737992829040582,
          6.0409978964234865,
          5.743849070196679,
          5.988164498542658,
          5.99834017604809,
          5.059206952549166,
          5.700213482064405,
          5.685118650224399,
          6.2391101437263465,
          5.531097409616368,
          6.836800849904112,
          7.227099863814679,
          5.664067539445343,
          5.6815631863982325,
          5.449110976362329,
          6.167345611865502,
          5.7588183297049085,
          6.306354738265323,
          5.974756482937437,
          6.071853723055174,
          5.5944455695727,
          5.894265787663607,
          6.292450585654164,
          5.812143458097435,
          5.393427058096036,
          4.995802700165432,
          5.556946692038834,
          6.836480771182167,
          5.772087911534118,
          5.913693473099129,
          4.984332271006748,
          6.1604885734059724,
          6.312537188910845,
          6.516376680834782,
          6.267379298511601,
          6.208579305317822,
          6.059505138574084,
          5.162658382105889,
          5.434644496634957,
          5.426380264700316,
          5.928051424670395,
          6.843923762578445,
          6.071134731503897,
          6.2165808762687025,
          6.104587359630161,
          6.570871820212117,
          6.186670280033383,
          5.457603435384899,
          5.91785613476835,
          5.2832746600354,
          6.956621039774639,
          6.167985936554509,
          5.215214749536682,
          6.577509764692486,
          6.645218352964347,
          6.356816187887599,
          6.268750313767149,
          5.129766474194419,
          5.731036062570647,
          6.056911762669397,
          6.742362264262974,
          6.9180056582336205,
          4.736264126786114,
          5.999814223242875,
          5.798104070066141,
          5.374429082839034,
          5.353382333145857,
          6.558570875057516,
          6.281191809208115,
          6.484369202995617,
          5.874002245855699,
          5.8589595551950815,
          5.941459633731595,
          5.837707761880861,
          6.333797653797875,
          6.051125241522556,
          7.18075908666159,
          5.805198565801881,
          6.596262110676266,
          6.523736582844656,
          5.465098284246055,
          6.421915060191679,
          6.240069490818624,
          6.50532948536914,
          6.597942297304686,
          6.1118875153536845,
          5.7683186311024635,
          6.204085466718759,
          6.312575799932906,
          5.5925127934582,
          6.29771083718229,
          6.266343611414642,
          6.110010046196702,
          6.2238329103600885,
          5.32619263672924,
          6.565771584846343,
          6.743169942469163,
          5.476490745920419,
          6.127103713056381,
          6.195530543845762,
          6.467842941977786,
          5.778202171914269,
          6.362338066816955,
          5.884282201858702,
          5.967548100716661,
          6.5048763096482025,
          6.682095145389671,
          5.914495365470361,
          5.92810474722248,
          5.182245614272669,
          6.299073729849578,
          5.792373479092336,
          5.232140717214129,
          5.409935700995614,
          6.326599704755902,
          6.239818970561659,
          6.538501660425027,
          6.585144372137185,
          6.423383879497708,
          5.688193618051934,
          6.061027017932078,
          6.97590330106847,
          6.299526697453277,
          5.125170009050509,
          6.720408495653518,
          5.6632310162827135,
          5.382372686021426,
          6.682194385769621,
          6.935878032685167,
          6.174214457519975,
          6.3426426645769105,
          6.751724817480095,
          5.291933793574059,
          5.838355779282568,
          5.820890262038044,
          5.393168873098072,
          6.666268331754549,
          6.801278042411809,
          6.2402568040167194,
          7.299062897717722,
          5.904666648832241,
          6.1577792216536045,
          6.513020979202694,
          5.388417059441665,
          6.173222053396031,
          5.218756710317045,
          6.3037695273157865,
          6.214492952913583,
          6.014316794211007,
          5.290519054234266,
          5.980335330996794,
          5.598160207760752,
          5.118037221166168,
          6.28884876884009,
          5.795753587746128,
          5.7391197742304225,
          5.6645023833806745,
          5.289155379615761,
          5.424304732349233,
          5.7385283869796115,
          6.368605242036661,
          5.15898592228954,
          5.8047784148808805,
          5.182526023822425,
          6.089600044123817,
          5.856009714395814,
          5.471468781683096,
          5.5476785381892855,
          5.637282807712649,
          5.491696474066304,
          7.0219418767718444,
          6.132212911107662,
          6.285325662832427,
          5.827180675449833,
          5.460355938884095,
          5.80114509475074,
          6.605966430082295,
          5.4338855840150835,
          5.949103592193699,
          6.029021567468976,
          6.740884618341452,
          6.325212759269034,
          5.6082589829101215,
          6.261593768993213,
          6.1376484117950625,
          6.0382327376858695,
          5.46812386305535,
          5.962032924628129,
          5.654533625865327,
          5.946698361764037,
          5.2827078919362975,
          4.935218673558258,
          5.513441765813905,
          6.325105457981618,
          5.629446818241452,
          6.898905268326468,
          6.3158672354538865,
          5.5254885379379965,
          5.538789152678928,
          5.219841154982011,
          7.322876257219098,
          6.348348427950921,
          7.0936514444369125,
          5.508041714210503,
          5.383919477469393,
          5.994727593349017,
          6.492502258656811,
          6.384840766760913,
          6.357808536952301,
          5.841495730722001,
          6.118264498301582,
          6.350407331142994,
          5.644927676318347,
          6.253384222745873,
          5.113183210144431,
          5.501109523708644,
          5.670550103090568,
          6.840240292871562,
          6.918892675422126,
          5.447991751489286,
          5.729991558373846,
          5.553796269918969,
          6.987189721327489,
          6.874589217427185,
          5.803389055396322,
          6.557480953805508,
          5.534781976750468,
          6.0284433615761825,
          6.699776679133727,
          6.34339161191231,
          5.4935360890760565,
          5.580938208819925,
          6.337484981836781,
          6.251879951070615,
          6.266977916857809,
          5.574782820005185,
          6.162916402140992,
          5.914214690125002,
          5.891457946433561,
          6.487296415181521,
          5.240219257008974,
          5.718182576004001,
          6.080673551885909,
          5.981988424814559,
          6.21440443491423,
          5.74148903129039,
          6.291127034021387,
          6.492668823199318,
          5.151839996950247,
          6.788761668680614,
          5.323641886788864,
          5.975253714680329,
          5.932436785263223,
          6.077374364018522,
          5.448537626724359,
          5.660556259543527,
          5.885054562867553,
          4.864242451980547,
          5.642400650809985,
          6.946601213258549,
          6.629806180824371,
          5.947767623160587,
          5.252519387238944,
          6.595959373987528,
          5.657546406744816,
          5.623018497439564,
          5.701506992789441,
          7.065216722898227,
          6.0063676240254855,
          6.604683873987062,
          5.233631706969473,
          5.467400974398656,
          5.459207384099472,
          5.441418240753791,
          5.6412124087048685,
          6.482360413985507,
          6.395402387788138,
          4.7885950643343955,
          6.119442893698675,
          6.519793195518218,
          6.249524961283281,
          6.075681259646087,
          6.33898260565472,
          5.981638019431032,
          4.9508420800066135,
          6.75091873829873,
          6.198758840852101,
          5.941535996705219,
          5.15819374869674,
          5.93099059211625,
          5.611304633524984,
          6.9966018993443235,
          5.739838124614028,
          6.391854552580505,
          5.807178647509583,
          6.402400618272619,
          5.3270072936252735,
          6.065125665541546,
          6.2860769129648455,
          6.29761379961449,
          6.4314454636967255,
          5.970290244723776,
          6.74771844716175,
          5.797164867789623,
          6.490338161074082,
          5.398643379787719,
          5.876364207326206,
          5.946163345311683,
          5.524910475587179,
          5.58515179035134,
          5.9018141705551805,
          5.667042781876949,
          6.897717857174323,
          6.0203030856569635,
          6.542637731004771,
          6.0298981611320865,
          6.049950738062186,
          5.3619984177329645,
          5.80301049816116,
          5.430099234655488,
          5.1619362899128625,
          5.71378416631763,
          6.186595964166592,
          5.916785885987976,
          5.751022769952235,
          6.045793077102562,
          6.004626779260303,
          6.303821588872647,
          5.805406812206752,
          5.499810055530333,
          6.505266951688183,
          6.12348345776981,
          6.064376472449722,
          6.061270476455082,
          5.473152268709178,
          5.1837836022543335,
          5.783615053343066,
          5.624130793216479,
          5.588974601258048,
          6.458693129402101,
          7.030874856188592,
          5.434384195171617,
          6.242926367881237,
          5.857087993522426,
          6.016797536721716,
          6.397077865169514,
          5.7841634935350195,
          5.051782837419308,
          6.144550994483399,
          5.625196373565047,
          6.184131969305223,
          6.46150718449233,
          5.390843740157916,
          6.867707435399062,
          6.640078018976842,
          5.939920352377947,
          6.281557267989762,
          5.702575401862393,
          5.549111050328694,
          6.322395697255908,
          6.311107694116031,
          6.1828132630256825,
          5.710977009147424,
          5.2755364804097855,
          5.856077183496027,
          6.3552171488560925,
          6.715806924530662,
          6.273004321701417,
          5.808975449158379,
          5.811159657909543,
          7.167106232028032,
          6.019810328424011,
          5.6562495592225615,
          5.379975660512352,
          6.644373441222621,
          5.568209407484504,
          5.375520103761209,
          6.640181529108134,
          6.04897468427482,
          5.87400491620834,
          5.861796244952885,
          5.891074967947163,
          5.983857213438567,
          5.923690103652259,
          6.322755678872438,
          6.92646108081334,
          7.013114934375597,
          5.145862255548748,
          5.804141563746777,
          5.953272490867941,
          5.428762487307873,
          5.535319577733304,
          6.116640930285086,
          6.457387515420612,
          6.131111963931341,
          5.366333932829663,
          5.2212567136148795,
          6.57060923836945,
          5.781957005569269,
          5.739404184480377,
          6.948044371065906,
          6.247046183580521,
          5.817287856988092,
          6.394362771607464,
          6.687928100868622,
          6.056555619559374,
          6.253448442763314,
          6.186336718653416,
          5.393629687065492,
          6.053898685129306,
          6.390941264321926,
          6.359113331925356,
          5.946606076924344,
          5.655152105779619,
          5.619768455087055,
          5.9782080706727365,
          5.492919271589853,
          6.653172995185302,
          6.433527201315889,
          6.618296944642877,
          6.855193981816407,
          5.600190389277983,
          5.5893075685655695,
          6.099181340918656,
          6.212143949042668,
          5.151335967582677,
          5.272798585884705,
          6.267592987462216,
          5.691538664650205,
          6.719309538074275,
          5.920186328152016,
          5.906382058010014,
          5.2969232492397325,
          5.9644807283719325,
          5.8270954143954405,
          6.715253528729068,
          6.5202325533807155,
          6.108280126032189,
          5.5789121773766155,
          6.223493623239952,
          6.921941360984988,
          5.305323313813637,
          5.529090923221828,
          6.096545672313674,
          5.523280435245118,
          5.4215349066219805,
          5.844735745721114,
          6.165282530246592,
          6.426466890532717,
          5.944087356622607,
          6.187378487688638,
          6.183865157037054,
          5.420926461590649,
          7.025192349297626,
          5.994879499594099,
          5.7349652740897215,
          7.1296472844403525,
          6.479260671608763,
          5.932455453147341,
          5.605812600842929,
          6.117936105774301,
          6.944689721098394,
          5.743856552691742,
          5.517552033838447,
          6.015043065700176,
          4.973849839632322,
          5.3061912855887075,
          6.2745694529531155,
          6.92968847665231,
          6.311408686659778,
          6.278144618010798,
          6.157009597575443,
          5.196604437937109,
          5.04114695329231,
          6.115167410159583,
          6.051955793815208,
          6.237213020511829,
          6.415680998621342,
          5.947428694806464,
          5.726954566121364,
          6.407456549760905,
          5.932788279638211,
          5.529787894956966,
          5.79845702598523,
          6.3253767645167285,
          6.255616082715852,
          6.316766618778021,
          6.5400547471038815,
          5.440871970567465,
          5.716208439831524,
          5.476427521834163,
          6.918355947451941,
          6.470050003391431,
          5.476857826165053,
          5.814385003831855,
          6.3837357834961,
          5.782236312033458,
          5.296460805957297,
          5.836351731537569,
          6.314048704628175,
          5.697838569337091,
          5.2336071697596775,
          5.284852977305248,
          5.390460325819513,
          5.968897728843693,
          6.375901534378375,
          5.631627454153026,
          6.307949138791167,
          7.206671421682015,
          6.083620435303998,
          6.109722376798328,
          6.153844642476679,
          5.0565731968432726,
          6.090686934361366,
          5.736015189671624,
          6.55458238374083,
          5.468477758122512,
          5.748560441526734,
          5.6507892158947755,
          5.670143212138674,
          5.911755969247807,
          4.964724586478224,
          5.607669161927494,
          6.25140435695228,
          5.908694440342034,
          6.92778926058951,
          5.597285720928603,
          5.856261444144356,
          4.997161869754247,
          5.482704496142008,
          5.509967997763429,
          5.554629684470064,
          6.389333222852089,
          6.062968761129337,
          6.06009647031656,
          6.768900678204399,
          5.435755404402761,
          5.289247185531704,
          5.37936033222037,
          5.245948367665534,
          6.40761525962186,
          5.861370070032532,
          6.225050532208263,
          5.779315057672929,
          5.219055258648751,
          6.617057058165545,
          6.209548747439964,
          5.322776826234304,
          6.463809588334517,
          6.284477999484053,
          5.48935367615954,
          6.450447656992686,
          6.028883272630216,
          6.18595831788802,
          6.515731109183174,
          5.233685224492594,
          5.818875174628327,
          6.350242281989429,
          6.613424677275448,
          6.03094239352548,
          5.944219333251927,
          6.22326085222467,
          5.517366728871898,
          5.6894917059709,
          6.181069118288271,
          5.465862361200881,
          5.760025932371502,
          6.597497222940077,
          6.472990750069945,
          6.233970371892618,
          5.043045899350663,
          4.654379861586107,
          6.562135264862788,
          4.648192039830396,
          6.407613071644746,
          5.69467768342991,
          5.9971724808471185,
          5.891882721663599,
          5.855635662209897,
          6.453184046929337,
          5.92029350933514,
          5.644248811185118,
          6.615358421866103,
          6.005227414566802,
          5.736022736713974,
          5.842747330054318,
          5.482401278630815,
          6.109784549301877,
          5.994731100108832,
          6.572963294982804,
          6.005882881522223,
          5.321845555003365,
          6.341221567422404,
          5.229402476462478,
          4.759172519725027,
          6.90259715839346,
          6.046527812448092,
          5.556440504986579,
          6.501512516219222,
          6.192249266494808,
          5.882091742516339,
          5.315459369104244,
          5.299749874408885,
          6.275976508162346,
          6.016477357625856,
          6.073539220206346,
          5.659477448287142,
          5.571649683871841,
          6.087909325185893,
          6.220318256077396,
          7.25017179827085,
          6.965794154164015,
          5.9974783208335545,
          6.519476543981952,
          5.278046496456973,
          5.531225589047402,
          4.869062966003772,
          6.270669173385459,
          5.959257632022894,
          5.395694703791989,
          7.494799032228429,
          5.782851129667185,
          6.950792200794483,
          5.4290535216426745,
          6.179050500945385,
          5.9385018071970475,
          5.333635735497893,
          6.441775205526253,
          5.2635907865998215,
          6.074617638845531,
          5.538792022824146,
          6.041392109937642,
          6.338856456076102,
          5.963944270301944,
          6.422809314338667,
          6.57191398101758,
          6.679252093401353,
          6.453011863119167,
          5.875005141809344,
          6.169670041304701,
          6.5564955618743594,
          5.631343945458498,
          5.788057283342843,
          5.320982821107467,
          4.463647237047278,
          5.752867626409181,
          5.694595706070426,
          5.710538874203452,
          5.094173907157324,
          6.235254162483534,
          5.9682556794778,
          6.161702018120024,
          5.873870292857998,
          6.538111682224821,
          6.274543175340583,
          6.581665157074311,
          5.424402895068061,
          6.441056201715933,
          5.957933342461267,
          6.136199303599902,
          6.249150670077658,
          6.6654844983089845,
          5.081218041526218,
          6.451357779785429,
          6.632044683395433,
          6.172359761723679,
          6.262418992947091,
          6.220664381438052,
          5.920895199060058,
          5.345069017268623,
          6.080748399752874,
          5.767780241961034,
          5.649635682035847,
          6.148641654005244,
          6.572042607795241,
          5.964624192039412,
          5.734140034218134,
          6.077942869773128,
          6.277679207058285,
          5.496955631396912,
          5.381141996357514,
          6.166837760146964,
          6.599661973048327,
          5.896579705404687,
          5.828969439315193,
          6.447737716455695,
          6.907463661429328,
          6.06030416663089,
          6.31118742528869,
          6.596861393815033,
          6.519949981688382,
          6.827379296395201,
          6.164470633620774,
          6.118333931725003,
          5.93998349837321,
          5.45672093460658,
          5.7648062706681085,
          6.2648952503166635,
          5.84075696457348,
          5.966318120464201,
          6.782754642712506,
          5.295275399774483,
          5.7021289286953305,
          5.962798677781874,
          7.642475446781954,
          5.122708304942403,
          5.509038637071994,
          5.941018305932126,
          4.852092848747301,
          4.933971171103391,
          5.411456892144302,
          6.1758784764819055,
          5.136664564054152,
          5.811360191772972,
          5.992186523003899,
          6.017321499436366,
          6.168732795462908,
          6.171008913268353,
          5.733966576975433,
          6.441042401470885,
          5.373597005281226,
          6.162481747992132,
          6.646734435947431,
          5.586613036769755,
          5.411277049296093,
          6.358399717483838,
          5.6428069243550985,
          6.224908709061061,
          5.515665645886455,
          6.625376401417828,
          5.430220639285112,
          6.096933140366208,
          4.964431191329189,
          6.895929842769035,
          6.160538512009939,
          5.975454408356299,
          6.074594127851822,
          6.670425434359932,
          6.092736957535359,
          5.323355315486666,
          5.007256043919025,
          6.166986128351478,
          6.226650927627663,
          5.9832647999231705,
          6.335203883409211,
          6.441835043358513,
          6.07137942613552,
          5.998776777699881,
          6.178644085824958,
          5.778722140959471,
          4.908004353749056,
          5.904671330532072,
          5.942242130368658,
          5.463189090990042,
          6.0428407811880795,
          6.74285484210937,
          5.472078874169125,
          5.391969548422361,
          6.491765555953237,
          5.9727897740688265,
          5.377803307606252,
          6.13482841494886,
          5.779472005729678,
          6.4005480659165075,
          6.5882443050307025,
          7.064436957615726,
          6.520371370944183,
          6.583150955801175,
          6.172210003685615,
          6.08297954424169,
          6.552516194429662,
          6.360290406690092,
          6.500806896792064,
          6.156687668642291,
          5.659866017643157,
          6.244116918568083,
          6.588256002371266,
          6.179174242193294,
          6.693847781571899,
          6.224894152109848,
          5.783478309492769,
          5.460282298580827,
          6.386019585444415,
          6.085820488739305,
          6.117303231087632,
          5.4417948722481215,
          5.811300649052131,
          6.275044348496052,
          5.711963977459706,
          6.222065826551984,
          4.758145878868289,
          6.431847728150176,
          5.650948551540466,
          5.785734418931575,
          5.914458232863997,
          5.515192692632002,
          6.115580425641112,
          5.6622226214458555,
          6.372011506234696,
          6.296924012750898,
          6.609090555727273,
          6.841739692553064,
          6.146273377580822,
          4.369141799048489,
          5.519094255367641,
          5.985933862429613,
          5.266504597236542,
          7.235416416758934,
          5.461004942272069,
          5.728663030921209,
          5.372815432917431,
          4.751638467585735,
          5.124534487526527,
          6.219192492175039,
          5.597448248561879,
          6.1976815735977695,
          4.955462049947708,
          5.039130244871511,
          6.199697768601878,
          6.647143958178451,
          5.930834936300546,
          5.008924399974977,
          6.415938712275594,
          6.38423449763341,
          6.80043506993211,
          6.726399953015914,
          6.907407656298644,
          5.556980881174985,
          5.686627202945092,
          5.832890851094332,
          5.852436727774273,
          6.242007734892233,
          5.30959127230174,
          6.464725241860601,
          5.815921382341355,
          5.5709959597784255,
          5.8853197078104715,
          6.168044378948091,
          6.203569166943707,
          5.681253841709361,
          6.142893342796384,
          6.007981824623955,
          6.128254625389598,
          5.610250270606544,
          6.111924043998617,
          6.321490354801519,
          6.878720999020499,
          5.542966951438362,
          6.324706524486262,
          7.145022711318157,
          5.873575189078305,
          5.69212346059116,
          6.6707831989232,
          7.022449554926533,
          5.259816513375108,
          6.737453592741204,
          5.514166777466457,
          6.516178036982814,
          5.918174298648997,
          6.311616464896126,
          5.551033820648671,
          5.026821088465029,
          6.364662477896659,
          6.918430457030691,
          6.282442012973048,
          6.461377287680511,
          5.681764552120737,
          6.046343017951718,
          5.716287794414291,
          5.865980458368448,
          5.896784257328542,
          6.436805781811654,
          5.951557947903746,
          5.502969736506746,
          5.321460966202946,
          5.626873382213193,
          5.334590538686675,
          5.743857737205536,
          6.58526030160275,
          5.940476187681863,
          7.129466179291411,
          5.387971540750273,
          6.152810016229883,
          5.302774946049711,
          5.301581661449513,
          5.582713496349372,
          6.419749005793833,
          5.742980747032227,
          6.0939322937901235,
          5.546897111896077,
          5.766082704501641,
          5.618672950184748,
          6.254256167194999,
          5.801818047112644,
          5.492690470593887,
          6.1998298956063955,
          5.61801188978794,
          5.231218563306085,
          6.475440820456056,
          6.857617704224437,
          5.5803983187395945,
          5.311733964039307,
          6.163208351806524,
          6.6863680002471435,
          5.807819831136409,
          6.046922906154381,
          5.830293727549115,
          5.785561854418598,
          5.939319624504305,
          6.312545326305657,
          5.966436568768191,
          6.982258586956283,
          5.816277146213208,
          6.308767625829988,
          6.0264308670136,
          6.154378709546861,
          5.618932682637911,
          6.041938754959738,
          5.421329234472293,
          6.176305432797916,
          5.2998856273632455,
          6.581260448842704,
          5.321491613745559,
          6.315250386139746,
          4.645161131638549,
          5.9493642792695,
          6.3493324597596015,
          6.080353432074024,
          5.7105175508875785,
          6.307697194447618,
          5.912005384824381,
          6.254163386468685,
          5.4623470693045615,
          5.880560649810651,
          5.366196110694855,
          5.591891273076062,
          6.35244724465974,
          5.345543310027371,
          6.066478713032892,
          6.252311897050151,
          5.517406788764113,
          5.769977754234401,
          5.748540184384148,
          5.540299092562695,
          5.671600168876037,
          6.2725173717492675,
          5.569734777548624,
          5.931270652232672,
          6.467612748448745,
          6.18384663293142,
          5.807134575236097,
          6.065484933672988,
          6.080306814754499,
          5.310457395861954,
          5.771569116890805,
          5.866782361458545,
          5.337053353393652,
          5.622873202821631,
          6.236055236050645,
          5.815309189805842,
          6.078421674129892,
          5.83252580029654,
          6.22803910488158,
          6.271571306025503,
          5.981733664846289,
          4.961753270422192,
          5.038378587452479,
          6.267053135130932,
          5.460629376764171,
          7.373295995181781,
          5.8771173159326455,
          6.54139412378266,
          6.299874344896053,
          6.009972665065068,
          5.967286828910664,
          5.806415873009429,
          6.385743030073616,
          5.4243963620220175,
          6.289611710438754,
          6.621206671750383,
          6.442363855975735,
          6.146463445770457,
          6.397483402044875,
          5.982172015588534,
          5.068505347054751,
          5.6520273778001755,
          5.418426203006383,
          5.874557090901834,
          6.426647906949347,
          5.566620730059247,
          6.3054196208068225,
          6.179543476816407,
          5.8970425822340795,
          5.687128424239138,
          5.97958364572444,
          5.58341271017264,
          6.806443453436435,
          5.485942181202093,
          5.288589352962955,
          6.006220571661741,
          5.342756256780682,
          6.014802399050671,
          5.626168112676678,
          5.803837664443816,
          6.001618875639046,
          4.850629894250318,
          5.207521323398745,
          6.099083013365171,
          5.826452383895577,
          5.91871016110248,
          6.565421850061975,
          5.670443979932131,
          5.9252001234869125,
          5.290022713319599,
          5.617481871097973,
          6.809145798426668,
          6.053503166241678,
          5.200699759928394,
          5.876175287602545,
          5.669320840047341,
          6.91795861849242,
          6.709238086196981,
          6.249148665594113,
          5.495020735366965,
          4.583924705277199,
          6.498827153704123,
          5.743882698051394,
          6.437401784331914,
          6.268909128533096,
          5.614033773876176,
          4.720976391427814,
          6.961547826361435,
          6.425010633768966,
          6.39319952627467,
          6.235558615216042,
          6.490319274573042,
          5.852082915370925,
          6.601174646023559,
          5.59687533625071,
          5.727288355962183,
          5.990241579176278,
          6.077211310957406,
          5.6296302697874605,
          6.554474021171066,
          6.804391601097575,
          5.803172021958882,
          5.363530871992661,
          6.851593224618538,
          5.495890317057545,
          5.883578847727535,
          5.658773104484288,
          5.759993146157955,
          6.056771553140246,
          5.512438293444907,
          6.060188127109385,
          5.368290067164343,
          5.537840895739564,
          7.072815444494936,
          6.720343010586586,
          6.389227922337165,
          6.053454455967464,
          5.598682614755937,
          6.907207801888195,
          6.114722045505076,
          6.50916962639557,
          6.319435196572407,
          5.889587417452807,
          6.271538977771513,
          5.399367664771529,
          6.233270693324939,
          6.255453812064236,
          6.412615955684999,
          6.44725219919395,
          5.683869779782837,
          5.382804879381891,
          6.817539368618531,
          6.358360495114958,
          6.069877030743788,
          6.259219474066139,
          5.795764320805817,
          5.914555895936376,
          5.401350617069872,
          5.5519590616725205,
          4.872784572014208,
          5.853094886359253,
          6.361682580888601,
          5.724327327776147,
          5.942575351992088,
          5.696332282995402,
          6.2744912194361175,
          5.764497777654534,
          5.650788849142241,
          6.9348289730967885,
          6.063757718860461,
          5.949112108077553,
          6.4896143704758,
          5.439536399021971,
          5.6611228436672585,
          6.381242615621857,
          6.4409642488362095,
          5.1381296752883685,
          5.245305310806625,
          6.191032530720639,
          6.499884259677185,
          5.988304536696479,
          5.901964386734638,
          6.022234821586644,
          5.710653729631705,
          6.06060517533698,
          6.0264587723954905,
          5.7313607486841045,
          6.01219090540485,
          5.18059852408579,
          6.695369958960697,
          5.57217847516097,
          5.802947047470691,
          5.363539206162596,
          6.542504047098071,
          6.215581582803908,
          6.237834735904255,
          5.085933687210233,
          5.892306318875802,
          5.328459199862303,
          5.484119178937297,
          5.659852100769633,
          5.683312812107875,
          5.953751055078881,
          6.241768344749409,
          6.158548663878058,
          6.546046873310688,
          5.549408988544892,
          5.185338515530768,
          5.419101434564953,
          6.826926232184165,
          6.986306802374516,
          6.117939230205512,
          5.70925659746815,
          6.681420554772331,
          7.233899272271746,
          5.57873243550439,
          5.933709189508565,
          6.965660790151194,
          6.722061511586989,
          5.905993651546773,
          5.547912268934067,
          6.110748116896264,
          5.5076916418454624,
          5.265930075087696,
          5.581442869419375,
          6.080301791835334,
          5.859553754950494,
          6.131527804989201,
          6.671667805227476,
          6.440931619544701,
          5.924332051599152,
          6.9036628668032645,
          6.38966990772568,
          5.8764212289405355,
          6.291029153654314,
          5.798680309024046,
          6.286732933286976,
          5.497978928290247,
          6.140697582087852,
          5.856775252164189,
          4.729270338888877,
          5.467396966481764,
          6.009722052637249,
          5.931512763432872,
          5.831008630204734,
          6.095327605393445,
          6.015599947004481,
          5.681985892897092,
          5.655296042682847,
          6.114478369923774,
          6.006116485616506,
          5.340767436668428,
          5.6561540919872595,
          6.25593578264731,
          6.408748629284546,
          5.745229974376081,
          6.644788074767979,
          6.170867743529771,
          5.621104930186823,
          5.90019848790943,
          5.218467268294361,
          6.620927963165982,
          6.235318755943405,
          6.000522951138144,
          6.410959062177989,
          5.567218975501805,
          6.4501865321471055,
          6.379913483048084,
          6.256483709439537,
          5.508855780070816,
          5.448810151490932,
          6.371079135212804,
          5.54640470311129,
          7.0929515461687105,
          5.713585829429862,
          6.7669080876743015,
          6.160443199321872,
          6.248746545510402,
          6.341692266826096,
          5.0580230845198075,
          5.070291371449698,
          6.49397339547598,
          6.4503353310245615,
          6.126981763135173,
          6.43624094017715,
          6.5298126863893025,
          6.157889599353713,
          5.441100405527436,
          6.654498724365669,
          6.256907430139141,
          5.42211155160296,
          6.300347868089898,
          5.770975997052128,
          5.171808399878374,
          6.342423887328135,
          5.692702507481193,
          6.027696858297785,
          5.608109353986296,
          6.628328882126895,
          5.45042715188741,
          5.775920030405614,
          6.048552065703919,
          5.917483903612748,
          5.267333675272441,
          5.9355915033170605,
          7.382459822533747,
          6.540469939859008,
          6.184800182675934,
          6.339470533876533,
          6.176326608710051,
          6.209641256697868,
          6.3972207192462855,
          6.203409223670405,
          6.78798237915212,
          6.126751821975679,
          6.065735329346265,
          5.64982353682493,
          5.692863366516417,
          5.586886392381251,
          6.151949479146088,
          6.427550797088359,
          5.730054075388157,
          6.63009319187141,
          6.625849486399094,
          6.485007330431881,
          6.523567069660824,
          5.6902804634550606,
          6.6567598722771155,
          5.880281379844009,
          6.6302969016743365,
          5.299559833648211,
          6.108467864860904,
          6.035320438648028,
          6.456228305685241,
          6.094148488276084,
          6.098098424958425,
          6.111715656659421,
          5.494923553788934,
          5.5095191063339,
          6.323079083441396,
          5.882851239602572,
          6.025026008602696,
          6.3378366242215405,
          6.159994099330818,
          6.4716725199268526,
          6.93508718892448,
          5.774789397582927,
          6.618769047884037,
          5.084924138478384,
          6.448465511612518,
          6.506392049055291,
          5.802528282972331,
          4.940414496633309,
          5.923370309677882,
          5.541361618687846,
          6.06777451148995,
          6.421988043857489,
          6.000411213268833,
          5.737107839043917,
          6.882482707082828,
          5.3986789326589,
          6.534650825676606,
          6.5249502356815325,
          6.031428577093133,
          5.674006389266131,
          5.369596444179367,
          5.74297593801328,
          6.711625229183002,
          6.34172172395878,
          6.583751097983553,
          6.334321382907354,
          5.771488528612644,
          6.155224369177578,
          6.344980342064726,
          6.017726885940087,
          6.2963103068987225,
          6.317289574882997,
          5.7295503249919175,
          6.3948583070226785,
          6.292712665224979,
          5.646355821330191,
          6.160755482083215,
          5.391808224161518,
          6.357743219974712,
          5.648624883878005,
          6.2926348122708635,
          5.501680050581941,
          6.143439446363861,
          5.990360582399452,
          5.824137292575777,
          5.602407677978083,
          5.648124881397041,
          5.443318831576566,
          5.70053208526029,
          5.3565678009400655,
          6.072458830638202,
          6.290179277791038,
          5.943209100019287,
          5.97185719146875,
          5.7416816971405655,
          6.092250540220357,
          5.645591762654364,
          6.215775493185623,
          5.7888342659009515,
          5.544787566778425,
          6.877541725384565,
          6.213168327883209,
          5.725993731565873,
          6.504784492067743,
          6.7183269629370095,
          5.792140710180799,
          5.760942697385464,
          5.342429436798099,
          5.7806331753259625,
          6.121915367024354,
          5.541572406775832,
          5.891505356581361,
          6.169146126916316,
          6.016873705337659,
          6.870026004649299,
          5.626669199374123,
          5.8597845762294964,
          6.090363109026832,
          5.800757462793335,
          6.374208185440592,
          6.2937895801712616,
          5.6939549216008185,
          4.896813959000714,
          6.556130942450024,
          6.152348022804756,
          6.380670240794535,
          5.939902946255855,
          6.117825261414179,
          5.847880953444538,
          5.537581343271496,
          5.9565297771946355,
          5.618572387145883,
          5.743262605782695,
          6.3306080547070245,
          5.947959168660973,
          6.038285941176615,
          5.654302691010938,
          5.956609967800992,
          5.832811695464373,
          6.203355844208865,
          5.36573492113663,
          6.772360529551672,
          6.312454397907966,
          6.560889041623979,
          5.94330396636482,
          5.562840434318019,
          5.813201035653788,
          6.685294838996728,
          6.263340046434262,
          6.405027216505428,
          5.879399151883001,
          5.579887662736048,
          5.911272704185453,
          5.79829588079489,
          5.884332657964964,
          6.251704313856766,
          5.8350479505913775,
          5.710207389056972,
          6.23648016515149,
          6.224853018842966,
          6.3681959802675845,
          5.589993464756244,
          5.442381354976529,
          6.256864601993507,
          6.686290065265513,
          5.833853907745095,
          6.382419310597909,
          5.2481488013861215,
          6.467792577106339,
          6.045991754540123,
          6.985818620588838,
          5.788862474439693,
          5.779086511716514,
          6.316556024065723,
          6.573925346068324,
          6.079163697095338,
          5.889551418599921,
          5.7067749971868444,
          5.612990567922978,
          4.899625157207744,
          5.926232520780991,
          6.185535571541038,
          6.491325896176373,
          6.317237498917337,
          6.9319230791118756,
          6.065688323239983,
          6.051339572766839,
          6.770017980599109,
          5.440831872373607,
          5.8042335177298225,
          6.212543841549261,
          6.590838159189229,
          5.993175769026871,
          6.021526041628627,
          6.363131197180738,
          6.19349386679219,
          6.3131926165085295,
          5.751774983819544,
          6.302978065580374,
          5.452227988268122,
          5.974870115909555,
          5.519126209746982,
          6.716357849424724,
          6.3597780068325696,
          6.144625976496447,
          5.193505394613562,
          6.3066812555793295,
          5.69276482257718,
          6.591185398521235,
          5.966271216455804,
          6.200469490375422,
          6.780895132350738,
          5.137929992353152,
          6.499397186923542,
          6.120726291821984,
          5.636584301310915,
          5.349429638236414,
          5.686214025031737,
          5.869875008693008,
          5.5158230740945475,
          6.047727673600449,
          6.349280717345956,
          5.710432770414838,
          5.4406607693603455,
          5.587584985105796,
          5.9420196605894215,
          5.880496874102484,
          5.531541418217773,
          5.883040464274602,
          6.385258867207448,
          5.368470736889444,
          6.304676664676435,
          6.683683281681656,
          5.339797200283246,
          6.30997585778227,
          5.329760687769264,
          5.953559156357297,
          5.543098848031453,
          5.970308395702325,
          5.669437682796056,
          5.829587816829945,
          5.201205870460525,
          5.776804809199114,
          6.658633320436532,
          6.079569825663818,
          5.753882535679345,
          6.6553895372568865
         ],
         "xaxis": "x4",
         "xbins": {
          "end": 10,
          "start": 0
         },
         "yaxis": "y4"
        }
       ],
       "layout": {
        "height": 300,
        "template": {
         "data": {
          "bar": [
           {
            "error_x": {
             "color": "#2a3f5f"
            },
            "error_y": {
             "color": "#2a3f5f"
            },
            "marker": {
             "line": {
              "color": "#E5ECF6",
              "width": 0.5
             },
             "pattern": {
              "fillmode": "overlay",
              "size": 10,
              "solidity": 0.2
             }
            },
            "type": "bar"
           }
          ],
          "barpolar": [
           {
            "marker": {
             "line": {
              "color": "#E5ECF6",
              "width": 0.5
             },
             "pattern": {
              "fillmode": "overlay",
              "size": 10,
              "solidity": 0.2
             }
            },
            "type": "barpolar"
           }
          ],
          "carpet": [
           {
            "aaxis": {
             "endlinecolor": "#2a3f5f",
             "gridcolor": "white",
             "linecolor": "white",
             "minorgridcolor": "white",
             "startlinecolor": "#2a3f5f"
            },
            "baxis": {
             "endlinecolor": "#2a3f5f",
             "gridcolor": "white",
             "linecolor": "white",
             "minorgridcolor": "white",
             "startlinecolor": "#2a3f5f"
            },
            "type": "carpet"
           }
          ],
          "choropleth": [
           {
            "colorbar": {
             "outlinewidth": 0,
             "ticks": ""
            },
            "type": "choropleth"
           }
          ],
          "contour": [
           {
            "colorbar": {
             "outlinewidth": 0,
             "ticks": ""
            },
            "colorscale": [
             [
              0,
              "#0d0887"
             ],
             [
              0.1111111111111111,
              "#46039f"
             ],
             [
              0.2222222222222222,
              "#7201a8"
             ],
             [
              0.3333333333333333,
              "#9c179e"
             ],
             [
              0.4444444444444444,
              "#bd3786"
             ],
             [
              0.5555555555555556,
              "#d8576b"
             ],
             [
              0.6666666666666666,
              "#ed7953"
             ],
             [
              0.7777777777777778,
              "#fb9f3a"
             ],
             [
              0.8888888888888888,
              "#fdca26"
             ],
             [
              1,
              "#f0f921"
             ]
            ],
            "type": "contour"
           }
          ],
          "contourcarpet": [
           {
            "colorbar": {
             "outlinewidth": 0,
             "ticks": ""
            },
            "type": "contourcarpet"
           }
          ],
          "heatmap": [
           {
            "colorbar": {
             "outlinewidth": 0,
             "ticks": ""
            },
            "colorscale": [
             [
              0,
              "#0d0887"
             ],
             [
              0.1111111111111111,
              "#46039f"
             ],
             [
              0.2222222222222222,
              "#7201a8"
             ],
             [
              0.3333333333333333,
              "#9c179e"
             ],
             [
              0.4444444444444444,
              "#bd3786"
             ],
             [
              0.5555555555555556,
              "#d8576b"
             ],
             [
              0.6666666666666666,
              "#ed7953"
             ],
             [
              0.7777777777777778,
              "#fb9f3a"
             ],
             [
              0.8888888888888888,
              "#fdca26"
             ],
             [
              1,
              "#f0f921"
             ]
            ],
            "type": "heatmap"
           }
          ],
          "heatmapgl": [
           {
            "colorbar": {
             "outlinewidth": 0,
             "ticks": ""
            },
            "colorscale": [
             [
              0,
              "#0d0887"
             ],
             [
              0.1111111111111111,
              "#46039f"
             ],
             [
              0.2222222222222222,
              "#7201a8"
             ],
             [
              0.3333333333333333,
              "#9c179e"
             ],
             [
              0.4444444444444444,
              "#bd3786"
             ],
             [
              0.5555555555555556,
              "#d8576b"
             ],
             [
              0.6666666666666666,
              "#ed7953"
             ],
             [
              0.7777777777777778,
              "#fb9f3a"
             ],
             [
              0.8888888888888888,
              "#fdca26"
             ],
             [
              1,
              "#f0f921"
             ]
            ],
            "type": "heatmapgl"
           }
          ],
          "histogram": [
           {
            "marker": {
             "pattern": {
              "fillmode": "overlay",
              "size": 10,
              "solidity": 0.2
             }
            },
            "type": "histogram"
           }
          ],
          "histogram2d": [
           {
            "colorbar": {
             "outlinewidth": 0,
             "ticks": ""
            },
            "colorscale": [
             [
              0,
              "#0d0887"
             ],
             [
              0.1111111111111111,
              "#46039f"
             ],
             [
              0.2222222222222222,
              "#7201a8"
             ],
             [
              0.3333333333333333,
              "#9c179e"
             ],
             [
              0.4444444444444444,
              "#bd3786"
             ],
             [
              0.5555555555555556,
              "#d8576b"
             ],
             [
              0.6666666666666666,
              "#ed7953"
             ],
             [
              0.7777777777777778,
              "#fb9f3a"
             ],
             [
              0.8888888888888888,
              "#fdca26"
             ],
             [
              1,
              "#f0f921"
             ]
            ],
            "type": "histogram2d"
           }
          ],
          "histogram2dcontour": [
           {
            "colorbar": {
             "outlinewidth": 0,
             "ticks": ""
            },
            "colorscale": [
             [
              0,
              "#0d0887"
             ],
             [
              0.1111111111111111,
              "#46039f"
             ],
             [
              0.2222222222222222,
              "#7201a8"
             ],
             [
              0.3333333333333333,
              "#9c179e"
             ],
             [
              0.4444444444444444,
              "#bd3786"
             ],
             [
              0.5555555555555556,
              "#d8576b"
             ],
             [
              0.6666666666666666,
              "#ed7953"
             ],
             [
              0.7777777777777778,
              "#fb9f3a"
             ],
             [
              0.8888888888888888,
              "#fdca26"
             ],
             [
              1,
              "#f0f921"
             ]
            ],
            "type": "histogram2dcontour"
           }
          ],
          "mesh3d": [
           {
            "colorbar": {
             "outlinewidth": 0,
             "ticks": ""
            },
            "type": "mesh3d"
           }
          ],
          "parcoords": [
           {
            "line": {
             "colorbar": {
              "outlinewidth": 0,
              "ticks": ""
             }
            },
            "type": "parcoords"
           }
          ],
          "pie": [
           {
            "automargin": true,
            "type": "pie"
           }
          ],
          "scatter": [
           {
            "fillpattern": {
             "fillmode": "overlay",
             "size": 10,
             "solidity": 0.2
            },
            "type": "scatter"
           }
          ],
          "scatter3d": [
           {
            "line": {
             "colorbar": {
              "outlinewidth": 0,
              "ticks": ""
             }
            },
            "marker": {
             "colorbar": {
              "outlinewidth": 0,
              "ticks": ""
             }
            },
            "type": "scatter3d"
           }
          ],
          "scattercarpet": [
           {
            "marker": {
             "colorbar": {
              "outlinewidth": 0,
              "ticks": ""
             }
            },
            "type": "scattercarpet"
           }
          ],
          "scattergeo": [
           {
            "marker": {
             "colorbar": {
              "outlinewidth": 0,
              "ticks": ""
             }
            },
            "type": "scattergeo"
           }
          ],
          "scattergl": [
           {
            "marker": {
             "colorbar": {
              "outlinewidth": 0,
              "ticks": ""
             }
            },
            "type": "scattergl"
           }
          ],
          "scattermapbox": [
           {
            "marker": {
             "colorbar": {
              "outlinewidth": 0,
              "ticks": ""
             }
            },
            "type": "scattermapbox"
           }
          ],
          "scatterpolar": [
           {
            "marker": {
             "colorbar": {
              "outlinewidth": 0,
              "ticks": ""
             }
            },
            "type": "scatterpolar"
           }
          ],
          "scatterpolargl": [
           {
            "marker": {
             "colorbar": {
              "outlinewidth": 0,
              "ticks": ""
             }
            },
            "type": "scatterpolargl"
           }
          ],
          "scatterternary": [
           {
            "marker": {
             "colorbar": {
              "outlinewidth": 0,
              "ticks": ""
             }
            },
            "type": "scatterternary"
           }
          ],
          "surface": [
           {
            "colorbar": {
             "outlinewidth": 0,
             "ticks": ""
            },
            "colorscale": [
             [
              0,
              "#0d0887"
             ],
             [
              0.1111111111111111,
              "#46039f"
             ],
             [
              0.2222222222222222,
              "#7201a8"
             ],
             [
              0.3333333333333333,
              "#9c179e"
             ],
             [
              0.4444444444444444,
              "#bd3786"
             ],
             [
              0.5555555555555556,
              "#d8576b"
             ],
             [
              0.6666666666666666,
              "#ed7953"
             ],
             [
              0.7777777777777778,
              "#fb9f3a"
             ],
             [
              0.8888888888888888,
              "#fdca26"
             ],
             [
              1,
              "#f0f921"
             ]
            ],
            "type": "surface"
           }
          ],
          "table": [
           {
            "cells": {
             "fill": {
              "color": "#EBF0F8"
             },
             "line": {
              "color": "white"
             }
            },
            "header": {
             "fill": {
              "color": "#C8D4E3"
             },
             "line": {
              "color": "white"
             }
            },
            "type": "table"
           }
          ]
         },
         "layout": {
          "annotationdefaults": {
           "arrowcolor": "#2a3f5f",
           "arrowhead": 0,
           "arrowwidth": 1
          },
          "autotypenumbers": "strict",
          "coloraxis": {
           "colorbar": {
            "outlinewidth": 0,
            "ticks": ""
           }
          },
          "colorscale": {
           "diverging": [
            [
             0,
             "#8e0152"
            ],
            [
             0.1,
             "#c51b7d"
            ],
            [
             0.2,
             "#de77ae"
            ],
            [
             0.3,
             "#f1b6da"
            ],
            [
             0.4,
             "#fde0ef"
            ],
            [
             0.5,
             "#f7f7f7"
            ],
            [
             0.6,
             "#e6f5d0"
            ],
            [
             0.7,
             "#b8e186"
            ],
            [
             0.8,
             "#7fbc41"
            ],
            [
             0.9,
             "#4d9221"
            ],
            [
             1,
             "#276419"
            ]
           ],
           "sequential": [
            [
             0,
             "#0d0887"
            ],
            [
             0.1111111111111111,
             "#46039f"
            ],
            [
             0.2222222222222222,
             "#7201a8"
            ],
            [
             0.3333333333333333,
             "#9c179e"
            ],
            [
             0.4444444444444444,
             "#bd3786"
            ],
            [
             0.5555555555555556,
             "#d8576b"
            ],
            [
             0.6666666666666666,
             "#ed7953"
            ],
            [
             0.7777777777777778,
             "#fb9f3a"
            ],
            [
             0.8888888888888888,
             "#fdca26"
            ],
            [
             1,
             "#f0f921"
            ]
           ],
           "sequentialminus": [
            [
             0,
             "#0d0887"
            ],
            [
             0.1111111111111111,
             "#46039f"
            ],
            [
             0.2222222222222222,
             "#7201a8"
            ],
            [
             0.3333333333333333,
             "#9c179e"
            ],
            [
             0.4444444444444444,
             "#bd3786"
            ],
            [
             0.5555555555555556,
             "#d8576b"
            ],
            [
             0.6666666666666666,
             "#ed7953"
            ],
            [
             0.7777777777777778,
             "#fb9f3a"
            ],
            [
             0.8888888888888888,
             "#fdca26"
            ],
            [
             1,
             "#f0f921"
            ]
           ]
          },
          "colorway": [
           "#636efa",
           "#EF553B",
           "#00cc96",
           "#ab63fa",
           "#FFA15A",
           "#19d3f3",
           "#FF6692",
           "#B6E880",
           "#FF97FF",
           "#FECB52"
          ],
          "font": {
           "color": "#2a3f5f"
          },
          "geo": {
           "bgcolor": "white",
           "lakecolor": "white",
           "landcolor": "#E5ECF6",
           "showlakes": true,
           "showland": true,
           "subunitcolor": "white"
          },
          "hoverlabel": {
           "align": "left"
          },
          "hovermode": "closest",
          "mapbox": {
           "style": "light"
          },
          "paper_bgcolor": "white",
          "plot_bgcolor": "#E5ECF6",
          "polar": {
           "angularaxis": {
            "gridcolor": "white",
            "linecolor": "white",
            "ticks": ""
           },
           "bgcolor": "#E5ECF6",
           "radialaxis": {
            "gridcolor": "white",
            "linecolor": "white",
            "ticks": ""
           }
          },
          "scene": {
           "xaxis": {
            "backgroundcolor": "#E5ECF6",
            "gridcolor": "white",
            "gridwidth": 2,
            "linecolor": "white",
            "showbackground": true,
            "ticks": "",
            "zerolinecolor": "white"
           },
           "yaxis": {
            "backgroundcolor": "#E5ECF6",
            "gridcolor": "white",
            "gridwidth": 2,
            "linecolor": "white",
            "showbackground": true,
            "ticks": "",
            "zerolinecolor": "white"
           },
           "zaxis": {
            "backgroundcolor": "#E5ECF6",
            "gridcolor": "white",
            "gridwidth": 2,
            "linecolor": "white",
            "showbackground": true,
            "ticks": "",
            "zerolinecolor": "white"
           }
          },
          "shapedefaults": {
           "line": {
            "color": "#2a3f5f"
           }
          },
          "ternary": {
           "aaxis": {
            "gridcolor": "white",
            "linecolor": "white",
            "ticks": ""
           },
           "baxis": {
            "gridcolor": "white",
            "linecolor": "white",
            "ticks": ""
           },
           "bgcolor": "#E5ECF6",
           "caxis": {
            "gridcolor": "white",
            "linecolor": "white",
            "ticks": ""
           }
          },
          "title": {
           "x": 0.05
          },
          "xaxis": {
           "automargin": true,
           "gridcolor": "white",
           "linecolor": "white",
           "ticks": "",
           "title": {
            "standoff": 15
           },
           "zerolinecolor": "white",
           "zerolinewidth": 2
          },
          "yaxis": {
           "automargin": true,
           "gridcolor": "white",
           "linecolor": "white",
           "ticks": "",
           "title": {
            "standoff": 15
           },
           "zerolinecolor": "white",
           "zerolinewidth": 2
          }
         }
        },
        "title": {
         "text": "Row of Histograms"
        },
        "width": 750,
        "xaxis": {
         "anchor": "y",
         "domain": [
          0,
          0.2125
         ],
         "range": [
          -0.5,
          10.5
         ],
         "title": {
          "text": "A"
         },
         "type": "linear"
        },
        "xaxis2": {
         "anchor": "y2",
         "domain": [
          0.2625,
          0.475
         ],
         "range": [
          -0.5,
          10.5
         ],
         "title": {
          "text": "B"
         },
         "type": "linear"
        },
        "xaxis3": {
         "anchor": "y3",
         "domain": [
          0.525,
          0.7375
         ],
         "range": [
          -0.5,
          10.5
         ],
         "title": {
          "text": "C"
         },
         "type": "linear"
        },
        "xaxis4": {
         "anchor": "y4",
         "domain": [
          0.7875,
          1
         ],
         "range": [
          -0.5,
          10.5
         ],
         "title": {
          "text": "D"
         },
         "type": "linear"
        },
        "yaxis": {
         "anchor": "x",
         "autorange": true,
         "domain": [
          0,
          1
         ],
         "range": [
          0,
          95.78947368421052
         ]
        },
        "yaxis2": {
         "anchor": "x2",
         "autorange": true,
         "domain": [
          0,
          1
         ],
         "range": [
          0,
          397.89473684210526
         ]
        },
        "yaxis3": {
         "anchor": "x3",
         "autorange": true,
         "domain": [
          0,
          1
         ],
         "range": [
          0,
          231.57894736842104
         ]
        },
        "yaxis4": {
         "anchor": "x4",
         "autorange": true,
         "domain": [
          0,
          1
         ],
         "range": [
          0,
          536.8421052631579
         ]
        }
       }
      },
      "image/png": "[encoded data removed]",
      "text/html": [
       "<div>                            <div id=\"c89ba6e5-e77b-42cf-9d22-65ffc98e38b0\" class=\"plotly-graph-div\" style=\"height:300px; width:750px;\"></div>            <script type=\"text/javascript\">                require([\"plotly\"], function(Plotly) {                    window.PLOTLYENV=window.PLOTLYENV || {};                                    if (document.getElementById(\"c89ba6e5-e77b-42cf-9d22-65ffc98e38b0\")) {                    Plotly.newPlot(                        \"c89ba6e5-e77b-42cf-9d22-65ffc98e38b0\",                        [{\"marker\":{\"line\":{\"color\":\"black\",\"width\":1}},\"name\":\"A\",\"nbinsx\":30,\"x\":[9.695408590839618,3.270926425959122,4.003185303904596,6.833541363128957,9.772568400686927,6.130149881826221,5.831849041816353,6.283693927047898,0.977454089107137,4.892892224342582,6.403891299923323,3.671602029616011,0.7789884847432116,0.2548454142178347,1.7237030874539683,8.938338636574958,9.053124607675628,1.6495633180681246,2.512572512097375,3.430057518261994,2.5653472485366047,8.152099979822264,7.689041163259082,3.7749728031771825,8.082940098524578,9.857738732148466,4.344679754937916,6.609568599640871,5.139946933403145,3.5071909344728738,6.542328064552475,0.1968060756388601,2.9103614372899536,0.8590610831837631,4.198934786090703,3.9422287906293,7.549390977402708,5.226185984486159,4.322007056583416,8.783588178893146,2.554565353335102,5.198230419535031,1.1040011695964613,3.0841521450321507,0.4563881993105967,5.841212582950045,7.559047162242081,6.482412711711229,2.638206903543976,8.574149089536087,5.867489132443834,4.646740885305604,3.5917722069828164,1.1917617839663563,3.7534529312008615,2.9314853237508967,2.648025644975589,6.622851233365768,2.9501715025896216,4.451228665281847,0.21507835314624635,9.02156274626543,1.0520057901776247,6.216122904613679,0.8152736610347733,4.708595419443936,2.5269826520947336,1.4641003260446095,5.60765700587936,3.14117804958752,8.188018076343177,7.557300633360752,1.6090475072058608,5.611976524735159,4.866151325855368,3.020717254917704,3.046529435000631,1.530555654945961,6.106956465800084,2.537575270658979,5.943278262480368,2.1947794816226907,0.1960365131980213,2.6133337043166085,9.600186294505718,8.692507207214653,9.476256391372196,4.757578493126181,2.2072116343788553,5.68781503404519,0.31499759423175844,7.7147054562288275,7.1002991413970316,6.937286395926787,9.131870373469571,8.412920734808694,6.363457991525779,2.380123947645625,2.523243972263928,5.372314731622136,3.00432431966674,1.7373109162008238,9.956862439835845,0.13564525618495527,6.650795057255693,6.855205849591009,5.890494579148484,8.37026806005694,9.311328787410794,3.8863066281936054,1.8177160861466468,5.870833838323221,8.985101236692248,9.632525009983876,8.199014554581606,8.748973180317133,6.8576404407680505,3.818692376504038,6.768037735480064,8.099101028510805,4.87188560386946,8.88761881999603,1.6486663460868323,4.0288853229752695,8.858214193549669,2.9741289007246854,8.397287629031736,5.527732745148496,1.5236906408206585,9.682273569304323,5.144425290367749,1.0690933648306955,9.353550064620075,7.79061428613506,2.690041605668206,8.074282345993426,8.50620300276806,0.7735482313645947,5.986563113801232,3.118101310441416,5.374658104114539,5.526270219329303,9.43210490475344,6.6684597571636655,1.8727252670680317,2.7651811616027535,5.5606945792666576,9.985471242014617,4.148562755247186,9.317088509295717,0.26942919649944663,5.919658309643324,4.890477913761792,9.346578507924058,8.521934833072018,4.798606663533539,5.076971311393707,7.213527311352631,7.562462084966946,1.8990989844403916,7.934631189035175,4.085965151921903,8.02233820530052,9.324351255346937,6.065327567365806,8.828742932897837,4.5628422197670915,0.8737213445286496,6.931285895887686,7.246300539956444,4.221828342349942,3.7272697375382413,1.4239402897964037,1.5878750150130927,8.29321975843645,1.2231126832565387,2.658571794315442,1.5249221945693059,1.1118952294242979,5.9651358860097305,7.300221498092423,1.6753732165807922,2.642948618770693,7.661967063104088,2.5215781400344595,1.0435676507955371,3.0682257920988762,7.02631092617231,2.1894805741402212,4.596110911774413,9.681170186074688,8.659857545185565,8.193284637630793,8.846182688743836,0.10940755326744878,8.486094792051976,5.134734817644309,6.794459862463861,4.895970439337819,7.872907504031704,7.030791455710758,5.36009559254664,1.2341048654181408,0.45847761776761864,5.426701278673604,5.924792420835702,4.573311628148012,6.455295008115879,2.3477004976030336,8.227995286051428,3.9675231008398337,2.8917975510344487,0.9859041302666793,9.481059510067599,0.18046148872382983,6.609388080063779,0.24455122752108815,8.440959951581382,7.638600336250136,6.9149644127951095,6.199900516825322,0.9219813150068967,6.888567857615398,8.876989841902157,7.573065927412345,6.1370786762915595,7.097311528853096,9.398641343900088,3.7258942027947994,8.658996014823142,9.752214649503092,4.515544288840707,7.724042869343616,9.435675965026242,1.1674576997740305,6.969356828622083,7.8540570399496215,0.6729094981958383,8.501488486639348,4.174357065511022,1.79805560752051,2.2803668589325055,7.064585220644631,6.135868843833661,0.12268546134231229,0.7731386293996556,5.49260178858681,4.25518549564595,2.473769027973577,4.471397649133635,5.593420379318969,5.9535529328883365,6.013949084148336,0.032292022348385796,1.3478079959394917,1.4718150880004388,7.615211196981227,4.50436198534664,7.9564922632926685,7.817033815456604,0.36213724885219456,3.7334350365602886,6.767325682209291,3.061111213450951,7.610718989300792,8.797398745521404,7.323669197124104,1.1455721966434118,3.587810342785959,4.05149048006392,6.686468253372986,1.7502678443460007,3.5948329146596567,7.556936464676949,7.107838501856789,3.4327780228402336,6.289823526774045,0.9140981662672443,4.186304626449898,7.873135980523935,9.608047031364936,5.217338800073636,5.301828045243977,3.30387051905469,6.695601888894039,5.142260727127735,3.7318478557267563,3.9089691656995837,1.2594833828296481,8.287936445707194,0.03443447144110934,6.552996676787197,1.7590603890400736,7.5536343934660755,8.458008787906374,0.013411552534214888,6.6837205035997425,9.880785183479784,2.919815397293596,6.905545782187642,5.8202944938601,2.8700169438858136,8.034351548058043,4.704926913326359,0.23974943439013852,0.22195026670144502,9.12164861111363,0.2075670710183275,3.001720611372215,6.796220558657944,0.07168763509398768,0.32004537756278095,1.7329028190016282,5.188276694081916,1.8966608610358182,3.002941672123548,4.57006481325088,0.5845512028877597,1.251280927230366,8.40081305389496,8.301962131986267,3.6493354633655075,4.988505949226331,6.875993129842089,2.265747522768896,0.10197494536796192,1.3279503261572245,1.0827921716641564,7.572446471089037,0.6581049065138878,3.731534451863767,2.878143336000062,7.192219929459056,8.239668929074385,1.9734629973084439,6.69175594778975,8.905755502453484,2.7945731780308836,4.700003130226474,9.332230887290228,8.088790367168116,4.204749660375416,1.8457492325675995,3.614595002160761,5.594706662318412,6.615160366421671,9.092038100090088,9.507096479636434,2.6317798320899923,0.9586087380723096,4.693595576873602,0.9485324135218631,3.039590839338832,6.079651642223088,6.401539128066619,7.245439719342968,9.93756674436186,9.577272317220235,5.063756274865501,3.2318531116840488,7.0804417047695845,7.30956989041179,0.9144486099663174,4.637125222002473,9.84195111286255,1.7610239219491564,4.080111210593457,5.462450258907379,5.359108381440743,3.3456084305385234,6.9110888527518375,7.324388702746088,8.140855353560475,6.491513923001984,2.9080857925652293,8.618981052250808,9.076292280535188,9.304830533143967,8.446178777781437,6.177680217517261,8.980253976829385,5.779976754809627,8.327656331274317,6.619593199019768,0.9504733096714957,3.7657897399884876,9.918677940667145,4.272094731171036,3.146638871444175,2.472947391772599,1.8871728948527822,3.828517661413011,9.594058562439194,1.6977234547559172,0.2589118197362583,1.2940726902263333,6.9612334428422145,5.017109249644502,5.858547814594763,2.302373134568314,8.892704910070965,3.3171098487811412,0.023783965275903096,1.0912791051476778,4.071790097617402,9.76266894556074,7.690242941902468,3.0169282579372414,0.038061354425700245,9.345494415728444,0.20992152711803547,0.27740847965125104,4.892276180287938,1.9562611515464878,2.730068862264823,6.075398310903969,4.143932591416112,0.709374195325797,1.6286107587891396,6.645580050672782,4.696189797740309,7.027614479936441,3.15200361339107,0.8191014577085587,9.225715163164864,6.145242719221406,9.356552217086149,0.4743962948624447,0.7115263849677789,9.310840121636168,2.258923384677336,1.1073213863567688,2.0384330550684524,1.2441352391765714,3.482705753355353,8.258891168951163,0.3917089982216593,0.21189533398163762,1.836491093426279,6.756512013332246,8.249787186702168,1.295548695419373,0.571538625812622,6.702261749947826,3.87414661880767,3.0160773310003286,7.537850815436238,6.33237358553899,1.4073305035926131,1.725299766246925,8.56821156131077,1.3629458788625337,9.396997941909575,9.359558696959708,9.13955732340375,3.203391664192373,0.4635868037907398,4.047094225038292,9.107028774291098,9.824712882947148,7.149056125773663,9.413497351817691,1.703860755892117,2.2102550912525287,3.9487634284521587,3.0645395323883626,2.236070248293809,7.081334488429823,6.4242905577555565,9.951927571681816,9.747836876585092,0.4963539042388887,2.4562023236636756,0.31041604742835016,0.9029223226616234,3.012007198711415,2.583925726644143,6.062409492698416,8.63887918255728,9.39630681720574,8.955340450096527,7.3562593943255985,2.462244159852145,4.518806665578819,0.3224935929827455,5.124514968026784,3.2553710590406535,6.155810938933231,3.4532893557502122,2.3482839118385113,4.78364653760559,0.3211998809526295,9.616995491498244,2.3409174337005787,1.9569354167776876,6.34118619702077,8.551411121875397,1.6436151801448473,1.2255410456158133,6.024634960322663,6.069390407784039,3.0417509540463517,9.540464430617103,1.6511410255314085,3.917026255115773,2.0490998860729093,3.1426962254101487,0.5906881513908147,8.47177612035205,8.00020430884855,4.340080627206502,0.8380549605874288,1.9603192165380179,1.854894957935409,2.2409574323057635,8.84506133704066,7.431057629710235,9.163794889356991,5.218065959314653,2.2451534954054897,7.380931623602761,5.885807574921236,8.062449305767739,7.996737446647884,0.6181319297187282,6.398373978602302,2.772149326581835,4.294349293615079,9.605239438636763,4.187057552705308,9.50345322840999,1.0147991059640504,4.919846594970483,9.911017138136986,6.4563275667346085,6.587678678006954,2.1856681411896197,3.2722587569045802,0.8056860402663768,1.3857051506065488,2.3562618474993235,5.97893566144567,2.4571379978849075,0.03136749158333174,3.9498115521977195,6.021081703863746,1.6178718465695618,7.661297467759408,2.3361354387311484,6.664405843387682,8.681376626676329,7.257965444050312,9.885729913509024,2.229070516931225,9.846944157987307,9.254262738913164,9.065647641091475,5.399023868335621,6.04357117350761,7.9293259229824535,4.763562901787014,5.323218194878386,9.929808211979456,7.210414971848461,3.69636687260547,4.231634418438594,2.4000725602763238,1.9565178043334652,4.891584936027513,4.265397018674467,2.438392169191358,3.7653366515939988,2.4850881759855605,7.819481558327194,4.854056177984534,8.773623951452793,2.0345511847321998,3.8952701093008493,4.346418406477232,1.1943941023525284,7.663793002288939,3.714114444894716,3.498212795842588,4.923482642975321,8.799041921519393,1.9258444171152467,7.127271480582957,3.7833485216221154,6.6649892464754,0.9469822267817418,1.7012274014680517,3.49929336665478,2.8057037663945685,1.0363158961688501,1.0532707081128367,7.976106873163466,7.209339025921482,0.08250084533760083,9.198481441162183,3.3002275965879924,9.805212211460514,5.788967317420328,1.8622080616991765,8.450160380849367,9.775638238545632,9.733294978205974,3.2137165834199086,2.5127910539356693,0.5299129697626592,5.2218704345685465,1.8889062150718794,1.0038427034074904,3.231498517600345,3.874540618232465,5.732339833131301,1.5080868315266416,4.269153747551666,5.243524147114563,6.929810560148906,6.053375679663552,6.750336412012082,3.6948928543553916,4.400636756189181,0.0007067854483977509,9.248833006732319,9.924507630544447,6.852522921943334,6.714489303688032,1.5047736928088595,4.854424378484418,6.99380302945907,7.259853189427938,1.5909369174090393,4.040263260733752,0.8209943950619358,4.357473114889738,2.504891772538201,3.665639892253126,1.5910437331502592,5.943880586324388,7.633369412658418,1.8306748948960871,0.7407828858797294,9.428716401180715,1.4616489621742756,2.7797592953078274,9.919899704097187,2.515817604117363,5.50366071643419,7.440810604979323,1.396946249653681,8.103021605096425,7.69214944376814,3.3063978894950607,6.8673035452176245,6.53617756909264,9.945247056730832,6.134058374509003,9.742544073034706,0.9799160596417889,6.499349360345727,4.262644514266399,0.8624739246175783,7.025502637510938,8.637239096621972,3.889684049070702,1.9192186235526731,6.006452531361153,4.7399859033484795,2.185443093253486,4.588603164229019,2.88928124483819,8.48478393270308,5.5909390198455275,3.0496772527259743,8.86828203016684,7.596893888838009,9.931989390678325,6.565460990258486,0.3370374176508517,5.338309097226035,9.760491130050946,8.581190164872762,2.415972049655025,3.9656358578031057,0.775636940194695,4.50172326013227,2.8413897924041844,7.691629474501105,6.60453504797482,8.46874515561494,3.6737577586911083,7.992656667588546,6.373063728401528,4.522551957188461,5.635174529037515,0.2294047471138838,2.269690079537421,3.8969471260316215,4.11705317334008,5.984623696486002,4.667294334624769,4.173847764547309,7.09034255862457,3.235750655232712,0.6204366044901188,3.7156945737233613,2.7583666075172264,7.003170012158182,6.970036588401131,8.061960475734226,2.70598617346662,7.458304711828622,6.768738462504141,4.14948327939725,6.509838702218575,2.151213598520588,5.342674357058698,2.885122370099692,0.8790548196634229,4.67799269127268,5.252809876759381,1.6506565360876768,8.890157215099745,8.18837693727579,8.198065866277151,7.269013535707019,5.778187559615048,7.256102443741488,5.243166539244774,0.7461796735438841,6.719406969309776,5.2553574288658425,8.720267978374451,4.640037704735278,4.294687888957419,5.192545461073312,5.197352649994872,4.397904241454319,7.428443667102497,4.75604059324265,8.963545501548799,4.575850292182557,6.046596137250391,4.9672422208898,4.778635485884394,5.644387448375175,6.423598422430802,4.585966863258484,4.318565184751744,3.035347921297614,8.474109377392569,5.6423710112764125,1.4937084589672323,1.5022588614566978,6.897274167400226,5.034846194944798,9.833312518053782,8.010456068233342,7.657976398845515,7.962411772574884,0.2010580265768791,1.906901220081213,9.78123275018539,5.899094184960112,6.525966093528219,8.743927687740154,3.27090145049844,0.15560155747941007,9.32775203242264,5.602620867549329,2.5756758208850536,0.040271287810726974,3.254602008659772,0.15696221392096255,2.1842677871906844,7.364386832967716,9.990173451829714,4.37628435167508,4.0549402532726315,5.003605627447887,6.164876514745295,3.410135081056888,4.614416703397422,3.342836611498222,0.39044685451028016,5.111843931010336,1.0202552009691068,5.599807309566552,9.898217365285621,6.4468002043069355,8.400400515109757,4.835498064098822,4.060635815254537,9.889040566865798,7.0533580600286,5.873161534221767,0.5480920013475565,9.591689749010813,0.6253868034707288,7.73131291641438,5.092354837073939,0.18047115428059368,4.596152855541686,1.815830979681169,0.7946451376200492,0.08836309252728825,7.675124243146586,0.21672209925724717,0.23278988687019164,5.500916869783684,0.3137920737966382,9.933821800977192,8.626045227693988,7.945394676486107,6.9492512675527776,6.429560286728549,5.652437575215194,5.015491902888708,9.656788364433032,0.21725413484333878,2.0684646936416664,9.065288487239906,2.554704747943993,0.5131216614288525,9.508020320859535,1.0664997269451937,4.583244921423094,0.3286081507667271,9.673040830863771,5.605688854972078,5.605312022111418,9.452771825021811,2.985506330589187,7.301576023066193,9.964243159615783,3.8524082185236583,9.738721665353122,6.479019267592485,1.079838360380585,1.8122527720468373,0.523495154951994,7.038495980072065,7.537233214138613,7.910902177410377,5.770390828383672,1.0748702760831563,3.4254884578971714,2.961569777515277,6.55056116923061,8.443020946452327,7.694763417039386,5.822548979844708,9.206731946705464,5.490762612913524,0.37090035547107436,6.805335355935503,5.6467083674225895,2.0636557445861117,0.7095753865145737,4.885786656318238,1.0426294931759206,0.7617806353045353,0.41247107229610114,5.690951359091096,0.05265819123772775,5.421039417992757,9.14327502517751,9.84346012114157,2.2871436998643127,1.1827658708657651,7.433545777652921,5.49548149798216,4.955926063193513,0.7864318217767585,0.8289955544388783,8.93663848446747,6.870475671106798,5.656664808181411,4.905268298885529,6.583002521653537,8.498033179118728,0.24664689996937716,8.97601894868339,4.471681966396904,9.949978044080014,0.2449030276247821,0.4972430702705577,6.449234001030638,7.500227646709213,5.5539691155287105,4.445100146568882,0.6246634872789636,6.616887701653945,9.31054990334288,5.344897752249761,4.608965749177429,0.2790314614762568,2.4980910238185174,2.9951775845564077,7.044099137750325,2.690132896350139,6.224166768454886,9.184075950589941,2.3010930047833,9.1355812479481,3.2400992905756274,3.693967194196551,6.539781523330043,3.4968649817467057,0.97801023167429,1.8027421126767262,1.409348641709316,8.34914311306947,9.190643915913872,1.0943876304030564,9.148504627720355,5.164156791580337,5.468904242286079,9.520834054699087,6.952354347476878,4.429090088027575,2.064174914313639,5.9542796717030715,3.48973016367758,6.65284683742575,9.945333890377498,8.007669115493432,2.9606853349996887,2.199598027078027,0.5024607906476508,0.5185387251594797,9.807442796100078,8.41398752645483,7.83410113361334,6.579185590693082,3.0654985123390954,1.8383792594207315,1.2666549221814793,1.7754771444863227,8.889754447268945,0.33368780799853837,8.617058869930215,8.90407343628805,9.417727652797295,5.327790655348982,0.5716783604932496,7.61661276181812,3.9694790546164116,1.2490180703960696,2.7564102374324895,1.1936707860647855,0.3370309213429912,0.7589251620094828,3.916474263615428,5.708868306629263,4.408530835139448,0.7130253860429059,5.881128227859612,1.011481825929098,9.168637882127026,6.409101968002382,3.4363965352551276,1.1422361826672733,4.268451257012346,2.575347165602996,2.7772315445940645,2.708270440073367,4.353527327376612,2.934788957894654,5.23492671458536,4.780528518500509,1.4267877019037722,1.7853286704322247,2.4621628871049683,4.740945421335404,0.7401434422642705,9.161425548575226,9.970291357856707,0.4631871642465202,4.503792634462971,7.186121830393878,8.874608723143494,4.455985501239432,2.7130648127137116,2.8400853939879243,6.7774857691839046,7.458145272483662,3.768410666442852,5.908914847064981,4.248217186528902,5.671132776502573,8.791752522180445,0.6061813901242163,1.8746478949451295,7.399647343680094,4.94518524303481,4.830162620076689,4.945587118490744,7.9946197443273626,5.284183144733091,1.953434187230353,5.815994654942747,3.8587468575807895,0.23157089094994143,9.973157348243566,3.9004456969749057,4.180649120644616,4.9535832039715535,3.693759049400791,6.453907138699311,6.1923269689034015,5.371602229262643,4.950022372881017,1.75008980112345,1.6572438927957434,7.298391406069654,7.425998748169418,1.7395939983914332,9.788646392914744,6.071187348742648,2.581793395366235,1.6110094590192137,2.239454035953546,2.475805536253354,1.249970144434528,7.676484325244997,2.8282076088656605,1.1596696329103406,2.251131184891919,5.9644423644847935,0.6603099610584773,8.652079952484591,2.913309955694958,7.305707133506475,0.0924094522469665,0.6605857825244532,6.905283745255586,9.38869223231023,0.5797354088166096,9.789814132260329,3.460436803678232,7.241863956401048,1.4019446170930927,3.5935097458641208,2.4252817898055348,5.2977262270875,0.9719844595161753,2.000791542382714,3.629405783757196,6.423253175058735,4.2788863525542,2.132319171772288,1.120754200739753,0.38263351164531056,3.931326119070916,7.903303538478701,6.889100462883175,2.5561267628155173,5.930281730561703,4.545811846401541,8.189074327747184,0.048573204756735544,5.539166811109839,2.4249902686472202,7.132732155946579,3.1314084955361974,7.490196948095961,6.994696010107707,7.045921774554198,4.582500422144661,4.827695066418696,1.8640590022163595,9.865317144100818,9.67815037250347,1.303705241658667,7.317195699991929,9.380174920401158,0.13666840162494864,9.035250644993793,9.637171658644064,9.589033191624193,2.543828539522246,9.031625569602493,2.901143316772632,7.421378561722863,8.45221077487515,7.316007214077448,6.64957156707909,0.4110205856142768,4.851415881039703,5.870154823813803,2.126182351752235,1.3056506264914358,6.106599042143648,6.110443828222708,1.2165921452170259,3.9584114367414145,3.86177664407004,0.42039395471144214,9.50363157641945,9.010500486619557,2.436183283938366,9.151356148226395,4.77317926905147,0.38323015332189403,7.670457998441169,6.119668380861521,1.1341477499111796,6.928195208183871,7.623078867248144,3.2561257393422216,4.987546885105951,8.116431116866881,2.9175179957141815,4.764538683385624,0.28584393464785696,3.0992497385195374,6.045416119884637,4.077132421910031,2.0330712952861263,4.905397280985442,5.161416514367599,5.310350884091671,0.4665654483886761,4.938802628165547,8.981203498872029,6.150707862803506,0.7780836026039872,3.5925614630377756,0.3899371403679641,9.844015811833602,9.537758792575723,7.401910909440938,4.221199813572422,1.316701880800497,5.424138229920904,9.409834307770568,0.13252886701174416,0.5452904620762111,0.38484990558828813,9.45283805210521,1.4458932089570342,2.305903123772376,1.4439996429417057,2.3110195592650884,3.397409688399491,5.465476837115642,8.377271791656485,6.481981331409258,2.4063217310503426,1.4395106502682442,6.976973695788277,2.7127455176257165,4.814267271526353,6.363323270409579,1.6240212525404907,6.139344273551869,4.939922467406107,0.878846924334622,5.9512221310640365,2.5425312508212308,4.100557192056334,8.688363412748748,8.548507846631061,2.5182608940005355,1.3482216351314102,5.53531410061894,8.732536536068185,2.2527772770456824,2.7481869778043566,3.6312851911005914,5.624508777486942,6.594080125958161,4.5420741838393095,3.956515639218512,9.582924334980138,9.275266544645875,2.221449094627749,9.228455170890202,1.7964513428985407,1.185581476566907,6.796688561714213,5.802273215909054,3.666948010362429,6.227453457241464,9.527501757922028,5.933338713340262,1.418200643244214,5.055500956057314,7.295263039345504,2.7591705145631518,2.063353656125625,1.9537505082685347,8.026270017846521,0.46475383830567374,7.1884471210814525,4.850748603848096,2.489594628896042,7.917301134025005,9.849001787058825,1.092025323928707,1.7666532375810529,6.453280584341893,9.628204099415084,6.359548772593083,7.016081706257616,1.6521574471579892,4.789547961154322,3.0252521197573334,4.8823934922292,3.5817176591781976,2.44587901270814,1.5445499709932076,6.862425373840008,6.685722477008797,3.7042904017144753,0.9724736820506119,0.12435895780336437,0.9716592640165422,3.9742442794762853,3.442610845062796,0.1352186021339541,1.5694058173791525,6.3084674415916595,3.344367603605083,0.7165160892193734,9.849777420418276,5.278232177546345,3.4951579055625723,7.046157956477686,4.203375702722985,4.085644663983958,7.184504992169995,5.948761552323701,3.373590962655031,2.9928045920063964,5.232712993080532,8.699730098840385,3.9799043746780027,5.723828159781679,6.064243181454758,4.341193473777563,0.5426803086285292,5.625104998847361,1.9196320848079629,6.737208281824643,6.281649204976192,8.33193178177032,6.046139538059364,2.334395999256528,8.81507399328944,3.7672291718142805,5.464196439938059,7.066550068660629,6.8933102103184085,2.260183803848216,7.819976988963715,5.440941347578564,2.578918409816209,2.588600573268268,2.6529401181165646,8.895349456049717,6.967814533910117,8.522048645518836,1.0066820049372127,0.6074597820505456,6.918415610751292,9.203867891272898,5.766878027770162,9.502035676647777,6.068100935112865,5.4592388144912265,6.775041287047406,6.641956158049252,6.321270544878183,3.2168663474470396,1.7053439109794755,3.0207202042960724,2.661826502128978,1.9253759616261434,8.86886329767632,0.6150036085936139,6.459580986075419,6.174560280174623,6.672652072196309,8.15073281813384,0.28567044562292976,6.046599982949069,5.624052878179039,7.142314724649047,5.337550543056998,5.994641319834987,0.6572067240976198,1.8398171568991895,8.45395091565713,3.3223980247848086,9.6196328114189,3.139233721914211,3.198818833655549,1.1110291959057372,7.621521143256609,9.165833433961755,4.071860172543173,8.467669561451661,8.889808473941711,3.8767051093310965,0.2504012411371781,2.920270317697079,7.971964206419919,8.274147936402098,0.4444538592774705,3.7403668588310692,2.0834310343521,9.051398298443878,8.494385909194882,0.8708998603448126,8.173664542529128,3.3505825656806754,4.468113403874794,3.3383947251903026,5.808169129962692,6.660088156682913,1.9432715168449677,5.478103653597249,0.8661501612150824,0.8554184310383206,5.536656764875021,2.6031624632010852,4.881218122883796,2.731959503064197,2.5663257956807173,5.298858044046958,2.778286546333697,6.837460253313429,1.874877933284953,2.489440283513391,9.147916648775315,0.3219853416169838,3.3366612584773203,5.170592385229213,2.1338804455451754,5.3942816821183985,3.689219387556922,5.229675103338289,7.676524686090583,7.887377153691732,6.421106506724307,4.013693870953561,8.111458074322503,7.776003527475224,9.302591873212204,1.562551525964937,5.934748740477172,2.2434954120872854,4.847274276329838,1.8345194880859006,7.954936277339119,4.450523786774925,3.0846983873247478,3.5919337173597454,6.837675939555009,8.364461681284839,5.878888350801242,0.46630646296768496,2.6005257376707624,4.856014352283586,9.48120744708663,3.1693470095271703,1.0144988846924574,6.038087340460523,9.279964215682106,4.459986121604454,3.3327234769416814,6.937321040086099,3.1208062533928205,1.1988396038881588,4.883819080852952,2.1296799191232196,6.822216458180071,6.3741651190927495,9.565925209240833,3.6609835609821673,0.49284766898281873,4.067575572546859,9.717732247684184,3.985829804922534,9.846943525444843,7.3915083297393185,7.229197054411458,9.447103517358922,6.377520739022907,7.091349176463824,1.6453537954234299,1.1011718232749013,7.902055797291913,0.39612303650160885,0.6472333815640152,1.670150918365969,4.461469879834493,9.19397088809914,3.9188709788493226,9.41804344480215,9.496044443007634,2.283937912572359,0.9805835959645504,3.521789017406236,3.6799662724279623,8.626978195935017,2.5928983381740833,3.901770043307179,6.223699242348925,6.373381002211634,5.973986191093974,9.934083889061139,2.3830631373943145,2.945274748595871,6.566177558397587,0.8622451002304443,4.966688646675665,7.450954124535132,0.06631279357202091,5.891847756583624,4.897987587077777,2.384812281127091,6.630176493278249,6.279954117508372,1.9632361488786942,2.292902886461058,3.7699742049156306,1.493588131242276,5.253554323885144,4.390011244496002,1.4481019462712685,2.064336565044924,1.0840751000448001,1.2943926122909954,4.838244106222174,5.75132594679419,1.4430178468648658,6.968847655110234,6.143187618267679,7.6289949097387595,7.138821305842843,8.263075660497526,3.9381360701825576,8.573893852041937,8.04322546953739,2.332620577729849,4.88517266484935,8.320469734701167,5.3485943570229155,8.508418655746851,8.425509305055453,5.494599937058876,9.959641667224634,1.145698787976852,3.6535180599667507,1.5321031823470754,0.6159184582167965,1.7292448193052956,1.3498805883009224,5.947869795609301,3.9101097722308795,1.4338056545062794,6.657452273951905,7.195514951940386,6.369056858547115,0.1822319464237987,7.43663892602987,0.6012465744616879,1.3926194438242712,2.2711525938755295,0.4958800000339225,6.620436613372895,6.653149613518202,1.914271320495371,8.047647017324653,3.9749475070417493,3.0947692135049785,7.98384613709715,6.947759429453635,4.82148378616939,5.4981584781666175,1.2203241380980168,2.103521758329702,1.4797798127595652,8.0697724841845,3.0851922591790357,0.3101727619151162,7.246709649216477,0.4380653649792021,3.0944314503361072,8.914661764477174,8.31169565036041,2.027752066216718,3.309211362221701,4.3899553909356435,1.2517919053995985,9.316204053418062],\"type\":\"histogram\",\"xaxis\":\"x\",\"yaxis\":\"y\",\"xbins\":{\"end\":10,\"start\":0}},{\"marker\":{\"line\":{\"color\":\"black\",\"width\":1}},\"name\":\"B\",\"nbinsx\":15,\"x\":[7.6633549069497455,3.8582715437372825,0.7373341217062475,2.8268105996100594,6.815657836044176,4.328134263557325,7.206633692988058,5.845935087537253,5.810646803380008,5.565721128538526,5.436843410156472,2.747930464778093,5.241752016090361,4.027894027892757,5.720798010829416,1.6811186293554918,6.473981276060628,2.8483590951569693,3.867582524580901,5.185133596294128,4.422326155581773,6.739433434031962,4.024723426725437,4.97049738289866,3.470200417202318,5.174054320265065,6.88614886909121,5.0649349790606495,3.8393501528176968,2.6956149024880856,2.8547437509015023,3.7995973474869595,4.580430018974064,6.115178334035408,6.5763655417549725,4.5102877567271795,5.526167939767307,3.8252894063181153,5.732563637027301,4.265537218812765,5.431593625220581,8.098735664456555,5.189619553590465,6.477634461024664,3.942701068397502,4.3170610743208915,3.3224044360259377,4.337039794235251,5.933267939353096,5.045452725451556,4.878129053506676,4.775618482662911,6.784089677274093,5.640670490186368,4.8151403935152635,3.9816967586675256,3.387190565340192,5.232983264681987,5.559795531820361,3.41600880496819,5.056734919534719,1.8416586815591565,3.2640319473320263,6.788465456216735,7.390180040173148,7.885010772402809,2.72680564537585,3.934824083021275,2.7086056064459023,5.834769216628075,4.719837076044821,0.973765062579667,6.542404649830125,3.922103483403206,3.3220653515604806,6.519608381979886,1.6899864953536934,4.908192018513013,5.243651241578228,5.581976950650331,3.28713366455877,4.609549967639923,4.379725101665085,6.682397954875221,5.631761687510473,4.615196091631993,3.7756111697706,5.307534221767565,4.944844433890596,6.831141978163049,4.61126328039839,3.430271209880759,6.571479397095301,2.3357649699945853,3.1128608984795454,4.12981159979535,6.0611783881654295,7.589150481708042,3.9956453552352613,4.968569516661396,1.169259943688476,7.302778987957842,4.6886694854415545,4.522480801843084,5.292424170367374,4.266095791597973,3.444498795445841,5.0318555480931275,6.492180560564305,2.309912040886617,6.400678239619161,5.346863978453988,6.3221063254198455,4.551164283085893,7.217553441943979,3.816267440710363,4.024941458912823,3.155418810368905,5.84228979478506,2.92776988247651,3.0917204421504727,5.566480538143338,6.169515187086042,3.8487160099829674,6.160648721660795,5.695367612666366,4.261174924669086,3.437643319437382,3.3502031025280132,4.506679568852217,5.55535020854102,3.0174580792055226,4.413917032872192,3.2768263752744575,3.792456080617313,5.813011905100162,5.33272389790369,5.073777455800445,3.4591342942185612,3.3069571311075987,2.750659386679604,4.210182882664237,5.6372278724370855,3.03961192286024,5.144223855128818,5.474728244708987,6.140672436229633,5.1696453768840245,2.5708070876832374,7.2148149423138275,3.218179452465269,6.892749326988978,4.589389336636204,3.557282006663849,5.3970997693184,4.7939745928966175,3.7781211186061343,4.470777367426749,6.74901675210455,5.721705798684831,5.3180020541872155,3.123587493880525,2.4489145556313248,4.425218933606164,2.8408382530675995,5.848623939217557,3.4604406139518704,6.481459693352986,6.068635569011747,3.580891122858646,4.823704393311862,6.358947859076182,7.836735406248641,7.175156562959989,5.174510108996586,4.50672664042539,5.083027611735311,4.2206068130229015,5.910520179533851,4.32908353136486,3.8626452229931116,7.755619520758103,3.54153807843483,6.660572527886901,4.247617142875325,4.177708104842417,6.71205953869688,7.1293843300309225,3.449835854496234,5.794731225504837,4.363734962692266,7.091925872299393,7.210490586706049,6.187118066586264,5.099339148891543,4.626820301316581,4.339730499352672,4.086530498206116,4.419511090801066,4.628684876489229,5.449421252450617,7.828947443535977,5.3146579205096875,7.0357927281848776,4.173957020554962,6.736733930152309,5.667996869625324,5.719347072599279,4.972957633043482,2.730739360811596,4.07223099982544,2.9624452361782083,4.670406770698593,4.893737940073067,7.55983621991268,1.3671233545056358,4.637773627689545,7.119121477903647,1.5320223016989214,6.137353770864588,2.9914129189028946,3.511781904422662,2.391319688836114,7.037981874450372,4.989205639651166,5.957537950250054,4.660042595984351,6.513407878868251,3.1850681778316945,6.036787346286262,5.446590838233473,6.071786473369093,5.767713274365223,5.262968869955428,2.308204966153066,4.829915637367182,5.12314355137957,5.3129382035656585,7.108274907592358,4.675245863851353,6.702154608097229,6.057629747411479,5.147356504484673,3.922607426573852,7.008075175470109,4.538016439758764,4.7843878169508445,2.6376569877897116,4.407202631401039,6.451716623729342,2.3940568396681057,6.841164622153013,7.84291280202369,2.3244155850855153,3.378910621729145,2.62357864016852,5.388859190292517,3.6537406985708154,5.027500900665395,4.205295390275746,7.306002403945492,6.75576838653841,3.9605393319762037,5.589919605798808,2.1013920844992753,6.624833060280936,6.373668470433603,5.3396516306457595,6.586264479414311,10.077129159851811,4.519274951035447,7.794839904521457,3.827703140264149,6.060206802520029,5.506666036374602,5.591956138519754,5.840062933126385,3.405357604175759,1.4502127380851517,4.580167013759871,6.6276353343409,5.81226573756204,2.596430741543348,4.448939999383525,5.198263266210281,4.8987768765588005,4.9990756334289825,5.475856568452007,4.691481519234337,6.107129607063392,5.966574274936669,3.64279409468785,6.393951022480852,4.674955888819979,4.295180609808719,5.27995697269212,3.453190690200495,6.640953757372191,4.1717987394775955,4.410136973548245,6.348328715577937,4.349787441916489,5.688105943875031,5.881001188246185,5.680497546795498,4.794939450905607,3.9794179155021956,6.300082387748115,3.337969106125179,5.767819367577563,3.1332198164089218,6.254895593911267,5.755108720172943,5.642168603238637,5.065763611019335,5.98435825648622,2.1234872275245227,3.021103073610143,2.4321700813494775,5.777746497876211,4.299212733668433,5.319306183073439,3.803129577792112,3.636656532901795,6.023164515849014,4.753797541713935,5.395023807226935,4.289133767147314,6.08171379449019,4.655692713660868,4.473283480580421,6.259445231450591,4.87594419176583,5.390282469571563,3.4199106426897927,6.3957256175361845,5.738729475881259,7.0614818080969375,5.912847577287432,7.3489091129078625,6.379557260404635,4.944992454803594,8.23958157998834,7.231293773275775,4.845216383101097,1.2319892625606341,2.728019997897837,2.7212081687676832,1.9342565979108093,6.564767996846448,1.9501153791771628,4.652717183711639,2.4267183664702694,1.99466322175493,4.646760016104259,8.170319280186607,4.059538603651243,3.7344281390867198,4.371384952637087,2.768656618881761,5.8592855533310075,8.164647794939953,1.6860520042246288,4.485481148594627,6.418288019250966,5.101102779446212,5.068642273271872,2.6520716098743353,4.205096648383587,5.262859930955841,5.254333781033951,6.764911067113374,6.509856462552976,6.453519963137006,6.855214185400037,3.0287807261603485,2.51788010047348,5.532882443287653,3.164576569365565,6.008831518505828,4.669995869164283,4.606970727907972,2.8930363932592047,2.2594596402674267,6.151863744689448,5.130197936987358,2.5479588401742754,4.528712608495697,5.126614889969255,9.114505041604538,3.9301800336084507,3.795752740071305,5.214231684140787,8.161315179689145,3.0746143422837853,4.811013342296597,8.642892567719938,4.069461687744082,6.017459666425781,4.219392234838082,3.956525619640945,5.992435045575158,2.945844589606635,4.365908622147634,4.2145146577522805,3.8489537277870713,5.617232748506008,4.665079018581599,5.947850352016091,5.558070812272665,5.716199941513596,5.477482057946338,4.4847979810033225,6.858887583979324,5.83257787625453,5.5595723811265145,6.049111016215811,7.548912795206243,6.380391562538282,4.9295993712316095,4.789640278825128,5.488663715610472,2.4994867284696185,4.8258571038082625,5.106974884102191,4.898173532034775,3.8861689946344677,4.525419445367374,4.0991048427943095,5.113324899022871,6.297284822315385,3.9076171704315406,7.553876771214078,3.5859562652054526,6.118906430104847,3.279001860577484,5.029950347689849,8.078499094013381,4.517483710593421,9.091634720547775,6.444178516640688,5.390611800938726,5.295110935104739,7.031959853526515,5.335281445967883,6.013989817812789,3.580938756388217,2.441590351006953,4.758841435694769,6.419583863383379,3.77523180226225,7.220706515296303,4.826606296148741,4.942671631843465,4.183447570529666,5.724555276201824,4.249625614529228,4.313852686635454,5.389232848993274,5.225120654153867,6.841086898027408,4.615149899775398,4.891686266602681,4.265548289872473,6.6858102064120475,7.112657843344078,6.14760531962189,4.621321511879088,5.996980409365918,3.2624922034367048,6.601620695276697,5.690186582767645,3.481919547519233,5.006751191420047,4.206484266205307,2.606310727665462,5.724533255171655,3.8811676508222903,5.432197043829733,4.863610641777434,6.460229644223597,6.616244163407893,5.39670266416474,4.758088580151733,6.573593702536944,6.280063102085876,2.290908809586558,1.3971464240021927,3.2685675269272085,6.700804933710899,3.1231371501256247,7.2878474734980685,8.004868853874914,3.6906405255027823,4.63049258062054,4.88125597287327,4.521082579012508,3.662200901867825,6.102013948521602,5.336118434627709,5.485866987828403,3.077481221874924,6.03038899129784,4.960967704383971,2.0336154798081734,7.534293212155473,4.938872566343679,4.825913683610226,5.486135352571234,5.980383161691987,4.383086819618071,4.364208475001861,6.433380016596835,3.595790282278131,5.852800064605579,4.789201882540025,5.255710119507994,4.937649718588016,7.2350987486716765,3.867833048266871,6.531668129319591,4.162909746785781,5.196826275711108,6.542159140180488,3.725212808116659,2.223179598844502,6.927166857234679,5.275981801290791,6.746764133896752,2.8199498067289728,5.256906810096888,5.451283664100774,5.609665954658844,3.168408368210552,3.898381248089519,4.472185294338365,6.000654640453227,4.075442318635619,5.159628058577623,6.155079811900465,1.8634269351969097,2.3687651746634244,3.0268911556099427,5.022422380802208,3.8905398533687676,2.7718213444980835,4.820854781053807,5.445545565861403,6.638475331298537,4.712264585923567,7.400161115053433,4.4199238477098675,5.847047872152505,1.9295716844878816,3.218209565563474,2.75679198543646,1.7460478129037247,3.5784879434722168,4.089094551605402,6.187441280749027,2.673009648525369,7.6522607678078165,4.030741920412261,3.6350605527372526,2.4735932179456745,2.9867450237894815,4.20055933187234,4.872610522680961,6.556120531933489,1.9112086531468204,6.075319601727755,4.02337193449906,5.501970838588152,5.49918731940431,4.583640024618943,7.057849555799429,5.873719410083886,4.535595624883064,4.726116546959334,4.321617359322359,5.049335984308299,4.407764363871629,4.96102998095516,6.820823014232843,7.616927709133848,3.4565742668680053,7.239880748712226,4.627568714373523,8.27099296931595,5.022486912699949,3.6620695696825054,6.103784563595941,3.4957191155574305,7.657972089018909,5.693988557023672,3.957837453376775,8.579581702317503,6.970756330392674,4.098230347140524,6.362695013108845,2.126865853733885,8.063875725419132,6.381505472415824,5.814644678371703,2.3055864502006416,4.104517604957903,4.813093224428556,4.064480670171824,4.289001094244156,5.660756521949031,5.576767429881288,6.159247474389177,7.481049991323294,4.922635123059714,5.874234279140103,3.025283965844113,5.060530113431932,6.383493465729268,5.979178297535517,4.143836994147879,5.012341563280818,2.748378410797943,5.08767169120474,6.926065462544683,3.6894643822936564,3.5287625124377744,5.281653091551693,6.109263425957805,3.6430803510127476,5.114203817480763,6.700967663581683,7.065877274957362,3.74685560352857,3.2065025790742134,5.443443289784842,8.617666551867607,5.028753132000242,3.98846382614558,3.086877775729559,3.4167898747093273,4.118109025655842,5.1263050380632516,6.043342024046385,3.9278820308139735,4.76352553992807,3.337932375340802,4.961762578221996,4.961881917825196,5.674941863796603,4.4690008665907275,6.53622772111534,6.3682608965141885,5.589824047620318,5.776938014615969,6.3952046148261745,4.211063430931005,3.8066580895155173,6.4257903507662455,6.299449183191241,4.993227746919912,8.636828085878381,5.764822548377852,3.536233407384623,4.193803310096996,5.27229303183161,4.444238218942074,8.186175959303132,3.429888758715954,5.041520177095449,6.680660351714685,4.707052859839454,3.125201095493799,5.074910569833577,5.444429586286628,4.6010175205221415,5.588048201063839,1.5238301435421118,3.643316619981298,5.4053996339876615,3.5257041229702137,2.6016141478608232,4.944145804681137,6.9633339871528905,5.105714225631461,2.83978087175639,2.3687802109567118,4.373424934834448,2.2698877958340313,1.2376486300691951,5.888384413785319,5.514608661529568,4.932425776236257,5.408591515491046,3.9765111001776656,6.538513877220591,6.158154467977622,7.220408203244293,3.6084841302006057,3.975933967430147,8.687798161225539,4.439669964692024,5.207743980436845,4.614820906682752,5.574729996692079,6.625282046618091,4.914300902539844,3.596200091629659,5.6290043841386685,3.6949526794163305,2.8401659094634497,5.483624072993606,5.3759677030879764,4.003185702467615,3.9915339313190814,3.32229432343087,5.382703328600785,6.894395701016439,3.276025629332942,8.66478385017442,4.899720938153831,5.401582905305741,4.922035096840206,2.6101765347960937,2.5546793011116367,3.2095596448441452,5.670062850663347,2.9705858091184303,7.414272582815438,4.877922456771975,3.480656540291826,6.416234277405999,3.899117436128158,5.527539855314135,6.890470233687983,4.221374198614881,7.118004233804086,5.164022059267222,3.1453549465406323,3.8329742727497518,4.348127079054663,3.4237447751891454,5.293901310454345,3.215399250754119,7.2850105144333295,4.452235989473438,5.524108190601074,8.00808698551164,5.4680175654540735,2.9908341852025515,4.917405388838686,5.98457019372484,8.709914096576123,4.158588432277568,3.761828730643475,2.96344036130876,6.755562489049494,4.393724932618743,5.605880517422749,4.286404537563267,5.132315739096339,2.6374682985795594,5.0514472686306755,7.230856830337803,8.300208693407216,5.9548221381869535,5.085933027057884,5.121784103176216,6.392296621103751,6.5634413723256735,6.831829515647929,4.363930332044966,7.349127238044693,6.613737456205947,5.366938917369034,5.354164573147522,2.7523306405881205,4.825811347795425,7.706842055003334,4.4783804010115364,2.8474224056209816,5.86076561271193,5.512501697648583,5.52052291368066,2.925799507943757,4.826257212714042,6.59485875572984,5.235139182227068,6.005114922783892,5.24169304384886,9.521604761075228,5.988871410393347,5.089610866980477,2.074810169884559,4.608173765276323,2.9211824477498554,3.717233913181572,6.109187357174454,4.029366069442954,4.524234328620612,5.246357548054762,5.387961806305154,5.473234942448069,5.043734963622702,7.048882995574671,6.984348588081604,7.603621008417641,4.5122102776927475,5.851332080737832,5.60273557278692,5.509643792210806,7.185017150411541,4.509199532980897,8.476356565632678,5.404112816310683,4.390180518391536,6.552167439512579,5.114236844261536,7.166158199156903,6.931041147640593,5.036209954083299,2.645120723046337,5.848217304636639,5.101740022402827,4.532427127279787,7.517124731201128,3.531302750209964,5.263730790706293,4.209121759823304,4.194566106707471,0.7825444484836455,3.599716712112432,5.191659535002961,6.067127075146356,6.532870706957969,5.303729096762604,7.675355903805378,1.34462224174729,6.348264737639315,5.7185299163734795,0.7261630315607981,1.138447179837736,5.262161832019336,5.343581196590484,4.0392852800004535,4.63151056975289,6.028656368739087,5.8483353598232775,6.037394735813729,2.980973921791788,7.0780702759427445,4.765309560881317,5.7445540911247255,3.910877541265675,3.860998030904056,3.286531442196139,6.406855275222893,4.7902065691944244,4.659498325569269,4.6924891899377394,6.087629680519122,4.67419756669755,6.582482369881747,5.8086471343054455,4.3039193739603725,4.995762737282509,6.685275219965549,4.9504203096926265,5.235146586516934,4.981818840884203,5.971420604171441,5.204221212160741,5.108213813577457,3.82514667861535,3.3670642768184686,3.6288242798852783,1.727168817412804,3.910615964156699,4.160786266311242,5.71274889179133,7.001259405100011,4.577840665095862,5.4883729035344615,4.151779114353846,8.652769919435556,3.6274168178382777,5.820579827525135,4.312445500022372,6.8639247678937725,3.4488412721850206,6.250084562995685,3.7172994525111527,6.350162519103181,7.4040982279372205,6.174893932030582,4.9094982538299625,6.150378862233646,5.605290322765007,6.831637350504598,6.077483643765395,5.74188028113245,4.43466930265151,4.65213422624077,4.193268751854278,3.8046108728754633,5.028111356244746,4.144950899445412,4.903826613804494,7.309864815023722,8.693218417705046,4.157627387806868,8.830399695393236,5.733715031423876,4.896154739817704,6.1561073273712195,4.406211244852514,6.278470455137782,6.429816826072845,3.8456488036507954,3.979571607713736,4.978974849202619,7.048433394978252,2.0990812129068024,0.9707970962609096,6.128833526354752,4.386623678036393,4.704033591530221,5.307550919316226,7.55547520208758,4.2997563103891245,5.337140963400805,5.649740261359727,6.037154779026562,5.916192965191095,4.32784626484425,5.4681168597088465,3.1885304765832645,4.988761457871862,2.2656601434309853,3.50915551253357,4.423796051374813,3.5521411702125203,5.4032358642588,6.425226610293123,5.195717946296497,4.743428601024261,3.8509175109857505,6.9552620140932335,4.659795809344206,3.523105261850646,4.905965106082242,5.1512392811896435,4.517670577666861,2.7941980298571094,5.029299566496458,3.666332651418422,3.620839820972959,3.8473192521689343,3.1385237801228882,4.171126252484653,6.937068631585637,5.757259489594338,5.9202563603385325,5.279934606920438,2.460031353405532,5.360212987336328,5.359226177255274,3.5179140428736737,2.4816776556925406,4.6312066895260005,5.867691480061188,4.859681200815514,5.52664521456745,4.9079481556761975,5.8656495471739465,5.490824356291033,5.660892509920488,4.882821301239521,6.938797149571069,4.33114687991982,7.90173817456886,5.559609356380197,3.232085865959475,0.5343221995385061,6.942527201082768,2.903071723921942,4.059274690782628,3.7859938761103034,8.408054307013565,5.220293322584602,5.964632332669737,7.20147849191161,4.6203196117799035,4.150997402415337,4.998394473252353,5.30013438834128,6.27545945057348,4.6970501124354636,4.299278781884254,5.391571689134254,2.0924415159772245,6.976470613006857,3.8180738421047695,5.536111366484401,5.176517649329024,5.476976799556818,5.5831119181400455,4.692825965933119,7.152155038444478,6.547007424427062,5.6186229601161575,5.55538075988471,5.260784777871507,4.741773808629386,3.9860928684517702,3.7516740968151003,7.491350703313394,2.382557393371497,2.3260609016935567,4.586173840652625,5.822834181882488,4.345577126183753,3.2831633845296815,1.9968864320381137,5.508823379849289,5.955686038623707,6.231885085860414,5.1032085352683785,3.300464448349491,3.360504926491534,2.519180118034049,4.920088099324841,3.87977546919918,2.1003364295124056,2.6795351172275343,4.814438320748375,2.541881353966815,4.5801046487655475,3.020718935057942,3.6374373182218056,6.042954271043696,5.566653649962854,3.0705641673133837,5.6234340739712625,7.146898132310767,4.077771882475277,5.387027728074581,4.674262902291247,3.5695321781725387,4.025844166527573,8.47608698244879,5.776399016738738,6.77176382356682,5.522898505743953,2.9865771808495545,1.8962232759171496,4.393759113968337,4.632151334911628,6.106724973136626,4.319935097468413,4.132718510273448,4.487047022728214,5.215998009807699,5.546978958050226,6.403211654764277,4.598822122463196,4.135003592953258,6.945074695076089,4.2869637561613745,1.8634883366414137,5.5730393882947515,4.448915309152078,3.2467979208422517,3.7625291834306003,4.980626334355814,4.037499324698473,4.301009929998171,4.396348776914052,6.069450011290612,5.247316738777398,2.9399601339108736,5.957224785384124,6.184052500082943,7.019895655469594,5.089830953423059,4.710479542263419,7.3356710017850615,4.4587400195617635,6.04108244724153,3.6168071211543813,5.096550673624037,4.453967911693911,3.2577139247842766,6.234731988341054,3.7912132266299006,4.2581003596088,6.774440234506706,1.0729689721377538,6.0567933016458015,5.188318839804245,4.731949257208323,6.257579282768498,4.177668393687268,5.966164784036819,5.943932512868281,5.334321201987167,5.647667786417611,6.646077278713127,4.304631388055895,3.0318450691139613,6.052588798168634,3.7988344979200734,4.402931441176593,2.668067365333378,3.64042187504608,5.7969551653111475,4.03986264959677,7.593339622746498,7.455385287119572,2.4669035757529887,3.4958194472368502,1.28068103842807,5.871542631690245,4.218876374421182,5.638505317619919,5.719701976137518,3.57996913548852,3.500602730995701,5.9453960242785024,2.4435862481321475,6.235167022015971,6.975930195745665,5.149343776452882,5.212666529827972,4.115429783566464,6.371181821141382,3.002073282801412,5.8985667851619015,2.9821937955170323,2.668388675208575,4.676088812375773,4.082273074946011,4.984040874867805,6.49589215918011,3.9574425836795197,5.111600134503758,5.4738315539779725,3.9659226183807395,4.718840955594897,4.758793075864843,3.665032411931157,4.149985542917552,2.997249198610678,5.886589987529915,6.761350427315801,6.838763409934071,4.276736508046889,6.246403855080119,4.046517248791089,5.432875940925733,5.211148245201116,6.60956962842596,6.462145392837961,2.480101527362891,4.376404374802046,5.359486129996835,5.755846918458625,5.516895010002946,7.0860818099442175,5.093129929566792,3.7389967133837563,2.8895688815304794,4.709318349584124,7.563303593769242,5.243281682253084,6.308646110663615,4.6012073074576545,5.049396052006701,5.460955041887102,6.820626190291676,3.853406862051369,5.258458931075074,2.9046950203677344,7.794109441560528,6.797091287492323,4.880629490860683,2.2453115685544587,5.701741654917244,5.337917577395153,4.94463904080352,5.659807262385083,4.4626071513053445,4.591463364740823,6.535983740640072,4.48704220422623,5.238664655288707,7.470707834362445,6.411289110660785,1.9577228637557633,3.8910508296711313,3.027779336274339,6.251463398921565,8.317216299270205,6.902002147183839,6.6474805056618,4.681798145490517,4.940474616654102,5.557661351906971,7.348266093354351,2.591884763689022,5.123292642970318,3.773760478853225,4.667745642561732,4.131863277728874,6.510729612722538,3.5869534331902355,4.319067895705762,4.041318088440336,5.106592287109045,7.1133733632309335,5.89692033440976,4.4672847664606605,5.196895627006406,7.610631534636115,2.8526197074846387,3.742605269828458,4.220681373348302,6.502533488392297,6.805158312841964,8.18352912720389,6.1920967799269855,5.046911856265252,3.799667195237461,5.085908742256623,6.484146928484183,6.115456677980556,1.1554086006360267,7.177648834444583,3.329797793098011,4.732109568046614,4.781645917579098,4.8047184663381755,6.566428324969519,7.465829231176536,4.129879759260537,3.5245211057218913,6.12338286041327,3.838101203175998,3.2439782866160622,7.885524546145542,7.588763165159133,4.0452473169395615,3.3286423617305894,4.4381043922766095,4.765002061630221,3.715772387710331,3.1208742454108136,2.203790271339727,4.4411487552115965,6.376791375273344,5.467182763861896,2.4731874972181345,6.123025172855584,4.826262524674074,5.972389194130082,6.454406697784849,2.208950526359753,3.572835667843532,2.6220893662064446,2.8402698972522744,3.7404359547159984,3.4327775508252234,5.757224133629955,6.616192007085088,4.733565978389711,7.484433107358204,7.868678126091641,6.545436215872348,4.275654932841134,5.5113045988260065,6.483829936113944,6.240646159748216,5.292569671360836,4.277561293579653,6.861264487273679,5.143297539330447,4.69778870597666,3.104947962318221,4.4664515681552155,4.697387854566676,4.732127264393557,4.266135857541349,1.7811507908496975,7.8103329758021065,5.494989647840648,5.375754486710164,6.856309296574342,5.161514649174144,4.477234631745708,4.5467638836317334,6.530707665737294,3.0153216602581274,5.201701299358773,2.907416388995266,3.3104526203966933,5.733824280450493,1.4442978424638082,5.69240182634835,5.361804180256671,3.3554592283572555,6.08914253071292,7.091994547061398,6.146838329884524,3.9846612762082154,3.704679189960485,4.254630509685512,6.086729897738346,5.2708109137377095,4.075701089192339,4.825276928580442,6.590894578910714,5.9839402577788565,6.158322201457899,4.4343533682308705,5.876555186909613,4.885172398740517,6.682873936584688,3.861115990244273,5.483019749127658,5.131416503411692,5.468215620397244,5.568908345037935,5.231432873906931,7.239332923258328,8.190597733067982,5.661161555784869,5.759435596636245,9.839020430266407,3.493681987877273,5.146251980766889,5.8166566198626874,5.039243222397078,7.071713233404742,6.196829836364694,3.9185672213758265,3.3470728841381794,5.401769875989381,4.889539962381147,4.737563493643649,6.3599133539475545,4.400732089879808,2.756622784113047,3.135994700162854,4.471378404012018,7.564385745207106,5.049401471114811,4.5011493297226925,5.043412616275607,5.014055296173348,4.003956717540024,7.788878680262682,6.994719645325781,2.8829019176518673,2.6820028599622967,4.704295341922636,5.260466699710654,4.994852672913848,4.637994755330696,6.3074698022140305,5.229158590580601,4.068449162282725,5.590160032035847,3.6323421570856045,6.077351549553355,3.5979921465539313,5.752191768306606,1.9377588048288859,5.81470286129141,3.7518122302924386,4.742056979756242,5.6017897251011455,4.6315382315704365,3.8420585546642227,9.396253090387368,7.50566889111162,1.297716077730136,6.752926605446669,3.9782251805309725,3.7985049813555043,6.2815824577985255,1.4232197581077082,5.674089179431708,3.4981837073630655,5.955708139747807,3.7396883759265265,5.487414722289693,6.6501517633878375,4.216996660128339,4.337642308065675,5.698704790875872,7.288025834906118,5.20383321430447,6.381132193345627,4.2980204528763215,5.57022421987025,5.961432825677444,4.132925513724082,5.022248134803327,4.580516519778222,5.618772236149578,2.2155979894619624,5.5556090199751855,2.066275677980358,7.055344488811624,7.62574307299724,4.745855682210495,4.68008161762978,4.925613732631761,3.6773219509807387,3.6326253121241594,5.777818924151184,5.920766124245342,6.671515665802914,3.977837284296581,5.28584991654552,6.029719242202605,5.176761927433708,3.0517972236288036,5.510031898019904,4.9359599443459485,6.108535817109896,5.768187538361084,3.7048232433821235,3.7663141328717287,2.297607901405802,6.4395399872227985,5.52166533148341,4.227436507280014,4.120022195022147,2.895684045329056,3.623959182862123,4.840083744770017,5.398567113275889,2.7490944023687587,6.332405646823099,6.462288346937935,6.518126126181281,7.797067694842733,5.567907556088619,4.533987455113049,4.027162933493508,5.825973621563844,5.37715407676776,3.8800911539102354,7.44671786574562,4.9642424745844735,4.8431847940766,4.5107401594009815,7.004346230494356,5.032556899634754,5.760730832296985,5.085100253668099,7.282950330665945,3.770551332656795,6.175725032896344,6.432768633359423,3.203470035492601,5.582658416926278,5.960751188723133,3.8272136515170407,4.886736707266336,6.0727651246138965,6.595656346763925,5.684312729872481,8.326723391696326,4.586760367351157,4.51481829057097,6.4827703600319975,4.216681145675558,4.852670210304462,6.247988087962861,3.1131688213725934,3.8892020651727766,3.0664804968449397,5.536449253380737,5.322422408413877,7.031819872526902,3.4572133518245143,3.9255536859922606,3.699912012720876,6.096417048915802,5.82695727478203,6.650169544769492,5.747410478485542,4.544183867527215,4.910155207420431,3.852142018373302,3.4052755698569683,6.6930257413117324,3.435090947391772,5.851677846945675],\"type\":\"histogram\",\"xaxis\":\"x2\",\"yaxis\":\"y2\",\"xbins\":{\"end\":10,\"start\":0}},{\"marker\":{\"line\":{\"color\":\"black\",\"width\":1}},\"name\":\"C\",\"nbinsx\":45,\"x\":[2.19971337847624,1.8014225855721053,1.528707766275435,1.9718238170144198,1.7958818921005524,1.817038596616714,2.0397767880135333,1.9644391903619298,1.814725663857559,1.876107174525829,1.7443985678050877,2.6421821817521014,2.0541410980918107,1.2965101820639728,2.2913449848760066,2.184874846305582,1.8847707840584231,1.9822207025353717,1.9966401472747626,1.9208643756312305,1.8689639685620334,2.046090396604277,1.3761248522716294,1.9750943836689545,1.7817324226556177,2.096371271888501,1.8987780007380035,2.0072411465114315,2.095843865977714,2.5314517882722956,1.8566342747147169,2.483736509709826,2.24495062259132,2.091628570085288,1.8309941817211715,1.8026562247103868,1.8509163145307992,2.0619570123816304,1.798427207451326,2.0880535885679024,1.5743852631187885,1.4425327255735905,1.7337502492633936,2.281225383752091,1.5245252746399385,1.8384875271495942,1.949312268975831,2.1469154133766577,2.04798791531709,2.460385817755519,2.071802623636947,2.1108447607364784,1.8643822916904207,2.4082311335996947,1.8230460951203409,1.6739968834640726,2.04447452283497,1.6550419021383918,2.281357660212796,1.9154129144846546,1.9138193659232166,1.775295241770183,2.140603994201339,2.306182321812049,2.100065538250484,2.088092534858399,1.9826393227077213,1.8686050770866514,2.097165965851614,1.8625620913743317,1.87291972741884,2.0662302987346575,2.078505853897506,1.9125954303770794,1.8236449280251747,2.3003489358489975,1.6531762147944797,1.6506933559406876,1.7560841270519019,2.002429887310612,1.9160257527596962,2.0029507910932636,2.093296929142352,1.740156542764937,1.8029479993621487,1.8434590160081832,2.035094450868457,1.8673526600076422,1.7549362531906318,2.1448850962408486,1.981358950598072,1.6652058707609627,1.9631332300951727,2.191032529874665,1.6212056891712947,1.717300200995472,1.6149255222741674,1.9606880168104752,2.096069781595839,2.3363771582254143,2.398814599098265,1.5635898972132778,1.904680839316074,2.018788580582949,2.0071162149647592,2.2081215866708064,2.280597231638249,1.735157796636746,1.8798997529260295,1.9057807045100992,1.9403703823174843,1.983389841285824,2.393491299936189,1.686645325377735,2.1537502717931107,2.2231794825341096,1.6847726839691817,1.8413428518355484,1.5661500568231388,2.009770503283439,2.0789407108683884,1.9258410606297929,2.228990281830954,2.04015100676912,1.8454707550082325,1.9669018363825705,2.2659364406053535,1.8821052599457628,2.2074937614126555,1.8619166040249187,1.9830779213882297,2.0836515412156733,1.9088397273953763,2.5149750359248135,2.1451873243667348,1.92139431309599,2.1638076119419924,2.0139274141494483,1.5394465117230887,2.1469337351784374,2.3468449826446203,1.7479996890072602,2.0506536983190533,1.4838713133525374,1.8345357859095865,2.2170305441843765,1.7507556753956082,1.7600834624519521,1.8531304817527332,2.3335318699263956,2.3570172637805573,2.3535251819406424,1.994983135171038,2.2881445029252094,2.0468814444754573,2.0943682887957973,2.3249665373093933,1.9063293736249314,1.7769629976801167,2.1754214233303912,1.9921879089455747,1.9330443308152019,2.051845591423849,2.0212808248053924,1.6955746566736298,2.2941083462225884,2.1015177656878876,1.7771266141334308,2.184281266392703,2.2720598761385102,2.0681089249397764,1.7681484087720107,2.069971012679285,2.2323294861205434,1.5798686079094568,2.003718433758708,1.9416335522985426,1.9711503917957998,1.9870116617185534,2.2329811482541824,1.9093295173773634,2.0530687081306143,2.256953224330318,2.089091818837223,1.6409200880178625,2.127408550771535,1.973728999085899,1.728540977355292,1.9050259992848095,1.7726569524531053,2.058074740748226,1.3666011977824906,1.7322688754280609,2.287911103127448,2.005924241808542,1.8118473833456847,2.2724915811199677,1.6494630594572657,2.093467328616274,2.0793383907293177,2.315077041986208,1.812136071476717,2.3849736156255323,2.2719487676370553,2.263607483545659,1.8326034090812824,1.9422606009509973,1.739700032650541,1.9384051252695498,2.4077761135785543,1.908281406061414,2.0386166113201143,1.8010857144452186,1.818999610949997,1.8333459807716204,1.7720640701874701,2.021284748016509,1.8298073565168238,2.3579896279154986,2.4984596207791006,2.3543639930435862,1.9299119508542104,1.6323744962054496,2.11951534759582,2.062513181335611,1.9947016911784565,1.5604399854645365,2.3091567375785678,2.086950743863881,2.222651305525489,1.9500851089009739,1.861150829760666,1.9850130810134148,2.346876267727612,2.1094671653477017,1.6571208886779885,2.209534573217698,1.7255931959466382,1.9704644585096711,2.1441224958075273,2.4267531894164485,2.041518373447549,1.9812309027823787,2.147659960865042,2.206055425359777,1.9960440685850185,2.0797712485722304,2.051437776247741,2.3378248315349297,1.8190953769747653,2.1095918160428146,1.7847229949681045,2.520333575867064,2.2580930182661176,2.1449202583502487,1.7939548747271052,2.0346821401798603,2.1584320231691723,2.078030520686691,1.8706929653531392,1.9668502276202129,1.9706786526806817,1.8645009124145355,1.4295359856203433,1.895843821193857,2.0567794080896062,2.2938047046061634,1.688207511622887,2.4437966341970307,2.0942537410825324,1.4571389150877234,2.070109270300912,1.815878095068317,2.5291782508183402,2.086908297929284,1.9463017603326165,1.7571051264247886,2.1268052585547705,2.3708593431464413,1.8236590949007867,2.5670565899138285,1.836299192995033,2.0807158335044713,1.9605537231687213,1.9109199369307153,1.7973666797008876,1.8788426106091312,1.6501896065874324,1.6819163252827212,2.2010232208610567,2.1730419438198774,2.3529764035565908,1.868724282265656,1.6576200414018896,1.945234714378395,1.8404053835651926,2.2562805611265895,2.37899660726804,1.8990427339438674,2.0435479898027205,2.0691842402200287,1.7327344297468084,1.6889854863589568,2.4294000798761104,1.98287924066695,2.0296788662125724,1.807476630123931,2.2023554584514375,2.145453705667609,2.1997107808069245,2.1006358238186196,1.957656930472609,2.2575105639245527,1.7678389235627747,1.7173908638204052,2.2983919437810254,2.1367132189277203,2.5141659192766346,2.4719801117019826,2.135823111036611,2.451003597308939,2.3143590974303816,2.055888444622665,2.116191365146355,2.0132607383339307,1.6397727860768945,2.3183262887703835,2.36216715289059,2.0970493617221138,1.5844249672379727,2.0853345210452443,2.099799508692584,2.465910402268019,2.243064714703882,2.1043707577688755,2.100925598120498,2.263189478833803,1.5366830273624728,2.009079124784193,2.2034765421655775,1.5041358622061078,1.783693086114606,2.493542559070814,2.1341218980084924,2.2787069317153574,2.4368133433220165,2.2798671581401564,1.873660280626602,1.5058964717628596,2.045587045203972,2.2390682910171633,1.8621654808979986,1.672380564920751,1.853494919429523,2.3301938420141237,1.907487144848741,2.381682804356778,1.8335471779494914,2.117909456338007,1.9418773480048972,1.8512911380309207,1.6724389324659796,2.114141279897038,1.6683598577631873,1.9295742536293243,2.0677694970780305,2.253494785339178,1.804689172250658,1.851970045964581,2.0872949251468653,2.088092407536515,2.1587393782373305,2.292214996896414,2.0959509443172046,2.4638070600564723,1.827652616541667,2.021540618829559,2.0184620663772463,1.9534857336624813,2.166799058631552,2.2319327617993587,2.3898374343512168,1.7863805835290643,2.0394113964881404,1.728289010579037,2.0611757449477768,1.8142405781839281,2.0379230573119678,2.2708901092296556,1.8538019688028395,2.0349279399772295,1.8563033063330923,2.2595033943931897,1.9221857074453388,2.1772933632743654,1.8816598590026385,1.6527554781340938,1.9406872150003909,2.3480621922891007,1.9779671897926725,1.9391857264818297,1.8946190945678152,2.2164236708301406,2.109660402151604,2.11858577606959,2.0128287754892042,1.8794469007244423,1.9564100353266796,2.1451358183589084,2.287238683791811,1.8828080261041162,1.5264861464661024,1.75972160612289,1.9787731696834983,1.8898415736213041,2.011049901392153,2.340746421181315,1.9559529211158797,1.821313408497305,2.128706382874386,2.0547425527752377,2.359003742198587,1.8987020167890896,2.481361763417368,1.7513838956672594,2.1647169186999586,1.9961106381741394,1.8478546712308375,1.7728594306659655,1.805561954621579,1.7774031537062849,1.8226611645082127,2.0843814436006802,1.7078529106611904,1.8917131522358348,2.3022502368118065,2.216220041584247,2.1561371078336387,1.9034082505708612,2.0841930895817344,2.0267374539860685,2.348193291177602,2.209612790309398,2.0115280751654367,2.243405321510915,1.7842389418483602,1.9476608027061444,2.103398625404748,1.7089599501818693,2.2033281641517375,1.9909671004923233,1.7675940573510642,1.949989761129352,2.1037600372944603,2.1300310022001634,2.2834355247265763,2.0787038241192173,1.8346999222609388,2.453281315805474,1.74416237337183,1.9897255257615474,2.095297504778518,2.356420211083989,2.395763401460254,1.8781561458738827,1.8679896850265902,1.7196147490594744,1.9368427947715758,2.222175869954658,1.7849364151836866,2.147778306193299,2.006191979079549,1.9380992980787566,2.202732713830918,2.1536142850833233,1.625471132392312,1.832228787571654,2.0907365970965013,2.4226045147694206,1.8190325242593848,2.1039213554886924,2.1318570899927733,1.7961208101016488,2.121069773847423,2.3672935888178737,2.1786033787804624,2.1749967065250564,1.7936092959060677,1.7884009348824546,1.6051027090496564,2.4897213536164085,1.7553196444250665,1.8929740410720415,1.9878204932921049,1.9098744497030478,2.089459739314176,2.0753624163953837,2.309492412276216,1.7180648118559838,2.186627143739641,2.0361215624265663,1.9471759301218525,2.156784417137687,1.6275760933188514,2.0359797752635367,2.1649328412961872,1.7849959691129695,2.253817331491488,1.6628800096048777,2.149201574424081,1.9632465550588267,2.233134704011354,1.7000732581515345,2.0872661701077875,2.579826253675362,1.9590945805752749,2.090260830601468,1.9716152977447075,2.058814293495702,1.671673364234292,2.1002120947112672,2.3609141240605926,1.9289318484850253,1.6285253739850254,1.8264708065982211,1.9643238890946075,1.9986642876808118,2.123295161762064,2.3248792148003767,1.6668416147774858,1.8794474627028892,2.233606356209718,1.4258096613942763,1.8782358777226578,1.8838646040647966,1.8197743254842973,1.8339617004288167,1.8293879436216764,2.4051995323814004,1.9260400438544862,1.8777256443615318,1.8732340271641934,2.037460280236987,2.188934447583988,2.0232355080571702,2.466237605438955,1.9145639524431122,2.0649360333040643,2.3849704253021735,2.375069952407772,2.4098076612584984,1.9357970958085877,2.185529236609921,1.7082019058517837,2.1431514620995444,2.253618813671375,1.9386193274446961,1.8547656882535233,1.941484440453053,2.2310651399714185,1.8613845211068132,1.734323121959491,1.6222387766919595,1.959339544758614,1.9258689077830855,1.695748784215885,2.049420119233197,1.7646350236370825,1.717883820254153,1.8901665516704063,1.8759304411590239,2.4664045126311835,1.5298781446278125,1.631904811136047,2.404048451679574,2.120044559330728,2.117336107457615,2.194059689672951,2.257196849710359,1.3077386917320513,1.7105711940892494,1.8454801688265596,2.303976065020687,1.710633924468463,2.222853040980707,1.7260510738400958,2.167378953779457,2.203460847951917,1.7907510347651558,1.9104032988360113,2.1613866753697635,1.7348709904560937,1.5648982074066864,2.0981126146201836,2.0850631783431464,2.332964877167564,2.3238211429341744,1.9183707957070526,2.1660310892268204,2.121401533826541,2.3047919490814257,2.132003462154172,2.108146546850121,1.9235929310101096,1.7331422912519556,1.7381901241710092,2.0799856350299177,2.183760988986686,1.821862421573565,1.8355973769541416,2.0985779973070686,1.9767413210864002,1.607644083412661,2.193077129701811,1.7283115504033113,2.024060011608271,2.2349686412989533,2.021768354331961,1.5298991811522251,1.9842802014715362,2.0743688818217154,2.1057135326152965,1.631878911374471,2.054831419011633,2.164105624290137,2.0881562218954306,2.612844083149311,1.7260878913928965,2.2326763417170348,2.1954611807363653,2.1542474441966672,2.0062233237746274,1.4726397972159484,1.3206830649885433,2.166310399391926,2.033594693153348,1.7574593603268966,2.083481892513543,2.129965753038908,1.6431723336671993,1.753520777349737,2.2625632122423256,1.9285383754907548,1.9473710727917697,2.0657813549383155,2.315995567938293,1.5930762348030374,1.976863252204949,1.715110890429,1.9800531034765911,1.6760840480652806,2.435665417230908,1.7465034376126012,1.8971373208023568,1.7670735130523294,2.216248956140749,1.8619897327635482,2.1910691625522305,2.134768529441802,2.1054048843378723,1.8456948143149767,2.363918640534772,1.9311945397288643,2.6102206633928144,2.090290168019848,2.135243773634788,1.9778416797109488,1.8874150760777375,2.0447866466621085,1.821051564466044,1.498539233288835,2.137128724460115,2.006665431132442,2.411364225685317,2.0763145952596944,2.2313144023795353,2.0748447708848605,1.4226762091501306,1.9671280909786002,2.2004593681695086,1.8539452728214199,1.7467389119061014,2.4648112828826605,1.9541094754415733,1.9132223400128399,1.7605645091984221,1.9868926310460713,2.1519792223452736,1.806118662321964,2.0948640772744342,1.73251717509327,1.7680130743827527,1.9296454085896249,2.5740680427102545,2.2360449128017934,2.0241897367358903,2.2819140762327614,1.616548198146418,2.5064787400760484,1.915983942451505,2.206832363559075,2.076104482701327,2.032797863083909,2.317129863315007,2.1499941704780525,1.955980045415714,2.0515938627797707,2.1830722283349084,2.046137623688282,1.7638222115839446,2.1964667936624434,1.902069978571769,1.752679909503591,2.341006019452338,1.8595317253709376,2.319515457794302,1.7920222567962045,1.7292336693064203,1.7482893488169107,1.9812004403629728,2.0457905673280834,1.7607567381610718,2.403644761809802,2.2977336761326503,2.0189851535096235,2.0061769259890583,2.251472278508827,1.7746637458195655,2.0040207266539487,1.730300225250068,1.7711510971273867,2.130421898187355,2.4638408080250356,2.1476938580433953,2.399233646417627,1.8091951627907388,1.7286759854556044,1.8351329094522701,2.0639228477926985,1.8882606923749476,1.6337100586372728,1.9090228725568192,1.883093864923812,1.4104264947103666,2.2800076242200817,1.8126366507239342,2.2121062502562427,2.26727340270962,1.5268796637259099,2.0553726687118323,8.005600642502834,8.01205465764607,7.909721864333842,8.257065891212589,7.907690354711727,7.4977635043527,8.168198125415772,8.060843107262949,8.331634659611975,7.836830370992281,8.525528064531867,8.12993480995014,7.890506280890979,8.301782533785115,7.723595755899724,8.18758711506081,7.9364836192488655,7.829425863795286,8.68664673001965,7.5959187567943705,8.166977381065776,7.839249905151047,8.752348394287052,8.451442594357093,7.195194160616511,7.877653363376656,7.424156477173326,8.238569809063954,7.912959040865501,7.710012815488486,8.626029282775509,8.561843447214327,8.19182948131062,8.75125844959355,7.456487488552771,7.340668683280219,8.172774687380628,7.909895280235033,9.027622378592929,7.676062191662096,9.049709598205785,8.62633409611763,8.078683291534883,8.088273707932363,8.04295338638624,8.179708408414264,8.924115903206454,7.315223277872339,8.04329610986948,8.0795228865432,8.162257309205827,7.124393909364189,7.119337235696845,7.389583516350559,8.150737085397594,7.9295295506930294,7.825762283753722,7.526631144402606,8.028408102615451,8.724543098301071,8.426749004680834,8.351899925379149,7.297822873257623,7.796671205648114,8.599134205054678,8.588911667788903,7.592011604994682,7.54530123945295,8.402227581735467,7.997609925116932,8.149999886206196,7.7378519113283035,7.164397088064981,8.56427238593757,8.74169950948915,7.870863539236657,8.085881987429863,7.135229603999273,8.064450365073116,7.770966747689776,7.670008005517703,8.650503504581845,8.353398485672981,6.951369395391385,8.029615452475287,8.477320469193348,8.115730264411033,7.318294712707725,7.789870515379019,7.86820252152137,8.305692336954554,8.560774735371918,7.680772129312875,7.384325366884408,7.275288214138954,7.955387631754996,8.296386472823913,7.997698736890081,7.314703393492171,8.608529790575867,7.703879145480641,7.4702496216942,7.775954414550778,8.618842650433708,7.791699023939897,7.8567709135833566,7.807565373377145,7.4552082552316,7.938332485845498,8.167871194470864,7.885508326696435,7.739158220632843,7.98549986268352,8.156961020859967,7.843666989825998,8.070464080469527,8.51965491559195,8.222653825499105,8.118874951800493,8.009712645434668,7.935386957983976,7.857750625579629,8.163260100597746,8.2726295374251,8.498187421328767,8.35216331524719,8.684109670071729,7.963071956614851,7.908375132756446,7.957195200903483,7.3334582162295625,7.261979106681024,7.042778997381667,7.373906298647085,8.143250979456937,8.511147804211918,8.682382230819812,8.39376764578416,7.549774423789944,8.25459724049627,7.060522009525067,7.476242312120677,7.789770302109809,8.016366860423355,8.341427176441481,7.935504491524306,7.737919508601029,7.760783452833516,8.122502022680308,8.397208290339947,7.726100885951549,8.424346911348326,7.121802517326731,7.392194358382404,7.725735606258518,8.175988748515055,7.732608582976544,8.299314478776518,7.822620519040471,7.478337219278056,7.3365617213216305,8.565964632348962,6.694003568251389,7.927762433763616,8.468206588244215,7.901113717934019,8.267373422244859,8.242374732854048,8.581081940617752,7.935420479581912,8.256572705196035,8.14706488657117,7.812591017123936,8.883842107013146,7.759752253702318,8.285137568817447,7.090707466545288,7.8705616281249995,8.165585163392478,7.634643278818487,7.633388929658024,7.456751327586636,7.917149653913666,8.400056649354873,8.197063910919548,8.729886658987727,8.772394252903958,7.772631364004437,7.667189068937235,7.1610389841829925,8.73803473813917,7.5140034325455325,7.745475798140204,8.06001280789267,7.745728942057506,8.316184132413682,8.120239738197554,8.182191344431148,8.51292173226652,8.006513227960586,8.648841908593347,7.453879315215812,7.879442879287197,8.794338984412338,7.994220584197559,6.792664461119632,7.5296421647046925,8.5957876250122,7.837571905965618,8.237550842795681,7.506007442930766,7.978145692558618,8.144001640438224,7.747224202342211,8.303115494876081,7.632824825051982,7.846479189635106,7.750466447480541,7.750028441493475,7.772555569373262,7.893295581777876,7.779519903471714,8.33259605426077,8.743062936722218,8.2650098236142,8.042678493921098,8.46893625649658,8.129855497475544,7.565849338999367,7.434993366439481,7.838011462085457,8.544940577987369,8.044117472368292,7.812222991041951,8.62363819023169,8.49922731478825,7.879602439943529,8.668392434193674,8.193928774167247,8.525147594992141,8.197432894938032,7.796800452525388,8.068277213068207,7.786139867015053,7.780417988588453,7.899489501052987,7.130977856166339,8.162606934456532,7.291582166632293,7.626614355417771,7.8673185065944855,8.055739913270546,8.128454966751566,7.9782282075622275,7.4860475393345345,7.918492716026458,8.179330838725923,7.880376461086626,8.717358520907293,7.961683157532377,7.2907663809916174,7.96004505385528,7.298886176505395,7.9839156279253904,7.879940975849531,8.445969503669742,7.245230221643267,8.322830033729199,7.726455141972291,7.476968753458442,8.328494345432182,8.537030702819148,7.8061462277367575,7.9300414903957295,7.6510794493073,8.451987511805758,7.439472724470996,7.70268023154829,8.165860690993842,7.359410005940967,7.713580260018981,7.443623212496659,8.43350855458751,8.064456265318581,7.4316218520075905,7.789309165668481,8.175942489739851,8.461669369596354,7.938728697101171,7.276198787285651,8.513947825803465,7.478800421825024,7.43631064307497,7.851017879355402,8.137036820895611,8.112756616728229,7.991132644730198,7.26832313739816,7.957285023704377,7.265278299118175,7.874870888595666,8.01943656728503,8.684067207280457,7.683980383033248,7.88341512816038,8.188248392869612,7.756079017533379,8.801341481301662,8.75689531288245,8.723427461697787,8.275472576743994,8.372425430340082,7.665844800533716,8.195167331085372,7.4614781476611505,8.285713142318144,8.955327640303553,8.094285136804592,7.7464361894977465,7.505019729418016,8.547369150403696,7.764694174396966,7.572836536935806,8.661283564238035,8.024549776376075,8.25863665912697,7.63542088015562,8.02572476765471,8.656774596118778,8.27678907754537,7.854295485769067,8.19989008813728,7.91598017075152,8.262032103071036,7.233112086913988,7.8496633236203746,7.161947490375896,7.772655700716974,8.05318770270502,7.224406472580053,7.370026653863589,7.823966495139615,7.893745445790121,7.550221806712142,8.073931887947403,8.63969178466351,7.9690101001288625,7.909570057984386,8.23312580979077,8.396853233073918,7.844835288433215,7.544671189304355,8.114890650077292,7.922099162278309,8.011957760100271,8.413479796029469,7.212626452593023,8.436423970456623,8.537225395647182,7.460349601083136,8.339477045124147,7.0927655060138655,7.59167253083017,8.606834432344217,8.075876463593762,8.205740358395506,8.563290335314711,7.8277173609009205,8.307953337679256,7.9794161477324685,8.457948510866531,8.275529568479348,8.010521809839126,7.621738634648702,8.535218248575667,7.741458340312907,8.647048156826914,6.83845556607794,8.119580287122842,8.345508155193809,7.940245378297138,7.510565130309648,7.6741288585358856,7.943815885074199,8.796966811619296,7.401599260676055,7.95165614418483,7.939731677788243,7.8668225459063805,7.926193939020797,8.639844758138864,7.527980683097917,8.88801868004604,8.550404448857137,6.822769411744616,7.9717308072348745,7.394189299869388,8.214823223297678,8.557748147624984,7.253856061737025,8.417851608018069,7.592025295326448,7.918994815601573,8.494808752979896,8.821543971578707,7.1423298360164065,8.215723329223513,8.634191293038947,7.581764494305981,8.339070848404475,7.9740378930426985,8.476837151963096,8.51062117280425,7.891315681569591,8.045923783050997,7.37334078989728,8.69945014029389,7.351918417250846,6.778788060525607,7.553618949799206,7.634574343925226,7.768030205399004,7.593713353094194,8.28408063109758,7.407793814582787,9.172547992139961,8.077288190409188,8.526419718573763,7.281035910544091,7.95792408958041,7.27448811460348,7.638018195984609,8.614240592989155,7.436133784503691,8.12023573749416,7.468839282851754,8.16579434338212,8.125078295812619,8.08504814252763,8.006987563443884,7.722986380312379,8.369317825493136,7.7846785314654765,8.679363699330313,8.489804844050573,7.9266028364440535,8.554173626703975,7.586000730388501,8.500312245795207,7.479914196246313,7.566091987413619,7.192424627388418,8.384314210051716,8.715077178313514,8.921387468353302,8.215641193861257,7.7202287403410805,8.3779386878526,8.644630992150898,8.31227299380062,8.379370997853794,7.710268316053378,7.952704589213508,7.810393878802563,8.93247887295738,8.367421839147312,8.085201711628416,7.581210072697679,7.542799947349461,8.573480012791956,7.467203192742616,6.829767749503544,6.6801465575259655,6.829249922184427,8.388620191602278,8.655388725940396,7.8738781044889725,8.246301858270073,7.727591149297905,7.893287065024424,7.131656774737594,7.300886772461558,8.507873324969895,7.36853098885276,8.026848529970684,8.649079508363629,7.521621634156707,8.726996717126811,8.367614469688641,7.942551556475023,8.180461781189598,7.477640964069224,7.974778169695455,8.102986978867285,8.225135194567816,8.38384510902001,7.343627452580097,9.139816380184113,8.069486370432951,8.243328762609224,7.9179819371756555,8.108876310073333,8.650218753066989,7.902948980237653,8.165055957526988,9.058013583469393,7.296405893240756,8.477997595150097,7.216107389982318,7.721496845989773,7.857422393782025,8.045716435282474,8.087806991804174,8.264990407733324,8.789267625711235,9.39096439290891,7.619603190368662,7.669214000172678,7.962726199303543,8.014981857156995,8.557472170923095,8.666059790907333,8.724877483475872,7.96449468743051,7.893548953202755,7.198105037185022,8.402981238373084,7.555937122243908,8.137858819862098,8.170545948923369,8.3881977665105,7.664437513307997,7.870411725691576,7.872872454532451,8.480190612837887,8.14075145651217,8.585948689360192,9.009076095707574,7.998564397040524,8.0116489428078,8.347082318744738,8.241506483013104,7.7437848233307465,7.322077164780501,7.442877066654231,8.316254059166196,8.490755506712192,8.132476414081863,7.682595386946781,8.302034947631471,7.0639549963231465,8.565373301124305,7.30200594997091,8.030820619185812,7.73397770784536,8.919136515556591,7.708458997809762,6.893775905465166,7.769151759057451,7.391057973368799,8.40803549416104,7.7657812855230555,7.472892840573761,7.676248434292409,8.322543164868232,8.164414373098019,8.202541751822448,8.502102065756056,8.214807323097377,8.581802069787013,7.853793870919558,8.023557910427382,8.393945347230602,8.323579003161633,7.951604360830012,7.715153076320079,8.696018358176461,7.583608732357187,7.7427067525822215,7.654334908498412,8.143987397247479,8.500772414409946,7.7720122195870385,7.256021428424921,8.29514008510072,8.374191534911667,7.435447078765215,7.850560911614108,7.602078424180945,7.227642663565597,7.963031735529402,8.471750041305938,8.900939838173048,8.335780063447363,7.60948146985394,8.507481874139405,8.413521817652914,7.577128562125702,7.586137509428838,6.595298752918553,7.789075846491773,7.6976998883257215,7.998669922514386,7.313401285798846,8.434810102694616,8.149745924535816,7.34449753510429,8.876191085352978,7.741159550567702,8.754224865049306,7.448540082795384,7.650419329302266,8.302912146973263,8.295845612333302,7.856698086704981,7.539344856523102,8.139730226883573,7.897906881498732,8.748287209760495,8.076760046599642,9.079787967079717,7.716648325048278,8.05602595037372,8.247389381995328,8.309770694956853,7.809917354548821,9.161464597895588,7.506070657929799,7.772973003520281,7.927010886084718,8.569492242142783,7.421487227968637,8.126613463309186,8.7220661981446,7.569950145139883,7.642899257148972,7.095500061382822,7.941877032268698,7.95281394190249,8.038857036503092,8.18313739364625,8.139317739351336,7.533308113717924,8.067794787573462,8.27547982118921,7.4164052750783656,8.204090517301804,8.678694093976558,8.481380346036056,7.847491319838737,8.625825311786945,8.39337641959191,7.937730442829112,8.499918163045336,8.121578183512806,7.607353127476312,8.136575216114478,7.358952521805965,8.757092723533932,8.026097837027834,7.7809176014972365,8.058402282373923,8.017439598937413,8.479955627178816,8.54505600491333,8.284977234083264,8.049902863676458,7.8414976317569485,8.379075275959599,7.621727216452452,8.136650906828434,8.585027285385443,8.127122210952585,8.159159142995696,7.562596455735514,7.842568616901028,7.840295569496004,8.306444036130006,7.692085133825654,7.432372877809659,8.026382707720526,8.700924154329194,8.250687300489261,8.790049158567953,7.605817468644552,7.915690690605947,6.62373145550532,8.443813990087975,8.25312534273749,8.509109984956371,7.962840524593376,8.20509444331407,7.413047142814794,8.438903035002967,8.081551930714356,8.002595349214811,8.977597511188863,7.540020643492816,8.311689731344948,7.51106014954631,8.347289302547289,7.839750190808108,8.146262710206706,8.009991913723145,8.901231451681817,7.381265007164918,7.863266510420915,7.51787218748439,8.045980132830417,7.122735344859275,9.067464997346502,7.995416611070857,7.627709704761799,7.630112016070827,7.742324069940521,7.328329767659414,8.20574542371965,7.386698438553072,8.893440028362543,8.545038336587693,8.307287869656333,7.703338897686294,7.884267011640354,7.281525202668257,8.246212088929376,7.873135885316948,8.093001540606863,7.510084122032764,8.13121859159203,8.914468198510027,7.688525824870981,7.439058942633569,8.004406054833026,8.076055640200888,8.705179329272914,8.203949293949758,7.191478122997136,8.449184811540722,8.345670141999676,6.847167456478895,8.394524155087645,7.74519950748181,7.960687615391994,8.592458581330128,8.032079256056319,7.900535780135422,8.957914063479187,7.71812777205061,7.536916981501362,7.37837511508876],\"type\":\"histogram\",\"xaxis\":\"x3\",\"yaxis\":\"y3\",\"xbins\":{\"end\":10,\"start\":0}},{\"marker\":{\"line\":{\"color\":\"black\",\"width\":1}},\"name\":\"D\",\"nbinsx\":15,\"x\":[7.04175399969459,5.705006595664659,6.6650053303672925,5.620510309196487,4.7775647944211395,6.011549449618558,5.608132646743113,5.587909008540985,5.890400838953496,6.525651054931437,5.546362138392921,5.893609087750855,5.362757062343391,5.601000576098601,5.944537182943459,6.353327254581226,5.799075820533704,6.042040847023813,5.8907704127406335,6.159364700342728,5.880280960018386,6.301591040009124,7.000970360279042,5.589771508581522,6.737992829040582,6.0409978964234865,5.743849070196679,5.988164498542658,5.99834017604809,5.059206952549166,5.700213482064405,5.685118650224399,6.2391101437263465,5.531097409616368,6.836800849904112,7.227099863814679,5.664067539445343,5.6815631863982325,5.449110976362329,6.167345611865502,5.7588183297049085,6.306354738265323,5.974756482937437,6.071853723055174,5.5944455695727,5.894265787663607,6.292450585654164,5.812143458097435,5.393427058096036,4.995802700165432,5.556946692038834,6.836480771182167,5.772087911534118,5.913693473099129,4.984332271006748,6.1604885734059724,6.312537188910845,6.516376680834782,6.267379298511601,6.208579305317822,6.059505138574084,5.162658382105889,5.434644496634957,5.426380264700316,5.928051424670395,6.843923762578445,6.071134731503897,6.2165808762687025,6.104587359630161,6.570871820212117,6.186670280033383,5.457603435384899,5.91785613476835,5.2832746600354,6.956621039774639,6.167985936554509,5.215214749536682,6.577509764692486,6.645218352964347,6.356816187887599,6.268750313767149,5.129766474194419,5.731036062570647,6.056911762669397,6.742362264262974,6.9180056582336205,4.736264126786114,5.999814223242875,5.798104070066141,5.374429082839034,5.353382333145857,6.558570875057516,6.281191809208115,6.484369202995617,5.874002245855699,5.8589595551950815,5.941459633731595,5.837707761880861,6.333797653797875,6.051125241522556,7.18075908666159,5.805198565801881,6.596262110676266,6.523736582844656,5.465098284246055,6.421915060191679,6.240069490818624,6.50532948536914,6.597942297304686,6.1118875153536845,5.7683186311024635,6.204085466718759,6.312575799932906,5.5925127934582,6.29771083718229,6.266343611414642,6.110010046196702,6.2238329103600885,5.32619263672924,6.565771584846343,6.743169942469163,5.476490745920419,6.127103713056381,6.195530543845762,6.467842941977786,5.778202171914269,6.362338066816955,5.884282201858702,5.967548100716661,6.5048763096482025,6.682095145389671,5.914495365470361,5.92810474722248,5.182245614272669,6.299073729849578,5.792373479092336,5.232140717214129,5.409935700995614,6.326599704755902,6.239818970561659,6.538501660425027,6.585144372137185,6.423383879497708,5.688193618051934,6.061027017932078,6.97590330106847,6.299526697453277,5.125170009050509,6.720408495653518,5.6632310162827135,5.382372686021426,6.682194385769621,6.935878032685167,6.174214457519975,6.3426426645769105,6.751724817480095,5.291933793574059,5.838355779282568,5.820890262038044,5.393168873098072,6.666268331754549,6.801278042411809,6.2402568040167194,7.299062897717722,5.904666648832241,6.1577792216536045,6.513020979202694,5.388417059441665,6.173222053396031,5.218756710317045,6.3037695273157865,6.214492952913583,6.014316794211007,5.290519054234266,5.980335330996794,5.598160207760752,5.118037221166168,6.28884876884009,5.795753587746128,5.7391197742304225,5.6645023833806745,5.289155379615761,5.424304732349233,5.7385283869796115,6.368605242036661,5.15898592228954,5.8047784148808805,5.182526023822425,6.089600044123817,5.856009714395814,5.471468781683096,5.5476785381892855,5.637282807712649,5.491696474066304,7.0219418767718444,6.132212911107662,6.285325662832427,5.827180675449833,5.460355938884095,5.80114509475074,6.605966430082295,5.4338855840150835,5.949103592193699,6.029021567468976,6.740884618341452,6.325212759269034,5.6082589829101215,6.261593768993213,6.1376484117950625,6.0382327376858695,5.46812386305535,5.962032924628129,5.654533625865327,5.946698361764037,5.2827078919362975,4.935218673558258,5.513441765813905,6.325105457981618,5.629446818241452,6.898905268326468,6.3158672354538865,5.5254885379379965,5.538789152678928,5.219841154982011,7.322876257219098,6.348348427950921,7.0936514444369125,5.508041714210503,5.383919477469393,5.994727593349017,6.492502258656811,6.384840766760913,6.357808536952301,5.841495730722001,6.118264498301582,6.350407331142994,5.644927676318347,6.253384222745873,5.113183210144431,5.501109523708644,5.670550103090568,6.840240292871562,6.918892675422126,5.447991751489286,5.729991558373846,5.553796269918969,6.987189721327489,6.874589217427185,5.803389055396322,6.557480953805508,5.534781976750468,6.0284433615761825,6.699776679133727,6.34339161191231,5.4935360890760565,5.580938208819925,6.337484981836781,6.251879951070615,6.266977916857809,5.574782820005185,6.162916402140992,5.914214690125002,5.891457946433561,6.487296415181521,5.240219257008974,5.718182576004001,6.080673551885909,5.981988424814559,6.21440443491423,5.74148903129039,6.291127034021387,6.492668823199318,5.151839996950247,6.788761668680614,5.323641886788864,5.975253714680329,5.932436785263223,6.077374364018522,5.448537626724359,5.660556259543527,5.885054562867553,4.864242451980547,5.642400650809985,6.946601213258549,6.629806180824371,5.947767623160587,5.252519387238944,6.595959373987528,5.657546406744816,5.623018497439564,5.701506992789441,7.065216722898227,6.0063676240254855,6.604683873987062,5.233631706969473,5.467400974398656,5.459207384099472,5.441418240753791,5.6412124087048685,6.482360413985507,6.395402387788138,4.7885950643343955,6.119442893698675,6.519793195518218,6.249524961283281,6.075681259646087,6.33898260565472,5.981638019431032,4.9508420800066135,6.75091873829873,6.198758840852101,5.941535996705219,5.15819374869674,5.93099059211625,5.611304633524984,6.9966018993443235,5.739838124614028,6.391854552580505,5.807178647509583,6.402400618272619,5.3270072936252735,6.065125665541546,6.2860769129648455,6.29761379961449,6.4314454636967255,5.970290244723776,6.74771844716175,5.797164867789623,6.490338161074082,5.398643379787719,5.876364207326206,5.946163345311683,5.524910475587179,5.58515179035134,5.9018141705551805,5.667042781876949,6.897717857174323,6.0203030856569635,6.542637731004771,6.0298981611320865,6.049950738062186,5.3619984177329645,5.80301049816116,5.430099234655488,5.1619362899128625,5.71378416631763,6.186595964166592,5.916785885987976,5.751022769952235,6.045793077102562,6.004626779260303,6.303821588872647,5.805406812206752,5.499810055530333,6.505266951688183,6.12348345776981,6.064376472449722,6.061270476455082,5.473152268709178,5.1837836022543335,5.783615053343066,5.624130793216479,5.588974601258048,6.458693129402101,7.030874856188592,5.434384195171617,6.242926367881237,5.857087993522426,6.016797536721716,6.397077865169514,5.7841634935350195,5.051782837419308,6.144550994483399,5.625196373565047,6.184131969305223,6.46150718449233,5.390843740157916,6.867707435399062,6.640078018976842,5.939920352377947,6.281557267989762,5.702575401862393,5.549111050328694,6.322395697255908,6.311107694116031,6.1828132630256825,5.710977009147424,5.2755364804097855,5.856077183496027,6.3552171488560925,6.715806924530662,6.273004321701417,5.808975449158379,5.811159657909543,7.167106232028032,6.019810328424011,5.6562495592225615,5.379975660512352,6.644373441222621,5.568209407484504,5.375520103761209,6.640181529108134,6.04897468427482,5.87400491620834,5.861796244952885,5.891074967947163,5.983857213438567,5.923690103652259,6.322755678872438,6.92646108081334,7.013114934375597,5.145862255548748,5.804141563746777,5.953272490867941,5.428762487307873,5.535319577733304,6.116640930285086,6.457387515420612,6.131111963931341,5.366333932829663,5.2212567136148795,6.57060923836945,5.781957005569269,5.739404184480377,6.948044371065906,6.247046183580521,5.817287856988092,6.394362771607464,6.687928100868622,6.056555619559374,6.253448442763314,6.186336718653416,5.393629687065492,6.053898685129306,6.390941264321926,6.359113331925356,5.946606076924344,5.655152105779619,5.619768455087055,5.9782080706727365,5.492919271589853,6.653172995185302,6.433527201315889,6.618296944642877,6.855193981816407,5.600190389277983,5.5893075685655695,6.099181340918656,6.212143949042668,5.151335967582677,5.272798585884705,6.267592987462216,5.691538664650205,6.719309538074275,5.920186328152016,5.906382058010014,5.2969232492397325,5.9644807283719325,5.8270954143954405,6.715253528729068,6.5202325533807155,6.108280126032189,5.5789121773766155,6.223493623239952,6.921941360984988,5.305323313813637,5.529090923221828,6.096545672313674,5.523280435245118,5.4215349066219805,5.844735745721114,6.165282530246592,6.426466890532717,5.944087356622607,6.187378487688638,6.183865157037054,5.420926461590649,7.025192349297626,5.994879499594099,5.7349652740897215,7.1296472844403525,6.479260671608763,5.932455453147341,5.605812600842929,6.117936105774301,6.944689721098394,5.743856552691742,5.517552033838447,6.015043065700176,4.973849839632322,5.3061912855887075,6.2745694529531155,6.92968847665231,6.311408686659778,6.278144618010798,6.157009597575443,5.196604437937109,5.04114695329231,6.115167410159583,6.051955793815208,6.237213020511829,6.415680998621342,5.947428694806464,5.726954566121364,6.407456549760905,5.932788279638211,5.529787894956966,5.79845702598523,6.3253767645167285,6.255616082715852,6.316766618778021,6.5400547471038815,5.440871970567465,5.716208439831524,5.476427521834163,6.918355947451941,6.470050003391431,5.476857826165053,5.814385003831855,6.3837357834961,5.782236312033458,5.296460805957297,5.836351731537569,6.314048704628175,5.697838569337091,5.2336071697596775,5.284852977305248,5.390460325819513,5.968897728843693,6.375901534378375,5.631627454153026,6.307949138791167,7.206671421682015,6.083620435303998,6.109722376798328,6.153844642476679,5.0565731968432726,6.090686934361366,5.736015189671624,6.55458238374083,5.468477758122512,5.748560441526734,5.6507892158947755,5.670143212138674,5.911755969247807,4.964724586478224,5.607669161927494,6.25140435695228,5.908694440342034,6.92778926058951,5.597285720928603,5.856261444144356,4.997161869754247,5.482704496142008,5.509967997763429,5.554629684470064,6.389333222852089,6.062968761129337,6.06009647031656,6.768900678204399,5.435755404402761,5.289247185531704,5.37936033222037,5.245948367665534,6.40761525962186,5.861370070032532,6.225050532208263,5.779315057672929,5.219055258648751,6.617057058165545,6.209548747439964,5.322776826234304,6.463809588334517,6.284477999484053,5.48935367615954,6.450447656992686,6.028883272630216,6.18595831788802,6.515731109183174,5.233685224492594,5.818875174628327,6.350242281989429,6.613424677275448,6.03094239352548,5.944219333251927,6.22326085222467,5.517366728871898,5.6894917059709,6.181069118288271,5.465862361200881,5.760025932371502,6.597497222940077,6.472990750069945,6.233970371892618,5.043045899350663,4.654379861586107,6.562135264862788,4.648192039830396,6.407613071644746,5.69467768342991,5.9971724808471185,5.891882721663599,5.855635662209897,6.453184046929337,5.92029350933514,5.644248811185118,6.615358421866103,6.005227414566802,5.736022736713974,5.842747330054318,5.482401278630815,6.109784549301877,5.994731100108832,6.572963294982804,6.005882881522223,5.321845555003365,6.341221567422404,5.229402476462478,4.759172519725027,6.90259715839346,6.046527812448092,5.556440504986579,6.501512516219222,6.192249266494808,5.882091742516339,5.315459369104244,5.299749874408885,6.275976508162346,6.016477357625856,6.073539220206346,5.659477448287142,5.571649683871841,6.087909325185893,6.220318256077396,7.25017179827085,6.965794154164015,5.9974783208335545,6.519476543981952,5.278046496456973,5.531225589047402,4.869062966003772,6.270669173385459,5.959257632022894,5.395694703791989,7.494799032228429,5.782851129667185,6.950792200794483,5.4290535216426745,6.179050500945385,5.9385018071970475,5.333635735497893,6.441775205526253,5.2635907865998215,6.074617638845531,5.538792022824146,6.041392109937642,6.338856456076102,5.963944270301944,6.422809314338667,6.57191398101758,6.679252093401353,6.453011863119167,5.875005141809344,6.169670041304701,6.5564955618743594,5.631343945458498,5.788057283342843,5.320982821107467,4.463647237047278,5.752867626409181,5.694595706070426,5.710538874203452,5.094173907157324,6.235254162483534,5.9682556794778,6.161702018120024,5.873870292857998,6.538111682224821,6.274543175340583,6.581665157074311,5.424402895068061,6.441056201715933,5.957933342461267,6.136199303599902,6.249150670077658,6.6654844983089845,5.081218041526218,6.451357779785429,6.632044683395433,6.172359761723679,6.262418992947091,6.220664381438052,5.920895199060058,5.345069017268623,6.080748399752874,5.767780241961034,5.649635682035847,6.148641654005244,6.572042607795241,5.964624192039412,5.734140034218134,6.077942869773128,6.277679207058285,5.496955631396912,5.381141996357514,6.166837760146964,6.599661973048327,5.896579705404687,5.828969439315193,6.447737716455695,6.907463661429328,6.06030416663089,6.31118742528869,6.596861393815033,6.519949981688382,6.827379296395201,6.164470633620774,6.118333931725003,5.93998349837321,5.45672093460658,5.7648062706681085,6.2648952503166635,5.84075696457348,5.966318120464201,6.782754642712506,5.295275399774483,5.7021289286953305,5.962798677781874,7.642475446781954,5.122708304942403,5.509038637071994,5.941018305932126,4.852092848747301,4.933971171103391,5.411456892144302,6.1758784764819055,5.136664564054152,5.811360191772972,5.992186523003899,6.017321499436366,6.168732795462908,6.171008913268353,5.733966576975433,6.441042401470885,5.373597005281226,6.162481747992132,6.646734435947431,5.586613036769755,5.411277049296093,6.358399717483838,5.6428069243550985,6.224908709061061,5.515665645886455,6.625376401417828,5.430220639285112,6.096933140366208,4.964431191329189,6.895929842769035,6.160538512009939,5.975454408356299,6.074594127851822,6.670425434359932,6.092736957535359,5.323355315486666,5.007256043919025,6.166986128351478,6.226650927627663,5.9832647999231705,6.335203883409211,6.441835043358513,6.07137942613552,5.998776777699881,6.178644085824958,5.778722140959471,4.908004353749056,5.904671330532072,5.942242130368658,5.463189090990042,6.0428407811880795,6.74285484210937,5.472078874169125,5.391969548422361,6.491765555953237,5.9727897740688265,5.377803307606252,6.13482841494886,5.779472005729678,6.4005480659165075,6.5882443050307025,7.064436957615726,6.520371370944183,6.583150955801175,6.172210003685615,6.08297954424169,6.552516194429662,6.360290406690092,6.500806896792064,6.156687668642291,5.659866017643157,6.244116918568083,6.588256002371266,6.179174242193294,6.693847781571899,6.224894152109848,5.783478309492769,5.460282298580827,6.386019585444415,6.085820488739305,6.117303231087632,5.4417948722481215,5.811300649052131,6.275044348496052,5.711963977459706,6.222065826551984,4.758145878868289,6.431847728150176,5.650948551540466,5.785734418931575,5.914458232863997,5.515192692632002,6.115580425641112,5.6622226214458555,6.372011506234696,6.296924012750898,6.609090555727273,6.841739692553064,6.146273377580822,4.369141799048489,5.519094255367641,5.985933862429613,5.266504597236542,7.235416416758934,5.461004942272069,5.728663030921209,5.372815432917431,4.751638467585735,5.124534487526527,6.219192492175039,5.597448248561879,6.1976815735977695,4.955462049947708,5.039130244871511,6.199697768601878,6.647143958178451,5.930834936300546,5.008924399974977,6.415938712275594,6.38423449763341,6.80043506993211,6.726399953015914,6.907407656298644,5.556980881174985,5.686627202945092,5.832890851094332,5.852436727774273,6.242007734892233,5.30959127230174,6.464725241860601,5.815921382341355,5.5709959597784255,5.8853197078104715,6.168044378948091,6.203569166943707,5.681253841709361,6.142893342796384,6.007981824623955,6.128254625389598,5.610250270606544,6.111924043998617,6.321490354801519,6.878720999020499,5.542966951438362,6.324706524486262,7.145022711318157,5.873575189078305,5.69212346059116,6.6707831989232,7.022449554926533,5.259816513375108,6.737453592741204,5.514166777466457,6.516178036982814,5.918174298648997,6.311616464896126,5.551033820648671,5.026821088465029,6.364662477896659,6.918430457030691,6.282442012973048,6.461377287680511,5.681764552120737,6.046343017951718,5.716287794414291,5.865980458368448,5.896784257328542,6.436805781811654,5.951557947903746,5.502969736506746,5.321460966202946,5.626873382213193,5.334590538686675,5.743857737205536,6.58526030160275,5.940476187681863,7.129466179291411,5.387971540750273,6.152810016229883,5.302774946049711,5.301581661449513,5.582713496349372,6.419749005793833,5.742980747032227,6.0939322937901235,5.546897111896077,5.766082704501641,5.618672950184748,6.254256167194999,5.801818047112644,5.492690470593887,6.1998298956063955,5.61801188978794,5.231218563306085,6.475440820456056,6.857617704224437,5.5803983187395945,5.311733964039307,6.163208351806524,6.6863680002471435,5.807819831136409,6.046922906154381,5.830293727549115,5.785561854418598,5.939319624504305,6.312545326305657,5.966436568768191,6.982258586956283,5.816277146213208,6.308767625829988,6.0264308670136,6.154378709546861,5.618932682637911,6.041938754959738,5.421329234472293,6.176305432797916,5.2998856273632455,6.581260448842704,5.321491613745559,6.315250386139746,4.645161131638549,5.9493642792695,6.3493324597596015,6.080353432074024,5.7105175508875785,6.307697194447618,5.912005384824381,6.254163386468685,5.4623470693045615,5.880560649810651,5.366196110694855,5.591891273076062,6.35244724465974,5.345543310027371,6.066478713032892,6.252311897050151,5.517406788764113,5.769977754234401,5.748540184384148,5.540299092562695,5.671600168876037,6.2725173717492675,5.569734777548624,5.931270652232672,6.467612748448745,6.18384663293142,5.807134575236097,6.065484933672988,6.080306814754499,5.310457395861954,5.771569116890805,5.866782361458545,5.337053353393652,5.622873202821631,6.236055236050645,5.815309189805842,6.078421674129892,5.83252580029654,6.22803910488158,6.271571306025503,5.981733664846289,4.961753270422192,5.038378587452479,6.267053135130932,5.460629376764171,7.373295995181781,5.8771173159326455,6.54139412378266,6.299874344896053,6.009972665065068,5.967286828910664,5.806415873009429,6.385743030073616,5.4243963620220175,6.289611710438754,6.621206671750383,6.442363855975735,6.146463445770457,6.397483402044875,5.982172015588534,5.068505347054751,5.6520273778001755,5.418426203006383,5.874557090901834,6.426647906949347,5.566620730059247,6.3054196208068225,6.179543476816407,5.8970425822340795,5.687128424239138,5.97958364572444,5.58341271017264,6.806443453436435,5.485942181202093,5.288589352962955,6.006220571661741,5.342756256780682,6.014802399050671,5.626168112676678,5.803837664443816,6.001618875639046,4.850629894250318,5.207521323398745,6.099083013365171,5.826452383895577,5.91871016110248,6.565421850061975,5.670443979932131,5.9252001234869125,5.290022713319599,5.617481871097973,6.809145798426668,6.053503166241678,5.200699759928394,5.876175287602545,5.669320840047341,6.91795861849242,6.709238086196981,6.249148665594113,5.495020735366965,4.583924705277199,6.498827153704123,5.743882698051394,6.437401784331914,6.268909128533096,5.614033773876176,4.720976391427814,6.961547826361435,6.425010633768966,6.39319952627467,6.235558615216042,6.490319274573042,5.852082915370925,6.601174646023559,5.59687533625071,5.727288355962183,5.990241579176278,6.077211310957406,5.6296302697874605,6.554474021171066,6.804391601097575,5.803172021958882,5.363530871992661,6.851593224618538,5.495890317057545,5.883578847727535,5.658773104484288,5.759993146157955,6.056771553140246,5.512438293444907,6.060188127109385,5.368290067164343,5.537840895739564,7.072815444494936,6.720343010586586,6.389227922337165,6.053454455967464,5.598682614755937,6.907207801888195,6.114722045505076,6.50916962639557,6.319435196572407,5.889587417452807,6.271538977771513,5.399367664771529,6.233270693324939,6.255453812064236,6.412615955684999,6.44725219919395,5.683869779782837,5.382804879381891,6.817539368618531,6.358360495114958,6.069877030743788,6.259219474066139,5.795764320805817,5.914555895936376,5.401350617069872,5.5519590616725205,4.872784572014208,5.853094886359253,6.361682580888601,5.724327327776147,5.942575351992088,5.696332282995402,6.2744912194361175,5.764497777654534,5.650788849142241,6.9348289730967885,6.063757718860461,5.949112108077553,6.4896143704758,5.439536399021971,5.6611228436672585,6.381242615621857,6.4409642488362095,5.1381296752883685,5.245305310806625,6.191032530720639,6.499884259677185,5.988304536696479,5.901964386734638,6.022234821586644,5.710653729631705,6.06060517533698,6.0264587723954905,5.7313607486841045,6.01219090540485,5.18059852408579,6.695369958960697,5.57217847516097,5.802947047470691,5.363539206162596,6.542504047098071,6.215581582803908,6.237834735904255,5.085933687210233,5.892306318875802,5.328459199862303,5.484119178937297,5.659852100769633,5.683312812107875,5.953751055078881,6.241768344749409,6.158548663878058,6.546046873310688,5.549408988544892,5.185338515530768,5.419101434564953,6.826926232184165,6.986306802374516,6.117939230205512,5.70925659746815,6.681420554772331,7.233899272271746,5.57873243550439,5.933709189508565,6.965660790151194,6.722061511586989,5.905993651546773,5.547912268934067,6.110748116896264,5.5076916418454624,5.265930075087696,5.581442869419375,6.080301791835334,5.859553754950494,6.131527804989201,6.671667805227476,6.440931619544701,5.924332051599152,6.9036628668032645,6.38966990772568,5.8764212289405355,6.291029153654314,5.798680309024046,6.286732933286976,5.497978928290247,6.140697582087852,5.856775252164189,4.729270338888877,5.467396966481764,6.009722052637249,5.931512763432872,5.831008630204734,6.095327605393445,6.015599947004481,5.681985892897092,5.655296042682847,6.114478369923774,6.006116485616506,5.340767436668428,5.6561540919872595,6.25593578264731,6.408748629284546,5.745229974376081,6.644788074767979,6.170867743529771,5.621104930186823,5.90019848790943,5.218467268294361,6.620927963165982,6.235318755943405,6.000522951138144,6.410959062177989,5.567218975501805,6.4501865321471055,6.379913483048084,6.256483709439537,5.508855780070816,5.448810151490932,6.371079135212804,5.54640470311129,7.0929515461687105,5.713585829429862,6.7669080876743015,6.160443199321872,6.248746545510402,6.341692266826096,5.0580230845198075,5.070291371449698,6.49397339547598,6.4503353310245615,6.126981763135173,6.43624094017715,6.5298126863893025,6.157889599353713,5.441100405527436,6.654498724365669,6.256907430139141,5.42211155160296,6.300347868089898,5.770975997052128,5.171808399878374,6.342423887328135,5.692702507481193,6.027696858297785,5.608109353986296,6.628328882126895,5.45042715188741,5.775920030405614,6.048552065703919,5.917483903612748,5.267333675272441,5.9355915033170605,7.382459822533747,6.540469939859008,6.184800182675934,6.339470533876533,6.176326608710051,6.209641256697868,6.3972207192462855,6.203409223670405,6.78798237915212,6.126751821975679,6.065735329346265,5.64982353682493,5.692863366516417,5.586886392381251,6.151949479146088,6.427550797088359,5.730054075388157,6.63009319187141,6.625849486399094,6.485007330431881,6.523567069660824,5.6902804634550606,6.6567598722771155,5.880281379844009,6.6302969016743365,5.299559833648211,6.108467864860904,6.035320438648028,6.456228305685241,6.094148488276084,6.098098424958425,6.111715656659421,5.494923553788934,5.5095191063339,6.323079083441396,5.882851239602572,6.025026008602696,6.3378366242215405,6.159994099330818,6.4716725199268526,6.93508718892448,5.774789397582927,6.618769047884037,5.084924138478384,6.448465511612518,6.506392049055291,5.802528282972331,4.940414496633309,5.923370309677882,5.541361618687846,6.06777451148995,6.421988043857489,6.000411213268833,5.737107839043917,6.882482707082828,5.3986789326589,6.534650825676606,6.5249502356815325,6.031428577093133,5.674006389266131,5.369596444179367,5.74297593801328,6.711625229183002,6.34172172395878,6.583751097983553,6.334321382907354,5.771488528612644,6.155224369177578,6.344980342064726,6.017726885940087,6.2963103068987225,6.317289574882997,5.7295503249919175,6.3948583070226785,6.292712665224979,5.646355821330191,6.160755482083215,5.391808224161518,6.357743219974712,5.648624883878005,6.2926348122708635,5.501680050581941,6.143439446363861,5.990360582399452,5.824137292575777,5.602407677978083,5.648124881397041,5.443318831576566,5.70053208526029,5.3565678009400655,6.072458830638202,6.290179277791038,5.943209100019287,5.97185719146875,5.7416816971405655,6.092250540220357,5.645591762654364,6.215775493185623,5.7888342659009515,5.544787566778425,6.877541725384565,6.213168327883209,5.725993731565873,6.504784492067743,6.7183269629370095,5.792140710180799,5.760942697385464,5.342429436798099,5.7806331753259625,6.121915367024354,5.541572406775832,5.891505356581361,6.169146126916316,6.016873705337659,6.870026004649299,5.626669199374123,5.8597845762294964,6.090363109026832,5.800757462793335,6.374208185440592,6.2937895801712616,5.6939549216008185,4.896813959000714,6.556130942450024,6.152348022804756,6.380670240794535,5.939902946255855,6.117825261414179,5.847880953444538,5.537581343271496,5.9565297771946355,5.618572387145883,5.743262605782695,6.3306080547070245,5.947959168660973,6.038285941176615,5.654302691010938,5.956609967800992,5.832811695464373,6.203355844208865,5.36573492113663,6.772360529551672,6.312454397907966,6.560889041623979,5.94330396636482,5.562840434318019,5.813201035653788,6.685294838996728,6.263340046434262,6.405027216505428,5.879399151883001,5.579887662736048,5.911272704185453,5.79829588079489,5.884332657964964,6.251704313856766,5.8350479505913775,5.710207389056972,6.23648016515149,6.224853018842966,6.3681959802675845,5.589993464756244,5.442381354976529,6.256864601993507,6.686290065265513,5.833853907745095,6.382419310597909,5.2481488013861215,6.467792577106339,6.045991754540123,6.985818620588838,5.788862474439693,5.779086511716514,6.316556024065723,6.573925346068324,6.079163697095338,5.889551418599921,5.7067749971868444,5.612990567922978,4.899625157207744,5.926232520780991,6.185535571541038,6.491325896176373,6.317237498917337,6.9319230791118756,6.065688323239983,6.051339572766839,6.770017980599109,5.440831872373607,5.8042335177298225,6.212543841549261,6.590838159189229,5.993175769026871,6.021526041628627,6.363131197180738,6.19349386679219,6.3131926165085295,5.751774983819544,6.302978065580374,5.452227988268122,5.974870115909555,5.519126209746982,6.716357849424724,6.3597780068325696,6.144625976496447,5.193505394613562,6.3066812555793295,5.69276482257718,6.591185398521235,5.966271216455804,6.200469490375422,6.780895132350738,5.137929992353152,6.499397186923542,6.120726291821984,5.636584301310915,5.349429638236414,5.686214025031737,5.869875008693008,5.5158230740945475,6.047727673600449,6.349280717345956,5.710432770414838,5.4406607693603455,5.587584985105796,5.9420196605894215,5.880496874102484,5.531541418217773,5.883040464274602,6.385258867207448,5.368470736889444,6.304676664676435,6.683683281681656,5.339797200283246,6.30997585778227,5.329760687769264,5.953559156357297,5.543098848031453,5.970308395702325,5.669437682796056,5.829587816829945,5.201205870460525,5.776804809199114,6.658633320436532,6.079569825663818,5.753882535679345,6.6553895372568865],\"type\":\"histogram\",\"xaxis\":\"x4\",\"yaxis\":\"y4\",\"xbins\":{\"end\":10,\"start\":0}}],                        {\"template\":{\"data\":{\"histogram2dcontour\":[{\"type\":\"histogram2dcontour\",\"colorbar\":{\"outlinewidth\":0,\"ticks\":\"\"},\"colorscale\":[[0.0,\"#0d0887\"],[0.1111111111111111,\"#46039f\"],[0.2222222222222222,\"#7201a8\"],[0.3333333333333333,\"#9c179e\"],[0.4444444444444444,\"#bd3786\"],[0.5555555555555556,\"#d8576b\"],[0.6666666666666666,\"#ed7953\"],[0.7777777777777778,\"#fb9f3a\"],[0.8888888888888888,\"#fdca26\"],[1.0,\"#f0f921\"]]}],\"choropleth\":[{\"type\":\"choropleth\",\"colorbar\":{\"outlinewidth\":0,\"ticks\":\"\"}}],\"histogram2d\":[{\"type\":\"histogram2d\",\"colorbar\":{\"outlinewidth\":0,\"ticks\":\"\"},\"colorscale\":[[0.0,\"#0d0887\"],[0.1111111111111111,\"#46039f\"],[0.2222222222222222,\"#7201a8\"],[0.3333333333333333,\"#9c179e\"],[0.4444444444444444,\"#bd3786\"],[0.5555555555555556,\"#d8576b\"],[0.6666666666666666,\"#ed7953\"],[0.7777777777777778,\"#fb9f3a\"],[0.8888888888888888,\"#fdca26\"],[1.0,\"#f0f921\"]]}],\"heatmap\":[{\"type\":\"heatmap\",\"colorbar\":{\"outlinewidth\":0,\"ticks\":\"\"},\"colorscale\":[[0.0,\"#0d0887\"],[0.1111111111111111,\"#46039f\"],[0.2222222222222222,\"#7201a8\"],[0.3333333333333333,\"#9c179e\"],[0.4444444444444444,\"#bd3786\"],[0.5555555555555556,\"#d8576b\"],[0.6666666666666666,\"#ed7953\"],[0.7777777777777778,\"#fb9f3a\"],[0.8888888888888888,\"#fdca26\"],[1.0,\"#f0f921\"]]}],\"heatmapgl\":[{\"type\":\"heatmapgl\",\"colorbar\":{\"outlinewidth\":0,\"ticks\":\"\"},\"colorscale\":[[0.0,\"#0d0887\"],[0.1111111111111111,\"#46039f\"],[0.2222222222222222,\"#7201a8\"],[0.3333333333333333,\"#9c179e\"],[0.4444444444444444,\"#bd3786\"],[0.5555555555555556,\"#d8576b\"],[0.6666666666666666,\"#ed7953\"],[0.7777777777777778,\"#fb9f3a\"],[0.8888888888888888,\"#fdca26\"],[1.0,\"#f0f921\"]]}],\"contourcarpet\":[{\"type\":\"contourcarpet\",\"colorbar\":{\"outlinewidth\":0,\"ticks\":\"\"}}],\"contour\":[{\"type\":\"contour\",\"colorbar\":{\"outlinewidth\":0,\"ticks\":\"\"},\"colorscale\":[[0.0,\"#0d0887\"],[0.1111111111111111,\"#46039f\"],[0.2222222222222222,\"#7201a8\"],[0.3333333333333333,\"#9c179e\"],[0.4444444444444444,\"#bd3786\"],[0.5555555555555556,\"#d8576b\"],[0.6666666666666666,\"#ed7953\"],[0.7777777777777778,\"#fb9f3a\"],[0.8888888888888888,\"#fdca26\"],[1.0,\"#f0f921\"]]}],\"surface\":[{\"type\":\"surface\",\"colorbar\":{\"outlinewidth\":0,\"ticks\":\"\"},\"colorscale\":[[0.0,\"#0d0887\"],[0.1111111111111111,\"#46039f\"],[0.2222222222222222,\"#7201a8\"],[0.3333333333333333,\"#9c179e\"],[0.4444444444444444,\"#bd3786\"],[0.5555555555555556,\"#d8576b\"],[0.6666666666666666,\"#ed7953\"],[0.7777777777777778,\"#fb9f3a\"],[0.8888888888888888,\"#fdca26\"],[1.0,\"#f0f921\"]]}],\"mesh3d\":[{\"type\":\"mesh3d\",\"colorbar\":{\"outlinewidth\":0,\"ticks\":\"\"}}],\"scatter\":[{\"fillpattern\":{\"fillmode\":\"overlay\",\"size\":10,\"solidity\":0.2},\"type\":\"scatter\"}],\"parcoords\":[{\"type\":\"parcoords\",\"line\":{\"colorbar\":{\"outlinewidth\":0,\"ticks\":\"\"}}}],\"scatterpolargl\":[{\"type\":\"scatterpolargl\",\"marker\":{\"colorbar\":{\"outlinewidth\":0,\"ticks\":\"\"}}}],\"bar\":[{\"error_x\":{\"color\":\"#2a3f5f\"},\"error_y\":{\"color\":\"#2a3f5f\"},\"marker\":{\"line\":{\"color\":\"#E5ECF6\",\"width\":0.5},\"pattern\":{\"fillmode\":\"overlay\",\"size\":10,\"solidity\":0.2}},\"type\":\"bar\"}],\"scattergeo\":[{\"type\":\"scattergeo\",\"marker\":{\"colorbar\":{\"outlinewidth\":0,\"ticks\":\"\"}}}],\"scatterpolar\":[{\"type\":\"scatterpolar\",\"marker\":{\"colorbar\":{\"outlinewidth\":0,\"ticks\":\"\"}}}],\"histogram\":[{\"marker\":{\"pattern\":{\"fillmode\":\"overlay\",\"size\":10,\"solidity\":0.2}},\"type\":\"histogram\"}],\"scattergl\":[{\"type\":\"scattergl\",\"marker\":{\"colorbar\":{\"outlinewidth\":0,\"ticks\":\"\"}}}],\"scatter3d\":[{\"type\":\"scatter3d\",\"line\":{\"colorbar\":{\"outlinewidth\":0,\"ticks\":\"\"}},\"marker\":{\"colorbar\":{\"outlinewidth\":0,\"ticks\":\"\"}}}],\"scattermapbox\":[{\"type\":\"scattermapbox\",\"marker\":{\"colorbar\":{\"outlinewidth\":0,\"ticks\":\"\"}}}],\"scatterternary\":[{\"type\":\"scatterternary\",\"marker\":{\"colorbar\":{\"outlinewidth\":0,\"ticks\":\"\"}}}],\"scattercarpet\":[{\"type\":\"scattercarpet\",\"marker\":{\"colorbar\":{\"outlinewidth\":0,\"ticks\":\"\"}}}],\"carpet\":[{\"aaxis\":{\"endlinecolor\":\"#2a3f5f\",\"gridcolor\":\"white\",\"linecolor\":\"white\",\"minorgridcolor\":\"white\",\"startlinecolor\":\"#2a3f5f\"},\"baxis\":{\"endlinecolor\":\"#2a3f5f\",\"gridcolor\":\"white\",\"linecolor\":\"white\",\"minorgridcolor\":\"white\",\"startlinecolor\":\"#2a3f5f\"},\"type\":\"carpet\"}],\"table\":[{\"cells\":{\"fill\":{\"color\":\"#EBF0F8\"},\"line\":{\"color\":\"white\"}},\"header\":{\"fill\":{\"color\":\"#C8D4E3\"},\"line\":{\"color\":\"white\"}},\"type\":\"table\"}],\"barpolar\":[{\"marker\":{\"line\":{\"color\":\"#E5ECF6\",\"width\":0.5},\"pattern\":{\"fillmode\":\"overlay\",\"size\":10,\"solidity\":0.2}},\"type\":\"barpolar\"}],\"pie\":[{\"automargin\":true,\"type\":\"pie\"}]},\"layout\":{\"autotypenumbers\":\"strict\",\"colorway\":[\"#636efa\",\"#EF553B\",\"#00cc96\",\"#ab63fa\",\"#FFA15A\",\"#19d3f3\",\"#FF6692\",\"#B6E880\",\"#FF97FF\",\"#FECB52\"],\"font\":{\"color\":\"#2a3f5f\"},\"hovermode\":\"closest\",\"hoverlabel\":{\"align\":\"left\"},\"paper_bgcolor\":\"white\",\"plot_bgcolor\":\"#E5ECF6\",\"polar\":{\"bgcolor\":\"#E5ECF6\",\"angularaxis\":{\"gridcolor\":\"white\",\"linecolor\":\"white\",\"ticks\":\"\"},\"radialaxis\":{\"gridcolor\":\"white\",\"linecolor\":\"white\",\"ticks\":\"\"}},\"ternary\":{\"bgcolor\":\"#E5ECF6\",\"aaxis\":{\"gridcolor\":\"white\",\"linecolor\":\"white\",\"ticks\":\"\"},\"baxis\":{\"gridcolor\":\"white\",\"linecolor\":\"white\",\"ticks\":\"\"},\"caxis\":{\"gridcolor\":\"white\",\"linecolor\":\"white\",\"ticks\":\"\"}},\"coloraxis\":{\"colorbar\":{\"outlinewidth\":0,\"ticks\":\"\"}},\"colorscale\":{\"sequential\":[[0.0,\"#0d0887\"],[0.1111111111111111,\"#46039f\"],[0.2222222222222222,\"#7201a8\"],[0.3333333333333333,\"#9c179e\"],[0.4444444444444444,\"#bd3786\"],[0.5555555555555556,\"#d8576b\"],[0.6666666666666666,\"#ed7953\"],[0.7777777777777778,\"#fb9f3a\"],[0.8888888888888888,\"#fdca26\"],[1.0,\"#f0f921\"]],\"sequentialminus\":[[0.0,\"#0d0887\"],[0.1111111111111111,\"#46039f\"],[0.2222222222222222,\"#7201a8\"],[0.3333333333333333,\"#9c179e\"],[0.4444444444444444,\"#bd3786\"],[0.5555555555555556,\"#d8576b\"],[0.6666666666666666,\"#ed7953\"],[0.7777777777777778,\"#fb9f3a\"],[0.8888888888888888,\"#fdca26\"],[1.0,\"#f0f921\"]],\"diverging\":[[0,\"#8e0152\"],[0.1,\"#c51b7d\"],[0.2,\"#de77ae\"],[0.3,\"#f1b6da\"],[0.4,\"#fde0ef\"],[0.5,\"#f7f7f7\"],[0.6,\"#e6f5d0\"],[0.7,\"#b8e186\"],[0.8,\"#7fbc41\"],[0.9,\"#4d9221\"],[1,\"#276419\"]]},\"xaxis\":{\"gridcolor\":\"white\",\"linecolor\":\"white\",\"ticks\":\"\",\"title\":{\"standoff\":15},\"zerolinecolor\":\"white\",\"automargin\":true,\"zerolinewidth\":2},\"yaxis\":{\"gridcolor\":\"white\",\"linecolor\":\"white\",\"ticks\":\"\",\"title\":{\"standoff\":15},\"zerolinecolor\":\"white\",\"automargin\":true,\"zerolinewidth\":2},\"scene\":{\"xaxis\":{\"backgroundcolor\":\"#E5ECF6\",\"gridcolor\":\"white\",\"linecolor\":\"white\",\"showbackground\":true,\"ticks\":\"\",\"zerolinecolor\":\"white\",\"gridwidth\":2},\"yaxis\":{\"backgroundcolor\":\"#E5ECF6\",\"gridcolor\":\"white\",\"linecolor\":\"white\",\"showbackground\":true,\"ticks\":\"\",\"zerolinecolor\":\"white\",\"gridwidth\":2},\"zaxis\":{\"backgroundcolor\":\"#E5ECF6\",\"gridcolor\":\"white\",\"linecolor\":\"white\",\"showbackground\":true,\"ticks\":\"\",\"zerolinecolor\":\"white\",\"gridwidth\":2}},\"shapedefaults\":{\"line\":{\"color\":\"#2a3f5f\"}},\"annotationdefaults\":{\"arrowcolor\":\"#2a3f5f\",\"arrowhead\":0,\"arrowwidth\":1},\"geo\":{\"bgcolor\":\"white\",\"landcolor\":\"#E5ECF6\",\"subunitcolor\":\"white\",\"showland\":true,\"showlakes\":true,\"lakecolor\":\"white\"},\"title\":{\"x\":0.05},\"mapbox\":{\"style\":\"light\"}}},\"xaxis\":{\"anchor\":\"y\",\"domain\":[0.0,0.2125],\"title\":{\"text\":\"A\"},\"range\":[-0.5,10.5]},\"yaxis\":{\"anchor\":\"x\",\"domain\":[0.0,1.0]},\"xaxis2\":{\"anchor\":\"y2\",\"domain\":[0.2625,0.475],\"title\":{\"text\":\"B\"},\"range\":[-0.5,10.5]},\"yaxis2\":{\"anchor\":\"x2\",\"domain\":[0.0,1.0]},\"xaxis3\":{\"anchor\":\"y3\",\"domain\":[0.525,0.7375],\"title\":{\"text\":\"C\"},\"range\":[-0.5,10.5]},\"yaxis3\":{\"anchor\":\"x3\",\"domain\":[0.0,1.0]},\"xaxis4\":{\"anchor\":\"y4\",\"domain\":[0.7875,1.0],\"title\":{\"text\":\"D\"},\"range\":[-0.5,10.5]},\"yaxis4\":{\"anchor\":\"x4\",\"domain\":[0.0,1.0]},\"title\":{\"text\":\"Row of Histograms\"},\"height\":300,\"width\":750},                        {\"responsive\": true}                    ).then(function(){\n",
       "                            \n",
       "var gd = document.getElementById('c89ba6e5-e77b-42cf-9d22-65ffc98e38b0');\n",
       "var x = new MutationObserver(function (mutations, observer) {{\n",
       "        var display = window.getComputedStyle(gd).display;\n",
       "        if (!display || display === 'none') {{\n",
       "            console.log([gd, 'removed!']);\n",
       "            Plotly.purge(gd);\n",
       "            observer.disconnect();\n",
       "        }}\n",
       "}});\n",
       "\n",
       "// Listen for the removal of the full notebook cells\n",
       "var notebookContainer = gd.closest('#notebook-container');\n",
       "if (notebookContainer) {{\n",
       "    x.observe(notebookContainer, {childList: true});\n",
       "}}\n",
       "\n",
       "// Listen for the clearing of the current output cell\n",
       "var outputEl = gd.closest('.output');\n",
       "if (outputEl) {{\n",
       "    x.observe(outputEl, {childList: true});\n",
       "}}\n",
       "\n",
       "                        })                };                });            </script>        </div>"
      ]
     },
     "metadata": {},
     "output_type": "display_data"
    }
   ],
   "source": [
    "4.# rows of histograms\n",
    "from scipy import stats\n",
    "import plotly.graph_objects as go\n",
    "from plotly.subplots import make_subplots\n",
    "import numpy as np\n",
    "\n",
    "n = 1500\n",
    "data1 = stats.uniform.rvs(0, 10, size=n)\n",
    "data2 = stats.norm.rvs(5, 1.5, size=n)\n",
    "data3 = np.r_[stats.norm.rvs(2, 0.25, size=int(n/2)), stats.norm.rvs(8, 0.5, size=int(n/2))]\n",
    "data4 = stats.norm.rvs(6, 0.5, size=n)\n",
    "\n",
    "fig = make_subplots(rows=1, cols=4)\n",
    "\n",
    "fig.add_trace(go.Histogram(x=data1, name='A', nbinsx=30, marker=dict(line=dict(color='black', width=1))), row=1, col=1)\n",
    "fig.add_trace(go.Histogram(x=data2, name='B', nbinsx=15, marker=dict(line=dict(color='black', width=1))), row=1, col=2)\n",
    "fig.add_trace(go.Histogram(x=data3, name='C', nbinsx=45, marker=dict(line=dict(color='black', width=1))), row=1, col=3)\n",
    "fig.add_trace(go.Histogram(x=data4, name='D', nbinsx=15, marker=dict(line=dict(color='black', width=1))), row=1, col=4)\n",
    "\n",
    "fig.update_layout(height=300, width=750, title_text=\"Row of Histograms\")\n",
    "fig.update_xaxes(title_text=\"A\", row=1, col=1)\n",
    "fig.update_xaxes(title_text=\"B\", row=1, col=2)\n",
    "fig.update_xaxes(title_text=\"C\", row=1, col=3)\n",
    "fig.update_xaxes(title_text=\"D\", row=1, col=4)\n",
    "fig.update_xaxes(range=[-0.5, 10.5])\n",
    "\n",
    "for trace in fig.data:\n",
    "    trace.xbins = dict(start=0, end=10)\n",
    "    \n",
    "# This code was produced by just making requests to Microsoft Copilot\n",
    "# https://github.com/pointOfive/stat130chat130/blob/main/CHATLOG/wk3/COP/SLS/0001_concise_makeAplotV1.md\n",
    "\n",
    "fig.show() # USE `fig.show(renderer=\"png\")` FOR ALL GitHub and MarkUs SUBMISSIONS"
   ]
  },
  {
   "cell_type": "code",
   "execution_count": 14,
   "id": "4a791b76-e5b6-4a49-a799-f9c2bcb2ba38",
   "metadata": {},
   "outputs": [
    {
     "name": "stdout",
     "output_type": "stream",
     "text": [
      "Statistics for Data 1 (A):\n",
      "  Mean: 5.00\n",
      "  Median: 4.96\n",
      "  Standard Deviation: 2.89\n",
      "\n",
      "Statistics for Data 2 (B):\n",
      "  Mean: 5.06\n",
      "  Median: 5.09\n",
      "  Standard Deviation: 1.49\n",
      "\n",
      "Statistics for Data 3 (C):\n",
      "  Mean: 4.98\n",
      "  Median: 4.63\n",
      "  Standard Deviation: 3.01\n",
      "\n",
      "Statistics for Data 4 (D):\n",
      "  Mean: 6.03\n",
      "  Median: 6.03\n",
      "  Standard Deviation: 0.50\n",
      "\n"
     ]
    }
   ],
   "source": [
    "import numpy as np\n",
    "import scipy.stats as stats\n",
    "\n",
    "# Generate the data again\n",
    "n = 1500\n",
    "data1 = stats.uniform.rvs(0, 10, size=n)\n",
    "data2 = stats.norm.rvs(5, 1.5, size=n)\n",
    "data3 = np.r_[stats.norm.rvs(2, 0.25, size=int(n/2)), stats.norm.rvs(8, 0.5, size=int(n/2))]\n",
    "data4 = stats.norm.rvs(6, 0.5, size=n)\n",
    "\n",
    "# Calculate statistics for each dataset\n",
    "datasets = [data1, data2, data3, data4]\n",
    "dataset_names = [\"Data 1 (A)\", \"Data 2 (B)\", \"Data 3 (C)\", \"Data 4 (D)\"]\n",
    "\n",
    "for i, data in enumerate(datasets):\n",
    "    mean = np.mean(data)\n",
    "    median = np.median(data)\n",
    "    std_dev = np.std(data)\n",
    "    \n",
    "    print(f\"Statistics for {dataset_names[i]}:\")\n",
    "    print(f\"  Mean: {mean:.2f}\")\n",
    "    print(f\"  Median: {median:.2f}\")\n",
    "    print(f\"  Standard Deviation: {std_dev:.2f}\")\n",
    "    print()\n"
   ]
  },
  {
   "cell_type": "code",
   "execution_count": 15,
   "id": "6a09723d-812e-4a4f-972f-97eaee54836d",
   "metadata": {},
   "outputs": [],
   "source": [
    "#1.Which datasets have similar means and similar variances?\n",
    "# D and C. \n",
    "#2.Which datasets have similar means but quite different variances?\n",
    "# Both B and D have a similar means and D has a much more larger variances.\n",
    "#3.Which datasets have similar variances but quite different means?\n",
    "# B and C. \n",
    "#4.Which datasets have quite different means and quite different variances?\n",
    "# A and B."
   ]
  },
  {
   "cell_type": "code",
   "execution_count": 28,
   "id": "b4835305-b7c3-4ad3-9cd0-a0e71459329a",
   "metadata": {},
   "outputs": [],
   "source": [
    "#Here is the chatbot record for post-lec HW: https://chatgpt.com/share/66f4ec4d-6650-800b-ac7e-2809cea59989"
   ]
  },
  {
   "cell_type": "code",
   "execution_count": 21,
   "id": "7eb8a049-e4a2-409b-945a-ab0ae54019e7",
   "metadata": {},
   "outputs": [],
   "source": [
    "5.# general relationship bewteen mean and median and \"right\" and \"left\" skewness\n",
    "from scipy import stats\n",
    "import pandas as pd\n",
    "import numpy as np\n",
    "  \n",
    "sample1 = stats.gamma(a=2,scale=2).rvs(size=1000)\n",
    "fig1 = px.histogram(pd.DataFrame({'data': sample1}), x=\"data\")\n",
    "# USE `fig1.show(renderer=\"png\")` FOR ALL GitHub and MarkUs SUBMISSIONS\n",
    "\n",
    "sample1.mean()\n",
    "np.quantile(sample1, [0.5]) # median\n",
    "\n",
    "sample2 = -stats.gamma(a=2,scale=2).rvs(size=1000)"
   ]
  },
  {
   "cell_type": "code",
   "execution_count": 22,
   "id": "38fb4ae7-63c6-4674-aadb-146c07b33e7b",
   "metadata": {},
   "outputs": [],
   "source": [
    "#Mean and Median:\n",
    "#For right-skewed distributions (like the gamma distribution when 𝑎<1), the mean is typically greater than the median. \n",
    "#This is because the long tail on the right pulls the mean upwards.\n",
    "#In left-skewed distributions (e.g., a negatively skewed gamma when a>1), the mean is generally less than the median\n",
    "#due to the long tail on the left.\n",
    "\n",
    "#Skewness:\n",
    "#Right Skewness: The distribution has a longer right tail. The mean is higher than the median. The code snippet\n",
    "#involving stats.gamma(a=2, scale=2) generates a right-skewed distribution since 𝑎=2 is greater than 1, \n",
    "#indicating some right tail characteristics.\n",
    "#Left Skewness: The distribution has a longer left tail. The mean is lower than the median. The sample2 generated\n",
    "#with -stats.gamma(a=2, scale=2).rvs(size=1000) represents a left-skewed distribution, \n",
    "#shifting the right-skewed gamma distribution left."
   ]
  },
  {
   "cell_type": "code",
   "execution_count": 24,
   "id": "028ac596-ef0a-4297-ae81-f5ab0a6bd6d5",
   "metadata": {},
   "outputs": [
    {
     "data": {
      "image/png": "[encoded data removed]",
      "text/plain": [
       "<Figure size 1000x600 with 1 Axes>"
      ]
     },
     "metadata": {},
     "output_type": "display_data"
    }
   ],
   "source": [
    "6.# an interesting dataset and its visualizations \n",
    "import numpy as np\n",
    "import matplotlib.pyplot as plt\n",
    "from scipy import stats\n",
    "\n",
    "# Generate a sample from a gamma distribution\n",
    "a = 2  # shape parameter\n",
    "scale = 2  # scale parameter\n",
    "sample = stats.gamma(a=a, scale=scale).rvs(size=1000)\n",
    "\n",
    "# Calculate mean and median\n",
    "mean_value = np.mean(sample)\n",
    "median_value = np.median(sample)\n",
    "\n",
    "# Create histogram\n",
    "plt.figure(figsize=(10, 6))\n",
    "plt.hist(sample, bins=30, color='skyblue', alpha=0.7, edgecolor='black')\n",
    "\n",
    "# Add vertical lines for mean and median\n",
    "plt.axvline(mean_value, color='red', linestyle='dashed', linewidth=1, label='Mean')\n",
    "plt.axvline(median_value, color='green', linestyle='dashed', linewidth=1, label='Median')\n",
    "\n",
    "# Add annotations\n",
    "plt.text(mean_value, 50, f'Mean: {mean_value:.2f}', color='red', fontsize=12)\n",
    "plt.text(median_value, 50, f'Median: {median_value:.2f}', color='green', fontsize=12)\n",
    "\n",
    "# Labels and title\n",
    "plt.title('Histogram of Gamma Distribution Sample', fontsize=16)\n",
    "plt.xlabel('Value', fontsize=14)\n",
    "plt.ylabel('Frequency', fontsize=14)\n",
    "plt.legend()\n",
    "plt.grid()\n",
    "\n",
    "# Show the plot\n",
    "plt.show()\n"
   ]
  },
  {
   "cell_type": "code",
   "execution_count": 27,
   "id": "1fa8714c-1a3f-4a21-8a15-de487571ceae",
   "metadata": {},
   "outputs": [
    {
     "data": {
      "image/png": "[encoded data removed]"
     },
     "metadata": {},
     "output_type": "display_data"
    }
   ],
   "source": [
    "import pandas as pd\n",
    "import plotly.express as px\n",
    "\n",
    "# Load the dataset\n",
    "bn = pd.read_csv('https://raw.githubusercontent.com/hadley/data-baby-names/master/baby-names.csv')\n",
    "\n",
    "# Make identical boy and girl names distinct\n",
    "bn['name'] = bn['name'] + \" \" + bn['sex']\n",
    "\n",
    "# Rank names based on their percentage\n",
    "bn['rank'] = bn.groupby('year')['percent'].rank(ascending=False)\n",
    "\n",
    "# Sort values\n",
    "bn = bn.sort_values(['name', 'year'])\n",
    "\n",
    "# Create increase or decrease in name prevalence from the last year\n",
    "bn['percent change'] = bn['percent'].diff()\n",
    "new_name = [True] + list(bn.name[:-1].values != bn.name[1:].values)\n",
    "bn.loc[new_name, 'percent change'] = bn.loc[new_name, 'percent']\n",
    "\n",
    "# Sort by year\n",
    "bn = bn.sort_values('year')\n",
    "\n",
    "# Restrict to common names\n",
    "bn = bn[bn.percent > 0.001]\n",
    "\n",
    "# Create a scatter plot\n",
    "fig = px.scatter(bn,\n",
    "                 x='year',              # X-axis: Year\n",
    "                 y='percent',           # Y-axis: Percentage of births\n",
    "                 animation_frame='year', # Animate by year\n",
    "                 animation_group='name', # Group by name for animation\n",
    "                 size='percent',        # Size of points based on percentage\n",
    "                 color='sex',           # Color points by sex\n",
    "                 hover_name='name',     # Hover information shows name\n",
    "                 size_max=50, \n",
    "                 range_x=[1880, 2020])  # Adjust the range for the x-axis\n",
    "\n",
    "# Reverse the y-axis to put rank 1 on top\n",
    "fig.update_yaxes(autorange='reversed')\n",
    "\n",
    "# Display the plot\n",
    "fig.show(renderer=\"png\")  # Use for GitHub and MarkUs submissions\n"
   ]
  },
  {
   "cell_type": "code",
   "execution_count": null,
   "id": "139bcf47-c707-40fc-980b-8ab16d78926c",
   "metadata": {},
   "outputs": [],
   "source": []
  }
 ],
 "metadata": {
  "kernelspec": {
   "display_name": "Python 3 (ipykernel)",
   "language": "python",
   "name": "python3"
  },
  "language_info": {
   "codemirror_mode": {
    "name": "ipython",
    "version": 3
   },
   "file_extension": ".py",
   "mimetype": "text/x-python",
   "name": "python",
   "nbconvert_exporter": "python",
   "pygments_lexer": "ipython3",
   "version": "3.11.6"
  }
 },
 "nbformat": 4,
 "nbformat_minor": 5
}
