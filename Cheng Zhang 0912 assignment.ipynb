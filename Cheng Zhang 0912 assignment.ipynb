{
 "cells": [
  {
   "cell_type": "code",
   "execution_count": 24,
   "id": "7c7d2fb1-76b7-41e5-ae07-0f23f0df54fa",
   "metadata": {},
   "outputs": [
    {
     "name": "stdout",
     "output_type": "stream",
     "text": [
      "The dataset has 391 rows and 11 columns.\n",
      "(891, 15)\n",
      "         survived      pclass         age       sibsp       parch        fare\n",
      "count  891.000000  891.000000  714.000000  891.000000  891.000000  891.000000\n",
      "mean     0.383838    2.308642   29.699118    0.523008    0.381594   32.204208\n",
      "std      0.486592    0.836071   14.526497    1.102743    0.806057   49.693429\n",
      "min      0.000000    1.000000    0.420000    0.000000    0.000000    0.000000\n",
      "25%      0.000000    2.000000   20.125000    0.000000    0.000000    7.910400\n",
      "50%      0.000000    3.000000   28.000000    0.000000    0.000000   14.454200\n",
      "75%      1.000000    3.000000   38.000000    1.000000    0.000000   31.000000\n",
      "max      1.000000    3.000000   80.000000    8.000000    6.000000  512.329200\n"
     ]
    }
   ],
   "source": [
    "#1. Importing the Dataset and Checking for Missing Values\n",
    "import pandas as pd\n",
    "\n",
    "# Importing the dataset\n",
    "url = \"https://raw.githubusercontent.com/rfordatascience/tidytuesday/master/data/2020/2020-05-05/villagers.csv\"\n",
    "df = pd.read_csv(url)\n",
    "\n",
    "# Checking for missing values\n",
    "df.isna().sum()\n",
    "\n",
    "#2. Getting Dataset Dimensions and Definitions of Observations and Variables\n",
    "# Getting the shape of the dataset (rows and columns)\n",
    "rows, columns = df.shape\n",
    "print(f\"The dataset has {rows} rows and {columns} columns.\")\n",
    "\n",
    "#3. Summarizing the Dataset\n",
    "# Summarize numeric columns\n",
    "df.describe()\n",
    "# Summarize a specific non-numeric column (e.g., 'species')\n",
    "df['species'].value_counts()\n",
    "\n",
    "#4. Handling Non-Numeric Variables and Missing Values\n",
    "# Load Titanic dataset\n",
    "titanic_url = \"https://raw.githubusercontent.com/mwaskom/seaborn-data/master/titanic.csv\"\n",
    "titanic_df = pd.read_csv(titanic_url)\n",
    "\n",
    "# Check dimensions\n",
    "print(titanic_df.shape)\n",
    "\n",
    "# Summarize numeric columns\n",
    "print(titanic_df.describe())\n"
   ]
  },
  {
   "cell_type": "code",
   "execution_count": 27,
   "id": "1d39ddec-00c6-4b13-a8d4-7131caeed284",
   "metadata": {},
   "outputs": [
    {
     "data": {
      "text/plain": [
       "(391, 11)"
      ]
     },
     "execution_count": 27,
     "metadata": {},
     "output_type": "execute_result"
    }
   ],
   "source": [
    "#5.attribute of dataset\n",
    "df.shape"
   ]
  },
  {
   "cell_type": "code",
   "execution_count": 28,
   "id": "b7774715-1ad9-4c00-bf15-922e9679859d",
   "metadata": {},
   "outputs": [
    {
     "data": {
      "text/html": [
       "<div>\n",
       "<style scoped>\n",
       "    .dataframe tbody tr th:only-of-type {\n",
       "        vertical-align: middle;\n",
       "    }\n",
       "\n",
       "    .dataframe tbody tr th {\n",
       "        vertical-align: top;\n",
       "    }\n",
       "\n",
       "    .dataframe thead th {\n",
       "        text-align: right;\n",
       "    }\n",
       "</style>\n",
       "<table border=\"1\" class=\"dataframe\">\n",
       "  <thead>\n",
       "    <tr style=\"text-align: right;\">\n",
       "      <th></th>\n",
       "      <th>row_n</th>\n",
       "    </tr>\n",
       "  </thead>\n",
       "  <tbody>\n",
       "    <tr>\n",
       "      <th>count</th>\n",
       "      <td>391.000000</td>\n",
       "    </tr>\n",
       "    <tr>\n",
       "      <th>mean</th>\n",
       "      <td>239.902813</td>\n",
       "    </tr>\n",
       "    <tr>\n",
       "      <th>std</th>\n",
       "      <td>140.702672</td>\n",
       "    </tr>\n",
       "    <tr>\n",
       "      <th>min</th>\n",
       "      <td>2.000000</td>\n",
       "    </tr>\n",
       "    <tr>\n",
       "      <th>25%</th>\n",
       "      <td>117.500000</td>\n",
       "    </tr>\n",
       "    <tr>\n",
       "      <th>50%</th>\n",
       "      <td>240.000000</td>\n",
       "    </tr>\n",
       "    <tr>\n",
       "      <th>75%</th>\n",
       "      <td>363.500000</td>\n",
       "    </tr>\n",
       "    <tr>\n",
       "      <th>max</th>\n",
       "      <td>483.000000</td>\n",
       "    </tr>\n",
       "  </tbody>\n",
       "</table>\n",
       "</div>"
      ],
      "text/plain": [
       "            row_n\n",
       "count  391.000000\n",
       "mean   239.902813\n",
       "std    140.702672\n",
       "min      2.000000\n",
       "25%    117.500000\n",
       "50%    240.000000\n",
       "75%    363.500000\n",
       "max    483.000000"
      ]
     },
     "execution_count": 28,
     "metadata": {},
     "output_type": "execute_result"
    }
   ],
   "source": [
    "#5. method to dataset\n",
    "df.describe()"
   ]
  },
  {
   "cell_type": "code",
   "execution_count": 33,
   "id": "583a5360-e9a6-488f-b7f7-d0dcecbd5b55",
   "metadata": {},
   "outputs": [],
   "source": [
    "#Above are contents for pre-lecture HW\n",
    "#Here is the link for chatbot record:https://chatgpt.com/share/66e347c8-12d8-800b-8520-9bba0b78b4d6"
   ]
  },
  {
   "cell_type": "code",
   "execution_count": null,
   "id": "d7dcc2c0-8581-4f8b-85f3-fa800b391932",
   "metadata": {},
   "outputs": [],
   "source": [
    "df_clean = df.dropna()  # Removes rows with missing data\n",
    "\n",
    "del df['unnecessary_column']  # Removes a column entirely\n",
    "\n",
    "# Check initial size of dataset\n",
    "print(f\"Before cleaning: {df.shape}\")\n",
    "\n",
    "# Delete a column\n",
    "del df['unnecessary_column']\n",
    "\n",
    "# Drop rows with any remaining missing values\n",
    "df_clean = df.dropna()\n",
    "\n",
    "# Check size of dataset after cleaning\n",
    "print(f\"After cleaning: {df_clean.shape}\")\n",
    "\n",
    "# Group the dataset by 'sex' and calculate summary statistics for 'age'\n",
    "titanic_df.groupby('sex')['age'].describe()\n"
   ]
  },
  {
   "cell_type": "code",
   "execution_count": 1,
   "id": "902690da-8154-4d30-a368-a59ef84dfd1d",
   "metadata": {},
   "outputs": [],
   "source": [
    "#types which df.describe can provide:\n",
    "#Count: The number of non-missing values in each column. This statistic is crucial because it tells you how many data points are available for each variable, which can be affected by missing data.\n",
    "\n",
    "#Mean: The average value of the data in the column. It’s calculated as the sum of all values divided by the count of non-missing values.\n",
    "\n",
    "#Std (Standard Deviation): Measures the dispersion or spread of the data from the mean. A high standard deviation indicates that data points are spread out over a larger range of values.\n",
    "\n",
    "#Min: The smallest value in the column. It provides an idea of the lower boundary of the data range.\n",
    "\n",
    "#25% (First Quartile or Q1): The value below which 25% of the data falls. It’s a measure of the lower end of the data distribution.\n",
    "\n",
    "#50% (Median or Q2): The middle value of the data when sorted in ascending order. It divides the data into two equal halves.\n",
    "\n",
    "#75% (Third Quartile or Q3): The value below which 75% of the data falls. It provides insight into the upper end of the data distribution.\n",
    "\n",
    "#Max: The largest value in the column. It indicates the upper boundary of the data range.\n"
   ]
  },
  {
   "cell_type": "code",
   "execution_count": null,
   "id": "90db783d-381e-4bc4-899f-abf4939b016a",
   "metadata": {},
   "outputs": [],
   "source": [
    "#1. an example of a \"use case\" in which using df.dropna() might be peferred over using del df['col']\n",
    "# Removing rows with missing data in any column\n",
    "df_clean = df.dropna()\n",
    "\n",
    "#2. an example of \"the opposite use case\" in which using del df['col'] might be preferred over using df.dropna()\n",
    "# Dropping the column with too many missing values\n",
    "del df['col_with_many_missing_values']\n",
    "\n",
    "#3. Discuss why applying del df['col'] before df.dropna() when both are used together could be important\n",
    "# First, remove the problematic column\n",
    "del df['problem_column']\n",
    "\n",
    "# Then, remove rows with missing data in the remaining columns\n",
    "df_clean = df.dropna()\n",
    "\n",
    "#4. Removing missing data from one of the datasets you're considering using some combination of del df['col'] and/or df.dropna() and give a justification for your approach\n",
    "# Initial summary of missing data\n",
    "print(df.isnull().sum())\n",
    "\n",
    "# Step 1: Drop 'Customer_Feedback' column due to excessive missing values\n",
    "del df['Customer_Feedback']\n",
    "\n",
    "# Step 2: Drop rows with missing values\n",
    "df_clean = df.dropna()\n",
    "\n",
    "# Summary after removing missing data\n",
    "print(df_clean.isnull().sum())\n"
   ]
  },
  {
   "cell_type": "code",
   "execution_count": null,
   "id": "b073656b-12f1-4edc-bcd9-575c16b41e1d",
   "metadata": {},
   "outputs": [],
   "source": [
    "#Understanding df.groupby(\"col1\")[\"col2\"].describe()\n",
    "#df.groupby(\"col1\")[\"col2\"].describe() groups the dataset by the unique values of col1 and then applies the .describe() function \n",
    "#to col2 for each group. This results in summary statistics (count, mean, std, etc.) for col2, calculated separately \n",
    "#for each group in col1.\n",
    "\n",
    "#example:\n",
    "# Group by 'class' and describe 'age'\n",
    "df.groupby(\"class\")[\"age\"].describe()\n",
    "\n",
    "\n",
    "#Why df.describe() Shows Different Count Values for Columns\n",
    "#When you use df.describe(), it calculates statistics for each column separately. The count value represents the number of \n",
    "#non-missing values in that column. Different columns may have varying amounts of missing data, leading to different counts.\n",
    "\n",
    "#However, in df.groupby(\"col1\")[\"col2\"].describe(), the count represents the number of non-missing values of col2 for each unique value\n",
    "#of col1. This count reflects how many records fall into each group and have non-missing values for col2.\n",
    "                                                                                              "
   ]
  },
  {
   "cell_type": "code",
   "execution_count": null,
   "id": "73306379-ecff-44df-88d8-a9e44c130e7e",
   "metadata": {},
   "outputs": [],
   "source": [
    "Common Errors and Fixes\n",
    "#1.Error: NameError: name 'pd' is not defined\n",
    "Cause: This happens if you forget to import pandas (import pandas as pd).\n",
    "Fix: Add import pandas as pd at the top of your code.\n",
    "\n",
    "#2.Error: FileNotFoundError: [Errno 2] No such file or directory: 'titanics.csv'\n",
    "Cause: You mistyped the filename or URL.\n",
    "Fix: Double-check the file path or URL and correct it.\n",
    "\n",
    "#3.Error: NameError: name 'DF' is not defined\n",
    "Cause: You used DF instead of df (case sensitivity).\n",
    "Fix: Make sure the variable name matches exactly as declared.\n",
    "\n",
    "#4.Error: SyntaxError: invalid syntax (e.g., missing parentheses)\n",
    "Cause: Forgetting parentheses in a function call.\n",
    "Fix: Ensure proper parentheses, e.g., pd.read_csv(url) instead of pd.read_csv url.\n",
    "\n",
    "#5.Error: AttributeError: 'DataFrame' object has no attribute 'group_by'\n",
    "Cause: Misnaming a function (group_by instead of groupby).\n",
    "Fix: Correct the function name to df.groupby().\n",
    "\n",
    "#6.Error: KeyError: 'Sex'\n",
    "Cause: Misnaming the column (e.g., 'Sex' instead of 'sex').\n",
    "Fix: Ensure you use the correct case-sensitive column name.\n",
    "\n",
    "#7.Error: KeyError: age\n",
    "Cause: Forgetting to put column names in quotes.\n",
    "Fix: Use quotes around column names: df.groupby(\"sex\")[\"age\"].describe().\n"
   ]
  },
  {
   "cell_type": "code",
   "execution_count": 6,
   "id": "edfca163-4b8a-4980-ad4c-63c502123a98",
   "metadata": {},
   "outputs": [],
   "source": [
    "#This part is post-lecture one,\n",
    "#link of chatbot record: https://chatgpt.com/share/66e38886-2668-800b-88f7-9a7f3c9c8d45"
   ]
  }
 ],
 "metadata": {
  "kernelspec": {
   "display_name": "Python 3 (ipykernel)",
   "language": "python",
   "name": "python3"
  },
  "language_info": {
   "codemirror_mode": {
    "name": "ipython",
    "version": 3
   },
   "file_extension": ".py",
   "mimetype": "text/x-python",
   "name": "python",
   "nbconvert_exporter": "python",
   "pygments_lexer": "ipython3",
   "version": "3.11.6"
  }
 },
 "nbformat": 4,
 "nbformat_minor": 5
}
